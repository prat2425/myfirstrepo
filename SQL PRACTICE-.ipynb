{
 "cells": [
  {
   "cell_type": "code",
   "execution_count": 1,
   "id": "9d6d88c1",
   "metadata": {},
   "outputs": [],
   "source": [
    "import sqlite3"
   ]
  },
  {
   "cell_type": "code",
   "execution_count": 5,
   "id": "1dc42799",
   "metadata": {},
   "outputs": [],
   "source": [
    "db=sqlite3.connect('my_databseeeueyyyiyy7eeet.db')"
   ]
  },
  {
   "cell_type": "code",
   "execution_count": 6,
   "id": "598dff44",
   "metadata": {},
   "outputs": [],
   "source": [
    "cursor=db.cursor()"
   ]
  },
  {
   "cell_type": "code",
   "execution_count": 7,
   "id": "4a7372c2",
   "metadata": {},
   "outputs": [
    {
     "data": {
      "text/plain": [
       "<sqlite3.Cursor at 0x2697f5efb20>"
      ]
     },
     "execution_count": 7,
     "metadata": {},
     "output_type": "execute_result"
    }
   ],
   "source": [
    "cursor.execute('create table pratik(roll no PRIMARY KEY,Name text,age text,Course text,fees int,duration int)')"
   ]
  },
  {
   "cell_type": "markdown",
   "id": "24951264",
   "metadata": {},
   "source": [
    "# Use of delete-"
   ]
  },
  {
   "cell_type": "code",
   "execution_count": 5,
   "id": "9bfa829c",
   "metadata": {},
   "outputs": [
    {
     "data": {
      "text/plain": [
       "<sqlite3.Cursor at 0x18eb588c3b0>"
      ]
     },
     "execution_count": 5,
     "metadata": {},
     "output_type": "execute_result"
    }
   ],
   "source": [
    "cursor.execute('delete from pratik')"
   ]
  },
  {
   "cell_type": "markdown",
   "id": "a04a093c",
   "metadata": {},
   "source": [
    "# Use of drop"
   ]
  },
  {
   "cell_type": "code",
   "execution_count": 6,
   "id": "b1325e87",
   "metadata": {},
   "outputs": [
    {
     "data": {
      "text/plain": [
       "<sqlite3.Cursor at 0x18eb588c3b0>"
      ]
     },
     "execution_count": 6,
     "metadata": {},
     "output_type": "execute_result"
    }
   ],
   "source": [
    "cursor.execute('drop table pratik')"
   ]
  },
  {
   "cell_type": "code",
   "execution_count": 7,
   "id": "459d4d38",
   "metadata": {},
   "outputs": [
    {
     "data": {
      "text/plain": [
       "<sqlite3.Cursor at 0x18eb588c3b0>"
      ]
     },
     "execution_count": 7,
     "metadata": {},
     "output_type": "execute_result"
    }
   ],
   "source": [
    "cursor.execute('create table pratik(roll_no int PRIMARY KEY,name text,age text,course text,fees int,duration int)')"
   ]
  },
  {
   "cell_type": "code",
   "execution_count": 8,
   "id": "ced2a631",
   "metadata": {},
   "outputs": [
    {
     "data": {
      "text/plain": [
       "<sqlite3.Cursor at 0x18eb588c3b0>"
      ]
     },
     "execution_count": 8,
     "metadata": {},
     "output_type": "execute_result"
    }
   ],
   "source": [
    "cursor.execute(\"insert into pratik(roll_no,name,age,course,fees,duration) VALUES(100,'pratik',28,'data science',50000,'1 year')\")"
   ]
  },
  {
   "cell_type": "code",
   "execution_count": 9,
   "id": "60b81e0d",
   "metadata": {},
   "outputs": [
    {
     "name": "stdout",
     "output_type": "stream",
     "text": [
      "1 records inserted\n"
     ]
    }
   ],
   "source": [
    "print(cursor.rowcount,'records inserted')"
   ]
  },
  {
   "cell_type": "code",
   "execution_count": 10,
   "id": "728a3d89",
   "metadata": {},
   "outputs": [
    {
     "name": "stdout",
     "output_type": "stream",
     "text": [
      "1 records inserted\n"
     ]
    }
   ],
   "source": [
    "with open(r\"C:\\Users\\prate\\Downloads\\database.csv\",'r') as file:\n",
    "    no_records=0\n",
    "    for row in file:\n",
    "        cursor.execute(\"insert into pratik values(?,?,?,?,?,?)\",row.split(\",\"))\n",
    "        db.commit()\n",
    "    no_records +=1    \n",
    "print(no_records,'records inserted')   "
   ]
  },
  {
   "cell_type": "code",
   "execution_count": 11,
   "id": "ca056d4b",
   "metadata": {},
   "outputs": [
    {
     "name": "stdout",
     "output_type": "stream",
     "text": [
      "(100, 'pratik', '28', 'data science', 50000, '1 year')\n",
      "('roll no', 'name', 'age', 'course', 'fees', 'duration\\n')\n",
      "(101, 'Pratik ', '22', 'data science ', 50000, 16)\n",
      "(102, 'ram', '21', 'business analytics ', 60000, 17)\n",
      "(103, 'shyam ', '31', 'MBA', 70000, 20)\n",
      "(104, 'sita', '31', 'PHD', 80000, 18)\n",
      "(105, 'ayush ', '34', 'PG', 90000, 14)\n",
      "(106, 'mayank', '40', 'engineering', 100000, 19)\n",
      "(107, 'raj ', '28', 'IT', 110000, 14)\n",
      "(108, 'ganesh ', '31', 'data science ', 120000, 14)\n",
      "(109, 'kartik ', '28', 'business analytics ', 130000, 11)\n",
      "(110, 'salman ', '33', 'MBA', 140000, 13)\n",
      "(111, 'srk', '32', 'IT', 150000, 16)\n",
      "(112, 'ritik ', '27', 'BE', 160000, 15)\n",
      "(113, 'sheela', '38', 'ME', 170000, 13)\n",
      "(114, 'reena', '22', 'IT', 180000, 18)\n",
      "(115, 'mahima', '20', 'data science ', 190000, 15)\n",
      "(116, 'ankita ', '33', 'business analytics ', 200000, 18)\n",
      "(117, 'jyoti ', '35', 'ME', 210000, 18)\n",
      "(118, 'aayushi ', '21', 'BE', 220000, 19)\n",
      "(119, 'ranka ', '39', 'PG', 230000, 17)\n",
      "(120, 'aditi ', '23', 'engineering', 240000, 15)\n",
      "(121, 'jainu', '30', 'IT', 250000, 11)\n",
      "(122, 'ritika', '26', 'data science ', 260000, 10)\n",
      "(123, 'anushka', '35', 'ME', 270000, 10)\n",
      "(124, 'sheelu', '38', 'MBA', 280000, 12)\n",
      "(125, 'radha', '24', 'PHD', 290000, 10)\n",
      "(126, 'surbhi ', '28', 'PG', 300000, 19)\n",
      "(127, 'neha ', '28', 'engineering', 310000, 15)\n",
      "(128, 'gabbu ', '40', 'IT', 320000, 10)\n",
      "(129, 'tannu ', '30', 'ME', 330000, 15)\n",
      "(130, 'kannu', '32', 'BE', 340000, 19)\n"
     ]
    }
   ],
   "source": [
    "result=cursor.execute('select * from pratik')\n",
    "for row in result:\n",
    "    print(row)"
   ]
  },
  {
   "cell_type": "markdown",
   "id": "9a9d1602",
   "metadata": {},
   "source": [
    "# How to convert query result into data frame-"
   ]
  },
  {
   "cell_type": "code",
   "execution_count": 12,
   "id": "355f711d",
   "metadata": {},
   "outputs": [],
   "source": [
    "import pandas as pd"
   ]
  },
  {
   "cell_type": "code",
   "execution_count": 13,
   "id": "a7bb107b",
   "metadata": {},
   "outputs": [
    {
     "data": {
      "text/html": [
       "<div>\n",
       "<style scoped>\n",
       "    .dataframe tbody tr th:only-of-type {\n",
       "        vertical-align: middle;\n",
       "    }\n",
       "\n",
       "    .dataframe tbody tr th {\n",
       "        vertical-align: top;\n",
       "    }\n",
       "\n",
       "    .dataframe thead th {\n",
       "        text-align: right;\n",
       "    }\n",
       "</style>\n",
       "<table border=\"1\" class=\"dataframe\">\n",
       "  <thead>\n",
       "    <tr style=\"text-align: right;\">\n",
       "      <th></th>\n",
       "      <th>0</th>\n",
       "      <th>1</th>\n",
       "      <th>2</th>\n",
       "      <th>3</th>\n",
       "      <th>4</th>\n",
       "      <th>5</th>\n",
       "    </tr>\n",
       "  </thead>\n",
       "  <tbody>\n",
       "    <tr>\n",
       "      <th>0</th>\n",
       "      <td>100</td>\n",
       "      <td>pratik</td>\n",
       "      <td>28</td>\n",
       "      <td>data science</td>\n",
       "      <td>50000</td>\n",
       "      <td>1 year</td>\n",
       "    </tr>\n",
       "    <tr>\n",
       "      <th>1</th>\n",
       "      <td>roll no</td>\n",
       "      <td>name</td>\n",
       "      <td>age</td>\n",
       "      <td>course</td>\n",
       "      <td>fees</td>\n",
       "      <td>duration\\n</td>\n",
       "    </tr>\n",
       "    <tr>\n",
       "      <th>2</th>\n",
       "      <td>101</td>\n",
       "      <td>Pratik</td>\n",
       "      <td>22</td>\n",
       "      <td>data science</td>\n",
       "      <td>50000</td>\n",
       "      <td>16</td>\n",
       "    </tr>\n",
       "    <tr>\n",
       "      <th>3</th>\n",
       "      <td>102</td>\n",
       "      <td>ram</td>\n",
       "      <td>21</td>\n",
       "      <td>business analytics</td>\n",
       "      <td>60000</td>\n",
       "      <td>17</td>\n",
       "    </tr>\n",
       "    <tr>\n",
       "      <th>4</th>\n",
       "      <td>103</td>\n",
       "      <td>shyam</td>\n",
       "      <td>31</td>\n",
       "      <td>MBA</td>\n",
       "      <td>70000</td>\n",
       "      <td>20</td>\n",
       "    </tr>\n",
       "    <tr>\n",
       "      <th>5</th>\n",
       "      <td>104</td>\n",
       "      <td>sita</td>\n",
       "      <td>31</td>\n",
       "      <td>PHD</td>\n",
       "      <td>80000</td>\n",
       "      <td>18</td>\n",
       "    </tr>\n",
       "    <tr>\n",
       "      <th>6</th>\n",
       "      <td>105</td>\n",
       "      <td>ayush</td>\n",
       "      <td>34</td>\n",
       "      <td>PG</td>\n",
       "      <td>90000</td>\n",
       "      <td>14</td>\n",
       "    </tr>\n",
       "    <tr>\n",
       "      <th>7</th>\n",
       "      <td>106</td>\n",
       "      <td>mayank</td>\n",
       "      <td>40</td>\n",
       "      <td>engineering</td>\n",
       "      <td>100000</td>\n",
       "      <td>19</td>\n",
       "    </tr>\n",
       "    <tr>\n",
       "      <th>8</th>\n",
       "      <td>107</td>\n",
       "      <td>raj</td>\n",
       "      <td>28</td>\n",
       "      <td>IT</td>\n",
       "      <td>110000</td>\n",
       "      <td>14</td>\n",
       "    </tr>\n",
       "    <tr>\n",
       "      <th>9</th>\n",
       "      <td>108</td>\n",
       "      <td>ganesh</td>\n",
       "      <td>31</td>\n",
       "      <td>data science</td>\n",
       "      <td>120000</td>\n",
       "      <td>14</td>\n",
       "    </tr>\n",
       "    <tr>\n",
       "      <th>10</th>\n",
       "      <td>109</td>\n",
       "      <td>kartik</td>\n",
       "      <td>28</td>\n",
       "      <td>business analytics</td>\n",
       "      <td>130000</td>\n",
       "      <td>11</td>\n",
       "    </tr>\n",
       "    <tr>\n",
       "      <th>11</th>\n",
       "      <td>110</td>\n",
       "      <td>salman</td>\n",
       "      <td>33</td>\n",
       "      <td>MBA</td>\n",
       "      <td>140000</td>\n",
       "      <td>13</td>\n",
       "    </tr>\n",
       "    <tr>\n",
       "      <th>12</th>\n",
       "      <td>111</td>\n",
       "      <td>srk</td>\n",
       "      <td>32</td>\n",
       "      <td>IT</td>\n",
       "      <td>150000</td>\n",
       "      <td>16</td>\n",
       "    </tr>\n",
       "    <tr>\n",
       "      <th>13</th>\n",
       "      <td>112</td>\n",
       "      <td>ritik</td>\n",
       "      <td>27</td>\n",
       "      <td>BE</td>\n",
       "      <td>160000</td>\n",
       "      <td>15</td>\n",
       "    </tr>\n",
       "    <tr>\n",
       "      <th>14</th>\n",
       "      <td>113</td>\n",
       "      <td>sheela</td>\n",
       "      <td>38</td>\n",
       "      <td>ME</td>\n",
       "      <td>170000</td>\n",
       "      <td>13</td>\n",
       "    </tr>\n",
       "    <tr>\n",
       "      <th>15</th>\n",
       "      <td>114</td>\n",
       "      <td>reena</td>\n",
       "      <td>22</td>\n",
       "      <td>IT</td>\n",
       "      <td>180000</td>\n",
       "      <td>18</td>\n",
       "    </tr>\n",
       "    <tr>\n",
       "      <th>16</th>\n",
       "      <td>115</td>\n",
       "      <td>mahima</td>\n",
       "      <td>20</td>\n",
       "      <td>data science</td>\n",
       "      <td>190000</td>\n",
       "      <td>15</td>\n",
       "    </tr>\n",
       "    <tr>\n",
       "      <th>17</th>\n",
       "      <td>116</td>\n",
       "      <td>ankita</td>\n",
       "      <td>33</td>\n",
       "      <td>business analytics</td>\n",
       "      <td>200000</td>\n",
       "      <td>18</td>\n",
       "    </tr>\n",
       "    <tr>\n",
       "      <th>18</th>\n",
       "      <td>117</td>\n",
       "      <td>jyoti</td>\n",
       "      <td>35</td>\n",
       "      <td>ME</td>\n",
       "      <td>210000</td>\n",
       "      <td>18</td>\n",
       "    </tr>\n",
       "    <tr>\n",
       "      <th>19</th>\n",
       "      <td>118</td>\n",
       "      <td>aayushi</td>\n",
       "      <td>21</td>\n",
       "      <td>BE</td>\n",
       "      <td>220000</td>\n",
       "      <td>19</td>\n",
       "    </tr>\n",
       "    <tr>\n",
       "      <th>20</th>\n",
       "      <td>119</td>\n",
       "      <td>ranka</td>\n",
       "      <td>39</td>\n",
       "      <td>PG</td>\n",
       "      <td>230000</td>\n",
       "      <td>17</td>\n",
       "    </tr>\n",
       "    <tr>\n",
       "      <th>21</th>\n",
       "      <td>120</td>\n",
       "      <td>aditi</td>\n",
       "      <td>23</td>\n",
       "      <td>engineering</td>\n",
       "      <td>240000</td>\n",
       "      <td>15</td>\n",
       "    </tr>\n",
       "    <tr>\n",
       "      <th>22</th>\n",
       "      <td>121</td>\n",
       "      <td>jainu</td>\n",
       "      <td>30</td>\n",
       "      <td>IT</td>\n",
       "      <td>250000</td>\n",
       "      <td>11</td>\n",
       "    </tr>\n",
       "    <tr>\n",
       "      <th>23</th>\n",
       "      <td>122</td>\n",
       "      <td>ritika</td>\n",
       "      <td>26</td>\n",
       "      <td>data science</td>\n",
       "      <td>260000</td>\n",
       "      <td>10</td>\n",
       "    </tr>\n",
       "    <tr>\n",
       "      <th>24</th>\n",
       "      <td>123</td>\n",
       "      <td>anushka</td>\n",
       "      <td>35</td>\n",
       "      <td>ME</td>\n",
       "      <td>270000</td>\n",
       "      <td>10</td>\n",
       "    </tr>\n",
       "    <tr>\n",
       "      <th>25</th>\n",
       "      <td>124</td>\n",
       "      <td>sheelu</td>\n",
       "      <td>38</td>\n",
       "      <td>MBA</td>\n",
       "      <td>280000</td>\n",
       "      <td>12</td>\n",
       "    </tr>\n",
       "    <tr>\n",
       "      <th>26</th>\n",
       "      <td>125</td>\n",
       "      <td>radha</td>\n",
       "      <td>24</td>\n",
       "      <td>PHD</td>\n",
       "      <td>290000</td>\n",
       "      <td>10</td>\n",
       "    </tr>\n",
       "    <tr>\n",
       "      <th>27</th>\n",
       "      <td>126</td>\n",
       "      <td>surbhi</td>\n",
       "      <td>28</td>\n",
       "      <td>PG</td>\n",
       "      <td>300000</td>\n",
       "      <td>19</td>\n",
       "    </tr>\n",
       "    <tr>\n",
       "      <th>28</th>\n",
       "      <td>127</td>\n",
       "      <td>neha</td>\n",
       "      <td>28</td>\n",
       "      <td>engineering</td>\n",
       "      <td>310000</td>\n",
       "      <td>15</td>\n",
       "    </tr>\n",
       "    <tr>\n",
       "      <th>29</th>\n",
       "      <td>128</td>\n",
       "      <td>gabbu</td>\n",
       "      <td>40</td>\n",
       "      <td>IT</td>\n",
       "      <td>320000</td>\n",
       "      <td>10</td>\n",
       "    </tr>\n",
       "    <tr>\n",
       "      <th>30</th>\n",
       "      <td>129</td>\n",
       "      <td>tannu</td>\n",
       "      <td>30</td>\n",
       "      <td>ME</td>\n",
       "      <td>330000</td>\n",
       "      <td>15</td>\n",
       "    </tr>\n",
       "    <tr>\n",
       "      <th>31</th>\n",
       "      <td>130</td>\n",
       "      <td>kannu</td>\n",
       "      <td>32</td>\n",
       "      <td>BE</td>\n",
       "      <td>340000</td>\n",
       "      <td>19</td>\n",
       "    </tr>\n",
       "  </tbody>\n",
       "</table>\n",
       "</div>"
      ],
      "text/plain": [
       "          0         1    2                    3       4           5\n",
       "0       100    pratik   28         data science   50000      1 year\n",
       "1   roll no      name  age               course    fees  duration\\n\n",
       "2       101   Pratik    22        data science    50000          16\n",
       "3       102       ram   21  business analytics    60000          17\n",
       "4       103    shyam    31                  MBA   70000          20\n",
       "5       104      sita   31                  PHD   80000          18\n",
       "6       105    ayush    34                   PG   90000          14\n",
       "7       106    mayank   40          engineering  100000          19\n",
       "8       107      raj    28                   IT  110000          14\n",
       "9       108   ganesh    31        data science   120000          14\n",
       "10      109   kartik    28  business analytics   130000          11\n",
       "11      110   salman    33                  MBA  140000          13\n",
       "12      111       srk   32                   IT  150000          16\n",
       "13      112    ritik    27                   BE  160000          15\n",
       "14      113    sheela   38                   ME  170000          13\n",
       "15      114     reena   22                   IT  180000          18\n",
       "16      115    mahima   20        data science   190000          15\n",
       "17      116   ankita    33  business analytics   200000          18\n",
       "18      117    jyoti    35                   ME  210000          18\n",
       "19      118  aayushi    21                   BE  220000          19\n",
       "20      119    ranka    39                   PG  230000          17\n",
       "21      120    aditi    23          engineering  240000          15\n",
       "22      121     jainu   30                   IT  250000          11\n",
       "23      122    ritika   26        data science   260000          10\n",
       "24      123   anushka   35                   ME  270000          10\n",
       "25      124    sheelu   38                  MBA  280000          12\n",
       "26      125     radha   24                  PHD  290000          10\n",
       "27      126   surbhi    28                   PG  300000          19\n",
       "28      127     neha    28          engineering  310000          15\n",
       "29      128    gabbu    40                   IT  320000          10\n",
       "30      129    tannu    30                   ME  330000          15\n",
       "31      130     kannu   32                   BE  340000          19"
      ]
     },
     "execution_count": 13,
     "metadata": {},
     "output_type": "execute_result"
    }
   ],
   "source": [
    "cursor.execute('select * from pratik')\n",
    "df=pd.DataFrame(cursor.fetchall())\n",
    "df"
   ]
  },
  {
   "cell_type": "code",
   "execution_count": 14,
   "id": "5c419cd3",
   "metadata": {},
   "outputs": [
    {
     "data": {
      "text/plain": [
       "(('roll_no', None, None, None, None, None, None),\n",
       " ('name', None, None, None, None, None, None),\n",
       " ('age', None, None, None, None, None, None),\n",
       " ('course', None, None, None, None, None, None),\n",
       " ('fees', None, None, None, None, None, None),\n",
       " ('duration', None, None, None, None, None, None))"
      ]
     },
     "execution_count": 14,
     "metadata": {},
     "output_type": "execute_result"
    }
   ],
   "source": [
    "cursor.description"
   ]
  },
  {
   "cell_type": "code",
   "execution_count": 15,
   "id": "cfa5d83b",
   "metadata": {},
   "outputs": [],
   "source": [
    "df.columns=[x[0] for x in cursor.description]"
   ]
  },
  {
   "cell_type": "code",
   "execution_count": 16,
   "id": "518fb252",
   "metadata": {},
   "outputs": [
    {
     "data": {
      "text/html": [
       "<div>\n",
       "<style scoped>\n",
       "    .dataframe tbody tr th:only-of-type {\n",
       "        vertical-align: middle;\n",
       "    }\n",
       "\n",
       "    .dataframe tbody tr th {\n",
       "        vertical-align: top;\n",
       "    }\n",
       "\n",
       "    .dataframe thead th {\n",
       "        text-align: right;\n",
       "    }\n",
       "</style>\n",
       "<table border=\"1\" class=\"dataframe\">\n",
       "  <thead>\n",
       "    <tr style=\"text-align: right;\">\n",
       "      <th></th>\n",
       "      <th>roll_no</th>\n",
       "      <th>name</th>\n",
       "      <th>age</th>\n",
       "      <th>course</th>\n",
       "      <th>fees</th>\n",
       "      <th>duration</th>\n",
       "    </tr>\n",
       "  </thead>\n",
       "  <tbody>\n",
       "    <tr>\n",
       "      <th>0</th>\n",
       "      <td>100</td>\n",
       "      <td>pratik</td>\n",
       "      <td>28</td>\n",
       "      <td>data science</td>\n",
       "      <td>50000</td>\n",
       "      <td>1 year</td>\n",
       "    </tr>\n",
       "    <tr>\n",
       "      <th>1</th>\n",
       "      <td>roll no</td>\n",
       "      <td>name</td>\n",
       "      <td>age</td>\n",
       "      <td>course</td>\n",
       "      <td>fees</td>\n",
       "      <td>duration\\n</td>\n",
       "    </tr>\n",
       "    <tr>\n",
       "      <th>2</th>\n",
       "      <td>101</td>\n",
       "      <td>Pratik</td>\n",
       "      <td>22</td>\n",
       "      <td>data science</td>\n",
       "      <td>50000</td>\n",
       "      <td>16</td>\n",
       "    </tr>\n",
       "    <tr>\n",
       "      <th>3</th>\n",
       "      <td>102</td>\n",
       "      <td>ram</td>\n",
       "      <td>21</td>\n",
       "      <td>business analytics</td>\n",
       "      <td>60000</td>\n",
       "      <td>17</td>\n",
       "    </tr>\n",
       "    <tr>\n",
       "      <th>4</th>\n",
       "      <td>103</td>\n",
       "      <td>shyam</td>\n",
       "      <td>31</td>\n",
       "      <td>MBA</td>\n",
       "      <td>70000</td>\n",
       "      <td>20</td>\n",
       "    </tr>\n",
       "    <tr>\n",
       "      <th>5</th>\n",
       "      <td>104</td>\n",
       "      <td>sita</td>\n",
       "      <td>31</td>\n",
       "      <td>PHD</td>\n",
       "      <td>80000</td>\n",
       "      <td>18</td>\n",
       "    </tr>\n",
       "    <tr>\n",
       "      <th>6</th>\n",
       "      <td>105</td>\n",
       "      <td>ayush</td>\n",
       "      <td>34</td>\n",
       "      <td>PG</td>\n",
       "      <td>90000</td>\n",
       "      <td>14</td>\n",
       "    </tr>\n",
       "    <tr>\n",
       "      <th>7</th>\n",
       "      <td>106</td>\n",
       "      <td>mayank</td>\n",
       "      <td>40</td>\n",
       "      <td>engineering</td>\n",
       "      <td>100000</td>\n",
       "      <td>19</td>\n",
       "    </tr>\n",
       "    <tr>\n",
       "      <th>8</th>\n",
       "      <td>107</td>\n",
       "      <td>raj</td>\n",
       "      <td>28</td>\n",
       "      <td>IT</td>\n",
       "      <td>110000</td>\n",
       "      <td>14</td>\n",
       "    </tr>\n",
       "    <tr>\n",
       "      <th>9</th>\n",
       "      <td>108</td>\n",
       "      <td>ganesh</td>\n",
       "      <td>31</td>\n",
       "      <td>data science</td>\n",
       "      <td>120000</td>\n",
       "      <td>14</td>\n",
       "    </tr>\n",
       "    <tr>\n",
       "      <th>10</th>\n",
       "      <td>109</td>\n",
       "      <td>kartik</td>\n",
       "      <td>28</td>\n",
       "      <td>business analytics</td>\n",
       "      <td>130000</td>\n",
       "      <td>11</td>\n",
       "    </tr>\n",
       "    <tr>\n",
       "      <th>11</th>\n",
       "      <td>110</td>\n",
       "      <td>salman</td>\n",
       "      <td>33</td>\n",
       "      <td>MBA</td>\n",
       "      <td>140000</td>\n",
       "      <td>13</td>\n",
       "    </tr>\n",
       "    <tr>\n",
       "      <th>12</th>\n",
       "      <td>111</td>\n",
       "      <td>srk</td>\n",
       "      <td>32</td>\n",
       "      <td>IT</td>\n",
       "      <td>150000</td>\n",
       "      <td>16</td>\n",
       "    </tr>\n",
       "    <tr>\n",
       "      <th>13</th>\n",
       "      <td>112</td>\n",
       "      <td>ritik</td>\n",
       "      <td>27</td>\n",
       "      <td>BE</td>\n",
       "      <td>160000</td>\n",
       "      <td>15</td>\n",
       "    </tr>\n",
       "    <tr>\n",
       "      <th>14</th>\n",
       "      <td>113</td>\n",
       "      <td>sheela</td>\n",
       "      <td>38</td>\n",
       "      <td>ME</td>\n",
       "      <td>170000</td>\n",
       "      <td>13</td>\n",
       "    </tr>\n",
       "    <tr>\n",
       "      <th>15</th>\n",
       "      <td>114</td>\n",
       "      <td>reena</td>\n",
       "      <td>22</td>\n",
       "      <td>IT</td>\n",
       "      <td>180000</td>\n",
       "      <td>18</td>\n",
       "    </tr>\n",
       "    <tr>\n",
       "      <th>16</th>\n",
       "      <td>115</td>\n",
       "      <td>mahima</td>\n",
       "      <td>20</td>\n",
       "      <td>data science</td>\n",
       "      <td>190000</td>\n",
       "      <td>15</td>\n",
       "    </tr>\n",
       "    <tr>\n",
       "      <th>17</th>\n",
       "      <td>116</td>\n",
       "      <td>ankita</td>\n",
       "      <td>33</td>\n",
       "      <td>business analytics</td>\n",
       "      <td>200000</td>\n",
       "      <td>18</td>\n",
       "    </tr>\n",
       "    <tr>\n",
       "      <th>18</th>\n",
       "      <td>117</td>\n",
       "      <td>jyoti</td>\n",
       "      <td>35</td>\n",
       "      <td>ME</td>\n",
       "      <td>210000</td>\n",
       "      <td>18</td>\n",
       "    </tr>\n",
       "    <tr>\n",
       "      <th>19</th>\n",
       "      <td>118</td>\n",
       "      <td>aayushi</td>\n",
       "      <td>21</td>\n",
       "      <td>BE</td>\n",
       "      <td>220000</td>\n",
       "      <td>19</td>\n",
       "    </tr>\n",
       "    <tr>\n",
       "      <th>20</th>\n",
       "      <td>119</td>\n",
       "      <td>ranka</td>\n",
       "      <td>39</td>\n",
       "      <td>PG</td>\n",
       "      <td>230000</td>\n",
       "      <td>17</td>\n",
       "    </tr>\n",
       "    <tr>\n",
       "      <th>21</th>\n",
       "      <td>120</td>\n",
       "      <td>aditi</td>\n",
       "      <td>23</td>\n",
       "      <td>engineering</td>\n",
       "      <td>240000</td>\n",
       "      <td>15</td>\n",
       "    </tr>\n",
       "    <tr>\n",
       "      <th>22</th>\n",
       "      <td>121</td>\n",
       "      <td>jainu</td>\n",
       "      <td>30</td>\n",
       "      <td>IT</td>\n",
       "      <td>250000</td>\n",
       "      <td>11</td>\n",
       "    </tr>\n",
       "    <tr>\n",
       "      <th>23</th>\n",
       "      <td>122</td>\n",
       "      <td>ritika</td>\n",
       "      <td>26</td>\n",
       "      <td>data science</td>\n",
       "      <td>260000</td>\n",
       "      <td>10</td>\n",
       "    </tr>\n",
       "    <tr>\n",
       "      <th>24</th>\n",
       "      <td>123</td>\n",
       "      <td>anushka</td>\n",
       "      <td>35</td>\n",
       "      <td>ME</td>\n",
       "      <td>270000</td>\n",
       "      <td>10</td>\n",
       "    </tr>\n",
       "    <tr>\n",
       "      <th>25</th>\n",
       "      <td>124</td>\n",
       "      <td>sheelu</td>\n",
       "      <td>38</td>\n",
       "      <td>MBA</td>\n",
       "      <td>280000</td>\n",
       "      <td>12</td>\n",
       "    </tr>\n",
       "    <tr>\n",
       "      <th>26</th>\n",
       "      <td>125</td>\n",
       "      <td>radha</td>\n",
       "      <td>24</td>\n",
       "      <td>PHD</td>\n",
       "      <td>290000</td>\n",
       "      <td>10</td>\n",
       "    </tr>\n",
       "    <tr>\n",
       "      <th>27</th>\n",
       "      <td>126</td>\n",
       "      <td>surbhi</td>\n",
       "      <td>28</td>\n",
       "      <td>PG</td>\n",
       "      <td>300000</td>\n",
       "      <td>19</td>\n",
       "    </tr>\n",
       "    <tr>\n",
       "      <th>28</th>\n",
       "      <td>127</td>\n",
       "      <td>neha</td>\n",
       "      <td>28</td>\n",
       "      <td>engineering</td>\n",
       "      <td>310000</td>\n",
       "      <td>15</td>\n",
       "    </tr>\n",
       "    <tr>\n",
       "      <th>29</th>\n",
       "      <td>128</td>\n",
       "      <td>gabbu</td>\n",
       "      <td>40</td>\n",
       "      <td>IT</td>\n",
       "      <td>320000</td>\n",
       "      <td>10</td>\n",
       "    </tr>\n",
       "    <tr>\n",
       "      <th>30</th>\n",
       "      <td>129</td>\n",
       "      <td>tannu</td>\n",
       "      <td>30</td>\n",
       "      <td>ME</td>\n",
       "      <td>330000</td>\n",
       "      <td>15</td>\n",
       "    </tr>\n",
       "    <tr>\n",
       "      <th>31</th>\n",
       "      <td>130</td>\n",
       "      <td>kannu</td>\n",
       "      <td>32</td>\n",
       "      <td>BE</td>\n",
       "      <td>340000</td>\n",
       "      <td>19</td>\n",
       "    </tr>\n",
       "  </tbody>\n",
       "</table>\n",
       "</div>"
      ],
      "text/plain": [
       "    roll_no      name  age               course    fees    duration\n",
       "0       100    pratik   28         data science   50000      1 year\n",
       "1   roll no      name  age               course    fees  duration\\n\n",
       "2       101   Pratik    22        data science    50000          16\n",
       "3       102       ram   21  business analytics    60000          17\n",
       "4       103    shyam    31                  MBA   70000          20\n",
       "5       104      sita   31                  PHD   80000          18\n",
       "6       105    ayush    34                   PG   90000          14\n",
       "7       106    mayank   40          engineering  100000          19\n",
       "8       107      raj    28                   IT  110000          14\n",
       "9       108   ganesh    31        data science   120000          14\n",
       "10      109   kartik    28  business analytics   130000          11\n",
       "11      110   salman    33                  MBA  140000          13\n",
       "12      111       srk   32                   IT  150000          16\n",
       "13      112    ritik    27                   BE  160000          15\n",
       "14      113    sheela   38                   ME  170000          13\n",
       "15      114     reena   22                   IT  180000          18\n",
       "16      115    mahima   20        data science   190000          15\n",
       "17      116   ankita    33  business analytics   200000          18\n",
       "18      117    jyoti    35                   ME  210000          18\n",
       "19      118  aayushi    21                   BE  220000          19\n",
       "20      119    ranka    39                   PG  230000          17\n",
       "21      120    aditi    23          engineering  240000          15\n",
       "22      121     jainu   30                   IT  250000          11\n",
       "23      122    ritika   26        data science   260000          10\n",
       "24      123   anushka   35                   ME  270000          10\n",
       "25      124    sheelu   38                  MBA  280000          12\n",
       "26      125     radha   24                  PHD  290000          10\n",
       "27      126   surbhi    28                   PG  300000          19\n",
       "28      127     neha    28          engineering  310000          15\n",
       "29      128    gabbu    40                   IT  320000          10\n",
       "30      129    tannu    30                   ME  330000          15\n",
       "31      130     kannu   32                   BE  340000          19"
      ]
     },
     "execution_count": 16,
     "metadata": {},
     "output_type": "execute_result"
    }
   ],
   "source": [
    "df"
   ]
  },
  {
   "cell_type": "code",
   "execution_count": 17,
   "id": "ba974910",
   "metadata": {},
   "outputs": [
    {
     "data": {
      "text/plain": [
       "<sqlite3.Cursor at 0x18eb588c3b0>"
      ]
     },
     "execution_count": 17,
     "metadata": {},
     "output_type": "execute_result"
    }
   ],
   "source": [
    "cursor.execute(\"delete from pratik where roll_no='roll no'\")"
   ]
  },
  {
   "cell_type": "code",
   "execution_count": 18,
   "id": "6eb0f36a",
   "metadata": {},
   "outputs": [
    {
     "name": "stdout",
     "output_type": "stream",
     "text": [
      "(100, 'pratik', '28', 'data science', 50000, '1 year')\n",
      "(101, 'Pratik ', '22', 'data science ', 50000, 16)\n",
      "(102, 'ram', '21', 'business analytics ', 60000, 17)\n",
      "(103, 'shyam ', '31', 'MBA', 70000, 20)\n",
      "(104, 'sita', '31', 'PHD', 80000, 18)\n",
      "(105, 'ayush ', '34', 'PG', 90000, 14)\n",
      "(106, 'mayank', '40', 'engineering', 100000, 19)\n",
      "(107, 'raj ', '28', 'IT', 110000, 14)\n",
      "(108, 'ganesh ', '31', 'data science ', 120000, 14)\n",
      "(109, 'kartik ', '28', 'business analytics ', 130000, 11)\n",
      "(110, 'salman ', '33', 'MBA', 140000, 13)\n",
      "(111, 'srk', '32', 'IT', 150000, 16)\n",
      "(112, 'ritik ', '27', 'BE', 160000, 15)\n",
      "(113, 'sheela', '38', 'ME', 170000, 13)\n",
      "(114, 'reena', '22', 'IT', 180000, 18)\n",
      "(115, 'mahima', '20', 'data science ', 190000, 15)\n",
      "(116, 'ankita ', '33', 'business analytics ', 200000, 18)\n",
      "(117, 'jyoti ', '35', 'ME', 210000, 18)\n",
      "(118, 'aayushi ', '21', 'BE', 220000, 19)\n",
      "(119, 'ranka ', '39', 'PG', 230000, 17)\n",
      "(120, 'aditi ', '23', 'engineering', 240000, 15)\n",
      "(121, 'jainu', '30', 'IT', 250000, 11)\n",
      "(122, 'ritika', '26', 'data science ', 260000, 10)\n",
      "(123, 'anushka', '35', 'ME', 270000, 10)\n",
      "(124, 'sheelu', '38', 'MBA', 280000, 12)\n",
      "(125, 'radha', '24', 'PHD', 290000, 10)\n",
      "(126, 'surbhi ', '28', 'PG', 300000, 19)\n",
      "(127, 'neha ', '28', 'engineering', 310000, 15)\n",
      "(128, 'gabbu ', '40', 'IT', 320000, 10)\n",
      "(129, 'tannu ', '30', 'ME', 330000, 15)\n",
      "(130, 'kannu', '32', 'BE', 340000, 19)\n"
     ]
    }
   ],
   "source": [
    "result=cursor.execute('select * from pratik')\n",
    "for row in result:\n",
    "    print(row)"
   ]
  },
  {
   "cell_type": "markdown",
   "id": "e5989576",
   "metadata": {},
   "source": [
    "# Where clause-"
   ]
  },
  {
   "cell_type": "code",
   "execution_count": 19,
   "id": "a905428e",
   "metadata": {},
   "outputs": [
    {
     "name": "stdout",
     "output_type": "stream",
     "text": [
      "(100, 'pratik', '28', 'data science', 50000, '1 year')\n"
     ]
    }
   ],
   "source": [
    "result=cursor.execute('select * from pratik where roll_no=100')\n",
    "for row in result:\n",
    "    print(row)"
   ]
  },
  {
   "cell_type": "markdown",
   "id": "b8d95be9",
   "metadata": {},
   "source": [
    "# Between operator-"
   ]
  },
  {
   "cell_type": "code",
   "execution_count": 20,
   "id": "b37568d7",
   "metadata": {},
   "outputs": [
    {
     "name": "stdout",
     "output_type": "stream",
     "text": [
      "(101, 'Pratik ', '22', 'data science ', 50000, 16)\n",
      "(102, 'ram', '21', 'business analytics ', 60000, 17)\n",
      "(103, 'shyam ', '31', 'MBA', 70000, 20)\n",
      "(104, 'sita', '31', 'PHD', 80000, 18)\n",
      "(105, 'ayush ', '34', 'PG', 90000, 14)\n"
     ]
    }
   ],
   "source": [
    "result=cursor.execute('select * from pratik where roll_no BETWEEN 101 AND 105')\n",
    "for row in result:\n",
    "    print(row)"
   ]
  },
  {
   "cell_type": "markdown",
   "id": "3512299f",
   "metadata": {},
   "source": [
    "# Not Between operator-"
   ]
  },
  {
   "cell_type": "code",
   "execution_count": 21,
   "id": "08a7e916",
   "metadata": {},
   "outputs": [
    {
     "name": "stdout",
     "output_type": "stream",
     "text": [
      "(100, 'pratik', '28', 'data science', 50000, '1 year')\n",
      "(106, 'mayank', '40', 'engineering', 100000, 19)\n",
      "(107, 'raj ', '28', 'IT', 110000, 14)\n",
      "(108, 'ganesh ', '31', 'data science ', 120000, 14)\n",
      "(109, 'kartik ', '28', 'business analytics ', 130000, 11)\n",
      "(110, 'salman ', '33', 'MBA', 140000, 13)\n",
      "(111, 'srk', '32', 'IT', 150000, 16)\n",
      "(112, 'ritik ', '27', 'BE', 160000, 15)\n",
      "(113, 'sheela', '38', 'ME', 170000, 13)\n",
      "(114, 'reena', '22', 'IT', 180000, 18)\n",
      "(115, 'mahima', '20', 'data science ', 190000, 15)\n",
      "(116, 'ankita ', '33', 'business analytics ', 200000, 18)\n",
      "(117, 'jyoti ', '35', 'ME', 210000, 18)\n",
      "(118, 'aayushi ', '21', 'BE', 220000, 19)\n",
      "(119, 'ranka ', '39', 'PG', 230000, 17)\n",
      "(120, 'aditi ', '23', 'engineering', 240000, 15)\n",
      "(121, 'jainu', '30', 'IT', 250000, 11)\n",
      "(122, 'ritika', '26', 'data science ', 260000, 10)\n",
      "(123, 'anushka', '35', 'ME', 270000, 10)\n",
      "(124, 'sheelu', '38', 'MBA', 280000, 12)\n",
      "(125, 'radha', '24', 'PHD', 290000, 10)\n",
      "(126, 'surbhi ', '28', 'PG', 300000, 19)\n",
      "(127, 'neha ', '28', 'engineering', 310000, 15)\n",
      "(128, 'gabbu ', '40', 'IT', 320000, 10)\n",
      "(129, 'tannu ', '30', 'ME', 330000, 15)\n",
      "(130, 'kannu', '32', 'BE', 340000, 19)\n"
     ]
    }
   ],
   "source": [
    "result=cursor.execute('select * from pratik where roll_no NOT BETWEEN 101 AND 105')\n",
    "for row in result:\n",
    "    print(row)"
   ]
  },
  {
   "cell_type": "markdown",
   "id": "c81c07f5",
   "metadata": {},
   "source": [
    "# IN operator-"
   ]
  },
  {
   "cell_type": "code",
   "execution_count": 22,
   "id": "2ffb87e9",
   "metadata": {},
   "outputs": [
    {
     "name": "stdout",
     "output_type": "stream",
     "text": [
      "(101, 'Pratik ', '22', 'data science ', 50000, 16)\n",
      "(105, 'ayush ', '34', 'PG', 90000, 14)\n",
      "(107, 'raj ', '28', 'IT', 110000, 14)\n",
      "(108, 'ganesh ', '31', 'data science ', 120000, 14)\n"
     ]
    }
   ],
   "source": [
    "result=cursor.execute('select * from pratik where roll_no IN(101,105,107,108)')\n",
    "for row in result:\n",
    "    print(row)"
   ]
  },
  {
   "cell_type": "markdown",
   "id": "48af14f6",
   "metadata": {},
   "source": [
    "# Not IN Operator-"
   ]
  },
  {
   "cell_type": "code",
   "execution_count": 23,
   "id": "77a9fbaf",
   "metadata": {},
   "outputs": [
    {
     "name": "stdout",
     "output_type": "stream",
     "text": [
      "(100, 'pratik', '28', 'data science', 50000, '1 year')\n",
      "(102, 'ram', '21', 'business analytics ', 60000, 17)\n",
      "(103, 'shyam ', '31', 'MBA', 70000, 20)\n",
      "(104, 'sita', '31', 'PHD', 80000, 18)\n",
      "(106, 'mayank', '40', 'engineering', 100000, 19)\n",
      "(109, 'kartik ', '28', 'business analytics ', 130000, 11)\n",
      "(110, 'salman ', '33', 'MBA', 140000, 13)\n",
      "(111, 'srk', '32', 'IT', 150000, 16)\n",
      "(112, 'ritik ', '27', 'BE', 160000, 15)\n",
      "(113, 'sheela', '38', 'ME', 170000, 13)\n",
      "(114, 'reena', '22', 'IT', 180000, 18)\n",
      "(115, 'mahima', '20', 'data science ', 190000, 15)\n",
      "(116, 'ankita ', '33', 'business analytics ', 200000, 18)\n",
      "(117, 'jyoti ', '35', 'ME', 210000, 18)\n",
      "(118, 'aayushi ', '21', 'BE', 220000, 19)\n",
      "(119, 'ranka ', '39', 'PG', 230000, 17)\n",
      "(120, 'aditi ', '23', 'engineering', 240000, 15)\n",
      "(121, 'jainu', '30', 'IT', 250000, 11)\n",
      "(122, 'ritika', '26', 'data science ', 260000, 10)\n",
      "(123, 'anushka', '35', 'ME', 270000, 10)\n",
      "(124, 'sheelu', '38', 'MBA', 280000, 12)\n",
      "(125, 'radha', '24', 'PHD', 290000, 10)\n",
      "(126, 'surbhi ', '28', 'PG', 300000, 19)\n",
      "(127, 'neha ', '28', 'engineering', 310000, 15)\n",
      "(128, 'gabbu ', '40', 'IT', 320000, 10)\n",
      "(129, 'tannu ', '30', 'ME', 330000, 15)\n",
      "(130, 'kannu', '32', 'BE', 340000, 19)\n"
     ]
    }
   ],
   "source": [
    "result=cursor.execute('select * from pratik where roll_no NOT IN(101,105,107,108)')\n",
    "for row in result:\n",
    "    print(row)"
   ]
  },
  {
   "cell_type": "code",
   "execution_count": 24,
   "id": "71bdbce5",
   "metadata": {},
   "outputs": [
    {
     "name": "stdout",
     "output_type": "stream",
     "text": [
      "(103, 'shyam ', '31', 'MBA', 70000, 20)\n",
      "(110, 'salman ', '33', 'MBA', 140000, 13)\n",
      "(124, 'sheelu', '38', 'MBA', 280000, 12)\n"
     ]
    }
   ],
   "source": [
    "result=cursor.execute(\"select * from pratik where course='MBA'\")\n",
    "for row in result:\n",
    "    print(row)"
   ]
  },
  {
   "cell_type": "code",
   "execution_count": 25,
   "id": "40414eb4",
   "metadata": {},
   "outputs": [
    {
     "name": "stdout",
     "output_type": "stream",
     "text": [
      "(100, 'pratik', '28', 'data science', 50000, '1 year')\n",
      "(101, 'Pratik ', '22', 'data science ', 50000, 16)\n"
     ]
    }
   ],
   "source": [
    "result=cursor.execute(\"select * from pratik where fees=50000\")\n",
    "for row in result:\n",
    "    print(row)"
   ]
  },
  {
   "cell_type": "markdown",
   "id": "2c429e3c",
   "metadata": {},
   "source": [
    "# Order BY-"
   ]
  },
  {
   "cell_type": "code",
   "execution_count": 26,
   "id": "7bd54fdf",
   "metadata": {},
   "outputs": [
    {
     "name": "stdout",
     "output_type": "stream",
     "text": [
      "(100, 'pratik', '28', 'data science', 50000, '1 year')\n",
      "(101, 'Pratik ', '22', 'data science ', 50000, 16)\n",
      "(102, 'ram', '21', 'business analytics ', 60000, 17)\n",
      "(103, 'shyam ', '31', 'MBA', 70000, 20)\n",
      "(104, 'sita', '31', 'PHD', 80000, 18)\n",
      "(105, 'ayush ', '34', 'PG', 90000, 14)\n",
      "(106, 'mayank', '40', 'engineering', 100000, 19)\n",
      "(107, 'raj ', '28', 'IT', 110000, 14)\n",
      "(108, 'ganesh ', '31', 'data science ', 120000, 14)\n",
      "(109, 'kartik ', '28', 'business analytics ', 130000, 11)\n",
      "(110, 'salman ', '33', 'MBA', 140000, 13)\n",
      "(111, 'srk', '32', 'IT', 150000, 16)\n",
      "(112, 'ritik ', '27', 'BE', 160000, 15)\n",
      "(113, 'sheela', '38', 'ME', 170000, 13)\n",
      "(114, 'reena', '22', 'IT', 180000, 18)\n",
      "(115, 'mahima', '20', 'data science ', 190000, 15)\n",
      "(116, 'ankita ', '33', 'business analytics ', 200000, 18)\n",
      "(117, 'jyoti ', '35', 'ME', 210000, 18)\n",
      "(118, 'aayushi ', '21', 'BE', 220000, 19)\n",
      "(119, 'ranka ', '39', 'PG', 230000, 17)\n",
      "(120, 'aditi ', '23', 'engineering', 240000, 15)\n",
      "(121, 'jainu', '30', 'IT', 250000, 11)\n",
      "(122, 'ritika', '26', 'data science ', 260000, 10)\n",
      "(123, 'anushka', '35', 'ME', 270000, 10)\n",
      "(124, 'sheelu', '38', 'MBA', 280000, 12)\n",
      "(125, 'radha', '24', 'PHD', 290000, 10)\n",
      "(126, 'surbhi ', '28', 'PG', 300000, 19)\n",
      "(127, 'neha ', '28', 'engineering', 310000, 15)\n",
      "(128, 'gabbu ', '40', 'IT', 320000, 10)\n",
      "(129, 'tannu ', '30', 'ME', 330000, 15)\n",
      "(130, 'kannu', '32', 'BE', 340000, 19)\n"
     ]
    }
   ],
   "source": [
    "result=cursor.execute(\"select * from pratik order by fees\")\n",
    "for row in result:\n",
    "    print(row)"
   ]
  },
  {
   "cell_type": "code",
   "execution_count": 27,
   "id": "479432e1",
   "metadata": {},
   "outputs": [
    {
     "name": "stdout",
     "output_type": "stream",
     "text": [
      "(130, 'kannu', '32', 'BE', 340000, 19)\n",
      "(129, 'tannu ', '30', 'ME', 330000, 15)\n",
      "(128, 'gabbu ', '40', 'IT', 320000, 10)\n",
      "(127, 'neha ', '28', 'engineering', 310000, 15)\n",
      "(126, 'surbhi ', '28', 'PG', 300000, 19)\n",
      "(125, 'radha', '24', 'PHD', 290000, 10)\n",
      "(124, 'sheelu', '38', 'MBA', 280000, 12)\n",
      "(123, 'anushka', '35', 'ME', 270000, 10)\n",
      "(122, 'ritika', '26', 'data science ', 260000, 10)\n",
      "(121, 'jainu', '30', 'IT', 250000, 11)\n",
      "(120, 'aditi ', '23', 'engineering', 240000, 15)\n",
      "(119, 'ranka ', '39', 'PG', 230000, 17)\n",
      "(118, 'aayushi ', '21', 'BE', 220000, 19)\n",
      "(117, 'jyoti ', '35', 'ME', 210000, 18)\n",
      "(116, 'ankita ', '33', 'business analytics ', 200000, 18)\n",
      "(115, 'mahima', '20', 'data science ', 190000, 15)\n",
      "(114, 'reena', '22', 'IT', 180000, 18)\n",
      "(113, 'sheela', '38', 'ME', 170000, 13)\n",
      "(112, 'ritik ', '27', 'BE', 160000, 15)\n",
      "(111, 'srk', '32', 'IT', 150000, 16)\n",
      "(110, 'salman ', '33', 'MBA', 140000, 13)\n",
      "(109, 'kartik ', '28', 'business analytics ', 130000, 11)\n",
      "(108, 'ganesh ', '31', 'data science ', 120000, 14)\n",
      "(107, 'raj ', '28', 'IT', 110000, 14)\n",
      "(106, 'mayank', '40', 'engineering', 100000, 19)\n",
      "(105, 'ayush ', '34', 'PG', 90000, 14)\n",
      "(104, 'sita', '31', 'PHD', 80000, 18)\n",
      "(103, 'shyam ', '31', 'MBA', 70000, 20)\n",
      "(102, 'ram', '21', 'business analytics ', 60000, 17)\n",
      "(100, 'pratik', '28', 'data science', 50000, '1 year')\n",
      "(101, 'Pratik ', '22', 'data science ', 50000, 16)\n"
     ]
    }
   ],
   "source": [
    "result=cursor.execute(\"select * from pratik order by fees desc\")\n",
    "for row in result:\n",
    "    print(row)"
   ]
  },
  {
   "cell_type": "markdown",
   "id": "cbcc0eed",
   "metadata": {},
   "source": [
    "# Selection with starting no-"
   ]
  },
  {
   "cell_type": "code",
   "execution_count": 28,
   "id": "4b9c92d6",
   "metadata": {},
   "outputs": [
    {
     "name": "stdout",
     "output_type": "stream",
     "text": [
      "(105, 'ayush ', '34', 'PG', 90000, 14)\n",
      "(116, 'ankita ', '33', 'business analytics ', 200000, 18)\n",
      "(118, 'aayushi ', '21', 'BE', 220000, 19)\n",
      "(120, 'aditi ', '23', 'engineering', 240000, 15)\n",
      "(123, 'anushka', '35', 'ME', 270000, 10)\n"
     ]
    }
   ],
   "source": [
    "result=cursor.execute(\"select * from pratik where name LIKE 'a%'\")\n",
    "for row in result:\n",
    "    print(row)"
   ]
  },
  {
   "cell_type": "code",
   "execution_count": 29,
   "id": "9df6cc97",
   "metadata": {},
   "outputs": [
    {
     "name": "stdout",
     "output_type": "stream",
     "text": [
      "(100, 'pratik', '28', 'data science', 50000, '1 year')\n",
      "(101, 'Pratik ', '22', 'data science ', 50000, 16)\n",
      "(108, 'ganesh ', '31', 'data science ', 120000, 14)\n",
      "(115, 'mahima', '20', 'data science ', 190000, 15)\n",
      "(122, 'ritika', '26', 'data science ', 260000, 10)\n"
     ]
    }
   ],
   "source": [
    "result=cursor.execute(\"select * from pratik where course LIKE 'd%'\")\n",
    "for row in result:\n",
    "    print(row)"
   ]
  },
  {
   "cell_type": "markdown",
   "id": "1d2667ff",
   "metadata": {},
   "source": [
    "# Lower& Upper-"
   ]
  },
  {
   "cell_type": "code",
   "execution_count": 30,
   "id": "26a05fd8",
   "metadata": {},
   "outputs": [
    {
     "name": "stdout",
     "output_type": "stream",
     "text": [
      "('DATA SCIENCE',)\n",
      "('DATA SCIENCE ',)\n",
      "('BUSINESS ANALYTICS ',)\n",
      "('MBA',)\n",
      "('PHD',)\n",
      "('PG',)\n",
      "('ENGINEERING',)\n",
      "('IT',)\n",
      "('DATA SCIENCE ',)\n",
      "('BUSINESS ANALYTICS ',)\n",
      "('MBA',)\n",
      "('IT',)\n",
      "('BE',)\n",
      "('ME',)\n",
      "('IT',)\n",
      "('DATA SCIENCE ',)\n",
      "('BUSINESS ANALYTICS ',)\n",
      "('ME',)\n",
      "('BE',)\n",
      "('PG',)\n",
      "('ENGINEERING',)\n",
      "('IT',)\n",
      "('DATA SCIENCE ',)\n",
      "('ME',)\n",
      "('MBA',)\n",
      "('PHD',)\n",
      "('PG',)\n",
      "('ENGINEERING',)\n",
      "('IT',)\n",
      "('ME',)\n",
      "('BE',)\n"
     ]
    }
   ],
   "source": [
    "result=cursor.execute(\"select upper(course) from pratik\")\n",
    "for row in result:\n",
    "    print(row)"
   ]
  },
  {
   "cell_type": "code",
   "execution_count": 31,
   "id": "738f386a",
   "metadata": {},
   "outputs": [
    {
     "name": "stdout",
     "output_type": "stream",
     "text": [
      "('data science',)\n",
      "('data science ',)\n",
      "('business analytics ',)\n",
      "('mba',)\n",
      "('phd',)\n",
      "('pg',)\n",
      "('engineering',)\n",
      "('it',)\n",
      "('data science ',)\n",
      "('business analytics ',)\n",
      "('mba',)\n",
      "('it',)\n",
      "('be',)\n",
      "('me',)\n",
      "('it',)\n",
      "('data science ',)\n",
      "('business analytics ',)\n",
      "('me',)\n",
      "('be',)\n",
      "('pg',)\n",
      "('engineering',)\n",
      "('it',)\n",
      "('data science ',)\n",
      "('me',)\n",
      "('mba',)\n",
      "('phd',)\n",
      "('pg',)\n",
      "('engineering',)\n",
      "('it',)\n",
      "('me',)\n",
      "('be',)\n"
     ]
    }
   ],
   "source": [
    "result=cursor.execute(\"select lower(course) from pratik\")\n",
    "for row in result:\n",
    "    print(row)"
   ]
  },
  {
   "cell_type": "markdown",
   "id": "55d7c880",
   "metadata": {},
   "source": [
    "# Where and operator-"
   ]
  },
  {
   "cell_type": "code",
   "execution_count": 32,
   "id": "77454215",
   "metadata": {},
   "outputs": [
    {
     "name": "stdout",
     "output_type": "stream",
     "text": [
      "(100, 'pratik', '28', 'data science', 50000, '1 year')\n",
      "(101, 'Pratik ', '22', 'data science ', 50000, 16)\n"
     ]
    }
   ],
   "source": [
    "result=cursor.execute(\"select * from pratik where course LIKE 'd%' and fees=50000\")\n",
    "for row in result:\n",
    "    print(row)"
   ]
  },
  {
   "cell_type": "markdown",
   "id": "1804c8e2",
   "metadata": {},
   "source": [
    "# AND condition-"
   ]
  },
  {
   "cell_type": "code",
   "execution_count": 33,
   "id": "6443fa21",
   "metadata": {},
   "outputs": [
    {
     "name": "stdout",
     "output_type": "stream",
     "text": [
      "(100, 'pratik', '28', 'data science', 50000, '1 year')\n"
     ]
    }
   ],
   "source": [
    "result=cursor.execute(\"select * from pratik where course='data science' and roll_no=100\")\n",
    "for row in result:\n",
    "    print(row)"
   ]
  },
  {
   "cell_type": "markdown",
   "id": "150f4e83",
   "metadata": {},
   "source": [
    "# Selecting particular columns-"
   ]
  },
  {
   "cell_type": "code",
   "execution_count": 34,
   "id": "199fc3b2",
   "metadata": {},
   "outputs": [
    {
     "name": "stdout",
     "output_type": "stream",
     "text": [
      "(100, 'data science')\n"
     ]
    }
   ],
   "source": [
    "result=cursor.execute(\"select roll_no,course from pratik where course='data science' and roll_no=100\")\n",
    "for row in result:\n",
    "    print(row)"
   ]
  },
  {
   "cell_type": "code",
   "execution_count": 35,
   "id": "b54cfcf0",
   "metadata": {},
   "outputs": [
    {
     "name": "stdout",
     "output_type": "stream",
     "text": [
      "(50000, 'data science')\n",
      "(50000, 'data science ')\n"
     ]
    }
   ],
   "source": [
    "result=cursor.execute(\"select fees,course from pratik where course LIKE 'd%' and fees=50000\")\n",
    "for row in result:\n",
    "    print(row)"
   ]
  },
  {
   "cell_type": "markdown",
   "id": "95bfce6a",
   "metadata": {},
   "source": [
    "# MIN-"
   ]
  },
  {
   "cell_type": "code",
   "execution_count": 36,
   "id": "a3824a2f",
   "metadata": {},
   "outputs": [
    {
     "name": "stdout",
     "output_type": "stream",
     "text": [
      "(50000,)\n"
     ]
    }
   ],
   "source": [
    "result=cursor.execute(\"select min(fees) from pratik\")\n",
    "for row in result:\n",
    "    print(row)"
   ]
  },
  {
   "cell_type": "code",
   "execution_count": 37,
   "id": "7a721c9b",
   "metadata": {},
   "outputs": [
    {
     "name": "stdout",
     "output_type": "stream",
     "text": [
      "('pratik', 50000)\n"
     ]
    }
   ],
   "source": [
    "result=cursor.execute(\"select name,min(fees) from pratik\")\n",
    "for row in result:\n",
    "    print(row)"
   ]
  },
  {
   "cell_type": "code",
   "execution_count": 38,
   "id": "7ce26efa",
   "metadata": {},
   "outputs": [
    {
     "name": "stdout",
     "output_type": "stream",
     "text": [
      "(100, 'pratik', '28', 'data science', 50000, '1 year')\n",
      "(101, 'Pratik ', '22', 'data science ', 50000, 16)\n"
     ]
    }
   ],
   "source": [
    "result=cursor.execute(\"select * from pratik where fees=50000 \")\n",
    "for row in result:\n",
    "    print(row)"
   ]
  },
  {
   "cell_type": "code",
   "execution_count": 39,
   "id": "74938894",
   "metadata": {},
   "outputs": [],
   "source": [
    "result=cursor.execute(\"delete from pratik where fees=='fees'\")"
   ]
  },
  {
   "cell_type": "markdown",
   "id": "268ddd2c",
   "metadata": {},
   "source": [
    "# MAX-"
   ]
  },
  {
   "cell_type": "code",
   "execution_count": 40,
   "id": "efa55e1d",
   "metadata": {},
   "outputs": [
    {
     "name": "stdout",
     "output_type": "stream",
     "text": [
      "('kannu', 340000)\n"
     ]
    }
   ],
   "source": [
    "result=cursor.execute(\"select name,max(fees) from pratik\")\n",
    "for row in result:\n",
    "    print(row)"
   ]
  },
  {
   "cell_type": "code",
   "execution_count": 41,
   "id": "985203ec",
   "metadata": {},
   "outputs": [
    {
     "name": "stdout",
     "output_type": "stream",
     "text": [
      "(340000,)\n"
     ]
    }
   ],
   "source": [
    "result=cursor.execute(\"select max(fees) from pratik\")\n",
    "for row in result:\n",
    "    print(row)"
   ]
  },
  {
   "cell_type": "code",
   "execution_count": 42,
   "id": "fff8bbb0",
   "metadata": {},
   "outputs": [
    {
     "name": "stdout",
     "output_type": "stream",
     "text": [
      "(130, 'kannu', '32', 'BE', 340000, 19)\n"
     ]
    }
   ],
   "source": [
    "result=cursor.execute(\"select * from pratik where fees=340000 \")\n",
    "for row in result:\n",
    "    print(row)"
   ]
  },
  {
   "cell_type": "markdown",
   "id": "b415d0e7",
   "metadata": {},
   "source": [
    "# Subquery-"
   ]
  },
  {
   "cell_type": "code",
   "execution_count": 43,
   "id": "f605e9ce",
   "metadata": {},
   "outputs": [
    {
     "name": "stdout",
     "output_type": "stream",
     "text": [
      "(100, 'pratik', '28', 'data science', 50000, '1 year')\n",
      "(101, 'Pratik ', '22', 'data science ', 50000, 16)\n",
      "(102, 'ram', '21', 'business analytics ', 60000, 17)\n",
      "(103, 'shyam ', '31', 'MBA', 70000, 20)\n",
      "(104, 'sita', '31', 'PHD', 80000, 18)\n",
      "(105, 'ayush ', '34', 'PG', 90000, 14)\n",
      "(106, 'mayank', '40', 'engineering', 100000, 19)\n",
      "(107, 'raj ', '28', 'IT', 110000, 14)\n",
      "(108, 'ganesh ', '31', 'data science ', 120000, 14)\n",
      "(109, 'kartik ', '28', 'business analytics ', 130000, 11)\n",
      "(110, 'salman ', '33', 'MBA', 140000, 13)\n",
      "(111, 'srk', '32', 'IT', 150000, 16)\n",
      "(112, 'ritik ', '27', 'BE', 160000, 15)\n",
      "(113, 'sheela', '38', 'ME', 170000, 13)\n",
      "(114, 'reena', '22', 'IT', 180000, 18)\n",
      "(115, 'mahima', '20', 'data science ', 190000, 15)\n",
      "(116, 'ankita ', '33', 'business analytics ', 200000, 18)\n",
      "(117, 'jyoti ', '35', 'ME', 210000, 18)\n",
      "(118, 'aayushi ', '21', 'BE', 220000, 19)\n",
      "(119, 'ranka ', '39', 'PG', 230000, 17)\n",
      "(120, 'aditi ', '23', 'engineering', 240000, 15)\n",
      "(121, 'jainu', '30', 'IT', 250000, 11)\n",
      "(122, 'ritika', '26', 'data science ', 260000, 10)\n",
      "(123, 'anushka', '35', 'ME', 270000, 10)\n",
      "(124, 'sheelu', '38', 'MBA', 280000, 12)\n",
      "(125, 'radha', '24', 'PHD', 290000, 10)\n",
      "(126, 'surbhi ', '28', 'PG', 300000, 19)\n",
      "(127, 'neha ', '28', 'engineering', 310000, 15)\n",
      "(128, 'gabbu ', '40', 'IT', 320000, 10)\n",
      "(129, 'tannu ', '30', 'ME', 330000, 15)\n",
      "(130, 'kannu', '32', 'BE', 340000, 19)\n"
     ]
    }
   ],
   "source": [
    "result=cursor.execute(\"select * from pratik\")\n",
    "for row in result:\n",
    "    print(row)"
   ]
  },
  {
   "cell_type": "code",
   "execution_count": 44,
   "id": "3cca1620",
   "metadata": {},
   "outputs": [
    {
     "data": {
      "text/plain": [
       "<sqlite3.Cursor at 0x18eb588c3b0>"
      ]
     },
     "execution_count": 44,
     "metadata": {},
     "output_type": "execute_result"
    }
   ],
   "source": [
    "cursor.execute('create table prat(exam_id int primary key,roll_no int,father_name text,mother_name text,marks int,result text,foreign key (roll_no) references pratik(roll_no))')"
   ]
  },
  {
   "cell_type": "code",
   "execution_count": 45,
   "id": "4c1a0dd6",
   "metadata": {},
   "outputs": [
    {
     "data": {
      "text/plain": [
       "<sqlite3.Cursor at 0x18eb588c3b0>"
      ]
     },
     "execution_count": 45,
     "metadata": {},
     "output_type": "execute_result"
    }
   ],
   "source": [
    "cursor.execute(\"insert into prat values(201,101,'suresh sharma','sarita sharma',91,'pass')\")"
   ]
  },
  {
   "cell_type": "code",
   "execution_count": 46,
   "id": "ce4bcb77",
   "metadata": {},
   "outputs": [
    {
     "name": "stdout",
     "output_type": "stream",
     "text": [
      "1 records inserted\n"
     ]
    }
   ],
   "source": [
    "print(cursor.rowcount, 'records inserted')"
   ]
  },
  {
   "cell_type": "code",
   "execution_count": 47,
   "id": "0130da1f",
   "metadata": {},
   "outputs": [
    {
     "name": "stdout",
     "output_type": "stream",
     "text": [
      "1 records inserted\n"
     ]
    }
   ],
   "source": [
    "with open(r'C:\\Users\\prate\\Downloads\\table.csv') as file:\n",
    "    no_records=0\n",
    "    \n",
    "    for row in file:\n",
    "        cursor.execute(\"insert into prat values(?,?,?,?,?,?)\",row.split(','))\n",
    "        db.commit()\n",
    "        \n",
    "    no_records+=1\n",
    "print(cursor.rowcount ,'records inserted')    "
   ]
  },
  {
   "cell_type": "code",
   "execution_count": 48,
   "id": "254581c3",
   "metadata": {},
   "outputs": [
    {
     "name": "stdout",
     "output_type": "stream",
     "text": [
      "(201, 101, 'suresh sharma', 'sarita sharma', 91, 'pass')\n",
      "('Exam id', 'Roll no', 'father name', 'mother name', 'marks', 'result\\n')\n",
      "(500, 102, 'Rakesh', 'sheetal', 90, 'pass\\n')\n",
      "(501, 103, 'shyam', 'pooja', 91, 'pass\\n')\n",
      "(502, 104, 'shiv ', 'mahima', 92, 'pass\\n')\n",
      "(503, 105, 'nehal', 'neha', 93, 'pass\\n')\n",
      "(504, 106, 'yashwant', 'surbhi', 94, 'pass\\n')\n",
      "(505, 107, 'raja', 'ranu', 34, 'fail\\n')\n",
      "(506, 108, 'aam singh ', 'nenu', 23, 'fail\\n')\n",
      "(507, 109, 'shetan singh ', 'renu', 33, 'fail\\n')\n",
      "(508, 110, 'giraj', 'sheetla', 32, 'fail\\n')\n",
      "(509, 111, 'shankar', 'rinku', 22, 'fail\\n')\n",
      "(510, 112, 'ram', 'reeta', 23, 'fail\\n')\n",
      "(511, 113, 'krishna', 'teena', 97, 'pass\\n')\n",
      "(512, 114, 'jagat', 'tona', 98, 'pass\\n')\n",
      "(513, 115, 'niwas ', 'mona', 99, 'pass\\n')\n",
      "(514, 116, 'shekhar', 'sona', 100, 'pass\\n')\n"
     ]
    }
   ],
   "source": [
    "result=cursor.execute('select * from prat')\n",
    "for row in result:\n",
    "    print(row)"
   ]
  },
  {
   "cell_type": "code",
   "execution_count": 49,
   "id": "0232c404",
   "metadata": {},
   "outputs": [
    {
     "data": {
      "text/plain": [
       "<sqlite3.Cursor at 0x18eb588c3b0>"
      ]
     },
     "execution_count": 49,
     "metadata": {},
     "output_type": "execute_result"
    }
   ],
   "source": [
    "cursor.execute(\"delete from prat where exam_id='Exam id' \")"
   ]
  },
  {
   "cell_type": "code",
   "execution_count": 50,
   "id": "873a3497",
   "metadata": {},
   "outputs": [
    {
     "name": "stdout",
     "output_type": "stream",
     "text": [
      "(100, 'pratik', '28', 'data science', 50000, '1 year')\n",
      "(101, 'Pratik ', '22', 'data science ', 50000, 16)\n",
      "(102, 'ram', '21', 'business analytics ', 60000, 17)\n",
      "(103, 'shyam ', '31', 'MBA', 70000, 20)\n",
      "(104, 'sita', '31', 'PHD', 80000, 18)\n",
      "(105, 'ayush ', '34', 'PG', 90000, 14)\n",
      "(106, 'mayank', '40', 'engineering', 100000, 19)\n",
      "(107, 'raj ', '28', 'IT', 110000, 14)\n",
      "(108, 'ganesh ', '31', 'data science ', 120000, 14)\n",
      "(109, 'kartik ', '28', 'business analytics ', 130000, 11)\n",
      "(110, 'salman ', '33', 'MBA', 140000, 13)\n",
      "(111, 'srk', '32', 'IT', 150000, 16)\n",
      "(112, 'ritik ', '27', 'BE', 160000, 15)\n",
      "(113, 'sheela', '38', 'ME', 170000, 13)\n",
      "(114, 'reena', '22', 'IT', 180000, 18)\n",
      "(115, 'mahima', '20', 'data science ', 190000, 15)\n",
      "(116, 'ankita ', '33', 'business analytics ', 200000, 18)\n",
      "(117, 'jyoti ', '35', 'ME', 210000, 18)\n",
      "(118, 'aayushi ', '21', 'BE', 220000, 19)\n",
      "(119, 'ranka ', '39', 'PG', 230000, 17)\n",
      "(120, 'aditi ', '23', 'engineering', 240000, 15)\n",
      "(121, 'jainu', '30', 'IT', 250000, 11)\n",
      "(122, 'ritika', '26', 'data science ', 260000, 10)\n",
      "(123, 'anushka', '35', 'ME', 270000, 10)\n",
      "(124, 'sheelu', '38', 'MBA', 280000, 12)\n",
      "(125, 'radha', '24', 'PHD', 290000, 10)\n",
      "(126, 'surbhi ', '28', 'PG', 300000, 19)\n",
      "(127, 'neha ', '28', 'engineering', 310000, 15)\n",
      "(128, 'gabbu ', '40', 'IT', 320000, 10)\n",
      "(129, 'tannu ', '30', 'ME', 330000, 15)\n",
      "(130, 'kannu', '32', 'BE', 340000, 19)\n"
     ]
    }
   ],
   "source": [
    "result=cursor.execute('select * from pratik')\n",
    "for row in result:\n",
    "    print(row)"
   ]
  },
  {
   "cell_type": "code",
   "execution_count": 51,
   "id": "ce7b3f7b",
   "metadata": {},
   "outputs": [
    {
     "name": "stdout",
     "output_type": "stream",
     "text": [
      "(201, 101, 'suresh sharma', 'sarita sharma', 91, 'pass')\n",
      "(500, 102, 'Rakesh', 'sheetal', 90, 'pass\\n')\n",
      "(501, 103, 'shyam', 'pooja', 91, 'pass\\n')\n",
      "(502, 104, 'shiv ', 'mahima', 92, 'pass\\n')\n",
      "(503, 105, 'nehal', 'neha', 93, 'pass\\n')\n",
      "(504, 106, 'yashwant', 'surbhi', 94, 'pass\\n')\n",
      "(505, 107, 'raja', 'ranu', 34, 'fail\\n')\n",
      "(506, 108, 'aam singh ', 'nenu', 23, 'fail\\n')\n",
      "(507, 109, 'shetan singh ', 'renu', 33, 'fail\\n')\n",
      "(508, 110, 'giraj', 'sheetla', 32, 'fail\\n')\n",
      "(509, 111, 'shankar', 'rinku', 22, 'fail\\n')\n",
      "(510, 112, 'ram', 'reeta', 23, 'fail\\n')\n",
      "(511, 113, 'krishna', 'teena', 97, 'pass\\n')\n",
      "(512, 114, 'jagat', 'tona', 98, 'pass\\n')\n",
      "(513, 115, 'niwas ', 'mona', 99, 'pass\\n')\n",
      "(514, 116, 'shekhar', 'sona', 100, 'pass\\n')\n"
     ]
    }
   ],
   "source": [
    "result=cursor.execute('select * from prat')\n",
    "for row in result:\n",
    "    print(row)"
   ]
  },
  {
   "cell_type": "code",
   "execution_count": 52,
   "id": "a5742a0e",
   "metadata": {},
   "outputs": [
    {
     "name": "stdout",
     "output_type": "stream",
     "text": [
      "('Rakesh', 'sheetal')\n"
     ]
    }
   ],
   "source": [
    "result=cursor.execute(\"select father_name,mother_name from prat where roll_no=(select roll_no from pratik where name='ram')\")\n",
    "for row in result:\n",
    "    print(row)"
   ]
  },
  {
   "cell_type": "code",
   "execution_count": 53,
   "id": "03df1211",
   "metadata": {},
   "outputs": [
    {
     "name": "stdout",
     "output_type": "stream",
     "text": [
      "(102, 'ram', '21', 'business analytics ', 60000, 17)\n",
      "(110, 'salman ', '33', 'MBA', 140000, 13)\n",
      "(112, 'ritik ', '27', 'BE', 160000, 15)\n",
      "(114, 'reena', '22', 'IT', 180000, 18)\n",
      "(119, 'ranka ', '39', 'PG', 230000, 17)\n",
      "(122, 'ritika', '26', 'data science ', 260000, 10)\n"
     ]
    }
   ],
   "source": [
    "result=cursor.execute(\"select * from pratik where name between 'ram' and 'salman '\")\n",
    "for row in result:\n",
    "    print(row)"
   ]
  },
  {
   "cell_type": "code",
   "execution_count": 54,
   "id": "04ac50e9",
   "metadata": {},
   "outputs": [
    {
     "name": "stdout",
     "output_type": "stream",
     "text": [
      "(94, 'pass\\n')\n"
     ]
    }
   ],
   "source": [
    "result=cursor.execute(\"select marks,result from prat where roll_no=(select roll_no from pratik where name='mayank')\")\n",
    "for row in result:\n",
    "    print(row)"
   ]
  },
  {
   "cell_type": "markdown",
   "id": "af1e20d0",
   "metadata": {},
   "source": [
    "# Joints in tables-"
   ]
  },
  {
   "cell_type": "code",
   "execution_count": 55,
   "id": "5e8334d8",
   "metadata": {},
   "outputs": [
    {
     "name": "stdout",
     "output_type": "stream",
     "text": [
      "(100, 'pratik', '28', 'data science', 50000, '1 year')\n",
      "(101, 'Pratik ', '22', 'data science ', 50000, 16)\n",
      "(102, 'ram', '21', 'business analytics ', 60000, 17)\n",
      "(103, 'shyam ', '31', 'MBA', 70000, 20)\n",
      "(104, 'sita', '31', 'PHD', 80000, 18)\n",
      "(105, 'ayush ', '34', 'PG', 90000, 14)\n",
      "(106, 'mayank', '40', 'engineering', 100000, 19)\n",
      "(107, 'raj ', '28', 'IT', 110000, 14)\n",
      "(108, 'ganesh ', '31', 'data science ', 120000, 14)\n",
      "(109, 'kartik ', '28', 'business analytics ', 130000, 11)\n",
      "(110, 'salman ', '33', 'MBA', 140000, 13)\n",
      "(111, 'srk', '32', 'IT', 150000, 16)\n",
      "(112, 'ritik ', '27', 'BE', 160000, 15)\n",
      "(113, 'sheela', '38', 'ME', 170000, 13)\n",
      "(114, 'reena', '22', 'IT', 180000, 18)\n",
      "(115, 'mahima', '20', 'data science ', 190000, 15)\n",
      "(116, 'ankita ', '33', 'business analytics ', 200000, 18)\n",
      "(117, 'jyoti ', '35', 'ME', 210000, 18)\n",
      "(118, 'aayushi ', '21', 'BE', 220000, 19)\n",
      "(119, 'ranka ', '39', 'PG', 230000, 17)\n",
      "(120, 'aditi ', '23', 'engineering', 240000, 15)\n",
      "(121, 'jainu', '30', 'IT', 250000, 11)\n",
      "(122, 'ritika', '26', 'data science ', 260000, 10)\n",
      "(123, 'anushka', '35', 'ME', 270000, 10)\n",
      "(124, 'sheelu', '38', 'MBA', 280000, 12)\n",
      "(125, 'radha', '24', 'PHD', 290000, 10)\n",
      "(126, 'surbhi ', '28', 'PG', 300000, 19)\n",
      "(127, 'neha ', '28', 'engineering', 310000, 15)\n",
      "(128, 'gabbu ', '40', 'IT', 320000, 10)\n",
      "(129, 'tannu ', '30', 'ME', 330000, 15)\n",
      "(130, 'kannu', '32', 'BE', 340000, 19)\n"
     ]
    }
   ],
   "source": [
    "result=cursor.execute('select * from pratik')\n",
    "for row in result:\n",
    "    print(row)"
   ]
  },
  {
   "cell_type": "code",
   "execution_count": 56,
   "id": "0cc4976f",
   "metadata": {},
   "outputs": [
    {
     "name": "stdout",
     "output_type": "stream",
     "text": [
      "(201, 101, 'suresh sharma', 'sarita sharma', 91, 'pass')\n",
      "(500, 102, 'Rakesh', 'sheetal', 90, 'pass\\n')\n",
      "(501, 103, 'shyam', 'pooja', 91, 'pass\\n')\n",
      "(502, 104, 'shiv ', 'mahima', 92, 'pass\\n')\n",
      "(503, 105, 'nehal', 'neha', 93, 'pass\\n')\n",
      "(504, 106, 'yashwant', 'surbhi', 94, 'pass\\n')\n",
      "(505, 107, 'raja', 'ranu', 34, 'fail\\n')\n",
      "(506, 108, 'aam singh ', 'nenu', 23, 'fail\\n')\n",
      "(507, 109, 'shetan singh ', 'renu', 33, 'fail\\n')\n",
      "(508, 110, 'giraj', 'sheetla', 32, 'fail\\n')\n",
      "(509, 111, 'shankar', 'rinku', 22, 'fail\\n')\n",
      "(510, 112, 'ram', 'reeta', 23, 'fail\\n')\n",
      "(511, 113, 'krishna', 'teena', 97, 'pass\\n')\n",
      "(512, 114, 'jagat', 'tona', 98, 'pass\\n')\n",
      "(513, 115, 'niwas ', 'mona', 99, 'pass\\n')\n",
      "(514, 116, 'shekhar', 'sona', 100, 'pass\\n')\n"
     ]
    }
   ],
   "source": [
    "result=cursor.execute('select * from prat')\n",
    "for row in result:\n",
    "    print(row)"
   ]
  },
  {
   "cell_type": "markdown",
   "id": "aea0af62",
   "metadata": {},
   "source": [
    "# Syntax for join-\n",
    "\n",
    "SELECT table1.column1,table1.column2,table2.column1,....\n",
    "FROM table1 \n",
    "INNER JOIN table2\n",
    "ON table1.matching_column = table2.matching_column;"
   ]
  },
  {
   "cell_type": "markdown",
   "id": "e46c11c7",
   "metadata": {},
   "source": [
    "# INNER JOIN-"
   ]
  },
  {
   "cell_type": "code",
   "execution_count": 57,
   "id": "b1816532",
   "metadata": {},
   "outputs": [
    {
     "name": "stdout",
     "output_type": "stream",
     "text": [
      "(91, 'Pratik ', 'data science ', 50000)\n",
      "(90, 'ram', 'business analytics ', 60000)\n",
      "(91, 'shyam ', 'MBA', 70000)\n",
      "(92, 'sita', 'PHD', 80000)\n",
      "(93, 'ayush ', 'PG', 90000)\n",
      "(94, 'mayank', 'engineering', 100000)\n",
      "(34, 'raj ', 'IT', 110000)\n",
      "(23, 'ganesh ', 'data science ', 120000)\n",
      "(33, 'kartik ', 'business analytics ', 130000)\n",
      "(32, 'salman ', 'MBA', 140000)\n",
      "(22, 'srk', 'IT', 150000)\n",
      "(23, 'ritik ', 'BE', 160000)\n",
      "(97, 'sheela', 'ME', 170000)\n",
      "(98, 'reena', 'IT', 180000)\n",
      "(99, 'mahima', 'data science ', 190000)\n",
      "(100, 'ankita ', 'business analytics ', 200000)\n"
     ]
    }
   ],
   "source": [
    "result=cursor.execute('select prat.marks,pratik.name,pratik.course,pratik.fees from pratik INNER JOIN prat ON pratik.roll_no=prat.roll_no')\n",
    "for row in result:\n",
    "    print(row)"
   ]
  },
  {
   "cell_type": "markdown",
   "id": "0b1a4b50",
   "metadata": {},
   "source": [
    "# LEFT JOIN-"
   ]
  },
  {
   "cell_type": "code",
   "execution_count": 58,
   "id": "804afb18",
   "metadata": {},
   "outputs": [
    {
     "name": "stdout",
     "output_type": "stream",
     "text": [
      "(None, 'pratik', 'data science', 50000)\n",
      "(91, 'Pratik ', 'data science ', 50000)\n",
      "(90, 'ram', 'business analytics ', 60000)\n",
      "(91, 'shyam ', 'MBA', 70000)\n",
      "(92, 'sita', 'PHD', 80000)\n",
      "(93, 'ayush ', 'PG', 90000)\n",
      "(94, 'mayank', 'engineering', 100000)\n",
      "(34, 'raj ', 'IT', 110000)\n",
      "(23, 'ganesh ', 'data science ', 120000)\n",
      "(33, 'kartik ', 'business analytics ', 130000)\n",
      "(32, 'salman ', 'MBA', 140000)\n",
      "(22, 'srk', 'IT', 150000)\n",
      "(23, 'ritik ', 'BE', 160000)\n",
      "(97, 'sheela', 'ME', 170000)\n",
      "(98, 'reena', 'IT', 180000)\n",
      "(99, 'mahima', 'data science ', 190000)\n",
      "(100, 'ankita ', 'business analytics ', 200000)\n",
      "(None, 'jyoti ', 'ME', 210000)\n",
      "(None, 'aayushi ', 'BE', 220000)\n",
      "(None, 'ranka ', 'PG', 230000)\n",
      "(None, 'aditi ', 'engineering', 240000)\n",
      "(None, 'jainu', 'IT', 250000)\n",
      "(None, 'ritika', 'data science ', 260000)\n",
      "(None, 'anushka', 'ME', 270000)\n",
      "(None, 'sheelu', 'MBA', 280000)\n",
      "(None, 'radha', 'PHD', 290000)\n",
      "(None, 'surbhi ', 'PG', 300000)\n",
      "(None, 'neha ', 'engineering', 310000)\n",
      "(None, 'gabbu ', 'IT', 320000)\n",
      "(None, 'tannu ', 'ME', 330000)\n",
      "(None, 'kannu', 'BE', 340000)\n"
     ]
    }
   ],
   "source": [
    "result=cursor.execute('select prat.marks,pratik.name,pratik.course,pratik.fees from pratik LEFT JOIN prat ON pratik.roll_no=prat.roll_no')\n",
    "for row in result:\n",
    "    print(row)"
   ]
  },
  {
   "cell_type": "markdown",
   "id": "80cc5720",
   "metadata": {},
   "source": [
    "# RIGHT JOIN-"
   ]
  },
  {
   "cell_type": "code",
   "execution_count": 59,
   "id": "1260bbd0",
   "metadata": {},
   "outputs": [
    {
     "name": "stdout",
     "output_type": "stream",
     "text": [
      "(91, 'Pratik ', 'data science ', 50000)\n",
      "(90, 'ram', 'business analytics ', 60000)\n",
      "(91, 'shyam ', 'MBA', 70000)\n",
      "(92, 'sita', 'PHD', 80000)\n",
      "(93, 'ayush ', 'PG', 90000)\n",
      "(94, 'mayank', 'engineering', 100000)\n",
      "(34, 'raj ', 'IT', 110000)\n",
      "(23, 'ganesh ', 'data science ', 120000)\n",
      "(33, 'kartik ', 'business analytics ', 130000)\n",
      "(32, 'salman ', 'MBA', 140000)\n",
      "(22, 'srk', 'IT', 150000)\n",
      "(23, 'ritik ', 'BE', 160000)\n",
      "(97, 'sheela', 'ME', 170000)\n",
      "(98, 'reena', 'IT', 180000)\n",
      "(99, 'mahima', 'data science ', 190000)\n",
      "(100, 'ankita ', 'business analytics ', 200000)\n"
     ]
    }
   ],
   "source": [
    "result=cursor.execute('select prat.marks,pratik.name,pratik.course,pratik.fees from pratik RIGHT JOIN prat ON pratik.roll_no=prat.roll_no')\n",
    "for row in result:\n",
    "    print(row)"
   ]
  },
  {
   "cell_type": "markdown",
   "id": "f4597109",
   "metadata": {},
   "source": [
    "# Full join-"
   ]
  },
  {
   "cell_type": "code",
   "execution_count": 60,
   "id": "cb581d8a",
   "metadata": {},
   "outputs": [
    {
     "name": "stdout",
     "output_type": "stream",
     "text": [
      "(None, 'pratik', 'data science', 50000)\n",
      "(91, 'Pratik ', 'data science ', 50000)\n",
      "(90, 'ram', 'business analytics ', 60000)\n",
      "(91, 'shyam ', 'MBA', 70000)\n",
      "(92, 'sita', 'PHD', 80000)\n",
      "(93, 'ayush ', 'PG', 90000)\n",
      "(94, 'mayank', 'engineering', 100000)\n",
      "(34, 'raj ', 'IT', 110000)\n",
      "(23, 'ganesh ', 'data science ', 120000)\n",
      "(33, 'kartik ', 'business analytics ', 130000)\n",
      "(32, 'salman ', 'MBA', 140000)\n",
      "(22, 'srk', 'IT', 150000)\n",
      "(23, 'ritik ', 'BE', 160000)\n",
      "(97, 'sheela', 'ME', 170000)\n",
      "(98, 'reena', 'IT', 180000)\n",
      "(99, 'mahima', 'data science ', 190000)\n",
      "(100, 'ankita ', 'business analytics ', 200000)\n",
      "(None, 'jyoti ', 'ME', 210000)\n",
      "(None, 'aayushi ', 'BE', 220000)\n",
      "(None, 'ranka ', 'PG', 230000)\n",
      "(None, 'aditi ', 'engineering', 240000)\n",
      "(None, 'jainu', 'IT', 250000)\n",
      "(None, 'ritika', 'data science ', 260000)\n",
      "(None, 'anushka', 'ME', 270000)\n",
      "(None, 'sheelu', 'MBA', 280000)\n",
      "(None, 'radha', 'PHD', 290000)\n",
      "(None, 'surbhi ', 'PG', 300000)\n",
      "(None, 'neha ', 'engineering', 310000)\n",
      "(None, 'gabbu ', 'IT', 320000)\n",
      "(None, 'tannu ', 'ME', 330000)\n",
      "(None, 'kannu', 'BE', 340000)\n"
     ]
    }
   ],
   "source": [
    "result=cursor.execute('select prat.marks,pratik.name,pratik.course,pratik.fees from pratik FULL JOIN prat ON pratik.roll_no=prat.roll_no')\n",
    "for row in result:\n",
    "    print(row)"
   ]
  },
  {
   "cell_type": "markdown",
   "id": "86e799fe",
   "metadata": {},
   "source": [
    "# Like operator with different context-"
   ]
  },
  {
   "cell_type": "code",
   "execution_count": 61,
   "id": "d0782ad5",
   "metadata": {},
   "outputs": [
    {
     "name": "stdout",
     "output_type": "stream",
     "text": [
      "('raj ',)\n",
      "('jyoti ',)\n",
      "('jainu',)\n"
     ]
    }
   ],
   "source": [
    "result=cursor.execute(\"select name from pratik where name like '%j%'\")\n",
    "for row in result:\n",
    "    print(row)"
   ]
  },
  {
   "cell_type": "code",
   "execution_count": 62,
   "id": "48e52a33",
   "metadata": {},
   "outputs": [
    {
     "name": "stdout",
     "output_type": "stream",
     "text": [
      "('jainu',)\n",
      "('jyoti ',)\n",
      "('raj ',)\n"
     ]
    }
   ],
   "source": [
    "result=cursor.execute(\"select name from pratik where name like '%j%' order by name\")\n",
    "for row in result:\n",
    "    print(row)"
   ]
  },
  {
   "cell_type": "markdown",
   "id": "e476f736",
   "metadata": {},
   "source": [
    "# count function-"
   ]
  },
  {
   "cell_type": "code",
   "execution_count": 67,
   "id": "5e599a3e",
   "metadata": {},
   "outputs": [
    {
     "name": "stdout",
     "output_type": "stream",
     "text": [
      "(1,)\n"
     ]
    }
   ],
   "source": [
    "result=cursor.execute(\"select COUNT(name) as count from pratik where name='Pratik ' \")\n",
    "for row in result:\n",
    "    print(row)"
   ]
  },
  {
   "cell_type": "code",
   "execution_count": 68,
   "id": "8a609dc2",
   "metadata": {},
   "outputs": [
    {
     "name": "stdout",
     "output_type": "stream",
     "text": [
      "(1,)\n"
     ]
    }
   ],
   "source": [
    "result=cursor.execute(\"select COUNT(*) as 'count' from pratik where name='Pratik ' \")\n",
    "for row in result:\n",
    "    print(row)"
   ]
  },
  {
   "cell_type": "code",
   "execution_count": 66,
   "id": "39bc5cd1",
   "metadata": {},
   "outputs": [
    {
     "name": "stdout",
     "output_type": "stream",
     "text": [
      "('Pratik ', 1)\n",
      "('aayushi ', 1)\n",
      "('aditi ', 1)\n",
      "('ankita ', 1)\n",
      "('anushka', 1)\n",
      "('ayush ', 1)\n",
      "('gabbu ', 1)\n",
      "('ganesh ', 1)\n",
      "('jainu', 1)\n",
      "('jyoti ', 1)\n",
      "('kannu', 1)\n",
      "('kartik ', 1)\n",
      "('mahima', 1)\n",
      "('mayank', 1)\n",
      "('neha ', 1)\n",
      "('pratik', 1)\n",
      "('radha', 1)\n",
      "('raj ', 1)\n",
      "('ram', 1)\n",
      "('ranka ', 1)\n",
      "('reena', 1)\n",
      "('ritik ', 1)\n",
      "('ritika', 1)\n",
      "('salman ', 1)\n",
      "('sheela', 1)\n",
      "('sheelu', 1)\n",
      "('shyam ', 1)\n",
      "('sita', 1)\n",
      "('srk', 1)\n",
      "('surbhi ', 1)\n",
      "('tannu ', 1)\n"
     ]
    }
   ],
   "source": [
    "result=cursor.execute(\"select name,COUNT(*) as 'count' from pratik group by name\")\n",
    "for row in result:\n",
    "    print(row)"
   ]
  },
  {
   "cell_type": "code",
   "execution_count": 70,
   "id": "a4bda053",
   "metadata": {},
   "outputs": [
    {
     "name": "stdout",
     "output_type": "stream",
     "text": [
      "('data science', 50000, 1)\n",
      "('PHD', 370000, 2)\n",
      "('business analytics ', 390000, 3)\n",
      "('MBA', 490000, 3)\n",
      "('PG', 620000, 3)\n",
      "('data science ', 620000, 4)\n",
      "('engineering', 650000, 3)\n",
      "('BE', 720000, 3)\n",
      "('ME', 980000, 4)\n",
      "('IT', 1010000, 5)\n"
     ]
    }
   ],
   "source": [
    "result=cursor.execute(\"select course,sum(fees) as fees, COUNT(course) as 'count' from pratik group by course order by fees\")\n",
    "for row in result:\n",
    "    print(row)"
   ]
  },
  {
   "cell_type": "code",
   "execution_count": 63,
   "id": "4167f92e",
   "metadata": {},
   "outputs": [
    {
     "name": "stdout",
     "output_type": "stream",
     "text": [
      "('data science', 1)\n",
      "('PHD', 2)\n",
      "('BE', 3)\n",
      "('MBA', 3)\n",
      "('PG', 3)\n",
      "('business analytics ', 3)\n",
      "('engineering', 3)\n",
      "('ME', 4)\n",
      "('data science ', 4)\n",
      "('IT', 5)\n"
     ]
    }
   ],
   "source": [
    "result=cursor.execute(\"select course, COUNT(*) as 'count' from pratik group by course order by count\")\n",
    "for row in result:\n",
    "    print(row)"
   ]
  },
  {
   "cell_type": "code",
   "execution_count": 64,
   "id": "b24a0a6a",
   "metadata": {},
   "outputs": [
    {
     "name": "stdout",
     "output_type": "stream",
     "text": [
      "('BE', 720000)\n",
      "('IT', 1010000)\n",
      "('MBA', 490000)\n",
      "('ME', 980000)\n",
      "('PG', 620000)\n",
      "('PHD', 370000)\n",
      "('business analytics ', 390000)\n",
      "('data science', 50000)\n",
      "('data science ', 620000)\n",
      "('engineering', 650000)\n"
     ]
    }
   ],
   "source": [
    "result=cursor.execute(\"select course,sum(fees) as sum from pratik group by course \")\n",
    "for row in result:\n",
    "    print(row)"
   ]
  },
  {
   "cell_type": "code",
   "execution_count": 72,
   "id": "ba061de2",
   "metadata": {},
   "outputs": [
    {
     "name": "stdout",
     "output_type": "stream",
     "text": [
      "('BE', 720000)\n"
     ]
    }
   ],
   "source": [
    "result=cursor.execute(\"select course,sum(fees) as sum from pratik group by course having sum=720000\")\n",
    "for row in result:\n",
    "    print(row)"
   ]
  },
  {
   "cell_type": "code",
   "execution_count": 66,
   "id": "1bd685f2",
   "metadata": {},
   "outputs": [
    {
     "name": "stdout",
     "output_type": "stream",
     "text": [
      "('BE', 720000)\n",
      "('IT', 1010000)\n",
      "('MBA', 490000)\n",
      "('ME', 980000)\n",
      "('PG', 620000)\n",
      "('data science ', 620000)\n",
      "('engineering', 650000)\n"
     ]
    }
   ],
   "source": [
    "result=cursor.execute(\"select course,sum(fees) as sum from pratik group by course having sum>400000\")\n",
    "for row in result:\n",
    "    print(row)"
   ]
  },
  {
   "cell_type": "code",
   "execution_count": 319,
   "id": "22419a1f",
   "metadata": {},
   "outputs": [
    {
     "name": "stdout",
     "output_type": "stream",
     "text": [
      "(100, 'pratik', '28', 'data science', 50000, '1 year')\n",
      "(101, 'Pratik ', '22', 'data science ', 50000, 16)\n",
      "(102, 'ram', '21', 'business analytics ', 60000, 17)\n",
      "(103, 'shyam ', '31', 'MBA', 70000, 20)\n",
      "(104, 'sita', '31', 'PHD', 80000, 18)\n",
      "(105, 'ayush ', '34', 'PG', 90000, 14)\n",
      "(106, 'mayank', '40', 'engineering', 100000, 19)\n",
      "(107, 'raj ', '28', 'IT', 110000, 14)\n",
      "(108, 'ganesh ', '31', 'data science ', 120000, 14)\n",
      "(109, 'kartik ', '28', 'business analytics ', 130000, 11)\n",
      "(110, 'salman ', '33', 'MBA', 140000, 13)\n",
      "(111, 'srk', '32', 'IT', 150000, 16)\n",
      "(112, 'ritik ', '27', 'BE', 160000, 15)\n",
      "(113, 'sheela', '38', 'ME', 170000, 13)\n",
      "(114, 'reena', '22', 'IT', 180000, 18)\n",
      "(115, 'mahima', '20', 'data science ', 190000, 15)\n",
      "(116, 'ankita ', '33', 'business analytics ', 200000, 18)\n",
      "(117, 'jyoti ', '35', 'ME', 210000, 18)\n",
      "(118, 'aayushi ', '21', 'BE', 220000, 19)\n",
      "(119, 'ranka ', '39', 'PG', 230000, 17)\n",
      "(120, 'aditi ', '23', 'engineering', 240000, 15)\n",
      "(121, 'jainu', '30', 'IT', 250000, 11)\n",
      "(122, 'ritika', '26', 'data science ', 260000, 10)\n",
      "(123, 'anushka', '35', 'ME', 270000, 10)\n",
      "(124, 'sheelu', '38', 'MBA', 280000, 12)\n",
      "(125, 'radha', '24', 'PHD', 290000, 10)\n",
      "(126, 'surbhi ', '28', 'PG', 300000, 19)\n",
      "(127, 'neha ', '28', 'engineering', 310000, 15)\n",
      "(128, 'gabbu ', '40', 'IT', 320000, 10)\n",
      "(129, 'tannu ', '30', 'ME', 330000, 15)\n",
      "(130, 'kannu', '32', 'BE', 340000, 19)\n"
     ]
    }
   ],
   "source": [
    "result=cursor.execute(\"select * from pratik\")\n",
    "for row in result:\n",
    "    print(row)"
   ]
  },
  {
   "cell_type": "code",
   "execution_count": 323,
   "id": "accbd8de",
   "metadata": {},
   "outputs": [
    {
     "name": "stdout",
     "output_type": "stream",
     "text": [
      "('data science', 1)\n",
      "('PHD', 2)\n",
      "('BE', 3)\n",
      "('MBA', 3)\n",
      "('PG', 3)\n",
      "('business analytics ', 3)\n",
      "('engineering', 3)\n",
      "('ME', 4)\n",
      "('data science ', 4)\n",
      "('IT', 5)\n"
     ]
    }
   ],
   "source": [
    "result=cursor.execute('select course, count(*) as count from pratik group by course order by count')\n",
    "for row in result:\n",
    "    print(row)"
   ]
  },
  {
   "cell_type": "code",
   "execution_count": 320,
   "id": "c800de0c",
   "metadata": {},
   "outputs": [
    {
     "name": "stdout",
     "output_type": "stream",
     "text": [
      "(201, 101, 'suresh sharma', 'sarita sharma', 91, 'pass')\n",
      "(500, 102, 'Rakesh', 'sheetal', 90, 'pass\\n')\n",
      "(501, 103, 'shyam', 'pooja', 91, 'pass\\n')\n",
      "(502, 104, 'shiv ', 'mahima', 92, 'pass\\n')\n",
      "(503, 105, 'nehal', 'neha', 93, 'pass\\n')\n",
      "(504, 106, 'yashwant', 'surbhi', 94, 'pass\\n')\n",
      "(505, 107, 'raja', 'ranu', 34, 'fail\\n')\n",
      "(506, 108, 'aam singh ', 'nenu', 23, 'fail\\n')\n",
      "(507, 109, 'shetan singh ', 'renu', 33, 'fail\\n')\n",
      "(508, 110, 'giraj', 'sheetla', 32, 'fail\\n')\n",
      "(509, 111, 'shankar', 'rinku', 22, 'fail\\n')\n",
      "(510, 112, 'ram', 'reeta', 23, 'fail\\n')\n",
      "(511, 113, 'krishna', 'teena', 97, 'pass\\n')\n",
      "(512, 114, 'jagat', 'tona', 98, 'pass\\n')\n",
      "(513, 115, 'niwas ', 'mona', 99, 'pass\\n')\n",
      "(514, 116, 'shekhar', 'sona', 100, 'pass\\n')\n"
     ]
    }
   ],
   "source": [
    "result=cursor.execute(\"select * from prat\")\n",
    "for row in result:\n",
    "    print(row)"
   ]
  },
  {
   "cell_type": "markdown",
   "id": "0145c852",
   "metadata": {},
   "source": [
    "# When you want to show text string as usual-"
   ]
  },
  {
   "cell_type": "code",
   "execution_count": 9,
   "id": "b06063df",
   "metadata": {},
   "outputs": [
    {
     "name": "stdout",
     "output_type": "stream",
     "text": [
      "('prateek is a good boy',)\n"
     ]
    }
   ],
   "source": [
    "result=cursor.execute(\"select 'prateek is a good boy'\")\n",
    "for row in result:\n",
    "    print(row)"
   ]
  },
  {
   "cell_type": "markdown",
   "id": "b42d5fcd",
   "metadata": {},
   "source": [
    "# To show addition or any mathematics of data-"
   ]
  },
  {
   "cell_type": "code",
   "execution_count": 10,
   "id": "9c316327",
   "metadata": {},
   "outputs": [
    {
     "name": "stdout",
     "output_type": "stream",
     "text": [
      "(25,)\n"
     ]
    }
   ],
   "source": [
    "result=cursor.execute(\"select 10+15\")\n",
    "for row in result:\n",
    "    print(row)"
   ]
  },
  {
   "cell_type": "code",
   "execution_count": 334,
   "id": "5176d2e1",
   "metadata": {},
   "outputs": [
    {
     "name": "stdout",
     "output_type": "stream",
     "text": [
      "(17,)\n"
     ]
    }
   ],
   "source": [
    "result=cursor.execute(\"select 10+15-8\")\n",
    "for row in result:\n",
    "    print(row)"
   ]
  },
  {
   "cell_type": "markdown",
   "id": "9758fcf0",
   "metadata": {},
   "source": [
    "# To get the unique values from the data base-"
   ]
  },
  {
   "cell_type": "code",
   "execution_count": 337,
   "id": "231fa527",
   "metadata": {},
   "outputs": [
    {
     "name": "stdout",
     "output_type": "stream",
     "text": [
      "('data science',)\n",
      "('data science ',)\n",
      "('business analytics ',)\n",
      "('MBA',)\n",
      "('PHD',)\n",
      "('PG',)\n",
      "('engineering',)\n",
      "('IT',)\n",
      "('BE',)\n",
      "('ME',)\n"
     ]
    }
   ],
   "source": [
    "result=cursor.execute(\"select DISTINCT course from pratik\")\n",
    "for row in result:\n",
    "    print(row)"
   ]
  },
  {
   "cell_type": "markdown",
   "id": "48cf34d8",
   "metadata": {},
   "source": [
    "# You can use as many and operators in writing any query-"
   ]
  },
  {
   "cell_type": "code",
   "execution_count": 338,
   "id": "168bb62c",
   "metadata": {},
   "outputs": [
    {
     "name": "stdout",
     "output_type": "stream",
     "text": [
      "(100, 'pratik', '28', 'data science', 50000, '1 year')\n",
      "(101, 'Pratik ', '22', 'data science ', 50000, 16)\n",
      "(102, 'ram', '21', 'business analytics ', 60000, 17)\n",
      "(103, 'shyam ', '31', 'MBA', 70000, 20)\n",
      "(104, 'sita', '31', 'PHD', 80000, 18)\n",
      "(105, 'ayush ', '34', 'PG', 90000, 14)\n",
      "(106, 'mayank', '40', 'engineering', 100000, 19)\n",
      "(107, 'raj ', '28', 'IT', 110000, 14)\n",
      "(108, 'ganesh ', '31', 'data science ', 120000, 14)\n",
      "(109, 'kartik ', '28', 'business analytics ', 130000, 11)\n",
      "(110, 'salman ', '33', 'MBA', 140000, 13)\n",
      "(111, 'srk', '32', 'IT', 150000, 16)\n",
      "(112, 'ritik ', '27', 'BE', 160000, 15)\n",
      "(113, 'sheela', '38', 'ME', 170000, 13)\n",
      "(114, 'reena', '22', 'IT', 180000, 18)\n",
      "(115, 'mahima', '20', 'data science ', 190000, 15)\n",
      "(116, 'ankita ', '33', 'business analytics ', 200000, 18)\n",
      "(117, 'jyoti ', '35', 'ME', 210000, 18)\n",
      "(118, 'aayushi ', '21', 'BE', 220000, 19)\n",
      "(119, 'ranka ', '39', 'PG', 230000, 17)\n",
      "(120, 'aditi ', '23', 'engineering', 240000, 15)\n",
      "(121, 'jainu', '30', 'IT', 250000, 11)\n",
      "(122, 'ritika', '26', 'data science ', 260000, 10)\n",
      "(123, 'anushka', '35', 'ME', 270000, 10)\n",
      "(124, 'sheelu', '38', 'MBA', 280000, 12)\n",
      "(125, 'radha', '24', 'PHD', 290000, 10)\n",
      "(126, 'surbhi ', '28', 'PG', 300000, 19)\n",
      "(127, 'neha ', '28', 'engineering', 310000, 15)\n",
      "(128, 'gabbu ', '40', 'IT', 320000, 10)\n",
      "(129, 'tannu ', '30', 'ME', 330000, 15)\n",
      "(130, 'kannu', '32', 'BE', 340000, 19)\n"
     ]
    }
   ],
   "source": [
    "result=cursor.execute(\"select * from pratik\")\n",
    "for row in result:\n",
    "    print(row)"
   ]
  },
  {
   "cell_type": "markdown",
   "id": "6a98e840",
   "metadata": {},
   "source": [
    "# Selection with starting text- Like"
   ]
  },
  {
   "cell_type": "code",
   "execution_count": 358,
   "id": "efc57a03",
   "metadata": {},
   "outputs": [
    {
     "name": "stdout",
     "output_type": "stream",
     "text": [
      "(100, 'pratik', '28', 'data science', 50000, '1 year')\n",
      "(101, 'Pratik ', '22', 'data science ', 50000, 16)\n",
      "(108, 'ganesh ', '31', 'data science ', 120000, 14)\n",
      "(115, 'mahima', '20', 'data science ', 190000, 15)\n",
      "(122, 'ritika', '26', 'data science ', 260000, 10)\n"
     ]
    }
   ],
   "source": [
    "result=cursor.execute(\"select * from pratik where course LIKE 'data%' \")\n",
    "for row in result:\n",
    "    print(row)"
   ]
  },
  {
   "cell_type": "markdown",
   "id": "2054d46d",
   "metadata": {},
   "source": [
    "# NOT LIKE-"
   ]
  },
  {
   "cell_type": "code",
   "execution_count": 379,
   "id": "cb71d176",
   "metadata": {},
   "outputs": [
    {
     "name": "stdout",
     "output_type": "stream",
     "text": [
      "(102, 'ram', '21', 'business analytics ', 60000, 17)\n",
      "(103, 'shyam ', '31', 'MBA', 70000, 20)\n",
      "(104, 'sita', '31', 'PHD', 80000, 18)\n",
      "(105, 'ayush ', '34', 'PG', 90000, 14)\n",
      "(106, 'mayank', '40', 'engineering', 100000, 19)\n",
      "(107, 'raj ', '28', 'IT', 110000, 14)\n",
      "(109, 'kartik ', '28', 'business analytics ', 130000, 11)\n",
      "(110, 'salman ', '33', 'MBA', 140000, 13)\n",
      "(111, 'srk', '32', 'IT', 150000, 16)\n",
      "(112, 'ritik ', '27', 'BE', 160000, 15)\n",
      "(113, 'sheela', '38', 'ME', 170000, 13)\n",
      "(114, 'reena', '22', 'IT', 180000, 18)\n",
      "(116, 'ankita ', '33', 'business analytics ', 200000, 18)\n",
      "(117, 'jyoti ', '35', 'ME', 210000, 18)\n",
      "(118, 'aayushi ', '21', 'BE', 220000, 19)\n",
      "(119, 'ranka ', '39', 'PG', 230000, 17)\n",
      "(120, 'aditi ', '23', 'engineering', 240000, 15)\n",
      "(121, 'jainu', '30', 'IT', 250000, 11)\n",
      "(123, 'anushka', '35', 'ME', 270000, 10)\n",
      "(124, 'sheelu', '38', 'MBA', 280000, 12)\n",
      "(125, 'radha', '24', 'PHD', 290000, 10)\n",
      "(126, 'surbhi ', '28', 'PG', 300000, 19)\n",
      "(127, 'neha ', '28', 'engineering', 310000, 15)\n",
      "(128, 'gabbu ', '40', 'IT', 320000, 10)\n",
      "(129, 'tannu ', '30', 'ME', 330000, 15)\n",
      "(130, 'kannu', '32', 'BE', 340000, 19)\n"
     ]
    }
   ],
   "source": [
    "result=cursor.execute(\"select * from pratik where course NOT LIKE 'data%' \")\n",
    "for row in result:\n",
    "    print(row)"
   ]
  },
  {
   "cell_type": "markdown",
   "id": "b618876b",
   "metadata": {},
   "source": [
    "# Multiple and conditions-"
   ]
  },
  {
   "cell_type": "code",
   "execution_count": 350,
   "id": "c0b9d51e",
   "metadata": {},
   "outputs": [
    {
     "name": "stdout",
     "output_type": "stream",
     "text": [
      "(122, 'ritika', '26', 'data science ', 260000, 10)\n"
     ]
    }
   ],
   "source": [
    "result=cursor.execute(\"select * from pratik where fees>=18000 and course='data science ' and duration<= 10 \")\n",
    "for row in result:\n",
    "    print(row)"
   ]
  },
  {
   "cell_type": "markdown",
   "id": "600f249f",
   "metadata": {},
   "source": [
    "# Use of IN operator when selecting two conditions from same column-"
   ]
  },
  {
   "cell_type": "code",
   "execution_count": 354,
   "id": "ad02a7d2",
   "metadata": {},
   "outputs": [
    {
     "name": "stdout",
     "output_type": "stream",
     "text": [
      "(101, 'Pratik ', '22', 'data science ', 50000, 16)\n",
      "(105, 'ayush ', '34', 'PG', 90000, 14)\n",
      "(108, 'ganesh ', '31', 'data science ', 120000, 14)\n",
      "(115, 'mahima', '20', 'data science ', 190000, 15)\n",
      "(119, 'ranka ', '39', 'PG', 230000, 17)\n",
      "(122, 'ritika', '26', 'data science ', 260000, 10)\n",
      "(126, 'surbhi ', '28', 'PG', 300000, 19)\n"
     ]
    }
   ],
   "source": [
    "result=cursor.execute(\"select * from pratik where fees>=18000 and course IN('data science ','PG')\")\n",
    "for row in result:\n",
    "    print(row)"
   ]
  },
  {
   "cell_type": "markdown",
   "id": "f5d5dffe",
   "metadata": {},
   "source": [
    "# Use of UNION-   \n",
    "\n",
    "\n",
    "#formula- query1 union query2"
   ]
  },
  {
   "cell_type": "code",
   "execution_count": 101,
   "id": "efed7734",
   "metadata": {},
   "outputs": [
    {
     "name": "stdout",
     "output_type": "stream",
     "text": [
      "(115, 'mahima', '20', 'data science ', 190000, 15)\n",
      "(119, 'ranka ', '39', 'PG', 230000, 17)\n",
      "(122, 'ritika', '26', 'data science ', 260000, 10)\n",
      "(126, 'surbhi ', '28', 'PG', 300000, 19)\n"
     ]
    }
   ],
   "source": [
    "result=cursor.execute(\"select * from prateek where fees>=180000 and course IN('data science ','PG') UNION select * from prateek where fees< 12000 and course IN('data science ','ME','BE')\")\n",
    "for row in result:\n",
    "    print(row)"
   ]
  },
  {
   "cell_type": "code",
   "execution_count": 371,
   "id": "265ff681",
   "metadata": {},
   "outputs": [
    {
     "name": "stdout",
     "output_type": "stream",
     "text": [
      "(100, 'pratik', '28', 'data science', 50000, '1 year')\n",
      "(101, 'Pratik ', '22', 'data science ', 50000, 16)\n",
      "(102, 'ram', '21', 'business analytics ', 60000, 17)\n",
      "(103, 'shyam ', '31', 'MBA', 70000, 20)\n",
      "(104, 'sita', '31', 'PHD', 80000, 18)\n",
      "(105, 'ayush ', '34', 'PG', 90000, 14)\n",
      "(106, 'mayank', '40', 'engineering', 100000, 19)\n",
      "(107, 'raj ', '28', 'IT', 110000, 14)\n",
      "(108, 'ganesh ', '31', 'data science ', 120000, 14)\n",
      "(109, 'kartik ', '28', 'business analytics ', 130000, 11)\n",
      "(110, 'salman ', '33', 'MBA', 140000, 13)\n",
      "(111, 'srk', '32', 'IT', 150000, 16)\n",
      "(112, 'ritik ', '27', 'BE', 160000, 15)\n",
      "(113, 'sheela', '38', 'ME', 170000, 13)\n",
      "(114, 'reena', '22', 'IT', 180000, 18)\n",
      "(115, 'mahima', '20', 'data science ', 190000, 15)\n",
      "(116, 'ankita ', '33', 'business analytics ', 200000, 18)\n",
      "(117, 'jyoti ', '35', 'ME', 210000, 18)\n",
      "(118, 'aayushi ', '21', 'BE', 220000, 19)\n",
      "(119, 'ranka ', '39', 'PG', 230000, 17)\n",
      "(120, 'aditi ', '23', 'engineering', 240000, 15)\n",
      "(121, 'jainu', '30', 'IT', 250000, 11)\n",
      "(122, 'ritika', '26', 'data science ', 260000, 10)\n",
      "(123, 'anushka', '35', 'ME', 270000, 10)\n",
      "(124, 'sheelu', '38', 'MBA', 280000, 12)\n",
      "(125, 'radha', '24', 'PHD', 290000, 10)\n",
      "(126, 'surbhi ', '28', 'PG', 300000, 19)\n",
      "(127, 'neha ', '28', 'engineering', 310000, 15)\n",
      "(128, 'gabbu ', '40', 'IT', 320000, 10)\n",
      "(129, 'tannu ', '30', 'ME', 330000, 15)\n",
      "(130, 'kannu', '32', 'BE', 340000, 19)\n"
     ]
    }
   ],
   "source": [
    "result=cursor.execute(\"select * from pratik\")\n",
    "for row in result:\n",
    "    print(row)"
   ]
  },
  {
   "cell_type": "code",
   "execution_count": 372,
   "id": "083abd8f",
   "metadata": {},
   "outputs": [
    {
     "name": "stdout",
     "output_type": "stream",
     "text": [
      "(201, 101, 'suresh sharma', 'sarita sharma', 91, 'pass')\n",
      "(500, 102, 'Rakesh', 'sheetal', 90, 'pass\\n')\n",
      "(501, 103, 'shyam', 'pooja', 91, 'pass\\n')\n",
      "(502, 104, 'shiv ', 'mahima', 92, 'pass\\n')\n",
      "(503, 105, 'nehal', 'neha', 93, 'pass\\n')\n",
      "(504, 106, 'yashwant', 'surbhi', 94, 'pass\\n')\n",
      "(505, 107, 'raja', 'ranu', 34, 'fail\\n')\n",
      "(506, 108, 'aam singh ', 'nenu', 23, 'fail\\n')\n",
      "(507, 109, 'shetan singh ', 'renu', 33, 'fail\\n')\n",
      "(508, 110, 'giraj', 'sheetla', 32, 'fail\\n')\n",
      "(509, 111, 'shankar', 'rinku', 22, 'fail\\n')\n",
      "(510, 112, 'ram', 'reeta', 23, 'fail\\n')\n",
      "(511, 113, 'krishna', 'teena', 97, 'pass\\n')\n",
      "(512, 114, 'jagat', 'tona', 98, 'pass\\n')\n",
      "(513, 115, 'niwas ', 'mona', 99, 'pass\\n')\n",
      "(514, 116, 'shekhar', 'sona', 100, 'pass\\n')\n"
     ]
    }
   ],
   "source": [
    "result=cursor.execute(\"select * from prat\")\n",
    "for row in result:\n",
    "    print(row)"
   ]
  },
  {
   "cell_type": "markdown",
   "id": "b1d5495e",
   "metadata": {},
   "source": [
    "# Union we use when we want to extract data from two different tables-"
   ]
  },
  {
   "cell_type": "code",
   "execution_count": 83,
   "id": "db0ff8aa",
   "metadata": {},
   "outputs": [
    {
     "name": "stdout",
     "output_type": "stream",
     "text": [
      "(103, 'shyam ', '31', 'MBA', 70000, 20)\n",
      "(104, 'sita', '31', 'PHD', 80000, 18)\n",
      "(105, 'ayush ', '34', 'PG', 90000, 14)\n",
      "(106, 'mayank', '40', 'engineering', 100000, 19)\n",
      "(108, 'ganesh ', '31', 'data science ', 120000, 14)\n",
      "(110, 'salman ', '33', 'MBA', 140000, 13)\n",
      "(111, 'srk', '32', 'IT', 150000, 16)\n",
      "(113, 'sheela', '38', 'ME', 170000, 13)\n",
      "(116, 'ankita ', '33', 'business analytics ', 200000, 18)\n",
      "(117, 'jyoti ', '35', 'ME', 210000, 18)\n",
      "(119, 'ranka ', '39', 'PG', 230000, 17)\n",
      "(121, 'jainu', '30', 'IT', 250000, 11)\n",
      "(124, 'sheelu', '38', 'MBA', 280000, 12)\n",
      "(129, 'tannu ', '30', 'ME', 330000, 15)\n",
      "(130, 'kannu', '32', 'BE', 340000, 19)\n",
      "(511, 113, 'krishna', 'teena', 97, 'pass\\n')\n",
      "(512, 114, 'jagat', 'tona', 98, 'pass\\n')\n",
      "(513, 115, 'niwas ', 'mona', 99, 'pass\\n')\n",
      "(514, 116, 'shekhar', 'sona', 100, 'pass\\n')\n"
     ]
    }
   ],
   "source": [
    "result=cursor.execute(\"select * from pratik where age>28 and duration>10 UNION select * from prat where roll_no>110 and marks>95\")\n",
    "for row in result:\n",
    "    print(row)"
   ]
  },
  {
   "cell_type": "markdown",
   "id": "047be60c",
   "metadata": {},
   "source": [
    "# Use of NOT IN- \"query1 UNION query2\""
   ]
  },
  {
   "cell_type": "code",
   "execution_count": 378,
   "id": "333cd87a",
   "metadata": {},
   "outputs": [
    {
     "name": "stdout",
     "output_type": "stream",
     "text": [
      "(103, 'shyam ', '31', 'MBA', 70000, 20)\n",
      "(104, 'sita', '31', 'PHD', 80000, 18)\n",
      "(105, 'ayush ', '34', 'PG', 90000, 14)\n",
      "(106, 'mayank', '40', 'engineering', 100000, 19)\n",
      "(108, 'ganesh ', '31', 'data science ', 120000, 14)\n",
      "(110, 'salman ', '33', 'MBA', 140000, 13)\n",
      "(111, 'srk', '32', 'IT', 150000, 16)\n",
      "(113, 'sheela', '38', 'ME', 170000, 13)\n",
      "(116, 'ankita ', '33', 'business analytics ', 200000, 18)\n",
      "(117, 'jyoti ', '35', 'ME', 210000, 18)\n",
      "(119, 'ranka ', '39', 'PG', 230000, 17)\n",
      "(121, 'jainu', '30', 'IT', 250000, 11)\n",
      "(124, 'sheelu', '38', 'MBA', 280000, 12)\n",
      "(129, 'tannu ', '30', 'ME', 330000, 15)\n",
      "(130, 'kannu', '32', 'BE', 340000, 19)\n",
      "(513, 115, 'niwas ', 'mona', 99, 'pass\\n')\n",
      "(514, 116, 'shekhar', 'sona', 100, 'pass\\n')\n"
     ]
    }
   ],
   "source": [
    "result=cursor.execute(\"select * from pratik where age>28 and duration>10 UNION select * from prat where roll_no NOT IN(113,114) and marks>95\")\n",
    "for row in result:\n",
    "    +\n",
    "    print(row)"
   ]
  },
  {
   "cell_type": "code",
   "execution_count": 381,
   "id": "a8a25616",
   "metadata": {},
   "outputs": [
    {
     "name": "stdout",
     "output_type": "stream",
     "text": [
      "(100, 'pratik', '28', 'data science', 50000, '1 year')\n",
      "(101, 'Pratik ', '22', 'data science ', 50000, 16)\n",
      "(102, 'ram', '21', 'business analytics ', 60000, 17)\n",
      "(103, 'shyam ', '31', 'MBA', 70000, 20)\n",
      "(104, 'sita', '31', 'PHD', 80000, 18)\n",
      "(105, 'ayush ', '34', 'PG', 90000, 14)\n",
      "(106, 'mayank', '40', 'engineering', 100000, 19)\n",
      "(107, 'raj ', '28', 'IT', 110000, 14)\n",
      "(108, 'ganesh ', '31', 'data science ', 120000, 14)\n",
      "(109, 'kartik ', '28', 'business analytics ', 130000, 11)\n",
      "(110, 'salman ', '33', 'MBA', 140000, 13)\n",
      "(111, 'srk', '32', 'IT', 150000, 16)\n",
      "(112, 'ritik ', '27', 'BE', 160000, 15)\n",
      "(113, 'sheela', '38', 'ME', 170000, 13)\n",
      "(114, 'reena', '22', 'IT', 180000, 18)\n",
      "(115, 'mahima', '20', 'data science ', 190000, 15)\n",
      "(116, 'ankita ', '33', 'business analytics ', 200000, 18)\n",
      "(117, 'jyoti ', '35', 'ME', 210000, 18)\n",
      "(118, 'aayushi ', '21', 'BE', 220000, 19)\n",
      "(119, 'ranka ', '39', 'PG', 230000, 17)\n",
      "(120, 'aditi ', '23', 'engineering', 240000, 15)\n",
      "(121, 'jainu', '30', 'IT', 250000, 11)\n",
      "(122, 'ritika', '26', 'data science ', 260000, 10)\n",
      "(123, 'anushka', '35', 'ME', 270000, 10)\n",
      "(124, 'sheelu', '38', 'MBA', 280000, 12)\n",
      "(125, 'radha', '24', 'PHD', 290000, 10)\n",
      "(126, 'surbhi ', '28', 'PG', 300000, 19)\n",
      "(127, 'neha ', '28', 'engineering', 310000, 15)\n",
      "(128, 'gabbu ', '40', 'IT', 320000, 10)\n",
      "(129, 'tannu ', '30', 'ME', 330000, 15)\n",
      "(130, 'kannu', '32', 'BE', 340000, 19)\n"
     ]
    }
   ],
   "source": [
    "result=cursor.execute(\"select * from pratik\")\n",
    "for row in result:\n",
    "    print(row)"
   ]
  },
  {
   "cell_type": "markdown",
   "id": "c1b5abc9",
   "metadata": {},
   "source": [
    "# Use of case when- makes the first condition true than make second condition true-"
   ]
  },
  {
   "cell_type": "markdown",
   "id": "3fdf013c",
   "metadata": {},
   "source": [
    "# IT & ME will be at bottom-"
   ]
  },
  {
   "cell_type": "code",
   "execution_count": 77,
   "id": "5c9cfcc0",
   "metadata": {},
   "outputs": [
    {
     "name": "stdout",
     "output_type": "stream",
     "text": [
      "(100, 'pratik', '28', 'data science', 50000, '1 year')\n",
      "(101, 'Pratik ', '22', 'data science ', 50000, 16)\n",
      "(102, 'ram', '21', 'business analytics ', 60000, 17)\n",
      "(103, 'shyam ', '31', 'MBA', 70000, 20)\n",
      "(104, 'sita', '31', 'PHD', 80000, 18)\n",
      "(105, 'ayush ', '34', 'PG', 90000, 14)\n",
      "(106, 'mayank', '40', 'engineering', 100000, 19)\n",
      "(108, 'ganesh ', '31', 'data science ', 120000, 14)\n",
      "(109, 'kartik ', '28', 'business analytics ', 130000, 11)\n",
      "(110, 'salman ', '33', 'MBA', 140000, 13)\n",
      "(112, 'ritik ', '27', 'BE', 160000, 15)\n",
      "(115, 'mahima', '20', 'data science ', 190000, 15)\n",
      "(116, 'ankita ', '33', 'business analytics ', 200000, 18)\n",
      "(118, 'aayushi ', '21', 'BE', 220000, 19)\n",
      "(119, 'ranka ', '39', 'PG', 230000, 17)\n",
      "(120, 'aditi ', '23', 'engineering', 240000, 15)\n",
      "(122, 'ritika', '26', 'data science ', 260000, 10)\n",
      "(124, 'sheelu', '38', 'MBA', 280000, 12)\n",
      "(125, 'radha', '24', 'PHD', 290000, 10)\n",
      "(126, 'surbhi ', '28', 'PG', 300000, 19)\n",
      "(127, 'neha ', '28', 'engineering', 310000, 15)\n",
      "(130, 'kannu', '32', 'BE', 340000, 19)\n",
      "(107, 'raj ', '28', 'IT', 110000, 14)\n",
      "(111, 'srk', '32', 'IT', 150000, 16)\n",
      "(113, 'sheela', '38', 'ME', 170000, 13)\n",
      "(114, 'reena', '22', 'IT', 180000, 18)\n",
      "(117, 'jyoti ', '35', 'ME', 210000, 18)\n",
      "(121, 'jainu', '30', 'IT', 250000, 11)\n",
      "(123, 'anushka', '35', 'ME', 270000, 10)\n",
      "(128, 'gabbu ', '40', 'IT', 320000, 10)\n",
      "(129, 'tannu ', '30', 'ME', 330000, 15)\n"
     ]
    }
   ],
   "source": [
    "result=cursor.execute(\"select * from pratik ORDER BY case when course IN('IT','ME') THEN 1 ELSE 0 END asc\")\n",
    "for row in result:\n",
    "    print(row)"
   ]
  },
  {
   "cell_type": "markdown",
   "id": "9548506d",
   "metadata": {},
   "source": [
    "# IT & ME will be at top-"
   ]
  },
  {
   "cell_type": "code",
   "execution_count": 387,
   "id": "57911192",
   "metadata": {},
   "outputs": [
    {
     "name": "stdout",
     "output_type": "stream",
     "text": [
      "(107, 'raj ', '28', 'IT', 110000, 14)\n",
      "(111, 'srk', '32', 'IT', 150000, 16)\n",
      "(113, 'sheela', '38', 'ME', 170000, 13)\n",
      "(114, 'reena', '22', 'IT', 180000, 18)\n",
      "(117, 'jyoti ', '35', 'ME', 210000, 18)\n",
      "(121, 'jainu', '30', 'IT', 250000, 11)\n",
      "(123, 'anushka', '35', 'ME', 270000, 10)\n",
      "(128, 'gabbu ', '40', 'IT', 320000, 10)\n",
      "(129, 'tannu ', '30', 'ME', 330000, 15)\n",
      "(100, 'pratik', '28', 'data science', 50000, '1 year')\n",
      "(101, 'Pratik ', '22', 'data science ', 50000, 16)\n",
      "(102, 'ram', '21', 'business analytics ', 60000, 17)\n",
      "(103, 'shyam ', '31', 'MBA', 70000, 20)\n",
      "(104, 'sita', '31', 'PHD', 80000, 18)\n",
      "(105, 'ayush ', '34', 'PG', 90000, 14)\n",
      "(106, 'mayank', '40', 'engineering', 100000, 19)\n",
      "(108, 'ganesh ', '31', 'data science ', 120000, 14)\n",
      "(109, 'kartik ', '28', 'business analytics ', 130000, 11)\n",
      "(110, 'salman ', '33', 'MBA', 140000, 13)\n",
      "(112, 'ritik ', '27', 'BE', 160000, 15)\n",
      "(115, 'mahima', '20', 'data science ', 190000, 15)\n",
      "(116, 'ankita ', '33', 'business analytics ', 200000, 18)\n",
      "(118, 'aayushi ', '21', 'BE', 220000, 19)\n",
      "(119, 'ranka ', '39', 'PG', 230000, 17)\n",
      "(120, 'aditi ', '23', 'engineering', 240000, 15)\n",
      "(122, 'ritika', '26', 'data science ', 260000, 10)\n",
      "(124, 'sheelu', '38', 'MBA', 280000, 12)\n",
      "(125, 'radha', '24', 'PHD', 290000, 10)\n",
      "(126, 'surbhi ', '28', 'PG', 300000, 19)\n",
      "(127, 'neha ', '28', 'engineering', 310000, 15)\n",
      "(130, 'kannu', '32', 'BE', 340000, 19)\n"
     ]
    }
   ],
   "source": [
    "result=cursor.execute(\"select * from pratik ORDER BY case when course IN('IT','ME') THEN 0 ELSE 1 END asc\")\n",
    "for row in result:\n",
    "    print(row)"
   ]
  },
  {
   "cell_type": "markdown",
   "id": "058f73d2",
   "metadata": {},
   "source": [
    "# Use of Where between and operator-"
   ]
  },
  {
   "cell_type": "code",
   "execution_count": 394,
   "id": "c6e8ecba",
   "metadata": {},
   "outputs": [
    {
     "name": "stdout",
     "output_type": "stream",
     "text": [
      "(105, 'ayush ', '34', 'PG', 90000, 14)\n",
      "(107, 'raj ', '28', 'IT', 110000, 14)\n",
      "(108, 'ganesh ', '31', 'data science ', 120000, 14)\n",
      "(109, 'kartik ', '28', 'business analytics ', 130000, 11)\n",
      "(110, 'salman ', '33', 'MBA', 140000, 13)\n",
      "(112, 'ritik ', '27', 'BE', 160000, 15)\n",
      "(113, 'sheela', '38', 'ME', 170000, 13)\n",
      "(115, 'mahima', '20', 'data science ', 190000, 15)\n",
      "(120, 'aditi ', '23', 'engineering', 240000, 15)\n",
      "(121, 'jainu', '30', 'IT', 250000, 11)\n",
      "(122, 'ritika', '26', 'data science ', 260000, 10)\n",
      "(123, 'anushka', '35', 'ME', 270000, 10)\n",
      "(124, 'sheelu', '38', 'MBA', 280000, 12)\n",
      "(125, 'radha', '24', 'PHD', 290000, 10)\n",
      "(127, 'neha ', '28', 'engineering', 310000, 15)\n",
      "(128, 'gabbu ', '40', 'IT', 320000, 10)\n",
      "(129, 'tannu ', '30', 'ME', 330000, 15)\n"
     ]
    }
   ],
   "source": [
    "result=cursor.execute(\"select * from pratik WHERE duration BETWEEN 10 AND 15\")\n",
    "for row in result:\n",
    "    print(row)"
   ]
  },
  {
   "cell_type": "markdown",
   "id": "394f4eba",
   "metadata": {},
   "source": [
    "# Average & Sum, Count-"
   ]
  },
  {
   "cell_type": "code",
   "execution_count": 84,
   "id": "609fa437",
   "metadata": {},
   "outputs": [
    {
     "name": "stdout",
     "output_type": "stream",
     "text": [
      "(24.75,)\n"
     ]
    }
   ],
   "source": [
    "result=cursor.execute(\"select avg(age) from pratik where course= 'data science '\")\n",
    "for row in result:\n",
    "    print(row)"
   ]
  },
  {
   "cell_type": "code",
   "execution_count": 86,
   "id": "5185044e",
   "metadata": {},
   "outputs": [
    {
     "name": "stdout",
     "output_type": "stream",
     "text": [
      "('BE', 26.666666666666668)\n",
      "('IT', 30.4)\n",
      "('MBA', 34.0)\n",
      "('ME', 34.5)\n",
      "('PG', 33.666666666666664)\n",
      "('PHD', 27.5)\n",
      "('business analytics ', 27.333333333333332)\n",
      "('data science', 28.0)\n",
      "('data science ', 24.75)\n",
      "('engineering', 30.333333333333332)\n"
     ]
    }
   ],
   "source": [
    "result=cursor.execute(\"select course,avg(age) as avg from pratik group by course\")\n",
    "for row in result:\n",
    "    print(row)"
   ]
  },
  {
   "cell_type": "code",
   "execution_count": 399,
   "id": "7b8fa57c",
   "metadata": {},
   "outputs": [
    {
     "name": "stdout",
     "output_type": "stream",
     "text": [
      "(99,)\n"
     ]
    }
   ],
   "source": [
    "result=cursor.execute(\"select sum(age) from pratik where course= 'data science '\")\n",
    "for row in result:\n",
    "    print(row)"
   ]
  },
  {
   "cell_type": "code",
   "execution_count": 79,
   "id": "f5f28abc",
   "metadata": {},
   "outputs": [
    {
     "name": "stdout",
     "output_type": "stream",
     "text": [
      "('22',)\n",
      "('31',)\n",
      "('20',)\n",
      "('26',)\n"
     ]
    }
   ],
   "source": [
    "result=cursor.execute(\"select age from pratik where course= 'data science '\")\n",
    "for row in result:\n",
    "    print(row)"
   ]
  },
  {
   "cell_type": "code",
   "execution_count": 88,
   "id": "e3a25100",
   "metadata": {},
   "outputs": [
    {
     "name": "stdout",
     "output_type": "stream",
     "text": [
      "(4,)\n"
     ]
    }
   ],
   "source": [
    "result=cursor.execute(\"select count(age) from pratik where course= 'data science '\")\n",
    "for row in result:\n",
    "    print(row)"
   ]
  },
  {
   "cell_type": "markdown",
   "id": "4964162c",
   "metadata": {},
   "source": [
    "# Columns with their tag no-"
   ]
  },
  {
   "cell_type": "code",
   "execution_count": 416,
   "id": "7e3c428e",
   "metadata": {},
   "outputs": [
    {
     "name": "stdout",
     "output_type": "stream",
     "text": [
      "('pratik', 'data science')\n",
      "('Pratik ', 'data science ')\n",
      "('ram', 'business analytics ')\n",
      "('shyam ', 'MBA')\n",
      "('sita', 'PHD')\n",
      "('ayush ', 'PG')\n",
      "('mayank', 'engineering')\n",
      "('raj ', 'IT')\n",
      "('ganesh ', 'data science ')\n",
      "('kartik ', 'business analytics ')\n",
      "('salman ', 'MBA')\n",
      "('srk', 'IT')\n",
      "('ritik ', 'BE')\n",
      "('sheela', 'ME')\n",
      "('reena', 'IT')\n",
      "('mahima', 'data science ')\n",
      "('ankita ', 'business analytics ')\n",
      "('jyoti ', 'ME')\n",
      "('aayushi ', 'BE')\n",
      "('ranka ', 'PG')\n",
      "('aditi ', 'engineering')\n",
      "('jainu', 'IT')\n",
      "('ritika', 'data science ')\n",
      "('anushka', 'ME')\n",
      "('sheelu', 'MBA')\n",
      "('radha', 'PHD')\n",
      "('surbhi ', 'PG')\n",
      "('neha ', 'engineering')\n",
      "('gabbu ', 'IT')\n",
      "('tannu ', 'ME')\n",
      "('kannu', 'BE')\n"
     ]
    }
   ],
   "source": [
    "result=cursor.execute('select name AS Name,course AS Course from pratik ')\n",
    "for row in result:\n",
    "    print(row)"
   ]
  },
  {
   "cell_type": "code",
   "execution_count": 103,
   "id": "a1ce5b12",
   "metadata": {},
   "outputs": [],
   "source": [
    "#Description is used to locate course name-"
   ]
  },
  {
   "cell_type": "code",
   "execution_count": 410,
   "id": "b777ac77",
   "metadata": {},
   "outputs": [
    {
     "data": {
      "text/plain": [
       "(('Name', None, None, None, None, None, None),\n",
       " ('Course', None, None, None, None, None, None))"
      ]
     },
     "execution_count": 410,
     "metadata": {},
     "output_type": "execute_result"
    }
   ],
   "source": [
    "result.description"
   ]
  },
  {
   "cell_type": "code",
   "execution_count": 412,
   "id": "dc45b4cd",
   "metadata": {},
   "outputs": [],
   "source": [
    "#To get list of columns-"
   ]
  },
  {
   "cell_type": "code",
   "execution_count": 414,
   "id": "47e3cb88",
   "metadata": {},
   "outputs": [
    {
     "name": "stdout",
     "output_type": "stream",
     "text": [
      "Name\n",
      "Course\n"
     ]
    }
   ],
   "source": [
    "for i in result.description:\n",
    "    print(i[0])"
   ]
  },
  {
   "cell_type": "markdown",
   "id": "f0caa76c",
   "metadata": {},
   "source": [
    "# Query inside query when writing this type of code-"
   ]
  },
  {
   "cell_type": "code",
   "execution_count": 419,
   "id": "ccd3b9a1",
   "metadata": {},
   "outputs": [
    {
     "name": "stdout",
     "output_type": "stream",
     "text": [
      "('mahima', '20')\n"
     ]
    }
   ],
   "source": [
    "result=cursor.execute(\"select name,age from pratik where age=(select min(age) from pratik)\")\n",
    "for row in result:\n",
    "    print(row)"
   ]
  },
  {
   "cell_type": "code",
   "execution_count": 421,
   "id": "c8fe17e2",
   "metadata": {},
   "outputs": [
    {
     "name": "stdout",
     "output_type": "stream",
     "text": [
      "('mayank', '40')\n",
      "('gabbu ', '40')\n"
     ]
    }
   ],
   "source": [
    "result=cursor.execute(\"select name,age from pratik where age=(select max(age) from pratik)\")\n",
    "for row in result:\n",
    "    print(row)"
   ]
  },
  {
   "cell_type": "markdown",
   "id": "29624e39",
   "metadata": {},
   "source": [
    "# Where NOT-"
   ]
  },
  {
   "cell_type": "code",
   "execution_count": 430,
   "id": "e6e847b9",
   "metadata": {},
   "outputs": [
    {
     "name": "stdout",
     "output_type": "stream",
     "text": [
      "(100, 'pratik', '28', 'data science', 50000, '1 year')\n",
      "(102, 'ram', '21', 'business analytics ', 60000, 17)\n",
      "(103, 'shyam ', '31', 'MBA', 70000, 20)\n",
      "(104, 'sita', '31', 'PHD', 80000, 18)\n",
      "(105, 'ayush ', '34', 'PG', 90000, 14)\n",
      "(106, 'mayank', '40', 'engineering', 100000, 19)\n",
      "(107, 'raj ', '28', 'IT', 110000, 14)\n",
      "(109, 'kartik ', '28', 'business analytics ', 130000, 11)\n",
      "(110, 'salman ', '33', 'MBA', 140000, 13)\n",
      "(111, 'srk', '32', 'IT', 150000, 16)\n",
      "(112, 'ritik ', '27', 'BE', 160000, 15)\n",
      "(113, 'sheela', '38', 'ME', 170000, 13)\n",
      "(114, 'reena', '22', 'IT', 180000, 18)\n",
      "(116, 'ankita ', '33', 'business analytics ', 200000, 18)\n",
      "(117, 'jyoti ', '35', 'ME', 210000, 18)\n",
      "(118, 'aayushi ', '21', 'BE', 220000, 19)\n",
      "(119, 'ranka ', '39', 'PG', 230000, 17)\n",
      "(120, 'aditi ', '23', 'engineering', 240000, 15)\n",
      "(121, 'jainu', '30', 'IT', 250000, 11)\n",
      "(123, 'anushka', '35', 'ME', 270000, 10)\n",
      "(124, 'sheelu', '38', 'MBA', 280000, 12)\n",
      "(125, 'radha', '24', 'PHD', 290000, 10)\n",
      "(126, 'surbhi ', '28', 'PG', 300000, 19)\n",
      "(127, 'neha ', '28', 'engineering', 310000, 15)\n",
      "(128, 'gabbu ', '40', 'IT', 320000, 10)\n",
      "(129, 'tannu ', '30', 'ME', 330000, 15)\n",
      "(130, 'kannu', '32', 'BE', 340000, 19)\n"
     ]
    }
   ],
   "source": [
    "result=cursor.execute(\"select * from pratik where not course='data science '\")\n",
    "for row in result:\n",
    "    print(row)"
   ]
  },
  {
   "cell_type": "code",
   "execution_count": null,
   "id": "a6b50319",
   "metadata": {},
   "outputs": [],
   "source": [
    "result=cursor.execute(\"select * from pratik where \")\n",
    "for row in result:\n",
    "    print(row)"
   ]
  },
  {
   "cell_type": "markdown",
   "id": "9c3276e4",
   "metadata": {},
   "source": [
    "# When you want to select the row or any data where certain column data is null-"
   ]
  },
  {
   "cell_type": "code",
   "execution_count": 93,
   "id": "44f62a7f",
   "metadata": {},
   "outputs": [],
   "source": [
    "result=cursor.execute(\"select * from pratik where course is null \")\n",
    "for row in result:\n",
    "    print(row)"
   ]
  },
  {
   "cell_type": "code",
   "execution_count": 433,
   "id": "e92e180a",
   "metadata": {},
   "outputs": [
    {
     "name": "stdout",
     "output_type": "stream",
     "text": [
      "(100, 'pratik', '28', 'data science', 50000, '1 year')\n",
      "(101, 'Pratik ', '22', 'data science ', 50000, 16)\n",
      "(102, 'ram', '21', 'business analytics ', 60000, 17)\n",
      "(103, 'shyam ', '31', 'MBA', 70000, 20)\n",
      "(104, 'sita', '31', 'PHD', 80000, 18)\n",
      "(105, 'ayush ', '34', 'PG', 90000, 14)\n",
      "(106, 'mayank', '40', 'engineering', 100000, 19)\n",
      "(107, 'raj ', '28', 'IT', 110000, 14)\n",
      "(108, 'ganesh ', '31', 'data science ', 120000, 14)\n",
      "(109, 'kartik ', '28', 'business analytics ', 130000, 11)\n",
      "(110, 'salman ', '33', 'MBA', 140000, 13)\n",
      "(111, 'srk', '32', 'IT', 150000, 16)\n",
      "(112, 'ritik ', '27', 'BE', 160000, 15)\n",
      "(113, 'sheela', '38', 'ME', 170000, 13)\n",
      "(114, 'reena', '22', 'IT', 180000, 18)\n",
      "(115, 'mahima', '20', 'data science ', 190000, 15)\n",
      "(116, 'ankita ', '33', 'business analytics ', 200000, 18)\n",
      "(117, 'jyoti ', '35', 'ME', 210000, 18)\n",
      "(118, 'aayushi ', '21', 'BE', 220000, 19)\n",
      "(119, 'ranka ', '39', 'PG', 230000, 17)\n",
      "(120, 'aditi ', '23', 'engineering', 240000, 15)\n",
      "(121, 'jainu', '30', 'IT', 250000, 11)\n",
      "(122, 'ritika', '26', 'data science ', 260000, 10)\n",
      "(123, 'anushka', '35', 'ME', 270000, 10)\n",
      "(124, 'sheelu', '38', 'MBA', 280000, 12)\n",
      "(125, 'radha', '24', 'PHD', 290000, 10)\n",
      "(126, 'surbhi ', '28', 'PG', 300000, 19)\n",
      "(127, 'neha ', '28', 'engineering', 310000, 15)\n",
      "(128, 'gabbu ', '40', 'IT', 320000, 10)\n",
      "(129, 'tannu ', '30', 'ME', 330000, 15)\n",
      "(130, 'kannu', '32', 'BE', 340000, 19)\n"
     ]
    }
   ],
   "source": [
    "result=cursor.execute(\"select * from pratik where course is NOT null \")\n",
    "for row in result:\n",
    "    print(row)"
   ]
  },
  {
   "cell_type": "code",
   "execution_count": 434,
   "id": "c56d563b",
   "metadata": {},
   "outputs": [],
   "source": [
    "result=cursor.execute(\"delete from pratik where course='BE'\")"
   ]
  },
  {
   "cell_type": "code",
   "execution_count": 435,
   "id": "6629903b",
   "metadata": {},
   "outputs": [
    {
     "name": "stdout",
     "output_type": "stream",
     "text": [
      "(100, 'pratik', '28', 'data science', 50000, '1 year')\n",
      "(101, 'Pratik ', '22', 'data science ', 50000, 16)\n",
      "(102, 'ram', '21', 'business analytics ', 60000, 17)\n",
      "(103, 'shyam ', '31', 'MBA', 70000, 20)\n",
      "(104, 'sita', '31', 'PHD', 80000, 18)\n",
      "(105, 'ayush ', '34', 'PG', 90000, 14)\n",
      "(106, 'mayank', '40', 'engineering', 100000, 19)\n",
      "(107, 'raj ', '28', 'IT', 110000, 14)\n",
      "(108, 'ganesh ', '31', 'data science ', 120000, 14)\n",
      "(109, 'kartik ', '28', 'business analytics ', 130000, 11)\n",
      "(110, 'salman ', '33', 'MBA', 140000, 13)\n",
      "(111, 'srk', '32', 'IT', 150000, 16)\n",
      "(113, 'sheela', '38', 'ME', 170000, 13)\n",
      "(114, 'reena', '22', 'IT', 180000, 18)\n",
      "(115, 'mahima', '20', 'data science ', 190000, 15)\n",
      "(116, 'ankita ', '33', 'business analytics ', 200000, 18)\n",
      "(117, 'jyoti ', '35', 'ME', 210000, 18)\n",
      "(119, 'ranka ', '39', 'PG', 230000, 17)\n",
      "(120, 'aditi ', '23', 'engineering', 240000, 15)\n",
      "(121, 'jainu', '30', 'IT', 250000, 11)\n",
      "(122, 'ritika', '26', 'data science ', 260000, 10)\n",
      "(123, 'anushka', '35', 'ME', 270000, 10)\n",
      "(124, 'sheelu', '38', 'MBA', 280000, 12)\n",
      "(125, 'radha', '24', 'PHD', 290000, 10)\n",
      "(126, 'surbhi ', '28', 'PG', 300000, 19)\n",
      "(127, 'neha ', '28', 'engineering', 310000, 15)\n",
      "(128, 'gabbu ', '40', 'IT', 320000, 10)\n",
      "(129, 'tannu ', '30', 'ME', 330000, 15)\n"
     ]
    }
   ],
   "source": [
    "result=cursor.execute(\"select * from pratik\")\n",
    "for row in result:\n",
    "    print(row)"
   ]
  },
  {
   "cell_type": "markdown",
   "id": "0a9dbdcc",
   "metadata": {},
   "source": [
    "# UPDATE SET- \"UPDATE TABLE_NAME SET\""
   ]
  },
  {
   "cell_type": "code",
   "execution_count": 439,
   "id": "d24884c7",
   "metadata": {},
   "outputs": [],
   "source": [
    "result=cursor.execute(\"UPDATE pratik set course='BE' where fees=330000\")"
   ]
  },
  {
   "cell_type": "code",
   "execution_count": 440,
   "id": "1180e83a",
   "metadata": {},
   "outputs": [
    {
     "name": "stdout",
     "output_type": "stream",
     "text": [
      "(100, 'pratik', '28', 'data science', 50000, '1 year')\n",
      "(101, 'Pratik ', '22', 'data science ', 50000, 16)\n",
      "(102, 'ram', '21', 'business analytics ', 60000, 17)\n",
      "(103, 'shyam ', '31', 'MBA', 70000, 20)\n",
      "(104, 'sita', '31', 'PHD', 80000, 18)\n",
      "(105, 'ayush ', '34', 'PG', 90000, 14)\n",
      "(106, 'mayank', '40', 'engineering', 100000, 19)\n",
      "(107, 'raj ', '28', 'IT', 110000, 14)\n",
      "(108, 'ganesh ', '31', 'data science ', 120000, 14)\n",
      "(109, 'kartik ', '28', 'business analytics ', 130000, 11)\n",
      "(110, 'salman ', '33', 'MBA', 140000, 13)\n",
      "(111, 'srk', '32', 'IT', 150000, 16)\n",
      "(113, 'sheela', '38', 'ME', 170000, 13)\n",
      "(114, 'reena', '22', 'IT', 180000, 18)\n",
      "(115, 'mahima', '20', 'data science ', 190000, 15)\n",
      "(116, 'ankita ', '33', 'business analytics ', 200000, 18)\n",
      "(117, 'jyoti ', '35', 'ME', 210000, 18)\n",
      "(119, 'ranka ', '39', 'PG', 230000, 17)\n",
      "(120, 'aditi ', '23', 'engineering', 240000, 15)\n",
      "(121, 'jainu', '30', 'IT', 250000, 11)\n",
      "(122, 'ritika', '26', 'data science ', 260000, 10)\n",
      "(123, 'anushka', '35', 'ME', 270000, 10)\n",
      "(124, 'sheelu', '38', 'MBA', 280000, 12)\n",
      "(125, 'radha', '24', 'PHD', 290000, 10)\n",
      "(126, 'surbhi ', '28', 'PG', 300000, 19)\n",
      "(127, 'neha ', '28', 'engineering', 310000, 15)\n",
      "(128, 'gabbu ', '40', 'IT', 320000, 10)\n",
      "(129, 'tannu ', '30', 'BE', 330000, 15)\n"
     ]
    }
   ],
   "source": [
    "result=cursor.execute(\"select * from pratik\")\n",
    "for row in result:\n",
    "    print(row)"
   ]
  },
  {
   "cell_type": "markdown",
   "id": "b860d596",
   "metadata": {},
   "source": [
    "# MIN-"
   ]
  },
  {
   "cell_type": "code",
   "execution_count": 442,
   "id": "a9c1d409",
   "metadata": {},
   "outputs": [
    {
     "name": "stdout",
     "output_type": "stream",
     "text": [
      "(50000,)\n"
     ]
    }
   ],
   "source": [
    "result=cursor.execute(\"select MIN(fees) from pratik\")\n",
    "for row in result:\n",
    "    print(row)"
   ]
  },
  {
   "cell_type": "markdown",
   "id": "cf5dbaf7",
   "metadata": {},
   "source": [
    "# %a- text ends with a-"
   ]
  },
  {
   "cell_type": "code",
   "execution_count": 444,
   "id": "c1251f56",
   "metadata": {},
   "outputs": [
    {
     "name": "stdout",
     "output_type": "stream",
     "text": [
      "('sita',)\n",
      "('sheela',)\n",
      "('reena',)\n",
      "('mahima',)\n",
      "('ritika',)\n",
      "('anushka',)\n",
      "('radha',)\n"
     ]
    }
   ],
   "source": [
    "result=cursor.execute(\"select name from pratik where name like '%a'\")\n",
    "for row in result:\n",
    "    print(row)"
   ]
  },
  {
   "cell_type": "markdown",
   "id": "050a24ca",
   "metadata": {},
   "source": [
    "# r%a- text starts with r and ends with a-"
   ]
  },
  {
   "cell_type": "code",
   "execution_count": 446,
   "id": "38f916df",
   "metadata": {},
   "outputs": [
    {
     "name": "stdout",
     "output_type": "stream",
     "text": [
      "('reena',)\n",
      "('ritika',)\n",
      "('radha',)\n"
     ]
    }
   ],
   "source": [
    "result=cursor.execute(\"select name from pratik where name like 'r%a'\")\n",
    "for row in result:\n",
    "    print(row)"
   ]
  },
  {
   "cell_type": "markdown",
   "id": "a02c1877",
   "metadata": {},
   "source": [
    "# _a%- text whose second letter is a."
   ]
  },
  {
   "cell_type": "code",
   "execution_count": 104,
   "id": "dbf3ca9d",
   "metadata": {},
   "outputs": [
    {
     "name": "stdout",
     "output_type": "stream",
     "text": [
      "('ankita ',)\n",
      "('anushka',)\n"
     ]
    }
   ],
   "source": [
    "result=cursor.execute(\"select name from prateek where name like '_n%'\")\n",
    "for row in result:\n",
    "    print(row)"
   ]
  },
  {
   "cell_type": "markdown",
   "id": "4230ce4e",
   "metadata": {},
   "source": [
    "# To create new data base-"
   ]
  },
  {
   "cell_type": "code",
   "execution_count": 477,
   "id": "36a6aa9c",
   "metadata": {},
   "outputs": [],
   "source": [
    "import sqlite3"
   ]
  },
  {
   "cell_type": "code",
   "execution_count": 478,
   "id": "2fe0f686",
   "metadata": {},
   "outputs": [],
   "source": [
    "db=sqlite3.connect('priyanka_database.db')"
   ]
  },
  {
   "cell_type": "code",
   "execution_count": 479,
   "id": "95b5b473",
   "metadata": {},
   "outputs": [],
   "source": [
    "cursor=db.cursor()"
   ]
  },
  {
   "cell_type": "markdown",
   "id": "bcbe32bc",
   "metadata": {},
   "source": [
    "# Advance SQL-"
   ]
  },
  {
   "cell_type": "code",
   "execution_count": 105,
   "id": "c1eaa131",
   "metadata": {},
   "outputs": [],
   "source": [
    "db=sqlite3.connect('wonder_databasssesss.db')"
   ]
  },
  {
   "cell_type": "code",
   "execution_count": 106,
   "id": "dcd6721a",
   "metadata": {},
   "outputs": [],
   "source": [
    "cursor=db.cursor()"
   ]
  },
  {
   "cell_type": "code",
   "execution_count": 107,
   "id": "161ab065",
   "metadata": {},
   "outputs": [
    {
     "data": {
      "text/plain": [
       "<sqlite3.Cursor at 0x18eb7d0c8f0>"
      ]
     },
     "execution_count": 107,
     "metadata": {},
     "output_type": "execute_result"
    }
   ],
   "source": [
    "cursor.execute('create table color(id int,name text,extra_fees ints)')"
   ]
  },
  {
   "cell_type": "code",
   "execution_count": 108,
   "id": "60a21cb9",
   "metadata": {},
   "outputs": [
    {
     "data": {
      "text/plain": [
       "<sqlite3.Cursor at 0x18eb7d0c8f0>"
      ]
     },
     "execution_count": 108,
     "metadata": {},
     "output_type": "execute_result"
    }
   ],
   "source": [
    "cursor.execute('create table customer(id int,first_name text,last_name text,favorite_color_id int,foreign key (id) references color(id))')"
   ]
  },
  {
   "cell_type": "code",
   "execution_count": 109,
   "id": "4fd0f1b0",
   "metadata": {},
   "outputs": [
    {
     "data": {
      "text/plain": [
       "<sqlite3.Cursor at 0x18eb7d0c8f0>"
      ]
     },
     "execution_count": 109,
     "metadata": {},
     "output_type": "execute_result"
    }
   ],
   "source": [
    "cursor.execute('create table category(id int,name text,parent_id int,foreign key (id) references color(id))')"
   ]
  },
  {
   "cell_type": "code",
   "execution_count": 110,
   "id": "28934c1b",
   "metadata": {},
   "outputs": [
    {
     "data": {
      "text/plain": [
       "<sqlite3.Cursor at 0x18eb7d0c8f0>"
      ]
     },
     "execution_count": 110,
     "metadata": {},
     "output_type": "execute_result"
    }
   ],
   "source": [
    "cursor.execute('create table clothing(id int,name text,size int,price int,color_id TEXT,category_id int,foreign key (id) references color(id))')"
   ]
  },
  {
   "cell_type": "code",
   "execution_count": 111,
   "id": "ed472d94",
   "metadata": {},
   "outputs": [
    {
     "data": {
      "text/plain": [
       "<sqlite3.Cursor at 0x18eb7d0c8f0>"
      ]
     },
     "execution_count": 111,
     "metadata": {},
     "output_type": "execute_result"
    }
   ],
   "source": [
    "cursor.execute('create table clothing_order(id int,customer_id int,clothing_id int,items text,order_date int)')"
   ]
  },
  {
   "cell_type": "code",
   "execution_count": 112,
   "id": "69ed5fd9",
   "metadata": {},
   "outputs": [
    {
     "data": {
      "text/plain": [
       "<sqlite3.Cursor at 0x18eb7d0c8f0>"
      ]
     },
     "execution_count": 112,
     "metadata": {},
     "output_type": "execute_result"
    }
   ],
   "source": [
    "cursor.execute(\"insert into color values(101,'pratik',100),(102,'chinmay',300),(103,'ravi',100)\")"
   ]
  },
  {
   "cell_type": "code",
   "execution_count": 113,
   "id": "43434b37",
   "metadata": {},
   "outputs": [
    {
     "data": {
      "text/plain": [
       "<sqlite3.Cursor at 0x18eb7d0c8f0>"
      ]
     },
     "execution_count": 113,
     "metadata": {},
     "output_type": "execute_result"
    }
   ],
   "source": [
    "cursor.execute(\"insert into customer values(101,'pratik','sharma',5),(102,'chinmay','pareek',3),(103,'ravi','shankar',10)\")"
   ]
  },
  {
   "cell_type": "code",
   "execution_count": 114,
   "id": "b4f665fd",
   "metadata": {},
   "outputs": [
    {
     "data": {
      "text/plain": [
       "<sqlite3.Cursor at 0x18eb7d0c8f0>"
      ]
     },
     "execution_count": 114,
     "metadata": {},
     "output_type": "execute_result"
    }
   ],
   "source": [
    "cursor.execute(\"insert into clothing values(101,'SHIRT','M',100,'RED',1),(102,'PANT','L',200,'GREEN',2),(103,'TSHIRT','XL',400,'WHITE',3)\")"
   ]
  },
  {
   "cell_type": "markdown",
   "id": "d72124b9",
   "metadata": {},
   "source": [
    "# "
   ]
  },
  {
   "cell_type": "markdown",
   "id": "b80ff36d",
   "metadata": {},
   "source": [
    "Display the name of clothing items (name the column clothes), their color (name the column color), and the last name and first name of the customer(s) who bought this apparel in their favorite color. Sort rows according to color, in ascending order."
   ]
  },
  {
   "cell_type": "code",
   "execution_count": 546,
   "id": "453ea044",
   "metadata": {},
   "outputs": [
    {
     "name": "stdout",
     "output_type": "stream",
     "text": [
      "(101, 'pratik', 100)\n",
      "(102, 'chinmay', 300)\n",
      "(103, 'ravi', 100)\n"
     ]
    }
   ],
   "source": [
    "result=cursor.execute('select * from color')\n",
    "for row in result:\n",
    "    print(row)"
   ]
  },
  {
   "cell_type": "code",
   "execution_count": 547,
   "id": "269e5834",
   "metadata": {},
   "outputs": [
    {
     "name": "stdout",
     "output_type": "stream",
     "text": [
      "(101, 'pratik', 'sharma', 5)\n",
      "(102, 'chinmay', 'pareek', 3)\n",
      "(103, 'ravi', 'shankar', 10)\n"
     ]
    }
   ],
   "source": [
    "result=cursor.execute('select * from customer')\n",
    "for row in result:\n",
    "    print(row)"
   ]
  },
  {
   "cell_type": "code",
   "execution_count": 548,
   "id": "fe4131bc",
   "metadata": {},
   "outputs": [
    {
     "name": "stdout",
     "output_type": "stream",
     "text": [
      "(101, 'SHIRT', 'M', 100, 'RED', 1)\n",
      "(102, 'PANT', 'L', 200, 'GREEN', 2)\n",
      "(103, 'TSHIRT', 'XL', 400, 'WHITE', 3)\n"
     ]
    }
   ],
   "source": [
    "result=cursor.execute('select * from clothing')\n",
    "for row in result:\n",
    "    print(row)"
   ]
  },
  {
   "cell_type": "code",
   "execution_count": 553,
   "id": "6eed2119",
   "metadata": {},
   "outputs": [
    {
     "name": "stdout",
     "output_type": "stream",
     "text": [
      "('SHIRT', 'RED', 'pratik')\n",
      "('PANT', 'GREEN', 'chinmay')\n",
      "('TSHIRT', 'WHITE', 'ravi')\n"
     ]
    }
   ],
   "source": [
    "result=cursor.execute('select clothing.name as cloth_name,clothing.color_id as type,color.name as name from clothing INNER JOIN color ON clothing.id = color.id')\n",
    "for row in result:\n",
    "    print(row)"
   ]
  },
  {
   "cell_type": "markdown",
   "id": "c613d434",
   "metadata": {},
   "source": [
    "# What is a relational database?  \n",
    "\n",
    "\n",
    "A relational database is a type of database that stores and allows access to data. These types of databases are referred to as \"relational\" because the data items within them have pre-determined relationships with one another. Data in a relational database is stored in tables. The tables are connected by unique IDs or \"keys.\" When a user needs to access specific information, they can use a key to access all the tables of data that have been pre-determined to be related to that key."
   ]
  },
  {
   "cell_type": "markdown",
   "id": "b6363784",
   "metadata": {},
   "source": [
    "# What is sqlite \n",
    "\n",
    "sqlite is a database engine (or storage engine) is the underlying software component that a database management system (DBMS) uses to create, read, update and delete (CRUD) data from a database."
   ]
  },
  {
   "cell_type": "markdown",
   "id": "b17a597f",
   "metadata": {},
   "source": [
    "# What are the usages of SQL?\n",
    "\n",
    "SQL is responsible for maintaining the relational data and the data structures present in the database. Some of the common usages are given below:\n",
    "    \n",
    "To execute queries against a database     \n",
    "To retrieve data from a database     \n",
    "To inserts records in a database     \n",
    "To updates records in a database      \n",
    "To delete records from a database     \n",
    "To create new databases    \n",
    "To create new tables in a database      \n",
    "To create views in a database      \n",
    "To perform complex operations on the database.           "
   ]
  },
  {
   "cell_type": "markdown",
   "id": "46d62372",
   "metadata": {},
   "source": [
    "# Does SQL support programming language features?\n",
    "\n",
    "SQL refers to the Standard Query Language. Therefore, it is true that SQL is a language but does not actually support the programming language. It is a common language that doesn't have a loop, conditional statements, and logical operations. It cannot be used for anything other than data manipulation. It is a command language to perform database operations. The primary purpose of SQL is to retrieve, manipulate, update, delete, and perform complex operations like joins on the data present in the database."
   ]
  },
  {
   "cell_type": "markdown",
   "id": "56886baf",
   "metadata": {},
   "source": [
    "# What are the subsets or the features of SQL?\n",
    "\n",
    "Data definition language (DDL): It defines the data structure that consists of commands like CREATE, ALTER, DROP, etc. \n",
    "\n",
    "Data manipulation language (DML): It is used to manipulate existing data in the database. The commands in this category are SELECT, UPDATE, INSERT, etc.\n",
    "\n",
    "Data control language (DCL): It controls access to the data stored in the database. The commands in this category include GRANT and REVOKE.\n",
    "\n",
    "Transaction Control Language (TCL): It is used to deal with the transaction operations in the database. The commands in this category are COMMIT, ROLLBACK, SET TRANSACTION, SAVEPOINT, etc."
   ]
  },
  {
   "cell_type": "markdown",
   "id": "1dbbe334",
   "metadata": {},
   "source": [
    "# What is the purpose of DDL Language?\n",
    "\n",
    "DDL stands for Data definition language. It is the subset of a database that defines the data structure of the database when the database is created. For example, we can use the DDL commands to add, remove, or modify tables. It consists of the following commands: CREATE, ALTER and DELETE database objects such as schema, tables, indexes, view, sequence, etc"
   ]
  },
  {
   "cell_type": "markdown",
   "id": "d1a607da",
   "metadata": {},
   "source": [
    "#  What is the purpose of DML Language?\n",
    "\n",
    "Data manipulation language makes the user able to retrieve and manipulate data in a relational database. The DML commands can only perform read-only operations on data. We can perform the following operations using DDL language:\n",
    "\n",
    "Insert data into the database through the INSERT command.\n",
    "Retrieve data from the database through the SELECT command.\n",
    "Update data in the database through the UPDATE command.\n",
    "Delete data from the database through the DELETE command."
   ]
  },
  {
   "cell_type": "markdown",
   "id": "c89eff90",
   "metadata": {},
   "source": [
    "#  What is the purpose of DCL Language?\n",
    "\n",
    "Data control language allows users to control access and permission management to the database. It is the subset of a database, which decides that what part of the database should be accessed by which user at what point of time. It includes two commands, GRANT and REVOKE.\n",
    "\n",
    "GRANT: It enables system administrators to assign privileges and roles to the specific user accounts to perform specific tasks on the database.\n",
    "\n",
    "REVOKE: It enables system administrators to revoke privileges and roles from the user accounts so that they cannot use the previously assigned permission on the database."
   ]
  },
  {
   "cell_type": "markdown",
   "id": "921347a1",
   "metadata": {},
   "source": [
    "# DDL (Data Definition Language)\n",
    "DDL or Data Definition Language actually consists of the SQL commands that can be used to define the database schema. It simply deals with descriptions of the database schema and is used to create and modify the structure of database objects in the database. DDL is a set of SQL commands used to create, modify, and delete database structures but not data. These commands are normally not used by a general user, who should be accessing the database via an application.\n",
    "\n",
    "List of DDL commands: \n",
    "\n",
    "CREATE: This command is used to create the database or its objects (like table, index, function, views, store procedure, and triggers).\n",
    "DROP: This command is used to delete objects from the database.\n",
    "ALTER: This is used to alter the structure of the database.\n",
    "TRUNCATE: This is used to remove all records from a table, including all spaces allocated for the records are removed.\n",
    "COMMENT: This is used to add comments to the data dictionary.\n",
    "RENAME: This is used to rename an object existing in the database."
   ]
  },
  {
   "cell_type": "markdown",
   "id": "e13a7734",
   "metadata": {},
   "source": [
    "# What are tables and fields in the database?\n",
    "\n",
    "A table is a set of organized data in the form of rows and columns. It enables users to store and display records in the structure format. It is similar to worksheets in the spreadsheet application. Here rows refer to the tuples, representing the simple data item, and columns are the attribute of the data items present in a particular row. Columns can categorize as vertical, and Rows are horizontal.\n",
    "\n",
    "Fields (specific cell)are the components to provide the structure for the table. It stores the same category of data in the same data type. A table contains a fixed number of columns but can have any number of rows known as the record. It is also called a column in the table of the database. It represents the attribute or characteristics of the entity in the record."
   ]
  },
  {
   "cell_type": "markdown",
   "id": "552473a6",
   "metadata": {},
   "source": [
    "# What is a primary key?\n",
    "\n",
    "A primary key is a field or the combination of fields that uniquely identify each record in the table. It is one of a special kind of unique key. If the column contains a primary key, it cannot be null or empty. A table can have duplicate columns, but it cannot have more than one primary key. It always stores unique values into a column. For example, the ROLL Number can be treated as the primary key for a student in the university or college."
   ]
  },
  {
   "cell_type": "markdown",
   "id": "883092e7",
   "metadata": {},
   "source": [
    "# What is a foreign key?\n",
    "\n",
    "\n",
    "The foreign key is used to link one or more tables together. It is also known as the referencing key. A foreign key is specified as a key that is related to the primary key of another table. It means a foreign key field in one table refers to the primary key field of the other table. It identifies each row of another table uniquely that maintains the referential integrity. The primary key-foreign key relationship is a very crucial relationship as it maintains the ACID properties of the database sometimes. It also prevents actions that would destroy links between the child and parent tables."
   ]
  },
  {
   "cell_type": "markdown",
   "id": "bded1a51",
   "metadata": {},
   "source": [
    "# What is a unique key? \n",
    "\n",
    "A unique key is a single or combination of fields that ensure all values stores in the column will be unique. It means a column cannot stores duplicate values. This key provides uniqueness for the column or set of columns. For example, the email addresses and roll numbers of student's tables should be unique. It can accept a null value but only one null value per column. It ensures the integrity of the column or group of columns to store different values into a table."
   ]
  },
  {
   "cell_type": "markdown",
   "id": "589b7eb0",
   "metadata": {},
   "source": [
    "# What is the difference between a primary key and a unique key?\n",
    "\n",
    "1. Primary key- \n",
    "\n",
    "The primary key act as a unique identifier for each record in the table.\n",
    "We cannot store NULL values in the primary key column.\n",
    "We cannot change or delete the primary key column values.\n",
    "\n",
    "2. Unique key-\n",
    "\n",
    "The unique key is also a unique identifier for records when the primary key is not present in the table.\n",
    "We can store NULL value in the unique key column, but only one NULL is allowed.\n",
    "We can modify the unique key column values."
   ]
  },
  {
   "cell_type": "markdown",
   "id": "b795b5f4",
   "metadata": {},
   "source": [
    "# What is a Database-\n",
    "\n",
    "A database is an organized collection of data that is structured into tables, rows, columns, and indexes. It helps the user to find the relevant information frequently. It is an electronic system that makes data access, data manipulation, data retrieval, data storing, and data management very easy. Almost every organization uses the database for storing the data due to its easily accessible and high operational ease. The database provides perfect access to data and lets us perform required tasks.\n",
    "\n",
    "The following are the common features of a database:\n",
    "\n",
    "Manages large amounts of data\n",
    "Accurate\n",
    "Easy to update\n",
    "Security\n",
    "Data integrity\n",
    "Easy to research data"
   ]
  },
  {
   "cell_type": "markdown",
   "id": "c6813e78",
   "metadata": {},
   "source": [
    "# What is meant by DBMS?\n",
    "\n",
    "DBMS stands for Database Management System. It is a software program that primarily functions as an interface between the database and the end-user. It provides us the power such as managing the data, the database engine, and the database schema to facilitate the organization and manipulation of data using a simple query in almost no time. It is like a File Manager that manages data in a database rather than saving it in file systems. Without the database management system, it would be far more difficult for the user to access the database's data."
   ]
  },
  {
   "cell_type": "markdown",
   "id": "c41a83af",
   "metadata": {},
   "source": [
    "# What is RDBMS?\n",
    "\n",
    "RDBMS stands for Relational Database Management System. It is a database management system based on a relational model. It facilitates you to manipulate the data stored in the tables by using relational operators. RDBMS stores the data into the collection of tables and links those tables using the relational operators easily whenever required. Examples of relational database management systems are Microsoft Access, MySQL, SQL Server, Oracle database, etc."
   ]
  },
  {
   "cell_type": "markdown",
   "id": "70f1100d",
   "metadata": {},
   "source": [
    "# What is Normalization in a Database?\n",
    "\n",
    "Normalization is mainly used to add, delete or modify a field that can be made in a single table. The primary use of Normalization is to remove redundancy and remove the insert, delete and update distractions. Normalization breaks the table into small partitions and then links them using different relationships to avoid the chances of redundancy."
   ]
  },
  {
   "cell_type": "markdown",
   "id": "e35669b0",
   "metadata": {},
   "source": [
    "We perform normalization which is process of breaking of a table into multiple tables so that insertion,deletion,updation these 3 anamolies dont appear."
   ]
  },
  {
   "cell_type": "markdown",
   "id": "f7315d8d",
   "metadata": {},
   "source": [
    "# What is Normalization?\n",
    "\n",
    "Normalization is the process of organizing the data in the database.\n",
    "Normalization is used to minimize the redundancy from a relation or set of relations. It is also used to eliminate undesirable characteristics like Insertion, Update, and Deletion Anomalies.\n",
    "Normalization divides the larger table into smaller and links them using relationships.\n",
    "The normal form is used to reduce redundancy from the database table.\n",
    "\n",
    "# Why do we need Normalization?\n",
    "\n",
    "The main reason for normalizing the relations is removing these anomalies. Failure to eliminate anomalies leads to data redundancy and can cause data integrity and other problems as the database grows. Normalization consists of a series of guidelines that helps to guide you in creating a good database structure."
   ]
  },
  {
   "cell_type": "markdown",
   "id": "ff468e2e",
   "metadata": {},
   "source": [
    "# Data modification anomalies can be categorized into three types:\n",
    "\n",
    "Insertion Anomaly: Insertion Anomaly refers to when one cannot insert a new tuple into a relationship due to lack of data.\n",
    "Deletion Anomaly: The delete anomaly refers to the situation where the deletion of data results in the unintended loss of some other important data.\n",
    "Updatation Anomaly: The update anomaly is when an update of a single data value requires multiple rows of data to be updated."
   ]
  },
  {
   "cell_type": "markdown",
   "id": "1f82b42d",
   "metadata": {},
   "source": [
    "# Types of normalization-\n",
    "\n",
    "1. First normal form- Rules as per the EF CODD is No column can consist of multivarited vales.\n",
    "2. Second normal form- A relation will be in 2NF if it is in 1NF and all non-key attributes are fully functional dependent on the primary key. there should be no partial dependency.like the subset of any primary key must not define non prime attributes.\n",
    "3. Third normal form- There must not be any transitive dependency.like roll no city & state where state is defined by city and city is defined by roll no which must not be there.\n",
    "4. fourth normal form- There must not be multivalued dependency bw columns like pratik has 3 phone no & 3 email id in that condition divide the data into two columns one with name & phone no and other one is name & email id. \n",
    "5. BCNF- if roll no is defining the name than the left side key which is roll no always either be primary key or super key.\n",
    "6. Fifth normal form- decomposition of table must be loss less which can be attend by making the common column the primary key."
   ]
  },
  {
   "cell_type": "markdown",
   "id": "35ad11a8",
   "metadata": {},
   "source": [
    "short cut key-     \n",
    " PTM       \n",
    "MDDDKD"
   ]
  },
  {
   "cell_type": "markdown",
   "id": "57e5b689",
   "metadata": {},
   "source": [
    "# Difference between DELETE, DROP and TRUNCATE-"
   ]
  },
  {
   "cell_type": "markdown",
   "id": "6664d13b",
   "metadata": {},
   "source": [
    "# 1. DELETE :   \n",
    "\n",
    "Basically, it is a Data Manipulation Language Command (DML). It is used to delete one or more tuples of a table. With the help of the “DELETE” command, we can either delete all the rows in one go or can delete rows one by one. i.e., we can use it as per the requirement or the condition using the Where clause. It is comparatively slower than the TRUNCATE command. The TRUNCATE command does not remove the structure of the table.\n",
    "\n",
    "SYNTAX – \n",
    "If we want to delete all the rows of the table:\n",
    "DELETE from;\n",
    "\n",
    "SYNTAX – \n",
    "If we want to delete the row of the table as per the condition then we use the WHERE clause,\n",
    "DELETE FROM table_name WHERE condition;   \n",
    "\n",
    "Note – Here we can use the “ROLLBACK” command to restore the tuple because it does not auto-commit."
   ]
  },
  {
   "cell_type": "markdown",
   "id": "7f8f529e",
   "metadata": {},
   "source": [
    "# 2. DROP : \n",
    "It is a Data Definition Language Command (DDL). It is used to drop the whole table. With the help of the “DROP” command we can drop (delete) the whole structure in one go i.e. it removes the named elements of the schema. By using this command the existence of the whole table is finished or say lost. \n",
    "\n",
    "SYNTAX – \n",
    "If we want to drop the table:\n",
    "DROP table <table_name>;\n",
    "\n",
    "Note – Here we can’t restore the table by using the “ROLLBACK” command because it auto commits."
   ]
  },
  {
   "cell_type": "markdown",
   "id": "b1ded71b",
   "metadata": {},
   "source": [
    "# DQL (Data Query Language)\n",
    "DQL statements are used for performing queries on the data within schema objects. The purpose of the DQL Command is to get some schema relation based on the query passed to it. We can define DQL as follows it is a component of SQL statement that allows getting data from the database and imposing order upon it. It includes the SELECT statement. This command allows getting the data out of the database to perform operations with it. When a SELECT is fired against a table or tables the result is compiled into a further temporary table, which is displayed or perhaps received by the program i.e. a front-end.\n",
    "\n",
    "List of DQL: \n",
    "\n",
    "SELECT: It is used to retrieve data from the database."
   ]
  },
  {
   "cell_type": "markdown",
   "id": "b847974e",
   "metadata": {},
   "source": [
    "# 3. TRUNCATE : \n",
    "\n",
    "It is also a Data Definition Language Command (DDL). It is used to delete all the rows of a relation (table) in one go. With the help of the “TRUNCATE” command, we can’t delete the single row as here WHERE clause is not used. By using this command the existence of all the rows of the table is lost. It is comparatively faster than the delete command as it deletes all the rows fastly. \n",
    "\n",
    "SYNTAX – \n",
    "If we want to use truncate :\n",
    "    \n",
    "TRUNCATE table <table_name>;\n",
    "\n",
    "Note – Here we can’t restore the tuples of the table by using the “ROLLBACK” command.\n",
    "\n",
    "Truncate command is fast in process because it does not store the data in log file or anywhere it just delete in one go so we can not roll back the data.\n",
    "\n",
    "but in case delete it creates the log file so that we can rollback the data before applying commit."
   ]
  },
  {
   "cell_type": "markdown",
   "id": "c910ec45",
   "metadata": {},
   "source": [
    "# What is Normalization in a Database? \n",
    "\n",
    "\n",
    "Normalization is used to minimize redundancy and dependency by organizing fields and table of a database.\n",
    "\n",
    "There are some rules of database normalization, which is commonly known as Normal From, and they are:\n",
    "\n",
    "First normal form(1NF)\n",
    "Second normal form(2NF)\n",
    "Third normal form(3NF)\n",
    "Boyce-Codd normal form(BCNF)\n",
    "Using these steps, the redundancy, anomalies, inconsistency of the data in the database can be removed."
   ]
  },
  {
   "cell_type": "markdown",
   "id": "783a6a52",
   "metadata": {},
   "source": [
    "# What is the primary use of Normalization?\n",
    "\n",
    "Normalization is mainly used to add, delete or modify a field that can be made in a single table. The primary use of \n",
    "Normalization is to remove redundancy and remove the insert, delete and update distractions. Normalization breaks the table \n",
    "into small partitions and then links them using different relationships to avoid the chances of redundancy."
   ]
  },
  {
   "cell_type": "markdown",
   "id": "5c5d7f7d",
   "metadata": {},
   "source": [
    "# What is Denormalization in a Database?\n",
    "\n",
    "Denormalization is a technique used by database administrators to optimize the efficiency of their database infrastructure. The denormalization concept is based on Normalization, which is defined as arranging a database into tables correctly for a particular purpose. This method allows us to add redundant data into a normalized database to alleviate issues with database queries that merge data from several tables into a single table. It adds redundant terms into the tables to avoid complex joins and many other complex operations.\n",
    "\n",
    "Denormalization doesn't mean that normalization will not be done. It is an optimization strategy that takes place after the normalization process."
   ]
  },
  {
   "cell_type": "markdown",
   "id": "f6d031f6",
   "metadata": {},
   "source": [
    "# What is redundancy in database-\n",
    "\n",
    "Redundancy in a database occurs when the same data is stored in multiple places. Redundancy can cause various problems such as data inconsistencies, higher storage requirements, and slower data retrieval.\n",
    "\n",
    "Data redundancy occurs when the same piece of data is stored in two or more separate places and is a common occurrence in many businesses. As more companies are moving  away from siloed data to using a central repository to store information, they are finding that their database is filled with inconsistent duplicates of the same entry. Although it can be challenging to reconcile — or even benefit from — duplicate data entries, understanding how to reduce and track data redundancy efficiently can help mitigate long-term inconsistency issues for your business.\n",
    "\n",
    "Top 4 advantages of data redundancy \n",
    "Although data redundancy sounds like a negative event, there are many organizations that can benefit from this process when it’s intentionally built into daily operations. \n",
    "\n",
    "1. Alternative data backup method\n",
    "Backing up data involves creating compressed and encrypted versions of data and storing it in a computer system or the cloud. Data redundancy offers an extra layer of protection and reinforces the backup by replicating data to an additional system. It’s often an advantage when companies incorporate data redundancy into their disaster recovery plans. \n",
    "\n",
    "2. Better data security \n",
    "Data security relates to protecting data, in a database or a file storage system, from unwanted activities such as cyberattacks or data breaches. Having the same data stored in two or more separate places can protect an organization in the event of a cyberattack or breach — an event which can result in lost time and money, as well as a damaged reputation. \n",
    "\n",
    "3. Faster data access and updates\n",
    "When data is redundant, employees enjoy fast access and quick updates because the necessary information is available on multiple systems. This is particularly important for customer service-based organizations whose customers expect promptness and efficiency. \n",
    "\n",
    "4. Improved data reliability \n",
    "Data that is reliable is complete and accurate. Organizations can use data redundancy to double check data and confirm it’s correct and completed in full — a necessity when interacting with customers, vendors, internal staff, and others"
   ]
  },
  {
   "cell_type": "markdown",
   "id": "a5432ce5",
   "metadata": {},
   "source": [
    "# Problems Caused Due to Redundancy-\n",
    "\n",
    "1. Data Inconsistency: Redundancy can lead to data inconsistencies, where the same data is stored in multiple locations, and changes to one copy of the data are not reflected in the other copies. This can result in incorrect data being used in decision-making processes and can lead to errors and inconsistencies in the data.\n",
    "\n",
    "2. Storage Requirements: Redundancy increases the storage requirements of a database. If the same data is stored in multiple places, more storage space is required to store the data. This can lead to higher costs and slower data retrieval.\n",
    "Update Anomalies: Redundancy can lead to update anomalies, where changes made to one copy of the data are not reflected in the other copies. This can result in incorrect data being used in decision-making processes and can lead to errors and inconsistencies in the data.\n",
    "\n",
    "3. Performance Issues: Redundancy can also lead to performance issues, as the database must spend more time updating multiple copies of the same data. This can lead to slower data retrieval and slower overall performance of the database.\n",
    "Security Issues: Redundancy can also create security issues, as multiple copies of the same data can be accessed and manipulated by unauthorized users. This can lead to data breaches and compromise the confidentiality, integrity, and availability of the data.\n",
    "\n",
    "4. Maintenance Complexity: Redundancy can increase the complexity of database maintenance, as multiple copies of the same data must be updated and synchronized. This can make it more difficult to troubleshoot and resolve issues and can require more time and resources to maintain the database.\n",
    "\n",
    "5. Data Duplication: Redundancy can lead to data duplication, where the same data is stored in multiple locations, resulting in wasted storage space and increased maintenance complexity. This can also lead to confusion and errors, as different copies of the data may have different values or be out of sync."
   ]
  },
  {
   "cell_type": "markdown",
   "id": "380056eb",
   "metadata": {},
   "source": [
    "# Auto commit-\n",
    "\n",
    "As the name suggests, the auto-commit statement is used to avoid the explicit mention of the commit command after each SQL statement. The commit statement itself gets executed by the server after each SQL statement. Each SQL statement is treated as a different transaction. An SQL statement executed in autocommit mode cannot be rolled back."
   ]
  },
  {
   "cell_type": "markdown",
   "id": "29512707",
   "metadata": {},
   "source": [
    "# Difference bw Commit and Roll back-"
   ]
  },
  {
   "cell_type": "markdown",
   "id": "69db7519",
   "metadata": {},
   "source": [
    "# 1. COMMIT-\n",
    "\n",
    "COMMIT in SQL is a transaction control language that is used to permanently save the changes done in the transaction in tables/databases. The database cannot regain its previous state after its execution of commit. \n",
    "\n",
    "\n",
    "# Rollback-\n",
    "\n",
    "ROLLBACK in SQL is a transactional control language that is used to undo the transactions that have not been saved in the database. The command is only been used to undo changes since the last COMMIT."
   ]
  },
  {
   "cell_type": "markdown",
   "id": "3d85b24d",
   "metadata": {},
   "source": [
    "# Table columns are also referred to as fields"
   ]
  },
  {
   "cell_type": "markdown",
   "id": "3113000c",
   "metadata": {},
   "source": [
    "# Case statement-"
   ]
  },
  {
   "cell_type": "code",
   "execution_count": null,
   "id": "a681e739",
   "metadata": {},
   "outputs": [],
   "source": [
    "SELECT OrderID, Quantity,\n",
    "CASE WHEN Quantity > 30 THEN 'The quantity is greater than 30'\n",
    "WHEN Quantity = 30 THEN 'The quantity is 30'\n",
    "ELSE 'The quantity is under 30'\n",
    "END AS QuantityText\n",
    "FROM OrderDetails;"
   ]
  },
  {
   "cell_type": "code",
   "execution_count": null,
   "id": "e02e6889",
   "metadata": {},
   "outputs": [],
   "source": [
    "OrderID\tQuantity\tQuantityText\n",
    "10248\t12\tThe quantity is under 30\n",
    "10248\t10\tThe quantity is under 30\n",
    "10248\t5\tThe quantity is under 30\n",
    "10249\t9\tThe quantity is under 30\n",
    "10249\t40\tThe quantity is greater than 30\n",
    "10250\t10\tThe quantity is under 30\n",
    "10250\t35\tThe quantity is greater than 30\n",
    "10250\t15\tThe quantity is under 30\n",
    "10251\t6\tThe quantity is under 30\n",
    "10251\t15\tThe quantity is under 30\n",
    "10251\t20\tThe quantity is under 30\n",
    "10252\t40\tThe quantity is greater than 30\n",
    "10252\t25\tThe quantity is under 30\n",
    "10252\t40\tThe quantity is greater than 30\n",
    "10253\t20\tThe quantity is under 30\n",
    "10253\t42\tThe quantity is greater than 30\n",
    "10253\t40\tThe quantity is greater than 30\n",
    "10254\t15\tThe quantity is under 30\n",
    "10254\t21\tThe quantity is under 30\n",
    "10254\t21\tThe quantity is under 30\n",
    "10255\t20\tThe quantity is under 30\n",
    "10255\t35\tThe quantity is greater than 30\n",
    "10255\t25\tThe quantity is under 30\n",
    "10255\t30\tThe quantity is 30\n",
    "10256\t15\tThe quantity is under 30\n",
    "10256\t12\tThe quantity is under 30\n",
    "10257\t25\tThe quantity is under 30"
   ]
  },
  {
   "cell_type": "markdown",
   "id": "f4159c1d",
   "metadata": {},
   "source": [
    "# CASE Syntax-\n",
    "CASE    \n",
    "    WHEN condition1 THEN result1     \n",
    "    WHEN condition2 THEN result2    \n",
    "    WHEN conditionN THEN resultN    \n",
    "    ELSE result\n",
    "END;   "
   ]
  },
  {
   "cell_type": "markdown",
   "id": "8eea0531",
   "metadata": {},
   "source": [
    "# SQL CREATE INDEX Statement-\n",
    "\n",
    "The CREATE INDEX statement is used to create indexes in tables.\n",
    "\n",
    "Indexes are used to retrieve data from the database more quickly than otherwise. The users cannot see the indexes, they are just used to speed up searches/queries."
   ]
  },
  {
   "cell_type": "markdown",
   "id": "c88b7e20",
   "metadata": {},
   "source": [
    "Note: Updating a table with indexes takes more time than updating a table without (because the indexes also need an update). So, only create indexes on columns that will be frequently searched against."
   ]
  },
  {
   "cell_type": "code",
   "execution_count": 579,
   "id": "7a75df7a",
   "metadata": {},
   "outputs": [
    {
     "name": "stdout",
     "output_type": "stream",
     "text": [
      "(100, 'pratik', '28', 'data science', 50000, '1 year')\n",
      "('roll no', 'name', 'age', 'course', 'fees', 'duration\\n')\n",
      "(101, 'Pratik ', '22', 'data science ', 50000, 16)\n",
      "(102, 'ram', '21', 'business analytics ', 60000, 17)\n",
      "(103, 'shyam ', '31', 'MBA', 70000, 20)\n",
      "(104, 'sita', '31', 'PHD', 80000, 18)\n",
      "(105, 'ayush ', '34', 'PG', 90000, 14)\n",
      "(106, 'mayank', '40', 'engineering', 100000, 19)\n",
      "(107, 'raj ', '28', 'IT', 110000, 14)\n",
      "(108, 'ganesh ', '31', 'data science ', 120000, 14)\n",
      "(109, 'kartik ', '28', 'business analytics ', 130000, 11)\n",
      "(110, 'salman ', '33', 'MBA', 140000, 13)\n",
      "(111, 'srk', '32', 'IT', 150000, 16)\n",
      "(112, 'ritik ', '27', 'BE', 160000, 15)\n",
      "(113, 'sheela', '38', 'ME', 170000, 13)\n",
      "(114, 'reena', '22', 'IT', 180000, 18)\n",
      "(115, 'mahima', '20', 'data science ', 190000, 15)\n",
      "(116, 'ankita ', '33', 'business analytics ', 200000, 18)\n",
      "(117, 'jyoti ', '35', 'ME', 210000, 18)\n",
      "(118, 'aayushi ', '21', 'BE', 220000, 19)\n",
      "(119, 'ranka ', '39', 'PG', 230000, 17)\n",
      "(120, 'aditi ', '23', 'engineering', 240000, 15)\n",
      "(121, 'jainu', '30', 'IT', 250000, 11)\n",
      "(122, 'ritika', '26', 'data science ', 260000, 10)\n",
      "(123, 'anushka', '35', 'ME', 270000, 10)\n",
      "(124, 'sheelu', '38', 'MBA', 280000, 12)\n",
      "(125, 'radha', '24', 'PHD', 290000, 10)\n",
      "(126, 'surbhi ', '28', 'PG', 300000, 19)\n",
      "(127, 'neha ', '28', 'engineering', 310000, 15)\n",
      "(128, 'gabbu ', '40', 'IT', 320000, 10)\n",
      "(129, 'tannu ', '30', 'ME', 330000, 15)\n",
      "(130, 'kannu', '32', 'BE', 340000, 19)\n"
     ]
    }
   ],
   "source": [
    "result=cursor.execute('select * from pratik')\n",
    "for row in result:\n",
    "    print(row)"
   ]
  },
  {
   "cell_type": "code",
   "execution_count": 582,
   "id": "248b291e",
   "metadata": {},
   "outputs": [
    {
     "data": {
      "text/plain": [
       "<sqlite3.Cursor at 0x2f5752cbb20>"
      ]
     },
     "execution_count": 582,
     "metadata": {},
     "output_type": "execute_result"
    }
   ],
   "source": [
    "cursor.execute('create index xxxx on pratik(roll_no)')"
   ]
  },
  {
   "cell_type": "markdown",
   "id": "d8f88f71",
   "metadata": {},
   "source": [
    "# DROP INDEX Statement-"
   ]
  },
  {
   "cell_type": "code",
   "execution_count": 589,
   "id": "6a1d34e8",
   "metadata": {},
   "outputs": [
    {
     "data": {
      "text/plain": [
       "<sqlite3.Cursor at 0x2f5752cbb20>"
      ]
     },
     "execution_count": 589,
     "metadata": {},
     "output_type": "execute_result"
    }
   ],
   "source": [
    "cursor.execute(\"drop INDEX xxxx\")"
   ]
  },
  {
   "cell_type": "markdown",
   "id": "1e3080da",
   "metadata": {},
   "source": [
    "# What are the different types of SQL operators?"
   ]
  },
  {
   "cell_type": "markdown",
   "id": "8fb8c2a9",
   "metadata": {},
   "source": [
    "Operators are the special keywords or special characters reserved for performing particular operations. They are also used in SQL queries. We can primarily use these operators within the WHERE clause of SQL commands. It's a part of the command to filters data based on the specified condition. The SQL operators can be categorized into the following types:\n",
    "\n",
    "\n",
    "# Arithmetic operators:\n",
    "\n",
    "These operators are used to perform mathematical operations on numerical data. The categories of this operators are addition (+), subtraction (-), multiplication (*), division (/), remainder/modulus (%), etc.\n",
    "Logical operators: These operators evaluate the expressions and return their results in True or False. This operator includes ALL, AND, ANY, ISNULL, EXISTS, BETWEEN, IN, LIKE, NOT, OR, UNIQUE.\n",
    "\n",
    "# Comparison operators: \n",
    "These operators are used to perform comparisons of two values and check whether they are the same or not. It includes equal to (=), not equal to (!= or <>), less than (<), greater than (>), less than or equal to (<=), greater than or equal to (>=), not less than (!<), not greater than (!>), etc.\n",
    "\n",
    "# Bitwise operators:\n",
    "It is used to do bit manipulations between two expressions of integer type. It first performs conversion of integers into binary bits and then applied operators such as AND (& symbol), OR (|, ^), NOT (~), etc.\n",
    "\n",
    "# Compound operators:  \n",
    "These operators perform operations on a variable before setting the variable's result to the operation's result. It includes Add equals (+=), subtract equals (-=), multiply equals (*=), divide equals (/=), modulo equals (%=), etc.\n",
    "\n",
    "# String operators: \n",
    "\n",
    "These operators are primarily used to perform concatenation and pattern matching of strings. It includes + (String concatenation), += (String concatenation assignment), % (Wildcard), [] (Character(s) matches), [^] (Character(s) not to match), _ (Wildcard match one character), etc."
   ]
  },
  {
   "cell_type": "markdown",
   "id": "e9f61bbb",
   "metadata": {},
   "source": [
    "# View creation in sql-"
   ]
  },
  {
   "cell_type": "code",
   "execution_count": 14,
   "id": "7dac3965",
   "metadata": {},
   "outputs": [
    {
     "name": "stdout",
     "output_type": "stream",
     "text": [
      "(100, 'pratik', '28', 'data science', 50000, '1 year')\n",
      "('roll no', 'name', 'age', 'course', 'fees', 'duration\\n')\n",
      "(101, 'Pratik ', '22', 'data science ', 50000, 16)\n",
      "(102, 'ram', '21', 'business analytics ', 60000, 17)\n",
      "(103, 'shyam ', '31', 'MBA', 70000, 20)\n",
      "(104, 'sita', '31', 'PHD', 80000, 18)\n",
      "(105, 'ayush ', '34', 'PG', 90000, 14)\n",
      "(106, 'mayank', '40', 'engineering', 100000, 19)\n",
      "(107, 'raj ', '28', 'IT', 110000, 14)\n",
      "(108, 'ganesh ', '31', 'data science ', 120000, 14)\n",
      "(109, 'kartik ', '28', 'business analytics ', 130000, 11)\n",
      "(110, 'salman ', '33', 'MBA', 140000, 13)\n",
      "(111, 'srk', '32', 'IT', 150000, 16)\n",
      "(112, 'ritik ', '27', 'BE', 160000, 15)\n",
      "(113, 'sheela', '38', 'ME', 170000, 13)\n",
      "(114, 'reena', '22', 'IT', 180000, 18)\n",
      "(115, 'mahima', '20', 'data science ', 190000, 15)\n",
      "(116, 'ankita ', '33', 'business analytics ', 200000, 18)\n",
      "(117, 'jyoti ', '35', 'ME', 210000, 18)\n",
      "(118, 'aayushi ', '21', 'BE', 220000, 19)\n",
      "(119, 'ranka ', '39', 'PG', 230000, 17)\n",
      "(120, 'aditi ', '23', 'engineering', 240000, 15)\n",
      "(121, 'jainu', '30', 'IT', 250000, 11)\n",
      "(122, 'ritika', '26', 'data science ', 260000, 10)\n",
      "(123, 'anushka', '35', 'ME', 270000, 10)\n",
      "(124, 'sheelu', '38', 'MBA', 280000, 12)\n",
      "(125, 'radha', '24', 'PHD', 290000, 10)\n",
      "(126, 'surbhi ', '28', 'PG', 300000, 19)\n",
      "(127, 'neha ', '28', 'engineering', 310000, 15)\n",
      "(128, 'gabbu ', '40', 'IT', 320000, 10)\n",
      "(129, 'tannu ', '30', 'ME', 330000, 15)\n",
      "(130, 'kannu', '32', 'BE', 340000, 19)\n"
     ]
    }
   ],
   "source": [
    "result=cursor.execute('select * from pratik')\n",
    "for row in result:\n",
    "    print(row)"
   ]
  },
  {
   "cell_type": "code",
   "execution_count": 26,
   "id": "e11d22c9",
   "metadata": {},
   "outputs": [
    {
     "data": {
      "text/plain": [
       "<sqlite3.Cursor at 0x21620cb30a0>"
      ]
     },
     "execution_count": 26,
     "metadata": {},
     "output_type": "execute_result"
    }
   ],
   "source": [
    "cursor.execute(\"delete from pratik where roll_no='roll no'\")"
   ]
  },
  {
   "cell_type": "code",
   "execution_count": 22,
   "id": "e9ba7e7c",
   "metadata": {},
   "outputs": [
    {
     "data": {
      "text/plain": [
       "<sqlite3.Cursor at 0x21620cb30a0>"
      ]
     },
     "execution_count": 22,
     "metadata": {},
     "output_type": "execute_result"
    }
   ],
   "source": [
    "cursor.execute(\"insert into pratik values(131,'raamma',44,'ME',35999,21)\")"
   ]
  },
  {
   "cell_type": "code",
   "execution_count": 24,
   "id": "1eb8afd6",
   "metadata": {},
   "outputs": [],
   "source": [
    "result=cursor.execute('CREATE VIEW shivaa AS  SELECT roll_no FROM pratik  WHERE roll_no>120')"
   ]
  },
  {
   "cell_type": "code",
   "execution_count": 27,
   "id": "9fef0bed",
   "metadata": {},
   "outputs": [
    {
     "name": "stdout",
     "output_type": "stream",
     "text": [
      "(121,)\n",
      "(122,)\n",
      "(123,)\n",
      "(124,)\n",
      "(125,)\n",
      "(126,)\n",
      "(127,)\n",
      "(128,)\n",
      "(129,)\n",
      "(130,)\n",
      "(131,)\n"
     ]
    }
   ],
   "source": [
    "result=cursor.execute('select * from shivaa')\n",
    "for row in result:\n",
    "    print(row)"
   ]
  },
  {
   "cell_type": "markdown",
   "id": "f405b1e4",
   "metadata": {},
   "source": [
    "# What is a view in SQL-\n",
    "\n",
    "In SQL, a view is a virtual table based on the result-set of an SQL statement.\n",
    "\n",
    "A view contains rows and columns, just like a real table. The fields in a view are fields from one or more real tables in the database.\n",
    "\n",
    "we can see above code result that a view is a subset of data we extracted through our query. it generally get updated as we update the main table."
   ]
  },
  {
   "cell_type": "markdown",
   "id": "b0fa2c35",
   "metadata": {},
   "source": [
    "# What is an Index in SQL?\n",
    "\n",
    "An index is a disc structure associated with a table or view that speeds up row retrieval. It reduces the cost of the query because the query's high cost will lead to a fall in its performance. It is used to increase the performance and allow faster retrieval of records from the table. Indexing reduces the number of data pages we need to visit to find a particular data page. It also has a unique value meaning that the index cannot be duplicated. An index creates an entry for each value which makes it faster to retrieve data.\n",
    "\n",
    "For example: Suppose we have a book which carries the details of the countries. If you want to find out information about India, why will you go through every page of that book? You could directly go to the index. Then from the index, you can go to that particular page where all the information about India is given.\n",
    "\n",
    "SQL indexes are nothing more than a technique of minimizing the query's cost. The higher the query's cost, the worse the query's performance. "
   ]
  },
  {
   "cell_type": "code",
   "execution_count": 58,
   "id": "a58e3aab",
   "metadata": {},
   "outputs": [
    {
     "data": {
      "text/plain": [
       "<sqlite3.Cursor at 0x21620cb30a0>"
      ]
     },
     "execution_count": 58,
     "metadata": {},
     "output_type": "execute_result"
    }
   ],
   "source": [
    "cursor.execute('Create unique index indexx on pratik(roll_no)')"
   ]
  },
  {
   "cell_type": "code",
   "execution_count": 67,
   "id": "713a3e79",
   "metadata": {},
   "outputs": [
    {
     "name": "stdout",
     "output_type": "stream",
     "text": [
      "(121,)\n",
      "(122,)\n",
      "(123,)\n",
      "(124,)\n",
      "(125,)\n",
      "(126,)\n",
      "(127,)\n",
      "(128,)\n",
      "(129,)\n",
      "(130,)\n",
      "(131,)\n"
     ]
    }
   ],
   "source": [
    "result=cursor.execute('select * from shivaa')\n",
    "for row in result:\n",
    "    print(row)"
   ]
  },
  {
   "cell_type": "code",
   "execution_count": 59,
   "id": "4d751458",
   "metadata": {},
   "outputs": [
    {
     "name": "stdout",
     "output_type": "stream",
     "text": [
      "(100, 'pratik', '28', 'data science', 50000, '1 year')\n",
      "(101, 'Pratik ', '22', 'data science ', 50000, 16)\n",
      "(102, 'ram', '21', 'business analytics ', 60000, 17)\n",
      "(103, 'shyam ', '31', 'MBA', 70000, 20)\n",
      "(104, 'sita', '31', 'PHD', 80000, 18)\n",
      "(105, 'ayush ', '34', 'PG', 90000, 14)\n",
      "(106, 'mayank', '40', 'engineering', 100000, 19)\n",
      "(107, 'raj ', '28', 'IT', 110000, 14)\n",
      "(108, 'ganesh ', '31', 'data science ', 120000, 14)\n",
      "(109, 'kartik ', '28', 'business analytics ', 130000, 11)\n",
      "(110, 'salman ', '33', 'MBA', 140000, 13)\n",
      "(111, 'srk', '32', 'IT', 150000, 16)\n",
      "(112, 'ritik ', '27', 'BE', 160000, 15)\n",
      "(113, 'sheela', '38', 'ME', 170000, 13)\n",
      "(114, 'reena', '22', 'IT', 180000, 18)\n",
      "(115, 'mahima', '20', 'data science ', 190000, 15)\n",
      "(116, 'ankita ', '33', 'business analytics ', 200000, 18)\n",
      "(117, 'jyoti ', '35', 'ME', 210000, 18)\n",
      "(118, 'aayushi ', '21', 'BE', 220000, 19)\n",
      "(119, 'ranka ', '39', 'PG', 230000, 17)\n",
      "(120, 'aditi ', '23', 'engineering', 240000, 15)\n",
      "(121, 'jainu', '30', 'IT', 250000, 11)\n",
      "(122, 'ritika', '26', 'data science ', 260000, 10)\n",
      "(123, 'anushka', '35', 'ME', 270000, 10)\n",
      "(124, 'sheelu', '38', 'MBA', 280000, 12)\n",
      "(125, 'radha', '24', 'PHD', 290000, 10)\n",
      "(126, 'surbhi ', '28', 'PG', 300000, 19)\n",
      "(127, 'neha ', '28', 'engineering', 310000, 15)\n",
      "(128, 'gabbu ', '40', 'IT', 320000, 10)\n",
      "(129, 'tannu ', '30', 'ME', 330000, 15)\n",
      "(130, 'kannu', '32', 'BE', 340000, 19)\n",
      "(131, 'raamma', '44', 'ME', 35999, 21)\n"
     ]
    }
   ],
   "source": [
    "result=cursor.execute('select * from pratik')\n",
    "for row in result:\n",
    "    print(row)"
   ]
  },
  {
   "cell_type": "markdown",
   "id": "ee13279b",
   "metadata": {},
   "source": [
    "# To check index-"
   ]
  },
  {
   "cell_type": "code",
   "execution_count": 62,
   "id": "bee2ebd6",
   "metadata": {},
   "outputs": [
    {
     "name": "stdout",
     "output_type": "stream",
     "text": [
      "(0, 'indexx', 1, 'c', 0)\n",
      "(1, 'sheena', 1, 'c', 0)\n",
      "(2, 'idx_contacts_email', 1, 'c', 0)\n",
      "(3, 'sqlite_autoindex_pratik_1', 1, 'pk', 0)\n"
     ]
    }
   ],
   "source": [
    "result=cursor.execute(\"PRAGMA index_list('pratik')\")\n",
    "for row in result:\n",
    "    print(row)"
   ]
  },
  {
   "cell_type": "markdown",
   "id": "cafde54e",
   "metadata": {},
   "source": [
    "# To drop index-"
   ]
  },
  {
   "cell_type": "code",
   "execution_count": 63,
   "id": "2c4b41cd",
   "metadata": {},
   "outputs": [
    {
     "data": {
      "text/plain": [
       "<sqlite3.Cursor at 0x21620cb30a0>"
      ]
     },
     "execution_count": 63,
     "metadata": {},
     "output_type": "execute_result"
    }
   ],
   "source": [
    "cursor.execute(\"drop index sheena\")"
   ]
  },
  {
   "cell_type": "code",
   "execution_count": 64,
   "id": "3d3018f9",
   "metadata": {},
   "outputs": [
    {
     "data": {
      "text/plain": [
       "<sqlite3.Cursor at 0x21620cb30a0>"
      ]
     },
     "execution_count": 64,
     "metadata": {},
     "output_type": "execute_result"
    }
   ],
   "source": [
    "cursor.execute(\"drop index idx_contacts_email \")"
   ]
  },
  {
   "cell_type": "code",
   "execution_count": 66,
   "id": "b7fa7190",
   "metadata": {},
   "outputs": [
    {
     "name": "stdout",
     "output_type": "stream",
     "text": [
      "(0, 'indexx', 1, 'c', 0)\n",
      "(1, 'sqlite_autoindex_pratik_1', 1, 'pk', 0)\n"
     ]
    }
   ],
   "source": [
    "result=cursor.execute(\"PRAGMA index_list('pratik')\")\n",
    "for row in result:\n",
    "    print(row)"
   ]
  },
  {
   "cell_type": "markdown",
   "id": "9f3cdaaf",
   "metadata": {},
   "source": [
    "# What is the unique index?\n",
    "UNIQUE INDEX is used to enforce the uniqueness of values in single or multiple columns. We can create more than one unique index in a single table. For creating a unique index, the user has to check the data in the column because the unique indexes are used when any column of the table has unique values. This indexing does not allow the field to have duplicate values if the column is unique indexed. A unique index can be applied automatically when a primary key is defined."
   ]
  },
  {
   "cell_type": "markdown",
   "id": "dbebc5c5",
   "metadata": {},
   "source": [
    "# Difference bw where and having-\n",
    "\n",
    "In SQL, WHERE and HAVING clauses are used to filter records from a table based on a specified condition. The main difference between them is that the WHERE clause is used to filter records before any groupings are made, while the HAVING clause is used to filter values from a group "
   ]
  },
  {
   "cell_type": "markdown",
   "id": "17b0d7fa",
   "metadata": {},
   "source": [
    "# Advantages of views-\n",
    "\n",
    "SQL views are very powerful when used properly. They allow us to store our SQL queries into virtualized containers (aka virtual tables) in our database. They also contain rows and columns just like a traditional table. The main difference is that views don’t store any data, while tables do. Views are only able to store the underlying SQL statement to retrieve a result set. There isn’t an option to insert or update data in views since they only act as a reference to data in physical tables.\n",
    "\n",
    "1. Reusability-\n",
    "Views allow us to easily access our SQL queries without having to re-write our SELECT statements repeatedly. For example, we would create a view if we had multiple tables that we commonly join to. These views may have conditional logic or aggregations we don’t want to constantly rewrite. Just be careful with this kind of approach since it can often result in performance degradation if not used properly. Many database users begin to treat views as if they were tables. That can be a problem if the user doesn’t understand the underlying query within the view.\n",
    "\n",
    "\n",
    "2. Storing the complexities-\n",
    "We can use SQL queries to build in complex business logic with certain formulas or combination of data joins and filters. SQL views are a great away to store these complexities and have accessibility and reusability.\n",
    "\n",
    "\n",
    "3. Security-\n",
    "Views are another way to limit visibility into a database. We may not want to provide certain users access to actual tables and rather give them access to views that would have a slice of the data rather than the full set. As an example, we may have teachers at a school that need access to their student data. We only want to give them access to view their own students. Views can be an effective method at providing the visibility they need."
   ]
  },
  {
   "cell_type": "markdown",
   "id": "dc6a8e00",
   "metadata": {},
   "source": [
    "# Case when Function practicle-"
   ]
  },
  {
   "cell_type": "code",
   "execution_count": 68,
   "id": "150f3f56",
   "metadata": {},
   "outputs": [
    {
     "name": "stdout",
     "output_type": "stream",
     "text": [
      "(100, 'pratik', '28', 'data science', 50000, '1 year')\n",
      "(101, 'Pratik ', '22', 'data science ', 50000, 16)\n",
      "(102, 'ram', '21', 'business analytics ', 60000, 17)\n",
      "(103, 'shyam ', '31', 'MBA', 70000, 20)\n",
      "(104, 'sita', '31', 'PHD', 80000, 18)\n",
      "(105, 'ayush ', '34', 'PG', 90000, 14)\n",
      "(106, 'mayank', '40', 'engineering', 100000, 19)\n",
      "(107, 'raj ', '28', 'IT', 110000, 14)\n",
      "(108, 'ganesh ', '31', 'data science ', 120000, 14)\n",
      "(109, 'kartik ', '28', 'business analytics ', 130000, 11)\n",
      "(110, 'salman ', '33', 'MBA', 140000, 13)\n",
      "(111, 'srk', '32', 'IT', 150000, 16)\n",
      "(112, 'ritik ', '27', 'BE', 160000, 15)\n",
      "(113, 'sheela', '38', 'ME', 170000, 13)\n",
      "(114, 'reena', '22', 'IT', 180000, 18)\n",
      "(115, 'mahima', '20', 'data science ', 190000, 15)\n",
      "(116, 'ankita ', '33', 'business analytics ', 200000, 18)\n",
      "(117, 'jyoti ', '35', 'ME', 210000, 18)\n",
      "(118, 'aayushi ', '21', 'BE', 220000, 19)\n",
      "(119, 'ranka ', '39', 'PG', 230000, 17)\n",
      "(120, 'aditi ', '23', 'engineering', 240000, 15)\n",
      "(121, 'jainu', '30', 'IT', 250000, 11)\n",
      "(122, 'ritika', '26', 'data science ', 260000, 10)\n",
      "(123, 'anushka', '35', 'ME', 270000, 10)\n",
      "(124, 'sheelu', '38', 'MBA', 280000, 12)\n",
      "(125, 'radha', '24', 'PHD', 290000, 10)\n",
      "(126, 'surbhi ', '28', 'PG', 300000, 19)\n",
      "(127, 'neha ', '28', 'engineering', 310000, 15)\n",
      "(128, 'gabbu ', '40', 'IT', 320000, 10)\n",
      "(129, 'tannu ', '30', 'ME', 330000, 15)\n",
      "(130, 'kannu', '32', 'BE', 340000, 19)\n",
      "(131, 'raamma', '44', 'ME', 35999, 21)\n"
     ]
    }
   ],
   "source": [
    "result=cursor.execute('select * from pratik')\n",
    "for row in result:\n",
    "    print(row)"
   ]
  },
  {
   "cell_type": "code",
   "execution_count": 76,
   "id": "bf10e0de",
   "metadata": {},
   "outputs": [
    {
     "name": "stdout",
     "output_type": "stream",
     "text": [
      "(100, 'pratik', 'bad')\n",
      "(101, 'Pratik ', 'bad')\n",
      "(102, 'ram', 'bad')\n",
      "(103, 'shyam ', 'bad')\n",
      "(104, 'sita', 'bad')\n",
      "(105, 'ayush ', 'bad')\n",
      "(106, 'mayank', 'bad')\n",
      "(107, 'raj ', 'bad')\n",
      "(108, 'ganesh ', 'bad')\n",
      "(109, 'kartik ', 'bad')\n",
      "(110, 'salman ', 'bad')\n",
      "(111, 'srk', 'bad')\n",
      "(112, 'ritik ', 'bad')\n",
      "(113, 'sheela', 'bad')\n",
      "(114, 'reena', 'bad')\n",
      "(115, 'mahima', 'bad')\n",
      "(116, 'ankita ', 'bad')\n",
      "(117, 'jyoti ', 'bad')\n",
      "(118, 'aayushi ', 'bad')\n",
      "(119, 'ranka ', 'bad')\n",
      "(120, 'aditi ', 'bad')\n",
      "(121, 'jainu', 'bad')\n",
      "(122, 'ritika', 'bad')\n",
      "(123, 'anushka', 'bad')\n",
      "(124, 'sheelu', 'bad')\n",
      "(125, 'radha', 'bad')\n",
      "(126, 'surbhi ', 'good')\n",
      "(127, 'neha ', 'good')\n",
      "(128, 'gabbu ', 'good')\n",
      "(129, 'tannu ', 'good')\n",
      "(130, 'kannu', 'good')\n",
      "(131, 'raamma', 'good')\n"
     ]
    }
   ],
   "source": [
    "result=cursor.execute(\"select roll_no,name, case when roll_no>125 then 'good' when roll_no<=125 then 'bad' else 'easy' end as column_name from pratik\")\n",
    "for row in result:\n",
    "    print(row)"
   ]
  },
  {
   "cell_type": "markdown",
   "id": "8dc6e9ad",
   "metadata": {},
   "source": [
    "# Limit function we do use for getting the highest or lowest or top or bottom no of elements-"
   ]
  },
  {
   "cell_type": "code",
   "execution_count": 85,
   "id": "09cd72d1",
   "metadata": {},
   "outputs": [
    {
     "name": "stdout",
     "output_type": "stream",
     "text": [
      "(100, 'pratik', '28', 'data science', 50000, '1 year')\n",
      "(101, 'Pratik ', '22', 'data science ', 50000, 16)\n",
      "(102, 'ram', '21', 'business analytics ', 60000, 17)\n",
      "(103, 'shyam ', '31', 'MBA', 70000, 20)\n",
      "(104, 'sita', '31', 'PHD', 80000, 18)\n",
      "(105, 'ayush ', '34', 'PG', 90000, 14)\n",
      "(106, 'mayank', '40', 'engineering', 100000, 19)\n",
      "(107, 'raj ', '28', 'IT', 110000, 14)\n",
      "(108, 'ganesh ', '31', 'data science ', 120000, 14)\n",
      "(109, 'kartik ', '28', 'business analytics ', 130000, 11)\n",
      "(110, 'salman ', '33', 'MBA', 140000, 13)\n",
      "(111, 'srk', '32', 'IT', 150000, 16)\n",
      "(112, 'ritik ', '27', 'BE', 160000, 15)\n",
      "(113, 'sheela', '38', 'ME', 170000, 13)\n",
      "(114, 'reena', '22', 'IT', 180000, 18)\n",
      "(115, 'mahima', '20', 'data science ', 190000, 15)\n",
      "(116, 'ankita ', '33', 'business analytics ', 200000, 18)\n",
      "(117, 'jyoti ', '35', 'ME', 210000, 18)\n",
      "(118, 'aayushi ', '21', 'BE', 220000, 19)\n",
      "(119, 'ranka ', '39', 'PG', 230000, 17)\n",
      "(120, 'aditi ', '23', 'engineering', 240000, 15)\n",
      "(121, 'jainu', '30', 'IT', 250000, 11)\n",
      "(122, 'ritika', '26', 'data science ', 260000, 10)\n",
      "(123, 'anushka', '35', 'ME', 270000, 10)\n",
      "(124, 'sheelu', '38', 'MBA', 280000, 12)\n",
      "(125, 'radha', '24', 'PHD', 290000, 10)\n",
      "(126, 'surbhi ', '28', 'PG', 300000, 19)\n",
      "(127, 'neha ', '28', 'engineering', 310000, 15)\n",
      "(128, 'gabbu ', '40', 'IT', 320000, 10)\n",
      "(129, 'tannu ', '30', 'ME', 330000, 15)\n",
      "(130, 'kannu', '32', 'BE', 340000, 19)\n",
      "(131, 'raamma', '44', 'ME', 35999, 21)\n"
     ]
    }
   ],
   "source": [
    "result=cursor.execute('select * from pratik')\n",
    "for row in result:\n",
    "    print(row)"
   ]
  },
  {
   "cell_type": "code",
   "execution_count": 92,
   "id": "cbd6afbe",
   "metadata": {},
   "outputs": [
    {
     "name": "stdout",
     "output_type": "stream",
     "text": [
      "('PHD',)\n",
      "('PG',)\n"
     ]
    }
   ],
   "source": [
    "result=cursor.execute(\"select distinct course from pratik where course like 'p%' order by course desc \")\n",
    "for row in result:\n",
    "    print(row)"
   ]
  },
  {
   "cell_type": "code",
   "execution_count": 106,
   "id": "7bba4b45",
   "metadata": {},
   "outputs": [
    {
     "name": "stdout",
     "output_type": "stream",
     "text": [
      "(130, 340000)\n",
      "(129, 330000)\n"
     ]
    }
   ],
   "source": [
    "result=cursor.execute(\"select roll_no,fees as fees from pratik order by fees desc limit 2 \")\n",
    "for row in result:\n",
    "    print(row)"
   ]
  },
  {
   "cell_type": "markdown",
   "id": "bc3c0aef",
   "metadata": {},
   "source": [
    "# use of offset-"
   ]
  },
  {
   "cell_type": "markdown",
   "id": "ed9534f7",
   "metadata": {},
   "source": [
    "# How to get 2nd lowest value-"
   ]
  },
  {
   "cell_type": "code",
   "execution_count": 109,
   "id": "cfb9db60",
   "metadata": {},
   "outputs": [
    {
     "name": "stdout",
     "output_type": "stream",
     "text": [
      "(100, 50000)\n"
     ]
    }
   ],
   "source": [
    "result=cursor.execute(\"select roll_no,fees as fees from pratik order by fees asc limit 1 offset 1 \")\n",
    "for row in result:\n",
    "    print(row)"
   ]
  },
  {
   "cell_type": "markdown",
   "id": "2906fb43",
   "metadata": {},
   "source": [
    "# How to get 2nd heighest value-"
   ]
  },
  {
   "cell_type": "code",
   "execution_count": 64,
   "id": "d7c45645",
   "metadata": {},
   "outputs": [
    {
     "name": "stdout",
     "output_type": "stream",
     "text": [
      "(129, 330000)\n"
     ]
    }
   ],
   "source": [
    "result=cursor.execute(\"select roll_no,fees as fees from pratik order by fees desc limit 1 offset 1\")\n",
    "for row in result:\n",
    "    print(row)"
   ]
  },
  {
   "cell_type": "markdown",
   "id": "88ada7ac",
   "metadata": {},
   "source": [
    "# Char & Varchar-"
   ]
  },
  {
   "cell_type": "markdown",
   "id": "26e7ece9",
   "metadata": {},
   "source": [
    "# 1. CHAR Datatype: \n",
    "It is a datatype in SQL which is used to store character string of fixed length specified. If the length of the string is less than set or fixed-length then it is padded with extra blank spaces so that its length became equal to the set length when PAD_CHAR_TO_FULL_LENGTH SQL mode is enabled. The storage size of the CHAR datatype is n bytes(set length). We should use this datatype when we expect the data values in a column are of the same length. \n",
    "\n",
    "Example: \n",
    "Consider the Query:  \n",
    "\n",
    "CREATE TABLE Student(Name VARCHAR(30), Gender CHAR(6));\n",
    "INSERT into Student VALUES('Herry', 'Male');\n",
    "INSERT into Student VALUES('Mahi', 'Female');\n",
    "SELECT LENGTH(Gender) FROM Student;\n",
    "OUTPUT:  \n",
    "\n",
    "LENGTH(Gender)   \n",
    "6    \n",
    "6\n",
    "\n",
    "\n",
    "\n",
    "# 2. VARCHAR Datatype: \n",
    "\n",
    "It is a datatype in SQL which is used to store character string of variable length but a maximum of the set length specified. If the length of the string is less than set or fixed-length then it will store as it is without padded with extra blank spaces. The storage size of the VARCHAR datatype is equal to the actual length of the entered string in bytes. We should use this datatype when we expect the data values in a column are of variable length. \n",
    "\n",
    "Consider the Query:  \n",
    "\n",
    "CREATE TABLE Student(Name VARCHAR(20), Gender CHAR(6));\n",
    "INSERT into Student VALUES('Herry', 'Male');\n",
    "INSERT into Student VALUES('Mahi', 'Female');\n",
    "SELECT LENGTH(Name) FROM Student;\n",
    "OUTPUT:  \n",
    "\n",
    "LENGTH(Name)     \n",
    "5    \n",
    "4"
   ]
  },
  {
   "cell_type": "markdown",
   "id": "a495b1e8",
   "metadata": {},
   "source": [
    "# Aggregate functions: \n",
    "These functions are used to do operations from the values of the column and a single value is returned. \n",
    "AVG()      \n",
    "COUNT()      \n",
    "FIRST()      \n",
    "LAST()      \n",
    "MAX()     \n",
    "MIN()      \n",
    "SUM()     \n",
    "\n",
    "\n",
    "# Scalar functions: \n",
    "These functions are based on user input, these too returns single value.      \n",
    "UCASE()      \n",
    "LCASE()      \n",
    "MID()      \n",
    "LEN()      \n",
    "ROUND()      \n",
    "NOW()      \n",
    "FORMAT()      "
   ]
  },
  {
   "cell_type": "markdown",
   "id": "68b88f12",
   "metadata": {},
   "source": [
    "# Count Function- will give you how many rows are there-"
   ]
  },
  {
   "cell_type": "code",
   "execution_count": 110,
   "id": "8c5b819a",
   "metadata": {},
   "outputs": [
    {
     "name": "stdout",
     "output_type": "stream",
     "text": [
      "(100, 'pratik', '28', 'data science', 50000, '1 year')\n",
      "(101, 'Pratik ', '22', 'data science ', 50000, 16)\n",
      "(102, 'ram', '21', 'business analytics ', 60000, 17)\n",
      "(103, 'shyam ', '31', 'MBA', 70000, 20)\n",
      "(104, 'sita', '31', 'PHD', 80000, 18)\n",
      "(105, 'ayush ', '34', 'PG', 90000, 14)\n",
      "(106, 'mayank', '40', 'engineering', 100000, 19)\n",
      "(107, 'raj ', '28', 'IT', 110000, 14)\n",
      "(108, 'ganesh ', '31', 'data science ', 120000, 14)\n",
      "(109, 'kartik ', '28', 'business analytics ', 130000, 11)\n",
      "(110, 'salman ', '33', 'MBA', 140000, 13)\n",
      "(111, 'srk', '32', 'IT', 150000, 16)\n",
      "(112, 'ritik ', '27', 'BE', 160000, 15)\n",
      "(113, 'sheela', '38', 'ME', 170000, 13)\n",
      "(114, 'reena', '22', 'IT', 180000, 18)\n",
      "(115, 'mahima', '20', 'data science ', 190000, 15)\n",
      "(116, 'ankita ', '33', 'business analytics ', 200000, 18)\n",
      "(117, 'jyoti ', '35', 'ME', 210000, 18)\n",
      "(118, 'aayushi ', '21', 'BE', 220000, 19)\n",
      "(119, 'ranka ', '39', 'PG', 230000, 17)\n",
      "(120, 'aditi ', '23', 'engineering', 240000, 15)\n",
      "(121, 'jainu', '30', 'IT', 250000, 11)\n",
      "(122, 'ritika', '26', 'data science ', 260000, 10)\n",
      "(123, 'anushka', '35', 'ME', 270000, 10)\n",
      "(124, 'sheelu', '38', 'MBA', 280000, 12)\n",
      "(125, 'radha', '24', 'PHD', 290000, 10)\n",
      "(126, 'surbhi ', '28', 'PG', 300000, 19)\n",
      "(127, 'neha ', '28', 'engineering', 310000, 15)\n",
      "(128, 'gabbu ', '40', 'IT', 320000, 10)\n",
      "(129, 'tannu ', '30', 'ME', 330000, 15)\n",
      "(130, 'kannu', '32', 'BE', 340000, 19)\n",
      "(131, 'raamma', '44', 'ME', 35999, 21)\n"
     ]
    }
   ],
   "source": [
    "result=cursor.execute('select * from pratik')\n",
    "for row in result:\n",
    "    print(row)"
   ]
  },
  {
   "cell_type": "code",
   "execution_count": 111,
   "id": "91420b3c",
   "metadata": {},
   "outputs": [
    {
     "name": "stdout",
     "output_type": "stream",
     "text": [
      "(32,)\n"
     ]
    }
   ],
   "source": [
    "result=cursor.execute('select count(roll_no) from pratik')\n",
    "for row in result:\n",
    "    print(row)"
   ]
  },
  {
   "cell_type": "code",
   "execution_count": 113,
   "id": "62339ff9",
   "metadata": {},
   "outputs": [
    {
     "name": "stdout",
     "output_type": "stream",
     "text": [
      "(32,)\n"
     ]
    }
   ],
   "source": [
    "result=cursor.execute('select count(course) from pratik')\n",
    "for row in result:\n",
    "    print(row)"
   ]
  },
  {
   "cell_type": "code",
   "execution_count": 107,
   "id": "c596e641",
   "metadata": {},
   "outputs": [
    {
     "name": "stdout",
     "output_type": "stream",
     "text": [
      "(11,)\n"
     ]
    }
   ],
   "source": [
    "result=cursor.execute('select count(distinct course) from prateek')\n",
    "for row in result:\n",
    "    print(row)"
   ]
  },
  {
   "cell_type": "code",
   "execution_count": 118,
   "id": "d4e3a3af",
   "metadata": {},
   "outputs": [
    {
     "name": "stdout",
     "output_type": "stream",
     "text": [
      "(32,)\n"
     ]
    }
   ],
   "source": [
    "result=cursor.execute('select count (*) from pratik')\n",
    "for row in result:\n",
    "    print(row)"
   ]
  },
  {
   "cell_type": "code",
   "execution_count": 120,
   "id": "62858900",
   "metadata": {},
   "outputs": [
    {
     "name": "stdout",
     "output_type": "stream",
     "text": [
      "('BE', 3)\n",
      "('IT', 5)\n",
      "('MBA', 3)\n",
      "('ME', 5)\n",
      "('PG', 3)\n",
      "('PHD', 2)\n",
      "('business analytics ', 3)\n",
      "('data science', 1)\n",
      "('data science ', 4)\n",
      "('engineering', 3)\n"
     ]
    }
   ],
   "source": [
    "result=cursor.execute('select course, count (*) as count from pratik group by course')\n",
    "for row in result:\n",
    "    print(row)"
   ]
  },
  {
   "cell_type": "markdown",
   "id": "13cd3816",
   "metadata": {},
   "source": [
    "# avg-"
   ]
  },
  {
   "cell_type": "code",
   "execution_count": 116,
   "id": "511db7ee",
   "metadata": {},
   "outputs": [
    {
     "name": "stdout",
     "output_type": "stream",
     "text": [
      "(185499.96875,)\n"
     ]
    }
   ],
   "source": [
    "result=cursor.execute('select avg(fees) from pratik')\n",
    "for row in result:\n",
    "    print(row)"
   ]
  },
  {
   "cell_type": "markdown",
   "id": "c42d746f",
   "metadata": {},
   "source": [
    "# sum-"
   ]
  },
  {
   "cell_type": "code",
   "execution_count": 128,
   "id": "b1f6dc5f",
   "metadata": {},
   "outputs": [
    {
     "name": "stdout",
     "output_type": "stream",
     "text": [
      "(5935999,)\n"
     ]
    }
   ],
   "source": [
    "result=cursor.execute('select sum(fees) from pratik')\n",
    "for row in result:\n",
    "    print(row)"
   ]
  },
  {
   "cell_type": "markdown",
   "id": "27e8e7f3",
   "metadata": {},
   "source": [
    "# Upper-"
   ]
  },
  {
   "cell_type": "code",
   "execution_count": 129,
   "id": "3ac228f1",
   "metadata": {},
   "outputs": [
    {
     "name": "stdout",
     "output_type": "stream",
     "text": [
      "('DATA SCIENCE',)\n",
      "('DATA SCIENCE ',)\n",
      "('BUSINESS ANALYTICS ',)\n",
      "('MBA',)\n",
      "('PHD',)\n",
      "('PG',)\n",
      "('ENGINEERING',)\n",
      "('IT',)\n",
      "('DATA SCIENCE ',)\n",
      "('BUSINESS ANALYTICS ',)\n",
      "('MBA',)\n",
      "('IT',)\n",
      "('BE',)\n",
      "('ME',)\n",
      "('IT',)\n",
      "('DATA SCIENCE ',)\n",
      "('BUSINESS ANALYTICS ',)\n",
      "('ME',)\n",
      "('BE',)\n",
      "('PG',)\n",
      "('ENGINEERING',)\n",
      "('IT',)\n",
      "('DATA SCIENCE ',)\n",
      "('ME',)\n",
      "('MBA',)\n",
      "('PHD',)\n",
      "('PG',)\n",
      "('ENGINEERING',)\n",
      "('IT',)\n",
      "('ME',)\n",
      "('BE',)\n",
      "('ME',)\n"
     ]
    }
   ],
   "source": [
    "result=cursor.execute('select upper(course) from pratik')\n",
    "for row in result:\n",
    "    print(row)"
   ]
  },
  {
   "cell_type": "markdown",
   "id": "c1f0d083",
   "metadata": {},
   "source": [
    "# length-"
   ]
  },
  {
   "cell_type": "code",
   "execution_count": 134,
   "id": "a2a9aab9",
   "metadata": {},
   "outputs": [
    {
     "name": "stdout",
     "output_type": "stream",
     "text": [
      "(12,)\n",
      "(13,)\n",
      "(19,)\n",
      "(3,)\n",
      "(3,)\n",
      "(2,)\n",
      "(11,)\n",
      "(2,)\n",
      "(13,)\n",
      "(19,)\n",
      "(3,)\n",
      "(2,)\n",
      "(2,)\n",
      "(2,)\n",
      "(2,)\n",
      "(13,)\n",
      "(19,)\n",
      "(2,)\n",
      "(2,)\n",
      "(2,)\n",
      "(11,)\n",
      "(2,)\n",
      "(13,)\n",
      "(2,)\n",
      "(3,)\n",
      "(3,)\n",
      "(2,)\n",
      "(11,)\n",
      "(2,)\n",
      "(2,)\n",
      "(2,)\n",
      "(2,)\n"
     ]
    }
   ],
   "source": [
    "result=cursor.execute('select length(course) from pratik')\n",
    "for row in result:\n",
    "    print(row)"
   ]
  },
  {
   "cell_type": "markdown",
   "id": "d88a5986",
   "metadata": {},
   "source": [
    "# substr-returns specified no of strings length"
   ]
  },
  {
   "cell_type": "code",
   "execution_count": 140,
   "id": "ede21c39",
   "metadata": {},
   "outputs": [
    {
     "name": "stdout",
     "output_type": "stream",
     "text": [
      "('dat',)\n",
      "('dat',)\n",
      "('bus',)\n",
      "('MBA',)\n",
      "('PHD',)\n",
      "('PG',)\n",
      "('eng',)\n",
      "('IT',)\n",
      "('dat',)\n",
      "('bus',)\n",
      "('MBA',)\n",
      "('IT',)\n",
      "('BE',)\n",
      "('ME',)\n",
      "('IT',)\n",
      "('dat',)\n",
      "('bus',)\n",
      "('ME',)\n",
      "('BE',)\n",
      "('PG',)\n",
      "('eng',)\n",
      "('IT',)\n",
      "('dat',)\n",
      "('ME',)\n",
      "('MBA',)\n",
      "('PHD',)\n",
      "('PG',)\n",
      "('eng',)\n",
      "('IT',)\n",
      "('ME',)\n",
      "('BE',)\n",
      "('ME',)\n"
     ]
    }
   ],
   "source": [
    "result=cursor.execute('select substr(course,1,3) from pratik')\n",
    "for row in result:\n",
    "    print(row)"
   ]
  },
  {
   "cell_type": "markdown",
   "id": "256234ac",
   "metadata": {},
   "source": [
    "# Round- round off with decimals"
   ]
  },
  {
   "cell_type": "code",
   "execution_count": 148,
   "id": "7131f485",
   "metadata": {},
   "outputs": [
    {
     "name": "stdout",
     "output_type": "stream",
     "text": [
      "(185500.0,)\n"
     ]
    }
   ],
   "source": [
    "result=cursor.execute('select round(avg(fees),0) from pratik')\n",
    "for row in result:\n",
    "    print(row)"
   ]
  },
  {
   "cell_type": "markdown",
   "id": "0a40d925",
   "metadata": {},
   "source": [
    "# DATETIME() function-"
   ]
  },
  {
   "cell_type": "code",
   "execution_count": 161,
   "id": "450b0b02",
   "metadata": {},
   "outputs": [
    {
     "name": "stdout",
     "output_type": "stream",
     "text": [
      "('pratik', '2023-10-08 11:46:23')\n",
      "('Pratik ', '2023-10-08 11:46:23')\n",
      "('ram', '2023-10-08 11:46:23')\n",
      "('shyam ', '2023-10-08 11:46:23')\n",
      "('sita', '2023-10-08 11:46:23')\n",
      "('ayush ', '2023-10-08 11:46:23')\n",
      "('mayank', '2023-10-08 11:46:23')\n",
      "('raj ', '2023-10-08 11:46:23')\n",
      "('ganesh ', '2023-10-08 11:46:23')\n",
      "('kartik ', '2023-10-08 11:46:23')\n",
      "('salman ', '2023-10-08 11:46:23')\n",
      "('srk', '2023-10-08 11:46:23')\n",
      "('ritik ', '2023-10-08 11:46:23')\n",
      "('sheela', '2023-10-08 11:46:23')\n",
      "('reena', '2023-10-08 11:46:23')\n",
      "('mahima', '2023-10-08 11:46:23')\n",
      "('ankita ', '2023-10-08 11:46:23')\n",
      "('jyoti ', '2023-10-08 11:46:23')\n",
      "('aayushi ', '2023-10-08 11:46:23')\n",
      "('ranka ', '2023-10-08 11:46:23')\n",
      "('aditi ', '2023-10-08 11:46:23')\n",
      "('jainu', '2023-10-08 11:46:23')\n",
      "('ritika', '2023-10-08 11:46:23')\n",
      "('anushka', '2023-10-08 11:46:23')\n",
      "('sheelu', '2023-10-08 11:46:23')\n",
      "('radha', '2023-10-08 11:46:23')\n",
      "('surbhi ', '2023-10-08 11:46:23')\n",
      "('neha ', '2023-10-08 11:46:23')\n",
      "('gabbu ', '2023-10-08 11:46:23')\n",
      "('tannu ', '2023-10-08 11:46:23')\n",
      "('kannu', '2023-10-08 11:46:23')\n",
      "('raamma', '2023-10-08 11:46:23')\n"
     ]
    }
   ],
   "source": [
    "result=cursor.execute('select  name, datetime() as now from pratik')\n",
    "for row in result:\n",
    "    print(row)"
   ]
  },
  {
   "cell_type": "markdown",
   "id": "d9b5a68e",
   "metadata": {},
   "source": [
    "# What is SQL? \n",
    "SQL stands for Structured Query Language. It is a language used to interact with the database, i.e to create a database, to create a table in the database, to retrieve data or update a table in the database, etc. SQL is an ANSI(American National Standards Institute) standard. Using SQL, we can do many things. For example – we can execute queries, we can insert records into a table, can update records, can create a database, can create a table, can delete a table, etc."
   ]
  },
  {
   "cell_type": "markdown",
   "id": "75f6c077",
   "metadata": {},
   "source": [
    "# Does SQL support programming language features? \n",
    "It is true that SQL is a language, but it does not support programming as it is not a programming language, it is a command language. We do not have conditional statements in SQL like for loops or if..else, we only have commands which we can use to query, update, delete, etc. data in the database. SQL allows us to manipulate data in a database."
   ]
  },
  {
   "cell_type": "markdown",
   "id": "caca9557",
   "metadata": {},
   "source": [
    "# TRIM function- Removes spaces "
   ]
  },
  {
   "cell_type": "code",
   "execution_count": 164,
   "id": "30fb6ede",
   "metadata": {},
   "outputs": [
    {
     "name": "stdout",
     "output_type": "stream",
     "text": [
      "(100, 'pratik', '28', 'data science', 50000, '1 year')\n",
      "(101, 'Pratik ', '22', 'data science ', 50000, 16)\n",
      "(102, 'ram', '21', 'business analytics ', 60000, 17)\n",
      "(103, 'shyam ', '31', 'MBA', 70000, 20)\n",
      "(104, 'sita', '31', 'PHD', 80000, 18)\n",
      "(105, 'ayush ', '34', 'PG', 90000, 14)\n",
      "(106, 'mayank', '40', 'engineering', 100000, 19)\n",
      "(107, 'raj ', '28', 'IT', 110000, 14)\n",
      "(108, 'ganesh ', '31', 'data science ', 120000, 14)\n",
      "(109, 'kartik ', '28', 'business analytics ', 130000, 11)\n",
      "(110, 'salman ', '33', 'MBA', 140000, 13)\n",
      "(111, 'srk', '32', 'IT', 150000, 16)\n",
      "(112, 'ritik ', '27', 'BE', 160000, 15)\n",
      "(113, 'sheela', '38', 'ME', 170000, 13)\n",
      "(114, 'reena', '22', 'IT', 180000, 18)\n",
      "(115, 'mahima', '20', 'data science ', 190000, 15)\n",
      "(116, 'ankita ', '33', 'business analytics ', 200000, 18)\n",
      "(117, 'jyoti ', '35', 'ME', 210000, 18)\n",
      "(118, 'aayushi ', '21', 'BE', 220000, 19)\n",
      "(119, 'ranka ', '39', 'PG', 230000, 17)\n",
      "(120, 'aditi ', '23', 'engineering', 240000, 15)\n",
      "(121, 'jainu', '30', 'IT', 250000, 11)\n",
      "(122, 'ritika', '26', 'data science ', 260000, 10)\n",
      "(123, 'anushka', '35', 'ME', 270000, 10)\n",
      "(124, 'sheelu', '38', 'MBA', 280000, 12)\n",
      "(125, 'radha', '24', 'PHD', 290000, 10)\n",
      "(126, 'surbhi ', '28', 'PG', 300000, 19)\n",
      "(127, 'neha ', '28', 'engineering', 310000, 15)\n",
      "(128, 'gabbu ', '40', 'IT', 320000, 10)\n",
      "(129, 'tannu ', '30', 'ME', 330000, 15)\n",
      "(130, 'kannu', '32', 'BE', 340000, 19)\n",
      "(131, 'raamma', '44', 'ME', 35999, 21)\n"
     ]
    }
   ],
   "source": [
    "result=cursor.execute('select * from pratik')\n",
    "for row in result:\n",
    "    print(row)"
   ]
  },
  {
   "cell_type": "code",
   "execution_count": 167,
   "id": "3d8ba197",
   "metadata": {},
   "outputs": [
    {
     "name": "stdout",
     "output_type": "stream",
     "text": [
      "('pratik',)\n",
      "('Pratik',)\n",
      "('ram',)\n",
      "('shyam',)\n",
      "('sita',)\n",
      "('ayush',)\n",
      "('mayank',)\n",
      "('raj',)\n",
      "('ganesh',)\n",
      "('kartik',)\n",
      "('salman',)\n",
      "('srk',)\n",
      "('ritik',)\n",
      "('sheela',)\n",
      "('reena',)\n",
      "('mahima',)\n",
      "('ankita',)\n",
      "('jyoti',)\n",
      "('aayushi',)\n",
      "('ranka',)\n",
      "('aditi',)\n",
      "('jainu',)\n",
      "('ritika',)\n",
      "('anushka',)\n",
      "('sheelu',)\n",
      "('radha',)\n",
      "('surbhi',)\n",
      "('neha',)\n",
      "('gabbu',)\n",
      "('tannu',)\n",
      "('kannu',)\n",
      "('raamma',)\n"
     ]
    }
   ],
   "source": [
    "result=cursor.execute('select trim(name) as name from pratik')\n",
    "for row in result:\n",
    "    print(row)"
   ]
  },
  {
   "cell_type": "markdown",
   "id": "628d4f42",
   "metadata": {},
   "source": [
    "# Replace function-"
   ]
  },
  {
   "cell_type": "code",
   "execution_count": 178,
   "id": "85048d9d",
   "metadata": {},
   "outputs": [],
   "source": [
    "result=cursor.execute(\"UPDATE pratik set course=replace(course,'data','DATA')\")"
   ]
  },
  {
   "cell_type": "code",
   "execution_count": 180,
   "id": "715fcda6",
   "metadata": {},
   "outputs": [
    {
     "name": "stdout",
     "output_type": "stream",
     "text": [
      "(100, 'pratik', '28', 'DATA science', 50000, '1 year')\n",
      "(101, 'Pratik ', '22', 'DATA science ', 50000, 16)\n",
      "(102, 'ram', '21', 'business analytics ', 60000, 17)\n",
      "(103, 'shyam ', '31', 'MBA', 70000, 20)\n",
      "(104, 'sita', '31', 'PHD', 80000, 18)\n",
      "(105, 'ayush ', '34', 'PG', 90000, 14)\n",
      "(106, 'mayank', '40', 'engineering', 100000, 19)\n",
      "(107, 'raj ', '28', 'IT', 110000, 14)\n",
      "(108, 'ganesh ', '31', 'DATA science ', 120000, 14)\n",
      "(109, 'kartik ', '28', 'business analytics ', 130000, 11)\n",
      "(110, 'salman ', '33', 'MBA', 140000, 13)\n",
      "(111, 'srk', '32', 'IT', 150000, 16)\n",
      "(112, 'ritik ', '27', 'BE', 160000, 15)\n",
      "(113, 'sheela', '38', 'ME', 170000, 13)\n",
      "(114, 'reena', '22', 'IT', 180000, 18)\n",
      "(115, 'mahima', '20', 'DATA science ', 190000, 15)\n",
      "(116, 'ankita ', '33', 'business analytics ', 200000, 18)\n",
      "(117, 'jyoti ', '35', 'ME', 210000, 18)\n",
      "(118, 'aayushi ', '21', 'BE', 220000, 19)\n",
      "(119, 'ranka ', '39', 'PG', 230000, 17)\n",
      "(120, 'aditi ', '23', 'engineering', 240000, 15)\n",
      "(121, 'jainu', '30', 'IT', 250000, 11)\n",
      "(122, 'ritika', '26', 'DATA science ', 260000, 10)\n",
      "(123, 'anushka', '35', 'ME', 270000, 10)\n",
      "(124, 'sheelu', '38', 'MBA', 280000, 12)\n",
      "(125, 'radha', '24', 'PHD', 290000, 10)\n",
      "(126, 'surbhi ', '28', 'PG', 300000, 19)\n",
      "(127, 'neha ', '28', 'engineering', 310000, 15)\n",
      "(128, 'gabbu ', '40', 'IT', 320000, 10)\n",
      "(129, 'tannu ', '30', 'ME', 330000, 15)\n",
      "(130, 'kannu', '32', 'BE', 340000, 19)\n",
      "(131, 'raamma', '44', 'ME', 35999, 21)\n"
     ]
    }
   ],
   "source": [
    "result=cursor.execute('select * from pratik')\n",
    "for row in result:\n",
    "    print(row)"
   ]
  },
  {
   "cell_type": "markdown",
   "id": "774201fa",
   "metadata": {},
   "source": [
    "# Concatenate function-"
   ]
  },
  {
   "cell_type": "code",
   "execution_count": 6,
   "id": "27ecc95b",
   "metadata": {},
   "outputs": [
    {
     "name": "stdout",
     "output_type": "stream",
     "text": [
      "('pratik data science',)\n",
      "('name course',)\n",
      "('Pratik  data science ',)\n",
      "('ram business analytics ',)\n",
      "('shyam  MBA',)\n",
      "('sita PHD',)\n",
      "('ayush  PG',)\n",
      "('mayank engineering',)\n",
      "('raj  IT',)\n",
      "('ganesh  data science ',)\n",
      "('kartik  business analytics ',)\n",
      "('salman  MBA',)\n",
      "('srk IT',)\n",
      "('ritik  BE',)\n",
      "('sheela ME',)\n",
      "('reena IT',)\n",
      "('mahima data science ',)\n",
      "('ankita  business analytics ',)\n",
      "('jyoti  ME',)\n",
      "('aayushi  BE',)\n",
      "('ranka  PG',)\n",
      "('aditi  engineering',)\n",
      "('jainu IT',)\n",
      "('ritika data science ',)\n",
      "('anushka ME',)\n",
      "('sheelu MBA',)\n",
      "('radha PHD',)\n",
      "('surbhi  PG',)\n",
      "('neha  engineering',)\n",
      "('gabbu  IT',)\n",
      "('tannu  ME',)\n",
      "('kannu BE',)\n"
     ]
    }
   ],
   "source": [
    "result=cursor.execute(\"select name || ' ' || course from pratik\")\n",
    "for row in result:\n",
    "    print(row)"
   ]
  },
  {
   "cell_type": "markdown",
   "id": "8065d2f6",
   "metadata": {},
   "source": [
    "# Row count function-"
   ]
  },
  {
   "cell_type": "code",
   "execution_count": 26,
   "id": "bdc2cb81",
   "metadata": {},
   "outputs": [
    {
     "name": "stdout",
     "output_type": "stream",
     "text": [
      "(32,)\n"
     ]
    }
   ],
   "source": [
    "result=cursor.execute(\"SELECT count(roll_no) from pratik\")\n",
    "for row in result:\n",
    "    print(row)"
   ]
  },
  {
   "cell_type": "markdown",
   "id": "7c1aff23",
   "metadata": {},
   "source": [
    "# How to add column to a table-"
   ]
  },
  {
   "cell_type": "code",
   "execution_count": 27,
   "id": "e457ec97",
   "metadata": {},
   "outputs": [
    {
     "data": {
      "text/plain": [
       "<sqlite3.Cursor at 0x135c46e6500>"
      ]
     },
     "execution_count": 27,
     "metadata": {},
     "output_type": "execute_result"
    }
   ],
   "source": [
    "cursor.execute('alter table pratik add column history text')"
   ]
  },
  {
   "cell_type": "code",
   "execution_count": 28,
   "id": "5739bb83",
   "metadata": {},
   "outputs": [
    {
     "name": "stdout",
     "output_type": "stream",
     "text": [
      "(100, 'pratik', '28', 'data science', 50000, '1 year', None)\n",
      "('roll no', 'name', 'age', 'course', 'fees', 'duration\\n', None)\n",
      "(101, 'Pratik ', '22', 'data science ', 50000, 16, None)\n",
      "(102, 'ram', '21', 'business analytics ', 60000, 17, None)\n",
      "(103, 'shyam ', '31', 'MBA', 70000, 20, None)\n",
      "(104, 'sita', '31', 'PHD', 80000, 18, None)\n",
      "(105, 'ayush ', '34', 'PG', 90000, 14, None)\n",
      "(106, 'mayank', '40', 'engineering', 100000, 19, None)\n",
      "(107, 'raj ', '28', 'IT', 110000, 14, None)\n",
      "(108, 'ganesh ', '31', 'data science ', 120000, 14, None)\n",
      "(109, 'kartik ', '28', 'business analytics ', 130000, 11, None)\n",
      "(110, 'salman ', '33', 'MBA', 140000, 13, None)\n",
      "(111, 'srk', '32', 'IT', 150000, 16, None)\n",
      "(112, 'ritik ', '27', 'BE', 160000, 15, None)\n",
      "(113, 'sheela', '38', 'ME', 170000, 13, None)\n",
      "(114, 'reena', '22', 'IT', 180000, 18, None)\n",
      "(115, 'mahima', '20', 'data science ', 190000, 15, None)\n",
      "(116, 'ankita ', '33', 'business analytics ', 200000, 18, None)\n",
      "(117, 'jyoti ', '35', 'ME', 210000, 18, None)\n",
      "(118, 'aayushi ', '21', 'BE', 220000, 19, None)\n",
      "(119, 'ranka ', '39', 'PG', 230000, 17, None)\n",
      "(120, 'aditi ', '23', 'engineering', 240000, 15, None)\n",
      "(121, 'jainu', '30', 'IT', 250000, 11, None)\n",
      "(122, 'ritika', '26', 'data science ', 260000, 10, None)\n",
      "(123, 'anushka', '35', 'ME', 270000, 10, None)\n",
      "(124, 'sheelu', '38', 'MBA', 280000, 12, None)\n",
      "(125, 'radha', '24', 'PHD', 290000, 10, None)\n",
      "(126, 'surbhi ', '28', 'PG', 300000, 19, None)\n",
      "(127, 'neha ', '28', 'engineering', 310000, 15, None)\n",
      "(128, 'gabbu ', '40', 'IT', 320000, 10, None)\n",
      "(129, 'tannu ', '30', 'ME', 330000, 15, None)\n",
      "(130, 'kannu', '32', 'BE', 340000, 19, None)\n"
     ]
    }
   ],
   "source": [
    "result=cursor.execute(\"SELECT * from pratik\")\n",
    "for row in result:\n",
    "    print(row)"
   ]
  },
  {
   "cell_type": "markdown",
   "id": "9755d37b",
   "metadata": {},
   "source": [
    "# Update the name of the table-"
   ]
  },
  {
   "cell_type": "code",
   "execution_count": 52,
   "id": "6a527eba",
   "metadata": {},
   "outputs": [
    {
     "data": {
      "text/plain": [
       "<sqlite3.Cursor at 0x135c4712b20>"
      ]
     },
     "execution_count": 52,
     "metadata": {},
     "output_type": "execute_result"
    }
   ],
   "source": [
    "cursor.execute('alter table pratik rename to prateek')"
   ]
  },
  {
   "cell_type": "code",
   "execution_count": 53,
   "id": "b8d61786",
   "metadata": {},
   "outputs": [
    {
     "name": "stdout",
     "output_type": "stream",
     "text": [
      "(100, 'pratik', '28', 'data science', 50000, '1 year')\n",
      "('roll no', 'name', 'age', 'course', 'fees', 'duration\\n')\n",
      "(101, 'Pratik ', '22', 'data science ', 50000, 16)\n",
      "(102, 'ram', '21', 'business analytics ', 60000, 17)\n",
      "(103, 'shyam ', '31', 'MBA', 70000, 20)\n",
      "(104, 'sita', '31', 'PHD', 80000, 18)\n",
      "(105, 'ayush ', '34', 'PG', 90000, 14)\n",
      "(106, 'mayank', '40', 'engineering', 100000, 19)\n",
      "(107, 'raj ', '28', 'IT', 110000, 14)\n",
      "(108, 'ganesh ', '31', 'data science ', 120000, 14)\n",
      "(109, 'kartik ', '28', 'business analytics ', 130000, 11)\n",
      "(110, 'salman ', '33', 'MBA', 140000, 13)\n",
      "(111, 'srk', '32', 'IT', 150000, 16)\n",
      "(112, 'ritik ', '27', 'BE', 160000, 15)\n",
      "(113, 'sheela', '38', 'ME', 170000, 13)\n",
      "(114, 'reena', '22', 'IT', 180000, 18)\n",
      "(115, 'mahima', '20', 'data science ', 190000, 15)\n",
      "(116, 'ankita ', '33', 'business analytics ', 200000, 18)\n",
      "(117, 'jyoti ', '35', 'ME', 210000, 18)\n",
      "(118, 'aayushi ', '21', 'BE', 220000, 19)\n",
      "(119, 'ranka ', '39', 'PG', 230000, 17)\n",
      "(120, 'aditi ', '23', 'engineering', 240000, 15)\n",
      "(121, 'jainu', '30', 'IT', 250000, 11)\n",
      "(122, 'ritika', '26', 'data science ', 260000, 10)\n",
      "(123, 'anushka', '35', 'ME', 270000, 10)\n",
      "(124, 'sheelu', '38', 'MBA', 280000, 12)\n",
      "(125, 'radha', '24', 'PHD', 290000, 10)\n",
      "(126, 'surbhi ', '28', 'PG', 300000, 19)\n",
      "(127, 'neha ', '28', 'engineering', 310000, 15)\n",
      "(128, 'gabbu ', '40', 'IT', 320000, 10)\n",
      "(129, 'tannu ', '30', 'ME', 330000, 15)\n",
      "(130, 'kannu', '32', 'BE', 340000, 19)\n"
     ]
    }
   ],
   "source": [
    "result=cursor.execute(\"SELECT * from prateek\")\n",
    "for row in result:\n",
    "    print(row)"
   ]
  },
  {
   "cell_type": "markdown",
   "id": "60a22887",
   "metadata": {},
   "source": [
    "# How to create database-"
   ]
  },
  {
   "cell_type": "code",
   "execution_count": 33,
   "id": "d5784403",
   "metadata": {},
   "outputs": [],
   "source": [
    "db=sqlite3.connect('wonder_database.db')"
   ]
  },
  {
   "cell_type": "code",
   "execution_count": 34,
   "id": "8eaf8b13",
   "metadata": {},
   "outputs": [],
   "source": [
    "cursor=db.cursor()"
   ]
  },
  {
   "cell_type": "markdown",
   "id": "679bef33",
   "metadata": {},
   "source": [
    "# What is DBMS-"
   ]
  },
  {
   "cell_type": "markdown",
   "id": "2322e64f",
   "metadata": {},
   "source": [
    "A Database Management System (DBMS) is a software system that is designed to manage and organize data in a structured manner. It allows users to create, modify, and query a database, as well as manage the security and access controls for that database."
   ]
  },
  {
   "cell_type": "markdown",
   "id": "73756dd5",
   "metadata": {},
   "source": [
    "# some key features of a DBMS include:\n",
    "\n",
    "Data modeling: A DBMS provides tools for creating and modifying data models, which define the structure and relationships of the data in a database.\n",
    "\n",
    "Data storage and retrieval: A DBMS is responsible for storing and retrieving data from the database, and can provide various methods for searching and querying the data.\n",
    "\n",
    "Concurrency control: A DBMS provides mechanisms for controlling concurrent access to the database, to ensure that multiple users can access the data without conflicting with each other.\n",
    "\n",
    "Data integrity and security: A DBMS provides tools for enforcing data integrity and security constraints, such as constraints on the values of data and access controls that restrict who can access the data.\n",
    "\n",
    "Backup and recovery: A DBMS provides mechanisms for backing up and recovering the data in the event of a system failure.\n",
    "\n",
    "DBMS can be classified into two types: Relational Database Management System (RDBMS) and Non-Relational Database Management System (NoSQL or Non-SQL)\n",
    "\n",
    "RDBMS: Data is organized in the form of tables and each table has a set of rows and columns. The data is related to each other through primary and foreign keys.\n",
    "\n",
    "NoSQL: Data is organized in the form of key-value pairs, document, graph, or column-based. These are designed to handle large-scale, high-performance scenarios.\n",
    "\n",
    "Database is a collection of interrelated data which helps in the efficient retrieval, insertion, and deletion of data from the database and organizes the data in the form of tables, views, schemas, reports, etc. For Example, a university database organizes the data about students, faculty, admin staff, etc. which helps in the efficient retrieval, insertion, and deletion of data from it."
   ]
  },
  {
   "cell_type": "markdown",
   "id": "81493eee",
   "metadata": {},
   "source": [
    "# There are four types of Data Languages\n",
    "\n",
    "Data Definition Language (DDL)\n",
    "Data Manipulation Language(DML)\n",
    "Data Control Language(DCL)\n",
    "Transactional Control Language(TCL)\n",
    "\n",
    "# DDL-\n",
    "is the short name for Data Definition Language, which deals with database schemas and descriptions, of how the data should reside in the database.\n",
    "\n",
    "\n",
    "CREATE: to create a database and its objects like (table, index, views, store procedure, function, and triggers)\n",
    "ALTER: alters the structure of the existing database\n",
    "DROP: delete objects from the database\n",
    "TRUNCATE: remove all records from a table, including all spaces allocated for the records are removed\n",
    "COMMENT: add comments to the data dictionary\n",
    "RENAME: rename an object\n",
    "\n",
    "# DML-\n",
    "is the short name for Data Manipulation Language which deals with data manipulation and includes most common SQL statements such SELECT, INSERT, UPDATE, DELETE, etc., and it is used to store, modify, retrieve, delete and update data in a database.\n",
    "\n",
    "SELECT: retrieve data from a database\n",
    "INSERT: insert data into a table\n",
    "UPDATE: updates existing data within a table\n",
    "DELETE: Delete all records from a database table\n",
    "MERGE: UPSERT operation (insert or update)\n",
    "CALL: call a PL/SQL or Java subprogram\n",
    "EXPLAIN PLAN: interpretation of the data access path\n",
    "LOCK TABLE: concurrency Control\n",
    "\n",
    "# DCL-\n",
    "is short for Data Control Language which acts as an access specifier to the database.(basically to grant and revoke permissions to users in the database\n",
    "\n",
    "GRANT: grant permissions to the user for running DML(SELECT, INSERT, DELETE,…) commands on the table\n",
    "REVOKE: revoke permissions to the user for running DML(SELECT, INSERT, DELETE,…) command on the specified table"
   ]
  },
  {
   "cell_type": "markdown",
   "id": "0a83b541",
   "metadata": {},
   "source": [
    "# The Problem of redundancy in Database-\n",
    "\n",
    "Redundancy means having multiple copies of the same data in the database. This problem arises when a database is not normalized."
   ]
  },
  {
   "cell_type": "markdown",
   "id": "336098a9",
   "metadata": {},
   "source": [
    "# Problems Caused Due to Redundancy-\n",
    "\n",
    "Data Inconsistency: Redundancy can lead to data inconsistencies, where the same data is stored in multiple locations, and changes to one copy of the data are not reflected in the other copies. This can result in incorrect data being used in decision-making processes and can lead to errors and inconsistencies in the data. \n",
    "\n",
    "Storage Requirements: Redundancy increases the storage requirements of a database. If the same data is stored in multiple places, more storage space is required to store the data. This can lead to higher costs and slower data retrieval.\n",
    "Update Anomalies: Redundancy can lead to update anomalies, where changes made to one copy of the data are not reflected in the other copies. This can result in incorrect data being used in decision-making processes and can lead to errors and inconsistencies in the data. \n",
    "\n",
    "Performance Issues: Redundancy can also lead to performance issues, as the database must spend more time updating multiple copies of the same data. This can lead to slower data retrieval and slower overall performance of the database.\n",
    "Security Issues: Redundancy can also create security issues, as multiple copies of the same data can be accessed and manipulated by unauthorized users. This can lead to data breaches and compromise the confidentiality, integrity, and availability of the data.\n",
    "\n",
    "Maintenance Complexity: Redundancy can increase the complexity of database maintenance, as multiple copies of the same data must be updated and synchronized. This can make it more difficult to troubleshoot and resolve issues and can require more time and resources to maintain the database.\n",
    "\n",
    "Data Duplication: Redundancy can lead to data duplication, where the same data is stored in multiple locations, resulting in wasted storage space and increased maintenance complexity. This can also lead to confusion and errors, as different copies of the data may have different values or be out of sync.\n",
    "\n",
    "Data Integrity: Redundancy can also compromise data integrity, as changes made to one copy of the data may not be reflected in the other copies. This can result in inconsistencies and errors and can make it difficult to ensure that the data is accurate and up-to-date.\n",
    "\n",
    "Usability Issues: Redundancy can also create usability issues, as users may have difficulty accessing the correct version of the data or may be confused by inconsistencies and errors. This can lead to frustration and decreased productivity, as users spend more time searching for the correct data or correcting errors.\n",
    "\n",
    "To prevent redundancy in a database, normalization techniques can be used. Normalization is the process of organizing data in a database to eliminate redundancy and improve data integrity. Normalization involves breaking down a larger table into smaller tables and establishing relationships between them. This reduces redundancy and makes the database more efficient and reliable. "
   ]
  },
  {
   "cell_type": "code",
   "execution_count": 76,
   "id": "8d2c979c",
   "metadata": {},
   "outputs": [
    {
     "name": "stdout",
     "output_type": "stream",
     "text": [
      "(100, 'pratik', '28', 'data science', 50000, '1 year')\n",
      "('roll no', 'name', 'age', 'course', 'fees', 'duration\\n')\n",
      "(101, 'Pratik ', '22', 'data science ', 50000, 16)\n",
      "(102, 'ram', '21', 'business analytics ', 60000, 17)\n",
      "(103, 'shyam ', '31', 'MBA', 70000, 20)\n",
      "(104, 'sita', '31', 'PHD', 80000, 18)\n",
      "(105, 'ayush ', '34', 'PG', 90000, 14)\n",
      "(106, 'mayank', '40', 'engineering', 100000, 19)\n",
      "(107, 'raj ', '28', 'IT', 110000, 14)\n",
      "(108, 'ganesh ', '31', 'data science ', 120000, 14)\n",
      "(109, 'kartik ', '28', 'business analytics ', 130000, 11)\n",
      "(110, 'salman ', '33', 'MBA', 140000, 13)\n",
      "(111, 'srk', '32', 'IT', 150000, 16)\n",
      "(112, 'ritik ', '27', 'BE', 160000, 15)\n",
      "(113, 'sheela', '38', 'ME', 170000, 13)\n",
      "(114, 'reena', '22', 'IT', 180000, 18)\n",
      "(115, 'mahima', '20', 'data science ', 190000, 15)\n",
      "(116, 'ankita ', '33', 'business analytics ', 200000, 18)\n",
      "(117, 'jyoti ', '35', 'ME', 210000, 18)\n",
      "(118, 'aayushi ', '21', 'BE', 220000, 19)\n",
      "(119, 'ranka ', '39', 'PG', 230000, 17)\n",
      "(120, 'aditi ', '23', 'engineering', 240000, 15)\n",
      "(121, 'jainu', '30', 'IT', 250000, 11)\n",
      "(122, 'ritika', '26', 'data science ', 260000, 10)\n",
      "(123, 'anushka', '35', 'ME', 270000, 10)\n",
      "(124, 'sheelu', '38', 'MBA', 280000, 12)\n",
      "(125, 'radha', '24', 'PHD', 290000, 10)\n",
      "(126, 'surbhi ', '28', 'PG', 300000, 19)\n",
      "(127, 'neha ', '28', 'engineering', 310000, 15)\n",
      "(128, 'gabbu ', '40', 'IT', 320000, 10)\n",
      "(129, 'tannu ', '30', 'ME', 330000, 15)\n",
      "(130, 'kannu', '32', 'BE', 340000, 19)\n"
     ]
    }
   ],
   "source": [
    "result=cursor.execute(\"SELECT * from prateek\")\n",
    "for row in result:\n",
    "    print(row)"
   ]
  },
  {
   "cell_type": "code",
   "execution_count": 79,
   "id": "efad5931",
   "metadata": {},
   "outputs": [
    {
     "name": "stdout",
     "output_type": "stream",
     "text": [
      "('BE', 240000.0)\n",
      "('IT', 202000.0)\n",
      "('MBA', 163333.33333333334)\n",
      "('ME', 245000.0)\n",
      "('PG', 206666.66666666666)\n",
      "('PHD', 185000.0)\n",
      "('business analytics ', 130000.0)\n",
      "('course', 0.0)\n",
      "('data science', 50000.0)\n",
      "('data science ', 155000.0)\n",
      "('engineering', 216666.66666666666)\n"
     ]
    }
   ],
   "source": [
    "result=cursor.execute(\"SELECT course,avg(fees) from prateek group by course\")\n",
    "for row in result:\n",
    "    print(row)"
   ]
  },
  {
   "cell_type": "markdown",
   "id": "62fb4be7",
   "metadata": {},
   "source": [
    "# How to get bottom last 5 records- Here just use the primary key"
   ]
  },
  {
   "cell_type": "code",
   "execution_count": 85,
   "id": "53c8eaf2",
   "metadata": {},
   "outputs": [
    {
     "name": "stdout",
     "output_type": "stream",
     "text": [
      "('roll no', 'name', 'age', 'course', 'fees', 'duration\\n')\n",
      "(130, 'kannu', '32', 'BE', 340000, 19)\n",
      "(129, 'tannu ', '30', 'ME', 330000, 15)\n",
      "(128, 'gabbu ', '40', 'IT', 320000, 10)\n",
      "(127, 'neha ', '28', 'engineering', 310000, 15)\n"
     ]
    }
   ],
   "source": [
    "result=cursor.execute(\"SELECT * from prateek order by roll_no desc limit 5\")\n",
    "for row in result:\n",
    "    print(row)"
   ]
  },
  {
   "cell_type": "code",
   "execution_count": 86,
   "id": "31744ba1",
   "metadata": {},
   "outputs": [
    {
     "name": "stdout",
     "output_type": "stream",
     "text": [
      "(100, 'pratik', '28', 'data science', 50000, '1 year')\n",
      "(101, 'Pratik ', '22', 'data science ', 50000, 16)\n",
      "(102, 'ram', '21', 'business analytics ', 60000, 17)\n",
      "(103, 'shyam ', '31', 'MBA', 70000, 20)\n",
      "(104, 'sita', '31', 'PHD', 80000, 18)\n"
     ]
    }
   ],
   "source": [
    "result=cursor.execute(\"SELECT * from prateek order by roll_no asc limit 5\")\n",
    "for row in result:\n",
    "    print(row)"
   ]
  },
  {
   "cell_type": "code",
   "execution_count": 15,
   "id": "cfe3a07b",
   "metadata": {},
   "outputs": [
    {
     "name": "stdout",
     "output_type": "stream",
     "text": [
      "('ram',)\n"
     ]
    }
   ],
   "source": [
    "result=cursor.execute(\"select name from pratik where name like '%m'\")\n",
    "for row in result:\n",
    "    print(row)"
   ]
  },
  {
   "cell_type": "code",
   "execution_count": 16,
   "id": "2a2463b1",
   "metadata": {},
   "outputs": [
    {
     "name": "stdout",
     "output_type": "stream",
     "text": [
      "(100, 'pratik', '28', 'data science', 50000, '1 year')\n",
      "(101, 'Pratik ', '22', 'data science ', 50000, 16)\n",
      "(102, 'ram', '21', 'business analytics ', 60000, 17)\n",
      "(103, 'shyam ', '31', 'MBA', 70000, 20)\n",
      "(104, 'sita', '31', 'PHD', 80000, 18)\n",
      "(105, 'ayush ', '34', 'PG', 90000, 14)\n",
      "(106, 'mayank', '40', 'engineering', 100000, 19)\n",
      "(107, 'raj ', '28', 'IT', 110000, 14)\n",
      "(108, 'ganesh ', '31', 'data science ', 120000, 14)\n",
      "(109, 'kartik ', '28', 'business analytics ', 130000, 11)\n",
      "(110, 'salman ', '33', 'MBA', 140000, 13)\n",
      "(111, 'srk', '32', 'IT', 150000, 16)\n",
      "(112, 'ritik ', '27', 'BE', 160000, 15)\n",
      "(113, 'sheela', '38', 'ME', 170000, 13)\n",
      "(114, 'reena', '22', 'IT', 180000, 18)\n",
      "(115, 'mahima', '20', 'data science ', 190000, 15)\n",
      "(116, 'ankita ', '33', 'business analytics ', 200000, 18)\n",
      "(117, 'jyoti ', '35', 'ME', 210000, 18)\n",
      "(118, 'aayushi ', '21', 'BE', 220000, 19)\n",
      "(119, 'ranka ', '39', 'PG', 230000, 17)\n",
      "(120, 'aditi ', '23', 'engineering', 240000, 15)\n",
      "(121, 'jainu', '30', 'IT', 250000, 11)\n",
      "(122, 'ritika', '26', 'data science ', 260000, 10)\n",
      "(123, 'anushka', '35', 'ME', 270000, 10)\n",
      "(124, 'sheelu', '38', 'MBA', 280000, 12)\n",
      "(125, 'radha', '24', 'PHD', 290000, 10)\n",
      "(126, 'surbhi ', '28', 'PG', 300000, 19)\n",
      "(127, 'neha ', '28', 'engineering', 310000, 15)\n",
      "(128, 'gabbu ', '40', 'IT', 320000, 10)\n",
      "(129, 'tannu ', '30', 'ME', 330000, 15)\n",
      "(130, 'kannu', '32', 'BE', 340000, 19)\n"
     ]
    }
   ],
   "source": [
    "result=cursor.execute('select * from pratik')\n",
    "for row in result:\n",
    "    print(row)"
   ]
  },
  {
   "cell_type": "code",
   "execution_count": 36,
   "id": "82472264",
   "metadata": {},
   "outputs": [
    {
     "name": "stdout",
     "output_type": "stream",
     "text": [
      "('BE', 3)\n",
      "('IT', 5)\n",
      "('MBA', 3)\n",
      "('ME', 4)\n",
      "('PG', 3)\n",
      "('business analytics ', 3)\n",
      "('data science ', 4)\n",
      "('engineering', 3)\n"
     ]
    }
   ],
   "source": [
    "result=cursor.execute('select course, count(course) as count from pratik  group by course having count>=3')\n",
    "for row in result:\n",
    "    print(row)"
   ]
  },
  {
   "cell_type": "markdown",
   "id": "e6081c90",
   "metadata": {},
   "source": [
    "# What is the difference between the HAVING clause and the WHERE clause-\n",
    "\n",
    "\n",
    "Answer: WHERE filters records before aggregating in GROUP BY, whereas HAVING filters after aggregation.     \n",
    "\n",
    "How would you list the number of students enrolled in each course, but only display courses with more than 5 students?\n",
    "\n",
    "\n",
    "SELECT course_id, COUNT(student_id) as number_of_students \n",
    "FROM enrollments \n",
    "GROUP BY course_id \n",
    "HAVING number_of_students > 5;"
   ]
  },
  {
   "cell_type": "markdown",
   "id": "3094af48",
   "metadata": {},
   "source": [
    "# To select distinct counts from a table-"
   ]
  },
  {
   "cell_type": "code",
   "execution_count": 34,
   "id": "4e87105b",
   "metadata": {},
   "outputs": [
    {
     "name": "stdout",
     "output_type": "stream",
     "text": [
      "(10,)\n"
     ]
    }
   ],
   "source": [
    "result=cursor.execute('select count(distinct course) from pratik')\n",
    "for row in result:\n",
    "    print(row)"
   ]
  },
  {
   "cell_type": "markdown",
   "id": "e4cdd819",
   "metadata": {},
   "source": [
    "# Exists Function-\n",
    "\n",
    "Checks the result of the subquery"
   ]
  },
  {
   "cell_type": "code",
   "execution_count": 37,
   "id": "1b8fbec9",
   "metadata": {},
   "outputs": [
    {
     "data": {
      "text/plain": [
       "<sqlite3.Cursor at 0x23154316570>"
      ]
     },
     "execution_count": 37,
     "metadata": {},
     "output_type": "execute_result"
    }
   ],
   "source": [
    "cursor.execute('CREATE TABLE prateek( roll_no int primary key,siblings int,last_name text,occupation text)')"
   ]
  },
  {
   "cell_type": "code",
   "execution_count": 48,
   "id": "38e37337",
   "metadata": {},
   "outputs": [
    {
     "name": "stdout",
     "output_type": "stream",
     "text": [
      "1 Records inserted\n"
     ]
    }
   ],
   "source": [
    "with open(r\"C:\\Users\\prate\\Desktop\\table.csv\") as file:\n",
    "    no_records=0\n",
    "    for row in file:\n",
    "        cursor.execute(\"INSERT INTO prateek VALUES(?,?,?,?)\",row.split(\",\"))\n",
    "        db.commit()\n",
    "    no_records+=1    \n",
    "print(no_records,'Records inserted')    "
   ]
  },
  {
   "cell_type": "code",
   "execution_count": 49,
   "id": "a0cf4bd5",
   "metadata": {},
   "outputs": [
    {
     "name": "stdout",
     "output_type": "stream",
     "text": [
      "('roll no', 'siblings', 'last name', 'Occupation\\n')\n",
      "(120, 1, 'sharma', 'engineer\\n')\n",
      "(121, 2, 'jain', 'engineer\\n')\n",
      "(122, 3, 'sharma', 'gk\\n')\n",
      "(123, 3, 'budha', 'gk\\n')\n",
      "(124, 1, 'agarwal', 'gk\\n')\n",
      "(125, 2, 'sharma', 'engineer\\n')\n",
      "(126, 3, 'sharma', 'engineer\\n')\n",
      "(127, 4, 'jain', 'engineer\\n')\n",
      "(128, 5, 'sharma', 'cbse\\n')\n",
      "(129, 1, 'budha', 'cbse\\n')\n",
      "(130, 2, 'agarwal', 'cbse\\n')\n",
      "(131, 3, 'sharma', 'cbse\\n')\n",
      "(132, 4, 'jain', 'cbse\\n')\n",
      "(133, 1, 'sharma', 'rbse\\n')\n",
      "(134, 2, 'budha', 'rbse\\n')\n",
      "(135, 3, 'agarwal', 'rbse\\n')\n",
      "(136, 4, 'sharma', 'rbse\\n')\n",
      "(137, 1, 'sharma', 'rbse\\n')\n",
      "(138, 2, 'jain', 'gk\\n')\n",
      "(139, 3, 'sharma', 'gk\\n')\n",
      "(140, 4, 'budha', 'gk\\n')\n",
      "('', '', '', '\\n')\n"
     ]
    }
   ],
   "source": [
    "result=cursor.execute('select * from prateek')\n",
    "for row in result:\n",
    "    print(row)"
   ]
  },
  {
   "cell_type": "code",
   "execution_count": 50,
   "id": "9206c8cb",
   "metadata": {},
   "outputs": [
    {
     "data": {
      "text/plain": [
       "<sqlite3.Cursor at 0x23154316570>"
      ]
     },
     "execution_count": 50,
     "metadata": {},
     "output_type": "execute_result"
    }
   ],
   "source": [
    "cursor.execute(\"delete from prateek where roll_no=='roll no' \")"
   ]
  },
  {
   "cell_type": "code",
   "execution_count": 51,
   "id": "a66738cb",
   "metadata": {},
   "outputs": [
    {
     "name": "stdout",
     "output_type": "stream",
     "text": [
      "(120, 1, 'sharma', 'engineer\\n')\n",
      "(121, 2, 'jain', 'engineer\\n')\n",
      "(122, 3, 'sharma', 'gk\\n')\n",
      "(123, 3, 'budha', 'gk\\n')\n",
      "(124, 1, 'agarwal', 'gk\\n')\n",
      "(125, 2, 'sharma', 'engineer\\n')\n",
      "(126, 3, 'sharma', 'engineer\\n')\n",
      "(127, 4, 'jain', 'engineer\\n')\n",
      "(128, 5, 'sharma', 'cbse\\n')\n",
      "(129, 1, 'budha', 'cbse\\n')\n",
      "(130, 2, 'agarwal', 'cbse\\n')\n",
      "(131, 3, 'sharma', 'cbse\\n')\n",
      "(132, 4, 'jain', 'cbse\\n')\n",
      "(133, 1, 'sharma', 'rbse\\n')\n",
      "(134, 2, 'budha', 'rbse\\n')\n",
      "(135, 3, 'agarwal', 'rbse\\n')\n",
      "(136, 4, 'sharma', 'rbse\\n')\n",
      "(137, 1, 'sharma', 'rbse\\n')\n",
      "(138, 2, 'jain', 'gk\\n')\n",
      "(139, 3, 'sharma', 'gk\\n')\n",
      "(140, 4, 'budha', 'gk\\n')\n",
      "('', '', '', '\\n')\n"
     ]
    }
   ],
   "source": [
    "result=cursor.execute('select * from prateek')\n",
    "for row in result:\n",
    "    print(row)"
   ]
  },
  {
   "cell_type": "code",
   "execution_count": 52,
   "id": "1bb63c1f",
   "metadata": {},
   "outputs": [
    {
     "name": "stdout",
     "output_type": "stream",
     "text": [
      "(100, 'pratik', '28', 'data science', 50000, '1 year')\n",
      "(101, 'Pratik ', '22', 'data science ', 50000, 16)\n",
      "(102, 'ram', '21', 'business analytics ', 60000, 17)\n",
      "(103, 'shyam ', '31', 'MBA', 70000, 20)\n",
      "(104, 'sita', '31', 'PHD', 80000, 18)\n",
      "(105, 'ayush ', '34', 'PG', 90000, 14)\n",
      "(106, 'mayank', '40', 'engineering', 100000, 19)\n",
      "(107, 'raj ', '28', 'IT', 110000, 14)\n",
      "(108, 'ganesh ', '31', 'data science ', 120000, 14)\n",
      "(109, 'kartik ', '28', 'business analytics ', 130000, 11)\n",
      "(110, 'salman ', '33', 'MBA', 140000, 13)\n",
      "(111, 'srk', '32', 'IT', 150000, 16)\n",
      "(112, 'ritik ', '27', 'BE', 160000, 15)\n",
      "(113, 'sheela', '38', 'ME', 170000, 13)\n",
      "(114, 'reena', '22', 'IT', 180000, 18)\n",
      "(115, 'mahima', '20', 'data science ', 190000, 15)\n",
      "(116, 'ankita ', '33', 'business analytics ', 200000, 18)\n",
      "(117, 'jyoti ', '35', 'ME', 210000, 18)\n",
      "(118, 'aayushi ', '21', 'BE', 220000, 19)\n",
      "(119, 'ranka ', '39', 'PG', 230000, 17)\n",
      "(120, 'aditi ', '23', 'engineering', 240000, 15)\n",
      "(121, 'jainu', '30', 'IT', 250000, 11)\n",
      "(122, 'ritika', '26', 'data science ', 260000, 10)\n",
      "(123, 'anushka', '35', 'ME', 270000, 10)\n",
      "(124, 'sheelu', '38', 'MBA', 280000, 12)\n",
      "(125, 'radha', '24', 'PHD', 290000, 10)\n",
      "(126, 'surbhi ', '28', 'PG', 300000, 19)\n",
      "(127, 'neha ', '28', 'engineering', 310000, 15)\n",
      "(128, 'gabbu ', '40', 'IT', 320000, 10)\n",
      "(129, 'tannu ', '30', 'ME', 330000, 15)\n",
      "(130, 'kannu', '32', 'BE', 340000, 19)\n"
     ]
    }
   ],
   "source": [
    "result=cursor.execute('select * from pratik')\n",
    "for row in result:\n",
    "    print(row)"
   ]
  },
  {
   "cell_type": "code",
   "execution_count": 56,
   "id": "f322af16",
   "metadata": {},
   "outputs": [
    {
     "name": "stdout",
     "output_type": "stream",
     "text": [
      "(120, 'aditi ', '23', 'engineering', 240000, 15)\n",
      "(121, 'jainu', '30', 'IT', 250000, 11)\n",
      "(122, 'ritika', '26', 'data science ', 260000, 10)\n",
      "(123, 'anushka', '35', 'ME', 270000, 10)\n",
      "(124, 'sheelu', '38', 'MBA', 280000, 12)\n",
      "(125, 'radha', '24', 'PHD', 290000, 10)\n",
      "(126, 'surbhi ', '28', 'PG', 300000, 19)\n",
      "(127, 'neha ', '28', 'engineering', 310000, 15)\n",
      "(128, 'gabbu ', '40', 'IT', 320000, 10)\n",
      "(129, 'tannu ', '30', 'ME', 330000, 15)\n",
      "(130, 'kannu', '32', 'BE', 340000, 19)\n"
     ]
    }
   ],
   "source": [
    "result=cursor.execute('select * from pratik where exists(select 1 from prateek where pratik.roll_no==prateek.roll_no)')\n",
    "for row in result:\n",
    "    print(row)"
   ]
  },
  {
   "cell_type": "code",
   "execution_count": 57,
   "id": "ac0fd684",
   "metadata": {},
   "outputs": [
    {
     "name": "stdout",
     "output_type": "stream",
     "text": [
      "(120, 'aditi ', '23', 'engineering', 240000, 15)\n",
      "(121, 'jainu', '30', 'IT', 250000, 11)\n",
      "(122, 'ritika', '26', 'data science ', 260000, 10)\n",
      "(123, 'anushka', '35', 'ME', 270000, 10)\n",
      "(124, 'sheelu', '38', 'MBA', 280000, 12)\n",
      "(125, 'radha', '24', 'PHD', 290000, 10)\n",
      "(126, 'surbhi ', '28', 'PG', 300000, 19)\n",
      "(127, 'neha ', '28', 'engineering', 310000, 15)\n",
      "(128, 'gabbu ', '40', 'IT', 320000, 10)\n",
      "(129, 'tannu ', '30', 'ME', 330000, 15)\n",
      "(130, 'kannu', '32', 'BE', 340000, 19)\n"
     ]
    }
   ],
   "source": [
    "result=cursor.execute('select * from pratik where roll_no IN(select roll_no from prateek where pratik.roll_no==prateek.roll_no)')\n",
    "for row in result:\n",
    "    print(row)"
   ]
  },
  {
   "cell_type": "code",
   "execution_count": 62,
   "id": "d711668c",
   "metadata": {},
   "outputs": [
    {
     "name": "stdout",
     "output_type": "stream",
     "text": [
      "('pratik28',)\n",
      "('Pratik 22',)\n",
      "('ram21',)\n",
      "('shyam 31',)\n",
      "('sita31',)\n",
      "('ayush 34',)\n",
      "('mayank40',)\n",
      "('raj 28',)\n",
      "('ganesh 31',)\n",
      "('kartik 28',)\n",
      "('salman 33',)\n",
      "('srk32',)\n",
      "('ritik 27',)\n",
      "('sheela38',)\n",
      "('reena22',)\n",
      "('mahima20',)\n",
      "('ankita 33',)\n",
      "('jyoti 35',)\n",
      "('aayushi 21',)\n",
      "('ranka 39',)\n",
      "('aditi 23',)\n",
      "('jainu30',)\n",
      "('ritika26',)\n",
      "('anushka35',)\n",
      "('sheelu38',)\n",
      "('radha24',)\n",
      "('surbhi 28',)\n",
      "('neha 28',)\n",
      "('gabbu 40',)\n",
      "('tannu 30',)\n",
      "('kannu32',)\n"
     ]
    }
   ],
   "source": [
    "result=cursor.execute(\"select name || '' || age as prerna from pratik\")\n",
    "for row in result:\n",
    "    print(row)"
   ]
  },
  {
   "cell_type": "markdown",
   "id": "ec9eddbd",
   "metadata": {},
   "source": [
    "# How do you find the total number of rows in a table"
   ]
  },
  {
   "cell_type": "code",
   "execution_count": 65,
   "id": "79c11804",
   "metadata": {},
   "outputs": [
    {
     "name": "stdout",
     "output_type": "stream",
     "text": [
      "(31,)\n"
     ]
    }
   ],
   "source": [
    "result=cursor.execute(\"select count(*) from pratik\")\n",
    "for row in result:\n",
    "    print(row)"
   ]
  },
  {
   "cell_type": "markdown",
   "id": "5339ac63",
   "metadata": {},
   "source": [
    "# How can you fetch the first 5 records from a table?"
   ]
  },
  {
   "cell_type": "code",
   "execution_count": 66,
   "id": "2c83ab30",
   "metadata": {},
   "outputs": [
    {
     "name": "stdout",
     "output_type": "stream",
     "text": [
      "(100, 'pratik', '28', 'data science', 50000, '1 year')\n",
      "(101, 'Pratik ', '22', 'data science ', 50000, 16)\n",
      "(102, 'ram', '21', 'business analytics ', 60000, 17)\n",
      "(103, 'shyam ', '31', 'MBA', 70000, 20)\n",
      "(104, 'sita', '31', 'PHD', 80000, 18)\n"
     ]
    }
   ],
   "source": [
    "result=cursor.execute(\"select * from pratik limit 5\")\n",
    "for row in result:\n",
    "    print(row)"
   ]
  },
  {
   "cell_type": "code",
   "execution_count": 79,
   "id": "eed0fa67",
   "metadata": {},
   "outputs": [
    {
     "data": {
      "text/plain": [
       "<sqlite3.Cursor at 0x23154316570>"
      ]
     },
     "execution_count": 79,
     "metadata": {},
     "output_type": "execute_result"
    }
   ],
   "source": [
    "cursor.execute('alter table pratik rename column name to Name ')"
   ]
  },
  {
   "cell_type": "markdown",
   "id": "41dc3bcc",
   "metadata": {},
   "source": [
    "# How to make a copy of a table-"
   ]
  },
  {
   "cell_type": "markdown",
   "id": "e400cd70",
   "metadata": {},
   "source": [
    "# Cloning of table-\n",
    "\n",
    "There may be a number of occasions where you need to create an exact copy of an already defined (or created) table. MySQL enables you to perform this operation. Because we may need such duplicate tables for testing over the data without having any impact over the original table and the data stored in it."
   ]
  },
  {
   "cell_type": "code",
   "execution_count": 83,
   "id": "0848a631",
   "metadata": {},
   "outputs": [
    {
     "data": {
      "text/plain": [
       "<sqlite3.Cursor at 0x23154316570>"
      ]
     },
     "execution_count": 83,
     "metadata": {},
     "output_type": "execute_result"
    }
   ],
   "source": [
    "cursor.execute('create table shiv(roll_no,siblings,last_name,occupation)')"
   ]
  },
  {
   "cell_type": "code",
   "execution_count": 84,
   "id": "a05f58dc",
   "metadata": {},
   "outputs": [
    {
     "data": {
      "text/plain": [
       "<sqlite3.Cursor at 0x23154316570>"
      ]
     },
     "execution_count": 84,
     "metadata": {},
     "output_type": "execute_result"
    }
   ],
   "source": [
    "cursor.execute('insert into shiv select * from prateek')"
   ]
  },
  {
   "cell_type": "code",
   "execution_count": 82,
   "id": "cb4613a6",
   "metadata": {},
   "outputs": [
    {
     "name": "stdout",
     "output_type": "stream",
     "text": [
      "(120, 1, 'sharma', 'engineer\\n')\n",
      "(121, 2, 'jain', 'engineer\\n')\n",
      "(122, 3, 'sharma', 'gk\\n')\n",
      "(123, 3, 'budha', 'gk\\n')\n",
      "(124, 1, 'agarwal', 'gk\\n')\n",
      "(125, 2, 'sharma', 'engineer\\n')\n",
      "(126, 3, 'sharma', 'engineer\\n')\n",
      "(127, 4, 'jain', 'engineer\\n')\n",
      "(128, 5, 'sharma', 'cbse\\n')\n",
      "(129, 1, 'budha', 'cbse\\n')\n",
      "(130, 2, 'agarwal', 'cbse\\n')\n",
      "(131, 3, 'sharma', 'cbse\\n')\n",
      "(132, 4, 'jain', 'cbse\\n')\n",
      "(133, 1, 'sharma', 'rbse\\n')\n",
      "(134, 2, 'budha', 'rbse\\n')\n",
      "(135, 3, 'agarwal', 'rbse\\n')\n",
      "(136, 4, 'sharma', 'rbse\\n')\n",
      "(137, 1, 'sharma', 'rbse\\n')\n",
      "(138, 2, 'jain', 'gk\\n')\n",
      "(139, 3, 'sharma', 'gk\\n')\n",
      "(140, 4, 'budha', 'gk\\n')\n",
      "('', '', '', '\\n')\n"
     ]
    }
   ],
   "source": [
    "result=cursor.execute(\"select * from prateek\")\n",
    "for row in result:\n",
    "    print(row)"
   ]
  },
  {
   "cell_type": "code",
   "execution_count": 86,
   "id": "33ce7582",
   "metadata": {},
   "outputs": [
    {
     "name": "stdout",
     "output_type": "stream",
     "text": [
      "(120, 1, 'sharma', 'engineer\\n')\n",
      "(121, 2, 'jain', 'engineer\\n')\n",
      "(122, 3, 'sharma', 'gk\\n')\n",
      "(123, 3, 'budha', 'gk\\n')\n",
      "(124, 1, 'agarwal', 'gk\\n')\n",
      "(125, 2, 'sharma', 'engineer\\n')\n",
      "(126, 3, 'sharma', 'engineer\\n')\n",
      "(127, 4, 'jain', 'engineer\\n')\n",
      "(128, 5, 'sharma', 'cbse\\n')\n",
      "(129, 1, 'budha', 'cbse\\n')\n",
      "(130, 2, 'agarwal', 'cbse\\n')\n",
      "(131, 3, 'sharma', 'cbse\\n')\n",
      "(132, 4, 'jain', 'cbse\\n')\n",
      "(133, 1, 'sharma', 'rbse\\n')\n",
      "(134, 2, 'budha', 'rbse\\n')\n",
      "(135, 3, 'agarwal', 'rbse\\n')\n",
      "(136, 4, 'sharma', 'rbse\\n')\n",
      "(137, 1, 'sharma', 'rbse\\n')\n",
      "(138, 2, 'jain', 'gk\\n')\n",
      "(139, 3, 'sharma', 'gk\\n')\n",
      "(140, 4, 'budha', 'gk\\n')\n",
      "('', '', '', '\\n')\n"
     ]
    }
   ],
   "source": [
    "result=cursor.execute(\"select * from shiv\")\n",
    "for row in result:\n",
    "    print(row)"
   ]
  },
  {
   "cell_type": "markdown",
   "id": "4f32c7f7",
   "metadata": {},
   "source": [
    "# If you want to change the primary key of a table-"
   ]
  },
  {
   "cell_type": "code",
   "execution_count": 95,
   "id": "a6fe0571",
   "metadata": {},
   "outputs": [
    {
     "data": {
      "text/plain": [
       "<sqlite3.Cursor at 0x23154316570>"
      ]
     },
     "execution_count": 95,
     "metadata": {},
     "output_type": "execute_result"
    }
   ],
   "source": [
    "cursor.execute('alter table pratik rename to prabhuu')"
   ]
  },
  {
   "cell_type": "code",
   "execution_count": null,
   "id": "8b015ee5",
   "metadata": {},
   "outputs": [],
   "source": [
    "cursor.execute('create table prateek(roll_no int,siblings primary key, last_name text,occupation text)')"
   ]
  },
  {
   "cell_type": "markdown",
   "id": "b068e61b",
   "metadata": {},
   "source": [
    "That is how you can change the primary key of a table-"
   ]
  },
  {
   "cell_type": "code",
   "execution_count": 90,
   "id": "8ec7c7fa",
   "metadata": {},
   "outputs": [
    {
     "name": "stdout",
     "output_type": "stream",
     "text": [
      "(120, 1, 'sharma', 'engineer\\n')\n",
      "(121, 2, 'jain', 'engineer\\n')\n",
      "(122, 3, 'sharma', 'gk\\n')\n",
      "(123, 3, 'budha', 'gk\\n')\n",
      "(124, 1, 'agarwal', 'gk\\n')\n",
      "(125, 2, 'sharma', 'engineer\\n')\n",
      "(126, 3, 'sharma', 'engineer\\n')\n",
      "(127, 4, 'jain', 'engineer\\n')\n",
      "(128, 5, 'sharma', 'cbse\\n')\n",
      "(129, 1, 'budha', 'cbse\\n')\n",
      "(130, 2, 'agarwal', 'cbse\\n')\n",
      "(131, 3, 'sharma', 'cbse\\n')\n",
      "(132, 4, 'jain', 'cbse\\n')\n",
      "(133, 1, 'sharma', 'rbse\\n')\n",
      "(134, 2, 'budha', 'rbse\\n')\n",
      "(135, 3, 'agarwal', 'rbse\\n')\n",
      "(136, 4, 'sharma', 'rbse\\n')\n",
      "(137, 1, 'sharma', 'rbse\\n')\n",
      "(138, 2, 'jain', 'gk\\n')\n",
      "(139, 3, 'sharma', 'gk\\n')\n",
      "(140, 4, 'budha', 'gk\\n')\n",
      "('', '', '', '\\n')\n"
     ]
    }
   ],
   "source": [
    "result=cursor.execute(\"select * from shiv\")\n",
    "for row in result:\n",
    "    print(row)"
   ]
  },
  {
   "cell_type": "code",
   "execution_count": 97,
   "id": "0071bef5",
   "metadata": {},
   "outputs": [
    {
     "name": "stdout",
     "output_type": "stream",
     "text": [
      "(100, 'pratik', '28', 'data science', 50000, '1 year')\n",
      "(101, 'Pratik ', '22', 'data science ', 50000, 16)\n",
      "(102, 'ram', '21', 'business analytics ', 60000, 17)\n",
      "(103, 'shyam ', '31', 'MBA', 70000, 20)\n",
      "(104, 'sita', '31', 'PHD', 80000, 18)\n",
      "(105, 'ayush ', '34', 'PG', 90000, 14)\n",
      "(106, 'mayank', '40', 'engineering', 100000, 19)\n",
      "(107, 'raj ', '28', 'IT', 110000, 14)\n",
      "(108, 'ganesh ', '31', 'data science ', 120000, 14)\n",
      "(109, 'kartik ', '28', 'business analytics ', 130000, 11)\n",
      "(110, 'salman ', '33', 'MBA', 140000, 13)\n",
      "(111, 'srk', '32', 'IT', 150000, 16)\n",
      "(112, 'ritik ', '27', 'BE', 160000, 15)\n",
      "(113, 'sheela', '38', 'ME', 170000, 13)\n",
      "(114, 'reena', '22', 'IT', 180000, 18)\n",
      "(115, 'mahima', '20', 'data science ', 190000, 15)\n",
      "(116, 'ankita ', '33', 'business analytics ', 200000, 18)\n",
      "(117, 'jyoti ', '35', 'ME', 210000, 18)\n",
      "(118, 'aayushi ', '21', 'BE', 220000, 19)\n",
      "(119, 'ranka ', '39', 'PG', 230000, 17)\n",
      "(120, 'aditi ', '23', 'engineering', 240000, 15)\n",
      "(121, 'jainu', '30', 'IT', 250000, 11)\n",
      "(122, 'ritika', '26', 'data science ', 260000, 10)\n",
      "(123, 'anushka', '35', 'ME', 270000, 10)\n",
      "(124, 'sheelu', '38', 'MBA', 280000, 12)\n",
      "(125, 'radha', '24', 'PHD', 290000, 10)\n",
      "(126, 'surbhi ', '28', 'PG', 300000, 19)\n",
      "(127, 'neha ', '28', 'engineering', 310000, 15)\n",
      "(128, 'gabbu ', '40', 'IT', 320000, 10)\n",
      "(129, 'tannu ', '30', 'ME', 330000, 15)\n",
      "(130, 'kannu', '32', 'BE', 340000, 19)\n"
     ]
    }
   ],
   "source": [
    "result=cursor.execute(\"select * from prabhuu\")\n",
    "for row in result:\n",
    "    print(row)"
   ]
  },
  {
   "cell_type": "markdown",
   "id": "d1964150",
   "metadata": {},
   "source": [
    "# How to add forign key in existing table-"
   ]
  },
  {
   "cell_type": "markdown",
   "id": "d4c37f60",
   "metadata": {},
   "source": [
    "similarly as above you can change the foreign key of a table also."
   ]
  },
  {
   "cell_type": "markdown",
   "id": "a9fd7ce2",
   "metadata": {},
   "source": [
    "# What is normalization, and why is it important-\n",
    "\n",
    "Answer: Normalization is the process of organizing a database to reduce redundancy and ensure data integrity. It divides larger tables into smaller ones and establishes relationships between them using foreign keys."
   ]
  },
  {
   "cell_type": "markdown",
   "id": "fa3f28e1",
   "metadata": {},
   "source": [
    "# What is a subquery, and how is it different from a JOIN?\n",
    "Answer: A subquery is a query nested inside another query. A subquery can return data that will be used in the main query as a condition. A JOIN is used to combine rows from two or more tables based on a related column."
   ]
  },
  {
   "cell_type": "markdown",
   "id": "caa5e1dd",
   "metadata": {},
   "source": [
    "# Write a query to find employees whose salary is above the average salary.\n",
    "\n",
    "SELECT employee_name, salary \n",
    "FROM employees \n",
    "WHERE salary > (SELECT AVG(salary) FROM employees);"
   ]
  },
  {
   "cell_type": "code",
   "execution_count": 100,
   "id": "c50e00ba",
   "metadata": {},
   "outputs": [
    {
     "name": "stdout",
     "output_type": "stream",
     "text": [
      "(100, 'pratik', '28', 'data science', 50000, '1 year')\n",
      "(101, 'Pratik ', '22', 'data science ', 50000, 16)\n",
      "(102, 'ram', '21', 'business analytics ', 60000, 17)\n",
      "(103, 'shyam ', '31', 'MBA', 70000, 20)\n",
      "(104, 'sita', '31', 'PHD', 80000, 18)\n",
      "(105, 'ayush ', '34', 'PG', 90000, 14)\n",
      "(106, 'mayank', '40', 'engineering', 100000, 19)\n",
      "(107, 'raj ', '28', 'IT', 110000, 14)\n",
      "(108, 'ganesh ', '31', 'data science ', 120000, 14)\n",
      "(109, 'kartik ', '28', 'business analytics ', 130000, 11)\n",
      "(110, 'salman ', '33', 'MBA', 140000, 13)\n",
      "(111, 'srk', '32', 'IT', 150000, 16)\n",
      "(112, 'ritik ', '27', 'BE', 160000, 15)\n",
      "(113, 'sheela', '38', 'ME', 170000, 13)\n",
      "(114, 'reena', '22', 'IT', 180000, 18)\n",
      "(115, 'mahima', '20', 'data science ', 190000, 15)\n",
      "(116, 'ankita ', '33', 'business analytics ', 200000, 18)\n",
      "(117, 'jyoti ', '35', 'ME', 210000, 18)\n",
      "(118, 'aayushi ', '21', 'BE', 220000, 19)\n",
      "(119, 'ranka ', '39', 'PG', 230000, 17)\n",
      "(120, 'aditi ', '23', 'engineering', 240000, 15)\n",
      "(121, 'jainu', '30', 'IT', 250000, 11)\n",
      "(122, 'ritika', '26', 'data science ', 260000, 10)\n",
      "(123, 'anushka', '35', 'ME', 270000, 10)\n",
      "(124, 'sheelu', '38', 'MBA', 280000, 12)\n",
      "(125, 'radha', '24', 'PHD', 290000, 10)\n",
      "(126, 'surbhi ', '28', 'PG', 300000, 19)\n",
      "(127, 'neha ', '28', 'engineering', 310000, 15)\n",
      "(128, 'gabbu ', '40', 'IT', 320000, 10)\n",
      "(129, 'tannu ', '30', 'ME', 330000, 15)\n",
      "(130, 'kannu', '32', 'BE', 340000, 19)\n"
     ]
    }
   ],
   "source": [
    "result=cursor.execute(\"select * from prabhuu\")\n",
    "for row in result:\n",
    "    print(row)"
   ]
  },
  {
   "cell_type": "code",
   "execution_count": 103,
   "id": "de4757e6",
   "metadata": {},
   "outputs": [
    {
     "name": "stdout",
     "output_type": "stream",
     "text": [
      "('ankita ', 200000)\n",
      "('jyoti ', 210000)\n",
      "('aayushi ', 220000)\n",
      "('ranka ', 230000)\n",
      "('aditi ', 240000)\n",
      "('jainu', 250000)\n",
      "('ritika', 260000)\n",
      "('anushka', 270000)\n",
      "('sheelu', 280000)\n",
      "('radha', 290000)\n",
      "('surbhi ', 300000)\n",
      "('neha ', 310000)\n",
      "('gabbu ', 320000)\n",
      "('tannu ', 330000)\n",
      "('kannu', 340000)\n"
     ]
    }
   ],
   "source": [
    "result=cursor.execute(\"select name, fees from prabhuu where fees> (select avg(fees) from prabhuu) \")\n",
    "for row in result:\n",
    "    print(row)"
   ]
  },
  {
   "cell_type": "markdown",
   "id": "297a8463",
   "metadata": {},
   "source": [
    "# Length function-"
   ]
  },
  {
   "cell_type": "code",
   "execution_count": 107,
   "id": "590a1235",
   "metadata": {},
   "outputs": [
    {
     "name": "stdout",
     "output_type": "stream",
     "text": [
      "(6,)\n",
      "(7,)\n",
      "(3,)\n",
      "(6,)\n",
      "(4,)\n",
      "(6,)\n",
      "(6,)\n",
      "(4,)\n",
      "(7,)\n",
      "(7,)\n",
      "(7,)\n",
      "(3,)\n",
      "(6,)\n",
      "(6,)\n",
      "(5,)\n",
      "(6,)\n",
      "(7,)\n",
      "(6,)\n",
      "(8,)\n",
      "(6,)\n",
      "(6,)\n",
      "(5,)\n",
      "(6,)\n",
      "(7,)\n",
      "(6,)\n",
      "(5,)\n",
      "(7,)\n",
      "(5,)\n",
      "(6,)\n",
      "(6,)\n",
      "(5,)\n"
     ]
    }
   ],
   "source": [
    "result=cursor.execute(\"select length(name) from prabhuu\")\n",
    "for row in result:\n",
    "    print(row)"
   ]
  },
  {
   "cell_type": "markdown",
   "id": "a3be1a76",
   "metadata": {},
   "source": [
    "# Group concat function-"
   ]
  },
  {
   "cell_type": "code",
   "execution_count": 118,
   "id": "639dc56b",
   "metadata": {},
   "outputs": [
    {
     "name": "stdout",
     "output_type": "stream",
     "text": [
      "('Pratik ,aayushi ,aditi ,ankita ,anushka,ayush ,gabbu ,ganesh ,jainu,jyoti ,kannu,kartik ,mahima,mayank,neha ,pratik,radha,raj ,ram,ranka ,reena,ritik ,ritika,salman ,sheela,sheelu,shyam ,sita,srk,surbhi ,tannu ',)\n"
     ]
    }
   ],
   "source": [
    "result=cursor.execute(\"select group_concat(name) from prabhuu\")\n",
    "for row in result:\n",
    "    print(row)"
   ]
  },
  {
   "cell_type": "markdown",
   "id": "173dee58",
   "metadata": {},
   "source": [
    "# Creating index to a column of a table-"
   ]
  },
  {
   "cell_type": "code",
   "execution_count": 116,
   "id": "c6f94449",
   "metadata": {},
   "outputs": [],
   "source": [
    "result=cursor.execute(\"create index index_namee on shiv(roll_no)\")"
   ]
  },
  {
   "cell_type": "code",
   "execution_count": 119,
   "id": "8927e2ff",
   "metadata": {},
   "outputs": [
    {
     "name": "stdout",
     "output_type": "stream",
     "text": [
      "('Pratik ',)\n",
      "('aayushi ',)\n",
      "('aditi ',)\n",
      "('ankita ',)\n",
      "('anushka',)\n",
      "('ayush ',)\n",
      "('gabbu ',)\n",
      "('ganesh ',)\n",
      "('jainu',)\n",
      "('jyoti ',)\n",
      "('kannu',)\n",
      "('kartik ',)\n",
      "('mahima',)\n",
      "('mayank',)\n",
      "('neha ',)\n",
      "('pratik',)\n",
      "('radha',)\n",
      "('raj ',)\n",
      "('ram',)\n",
      "('ranka ',)\n",
      "('reena',)\n",
      "('ritik ',)\n",
      "('ritika',)\n",
      "('salman ',)\n",
      "('sheela',)\n",
      "('sheelu',)\n",
      "('shyam ',)\n",
      "('sita',)\n",
      "('srk',)\n",
      "('surbhi ',)\n",
      "('tannu ',)\n"
     ]
    }
   ],
   "source": [
    "result=cursor.execute(\"select name from prabhuu\")\n",
    "for row in result:\n",
    "    print(row)"
   ]
  },
  {
   "cell_type": "markdown",
   "id": "6fc7e593",
   "metadata": {},
   "source": [
    "# Retrieve duplicates from the table-"
   ]
  },
  {
   "cell_type": "code",
   "execution_count": 127,
   "id": "8d9e294f",
   "metadata": {},
   "outputs": [
    {
     "name": "stdout",
     "output_type": "stream",
     "text": [
      "('BE', 3)\n",
      "('IT', 5)\n",
      "('MBA', 3)\n",
      "('ME', 4)\n",
      "('PG', 3)\n",
      "('PHD', 2)\n",
      "('business analytics ', 3)\n",
      "('data science ', 4)\n",
      "('engineering', 3)\n"
     ]
    }
   ],
   "source": [
    "result=cursor.execute(\"select course,count(course) from prabhuu group by course having count(course)>1\")\n",
    "for row in result:\n",
    "    print(row)"
   ]
  },
  {
   "cell_type": "markdown",
   "id": "378b5ccf",
   "metadata": {},
   "source": [
    "# Difference bw clustered index vs non clustered index-\n",
    "\n",
    "1. Clustered inndex is the index defines the order at which data is stored in the table example dictionary B is its clustered index for B alphabets dictionary while non clustered index which are like book which is having index at the start. \n",
    "\n",
    "2. clustered index can only be one while non clustered index can be more than 1.\n",
    "\n",
    "3. clustered index are faster than non clustered index."
   ]
  },
  {
   "cell_type": "markdown",
   "id": "808fe074",
   "metadata": {},
   "source": [
    "# What is the difference between UNION and UNION ALL?\n",
    "Answer: UNION returns unique records from the combined dataset, while UNION ALL returns all records, including duplicates."
   ]
  },
  {
   "cell_type": "markdown",
   "id": "cbb39e3a",
   "metadata": {},
   "source": [
    "# What is the difference between DATEDIFF and TIMESTAMPDIFF in MySQL?\n",
    "Answer: Both are used to find the difference between two dates, but TIMESTAMPDIFF allows for a more specific interval, like month or year, while DATEDIFF returns the difference in days."
   ]
  },
  {
   "cell_type": "code",
   "execution_count": 67,
   "id": "6745dbd3",
   "metadata": {},
   "outputs": [
    {
     "name": "stdout",
     "output_type": "stream",
     "text": [
      "(100, 'pratik', '28', 'data science', 50000, '1 year')\n",
      "(101, 'Pratik ', '22', 'data science ', 50000, 16)\n",
      "(102, 'ram', '21', 'business analytics ', 60000, 17)\n",
      "(103, 'shyam ', '31', 'MBA', 70000, 20)\n",
      "(104, 'sita', '31', 'PHD', 80000, 18)\n",
      "(105, 'ayush ', '34', 'PG', 90000, 14)\n",
      "(106, 'mayank', '40', 'engineering', 100000, 19)\n",
      "(107, 'raj ', '28', 'IT', 110000, 14)\n",
      "(108, 'ganesh ', '31', 'data science ', 120000, 14)\n",
      "(109, 'kartik ', '28', 'business analytics ', 130000, 11)\n",
      "(110, 'salman ', '33', 'MBA', 140000, 13)\n",
      "(111, 'srk', '32', 'IT', 150000, 16)\n",
      "(112, 'ritik ', '27', 'BE', 160000, 15)\n",
      "(113, 'sheela', '38', 'ME', 170000, 13)\n",
      "(114, 'reena', '22', 'IT', 180000, 18)\n",
      "(115, 'mahima', '20', 'data science ', 190000, 15)\n",
      "(116, 'ankita ', '33', 'business analytics ', 200000, 18)\n",
      "(117, 'jyoti ', '35', 'ME', 210000, 18)\n",
      "(118, 'aayushi ', '21', 'BE', 220000, 19)\n",
      "(119, 'ranka ', '39', 'PG', 230000, 17)\n",
      "(120, 'aditi ', '23', 'engineering', 240000, 15)\n",
      "(121, 'jainu', '30', 'IT', 250000, 11)\n",
      "(122, 'ritika', '26', 'data science ', 260000, 10)\n",
      "(123, 'anushka', '35', 'ME', 270000, 10)\n",
      "(124, 'sheelu', '38', 'MBA', 280000, 12)\n",
      "(125, 'radha', '24', 'PHD', 290000, 10)\n",
      "(126, 'surbhi ', '28', 'PG', 300000, 19)\n",
      "(127, 'neha ', '28', 'engineering', 310000, 15)\n",
      "(128, 'gabbu ', '40', 'IT', 320000, 10)\n",
      "(129, 'tannu ', '30', 'ME', 330000, 15)\n",
      "(130, 'kannu', '32', 'BE', 340000, 19)\n"
     ]
    }
   ],
   "source": [
    "result=cursor.execute('select * from pratik')\n",
    "for row in result:\n",
    "    print(row)"
   ]
  },
  {
   "cell_type": "code",
   "execution_count": 68,
   "id": "bf27fdba",
   "metadata": {},
   "outputs": [
    {
     "name": "stdout",
     "output_type": "stream",
     "text": [
      "('mahima', '20', 1)\n",
      "('ram', '21', 2)\n",
      "('aayushi ', '21', 2)\n",
      "('Pratik ', '22', 4)\n",
      "('reena', '22', 4)\n",
      "('aditi ', '23', 6)\n",
      "('radha', '24', 7)\n",
      "('ritika', '26', 8)\n",
      "('ritik ', '27', 9)\n",
      "('pratik', '28', 10)\n",
      "('raj ', '28', 10)\n",
      "('kartik ', '28', 10)\n",
      "('surbhi ', '28', 10)\n",
      "('neha ', '28', 10)\n",
      "('jainu', '30', 15)\n",
      "('tannu ', '30', 15)\n",
      "('shyam ', '31', 17)\n",
      "('sita', '31', 17)\n",
      "('ganesh ', '31', 17)\n",
      "('srk', '32', 20)\n",
      "('kannu', '32', 20)\n",
      "('salman ', '33', 22)\n",
      "('ankita ', '33', 22)\n",
      "('ayush ', '34', 24)\n",
      "('jyoti ', '35', 25)\n",
      "('anushka', '35', 25)\n",
      "('sheela', '38', 27)\n",
      "('sheelu', '38', 27)\n",
      "('ranka ', '39', 29)\n",
      "('mayank', '40', 30)\n",
      "('gabbu ', '40', 30)\n"
     ]
    }
   ],
   "source": [
    "result=cursor.execute('select name,age,rank() over(order by age) as ranking from pratik')\n",
    "for row in result:\n",
    "    print(row)"
   ]
  },
  {
   "cell_type": "markdown",
   "id": "00785b53",
   "metadata": {},
   "source": [
    "# How do you remove duplicate rows in a table?\n",
    "Answer: One common way is to create a new table with the distinct rows and delete the original table:\n",
    "CREATE TABLE new_table AS SELECT DISTINCT * FROM original_table;\n",
    "DROP TABLE original_table;\n",
    "RENAME TABLE new_table TO original_table;"
   ]
  },
  {
   "cell_type": "markdown",
   "id": "1c8b4e37",
   "metadata": {},
   "source": [
    "cursor.execute('insert into shiv select distinct* from pratik')"
   ]
  },
  {
   "cell_type": "code",
   "execution_count": 73,
   "id": "e6c0fbeb",
   "metadata": {},
   "outputs": [
    {
     "data": {
      "text/plain": [
       "<sqlite3.Cursor at 0x1f2e547e110>"
      ]
     },
     "execution_count": 73,
     "metadata": {},
     "output_type": "execute_result"
    }
   ],
   "source": [
    "cursor.execute('CREATE TABLE GFGemployees(employee_id INT PRIMAR KEY, employee_name VARCHAR(50), manager_id INT)')"
   ]
  },
  {
   "cell_type": "code",
   "execution_count": 76,
   "id": "40171442",
   "metadata": {},
   "outputs": [
    {
     "data": {
      "text/plain": [
       "<sqlite3.Cursor at 0x1f2e547e110>"
      ]
     },
     "execution_count": 76,
     "metadata": {},
     "output_type": "execute_result"
    }
   ],
   "source": [
    "cursor.execute(\"INSERT INTO GFGemployees (employee_id, employee_name, manager_id)VALUES  (1, 'Zaid', 3),  (2, 'Rahul', 3),  (3, 'Raman', 4),  (4, 'Kamran', NULL),  (5, 'Farhan', 4)\")"
   ]
  },
  {
   "cell_type": "code",
   "execution_count": 77,
   "id": "102567c0",
   "metadata": {},
   "outputs": [
    {
     "name": "stdout",
     "output_type": "stream",
     "text": [
      "(1, 'Zaid', 3)\n",
      "(2, 'Rahul', 3)\n",
      "(3, 'Raman', 4)\n",
      "(4, 'Kamran', None)\n",
      "(5, 'Farhan', 4)\n"
     ]
    }
   ],
   "source": [
    "result=cursor.execute('select * from GFGemployees')\n",
    "for row in result:\n",
    "    print(row)"
   ]
  },
  {
   "cell_type": "markdown",
   "id": "8afd6d37",
   "metadata": {},
   "source": [
    "# How do you implement pagination in MySQL?\n",
    "Answer: Using LIMIT and OFFSET.\n",
    "SELECT * FROM table_name LIMIT 10 OFFSET 20;  -- Skips the first 20 records and fetches the next 10.\n"
   ]
  },
  {
   "cell_type": "markdown",
   "id": "68d18edc",
   "metadata": {},
   "source": [
    "# Date column manipulation-"
   ]
  },
  {
   "cell_type": "code",
   "execution_count": 1,
   "id": "95a25427",
   "metadata": {},
   "outputs": [
    {
     "ename": "NameError",
     "evalue": "name 'cursor' is not defined",
     "output_type": "error",
     "traceback": [
      "\u001b[1;31m---------------------------------------------------------------------------\u001b[0m",
      "\u001b[1;31mNameError\u001b[0m                                 Traceback (most recent call last)",
      "\u001b[1;32m~\\AppData\\Local\\Temp\\ipykernel_7012\\2175533535.py\u001b[0m in \u001b[0;36m<module>\u001b[1;34m\u001b[0m\n\u001b[1;32m----> 1\u001b[1;33m \u001b[0mcursor\u001b[0m\u001b[1;33m.\u001b[0m\u001b[0mexecute\u001b[0m\u001b[1;33m(\u001b[0m\u001b[1;34m'CREATE TABLE StudentDetails (Student_Id INT AUTO_INCREMENT,First_name VARCHAR (100) NOT NULL,Last_name VARCHAR (100) NOT NULL,Date_Of_Birth DATE NOT NULL,Class VARCHAR (10) NOT NULL,Contact_Details BIGINT NOT NULL,PRIMARY KEY(Student_Id ))'\u001b[0m\u001b[1;33m)\u001b[0m\u001b[1;33m\u001b[0m\u001b[1;33m\u001b[0m\u001b[0m\n\u001b[0m",
      "\u001b[1;31mNameError\u001b[0m: name 'cursor' is not defined"
     ]
    }
   ],
   "source": [
    "cursor.execute('CREATE TABLE StudentDetails (Student_Id INT AUTO_INCREMENT,First_name VARCHAR (100) NOT NULL,Last_name VARCHAR (100) NOT NULL,Date_Of_Birth DATE NOT NULL,Class VARCHAR (10) NOT NULL,Contact_Details BIGINT NOT NULL,PRIMARY KEY(Student_Id ))')"
   ]
  },
  {
   "cell_type": "code",
   "execution_count": 83,
   "id": "5628d93d",
   "metadata": {},
   "outputs": [
    {
     "data": {
      "text/plain": [
       "<sqlite3.Cursor at 0x1f2e547e110>"
      ]
     },
     "execution_count": 83,
     "metadata": {},
     "output_type": "execute_result"
    }
   ],
   "source": [
    "cursor.execute(\"INSERT INTO StudentDetails(First_name , Last_name , Date_Of_Birth , Class, Contact_Details) VALUES('Amit', 'Jana', '2004-12-22', 'XI', 1234567890), ('Manik', 'Aggarwal', '2006-07-04', 'IX', 1245678998),('Nitin', 'Das', '2005-03-14', 'X', 2245664909),('Priya', 'Pal', '2007-07-24', 'VIII', 3245642199),('Biswanath', 'Sharma', '2005-11-11', 'X', 2456789761),('Mani', 'Punia', '2006-01-20', 'IX', 3245675421),('Pritam', 'Patel', '2008-01-04', 'VII', 3453415421),('Sayak', 'Sharma', '2007-05-10', 'VIII' , 1214657890)\")"
   ]
  },
  {
   "cell_type": "code",
   "execution_count": 84,
   "id": "933d177e",
   "metadata": {},
   "outputs": [
    {
     "name": "stdout",
     "output_type": "stream",
     "text": [
      "(None, 'Amit', 'Jana', '2004-12-22', 'XI', 1234567890)\n",
      "(None, 'Manik', 'Aggarwal', '2006-07-04', 'IX', 1245678998)\n",
      "(None, 'Nitin', 'Das', '2005-03-14', 'X', 2245664909)\n",
      "(None, 'Priya', 'Pal', '2007-07-24', 'VIII', 3245642199)\n",
      "(None, 'Biswanath', 'Sharma', '2005-11-11', 'X', 2456789761)\n",
      "(None, 'Mani', 'Punia', '2006-01-20', 'IX', 3245675421)\n",
      "(None, 'Pritam', 'Patel', '2008-01-04', 'VII', 3453415421)\n",
      "(None, 'Sayak', 'Sharma', '2007-05-10', 'VIII', 1214657890)\n"
     ]
    }
   ],
   "source": [
    "result=cursor.execute('select * from StudentDetails')\n",
    "for row in result:\n",
    "    print(row)"
   ]
  },
  {
   "cell_type": "code",
   "execution_count": 94,
   "id": "1fa22127",
   "metadata": {},
   "outputs": [
    {
     "name": "stdout",
     "output_type": "stream",
     "text": [
      "('12',)\n",
      "('07',)\n",
      "('03',)\n",
      "('07',)\n",
      "('11',)\n",
      "('01',)\n",
      "('01',)\n",
      "('05',)\n"
     ]
    }
   ],
   "source": [
    "result=cursor.execute(\"select strftime('%m',Date_Of_Birth) from StudentDetails\")\n",
    "for row in result:\n",
    "    print(row)"
   ]
  },
  {
   "cell_type": "markdown",
   "id": "734cd0f4",
   "metadata": {},
   "source": [
    "# Pivoting of table with filter method-"
   ]
  },
  {
   "cell_type": "code",
   "execution_count": 47,
   "id": "da424316",
   "metadata": {},
   "outputs": [
    {
     "name": "stdout",
     "output_type": "stream",
     "text": [
      "(100, 'pratik', '28', 'data science', 50000, '1 year')\n",
      "(101, 'Pratik ', '22', 'data science ', 50000, 16)\n",
      "(102, 'ram', '21', 'business analytics ', 60000, 17)\n",
      "(103, 'shyam ', '31', 'MBA', 70000, 20)\n",
      "(104, 'sita', '31', 'PHD', 80000, 18)\n",
      "(105, 'ayush ', '34', 'PG', 90000, 14)\n",
      "(106, 'mayank', '40', 'engineering', 100000, 19)\n",
      "(107, 'raj ', '28', 'IT', 110000, 14)\n",
      "(108, 'ganesh ', '31', 'data science ', 120000, 14)\n",
      "(109, 'kartik ', '28', 'business analytics ', 130000, 11)\n",
      "(110, 'salman ', '33', 'MBA', 140000, 13)\n",
      "(111, 'srk', '32', 'IT', 150000, 16)\n",
      "(112, 'ritik ', '27', 'BE', 160000, 15)\n",
      "(113, 'sheela', '38', 'ME', 170000, 13)\n",
      "(114, 'reena', '22', 'IT', 180000, 18)\n",
      "(115, 'mahima', '20', 'data science ', 190000, 15)\n",
      "(116, 'ankita ', '33', 'business analytics ', 200000, 18)\n",
      "(117, 'jyoti ', '35', 'ME', 210000, 18)\n",
      "(118, 'aayushi ', '21', 'BE', 220000, 19)\n",
      "(119, 'ranka ', '39', 'PG', 230000, 17)\n",
      "(120, 'aditi ', '23', 'engineering', 240000, 15)\n",
      "(121, 'jainu', '30', 'IT', 250000, 11)\n",
      "(122, 'ritika', '26', 'data science ', 260000, 10)\n",
      "(123, 'anushka', '35', 'ME', 270000, 10)\n",
      "(124, 'sheelu', '38', 'MBA', 280000, 12)\n",
      "(125, 'radha', '24', 'PHD', 290000, 10)\n",
      "(126, 'surbhi ', '28', 'PG', 300000, 19)\n",
      "(127, 'neha ', '28', 'engineering', 310000, 15)\n",
      "(128, 'gabbu ', '40', 'IT', 320000, 10)\n",
      "(129, 'tannu ', '30', 'ME', 330000, 15)\n",
      "(130, 'kannu', '32', 'BE', 340000, 19)\n"
     ]
    }
   ],
   "source": [
    "result=cursor.execute('select * from pratik')\n",
    "for row in result:\n",
    "    print(row)"
   ]
  },
  {
   "cell_type": "code",
   "execution_count": 31,
   "id": "6e54e3cc",
   "metadata": {},
   "outputs": [
    {
     "name": "stdout",
     "output_type": "stream",
     "text": [
      "('BE', None, None)\n",
      "('IT', 110000, None)\n",
      "('MBA', None, 70000)\n",
      "('ME', None, None)\n",
      "('PG', 300000, None)\n",
      "('PHD', None, 80000)\n",
      "('business analytics ', 130000, None)\n",
      "('data science', 50000, None)\n",
      "('data science ', None, 120000)\n",
      "('engineering', 310000, None)\n"
     ]
    }
   ],
   "source": [
    "result=cursor.execute(\"select course,sum(fees) filter (where age==28),sum(fees) filter(where age==31) as 'two' from pratik group by course \")\n",
    "for row in result:\n",
    "    print(row)"
   ]
  },
  {
   "cell_type": "markdown",
   "id": "e636237c",
   "metadata": {},
   "source": [
    "# Pivot table in SQLIT3-"
   ]
  },
  {
   "cell_type": "code",
   "execution_count": null,
   "id": "ba718d59",
   "metadata": {},
   "outputs": [],
   "source": [
    "select\n",
    "  product,\n",
    "  sum(income) filter (where year = 2020) as \"2020\",\n",
    "  sum(income) filter (where year = 2021) as \"2021\",\n",
    "  sum(income) filter (where year = 2022) as \"2022\",\n",
    "  sum(income) filter (where year = 2023) as \"2023\"\n",
    "from sales\n",
    "group by product\n",
    "order by product;"
   ]
  },
  {
   "cell_type": "code",
   "execution_count": 38,
   "id": "d77cac94",
   "metadata": {},
   "outputs": [
    {
     "name": "stdout",
     "output_type": "stream",
     "text": [
      "(0, 'xxx', 0, 'c', 0)\n",
      "(1, 'xxxx', 0, 'c', 0)\n",
      "(2, 'sqlite_autoindex_pratik_1', 1, 'pk', 0)\n"
     ]
    }
   ],
   "source": [
    "result=cursor.execute(\"PRAGMA index_list('pratik')\")\n",
    "for row in result:\n",
    "    print(row)"
   ]
  },
  {
   "cell_type": "code",
   "execution_count": 37,
   "id": "08d571c1",
   "metadata": {},
   "outputs": [
    {
     "data": {
      "text/plain": [
       "<sqlite3.Cursor at 0x23f1c777960>"
      ]
     },
     "execution_count": 37,
     "metadata": {},
     "output_type": "execute_result"
    }
   ],
   "source": [
    "cursor.execute('create index xxx on pratik(roll_no,age)')"
   ]
  },
  {
   "cell_type": "code",
   "execution_count": 41,
   "id": "2ff10957",
   "metadata": {},
   "outputs": [
    {
     "data": {
      "text/plain": [
       "<sqlite3.Cursor at 0x23f1c777960>"
      ]
     },
     "execution_count": 41,
     "metadata": {},
     "output_type": "execute_result"
    }
   ],
   "source": [
    "cursor.execute('drop index xxxx')"
   ]
  },
  {
   "cell_type": "markdown",
   "id": "135bdeec",
   "metadata": {},
   "source": [
    "# When we want to select the no of text from a string-"
   ]
  },
  {
   "cell_type": "code",
   "execution_count": 67,
   "id": "d8b1c1fa",
   "metadata": {},
   "outputs": [
    {
     "name": "stdout",
     "output_type": "stream",
     "text": [
      "('pra',)\n",
      "('Pra',)\n",
      "('ram',)\n",
      "('shy',)\n",
      "('sit',)\n",
      "('ayu',)\n",
      "('may',)\n",
      "('raj',)\n",
      "('gan',)\n",
      "('kar',)\n",
      "('sal',)\n",
      "('srk',)\n",
      "('rit',)\n",
      "('she',)\n",
      "('ree',)\n",
      "('mah',)\n",
      "('ank',)\n",
      "('jyo',)\n",
      "('aay',)\n",
      "('ran',)\n",
      "('adi',)\n",
      "('jai',)\n",
      "('rit',)\n",
      "('anu',)\n",
      "('she',)\n",
      "('rad',)\n",
      "('sur',)\n",
      "('neh',)\n",
      "('gab',)\n",
      "('tan',)\n",
      "('kan',)\n"
     ]
    }
   ],
   "source": [
    "result=cursor.execute('select substr(name,1,3) from pratik')\n",
    "for row in result:\n",
    "    print(row)"
   ]
  },
  {
   "cell_type": "markdown",
   "id": "3f392e49",
   "metadata": {},
   "source": [
    "# Auto increment-"
   ]
  },
  {
   "cell_type": "code",
   "execution_count": 119,
   "id": "bd81f679",
   "metadata": {},
   "outputs": [
    {
     "data": {
      "text/plain": [
       "<sqlite3.Cursor at 0x23f1c7a7c00>"
      ]
     },
     "execution_count": 119,
     "metadata": {},
     "output_type": "execute_result"
    }
   ],
   "source": [
    "cursor.execute('CREATE TABLE S(Student_ID INTEGER PRIMARY KEY AUTOINCREMENT, First_Name varchar(255) NOT NULL,Last_Name varchar(255))')"
   ]
  },
  {
   "cell_type": "code",
   "execution_count": 107,
   "id": "6beb951e",
   "metadata": {},
   "outputs": [
    {
     "data": {
      "text/plain": [
       "<sqlite3.Cursor at 0x23f1c7a7c00>"
      ]
     },
     "execution_count": 107,
     "metadata": {},
     "output_type": "execute_result"
    }
   ],
   "source": [
    "cursor.execute(\"INSERT INTO St(Student_ID,First_Name, Last_Name ) VALUES (1,'Deeksha', 'Jain'),(2,'Kavisha', 'Parikh')\")"
   ]
  },
  {
   "cell_type": "code",
   "execution_count": 108,
   "id": "6a196bea",
   "metadata": {},
   "outputs": [
    {
     "name": "stdout",
     "output_type": "stream",
     "text": [
      "(1, 'Deeksha', 'Jain')\n",
      "(2, 'Kavisha', 'Parikh')\n"
     ]
    }
   ],
   "source": [
    "result=cursor.execute('select * from st')\n",
    "for row in result:\n",
    "    print(row)"
   ]
  },
  {
   "cell_type": "code",
   "execution_count": 109,
   "id": "66c92fd4",
   "metadata": {},
   "outputs": [
    {
     "data": {
      "text/plain": [
       "<sqlite3.Cursor at 0x23f1c7a7c00>"
      ]
     },
     "execution_count": 109,
     "metadata": {},
     "output_type": "execute_result"
    }
   ],
   "source": [
    "cursor.execute(\"INSERT INTO St(First_Name, Last_Name ) VALUES ('Deeksha', 'Jain'),('Kavisha', 'Parikh')\")"
   ]
  },
  {
   "cell_type": "code",
   "execution_count": 111,
   "id": "e5735f1a",
   "metadata": {},
   "outputs": [
    {
     "name": "stdout",
     "output_type": "stream",
     "text": [
      "(1, 'Deeksha', 'Jain')\n",
      "(2, 'Kavisha', 'Parikh')\n",
      "(3, 'Deeksha', 'Jain')\n",
      "(4, 'Kavisha', 'Parikh')\n"
     ]
    }
   ],
   "source": [
    "result=cursor.execute('select * from st')\n",
    "for row in result:\n",
    "    print(row)"
   ]
  },
  {
   "cell_type": "markdown",
   "id": "5cfd2ac9",
   "metadata": {},
   "source": [
    "# How to put condition on columns to not except null values-"
   ]
  },
  {
   "cell_type": "code",
   "execution_count": 120,
   "id": "88820709",
   "metadata": {},
   "outputs": [
    {
     "data": {
      "text/plain": [
       "<sqlite3.Cursor at 0x23f1c7a7c00>"
      ]
     },
     "execution_count": 120,
     "metadata": {},
     "output_type": "execute_result"
    }
   ],
   "source": [
    "cursor.execute('CREATE TABLE Ss(Student_ID INTEGER PRIMARY KEY AUTOINCREMENT, First_Name varchar(255) NOT NULL,Last_Name varchar(255))')"
   ]
  },
  {
   "cell_type": "markdown",
   "id": "295616b4",
   "metadata": {},
   "source": [
    "# Explain keyword-\n",
    "\n",
    "In SQL, the EXPLAIN keyword provides a description of how the SQL queries are executed by the databases. These descriptions include the optimizer logs, how tables are joined and in what order, etc.\n",
    "\n",
    "Hence, it would be a useful tool in query optimization and knowing the details of its execution step by step. The EXPLAIN also indicates the fact that a user who doesn’t have any access to a particular database will not be provided details about how it executes the queries. So it maintains security as well.\n",
    "\n",
    "The primary thing to note about EXPLAIN is that it will be used at the beginning of the query, i.e., before SELECT, INSERT, UPDATE, etc."
   ]
  },
  {
   "cell_type": "code",
   "execution_count": 121,
   "id": "094b1bf7",
   "metadata": {},
   "outputs": [
    {
     "name": "stdout",
     "output_type": "stream",
     "text": [
      "(0, 'Init', 0, 9, 0, None, 0, None)\n",
      "(1, 'OpenRead', 0, 15, 0, '3', 0, None)\n",
      "(2, 'Rewind', 0, 8, 0, None, 0, None)\n",
      "(3, 'Rowid', 0, 1, 0, None, 0, None)\n",
      "(4, 'Column', 0, 1, 2, None, 0, None)\n",
      "(5, 'Column', 0, 2, 3, None, 0, None)\n",
      "(6, 'ResultRow', 1, 3, 0, None, 0, None)\n",
      "(7, 'Next', 0, 3, 0, None, 1, None)\n",
      "(8, 'Halt', 0, 0, 0, None, 0, None)\n",
      "(9, 'Transaction', 0, 0, 12, '0', 1, None)\n",
      "(10, 'Goto', 0, 1, 0, None, 0, None)\n"
     ]
    }
   ],
   "source": [
    "result=cursor.execute('explain select * from st')\n",
    "for row in result:\n",
    "    print(row)"
   ]
  },
  {
   "cell_type": "raw",
   "id": "3e412ccb",
   "metadata": {},
   "source": [
    "result=cursor.execute(\"explain select * from st where First_name=='Deeksha' \")\n",
    "for row in result:\n",
    "    print(row)"
   ]
  },
  {
   "cell_type": "markdown",
   "id": "e56315a9",
   "metadata": {},
   "source": [
    "# What are the differences between VARCHAR and TEXT data types?\n",
    "\n",
    "Answer: While both are used to store strings, VARCHAR can store up to 65,535 characters and you can specify its max length, while TEXT can store up to 65,535 characters without specifying max length. VARCHAR can have a default value, but TEXT cannot."
   ]
  },
  {
   "cell_type": "markdown",
   "id": "cedc7873",
   "metadata": {},
   "source": [
    "# A transaction-\n",
    "\n",
    "Transactions group a set of tasks into a single execution unit. If one task fails, all fail. Useful for maintaining data integrity."
   ]
  },
  {
   "cell_type": "markdown",
   "id": "4e406366",
   "metadata": {},
   "source": [
    "# Group concat function-"
   ]
  },
  {
   "cell_type": "code",
   "execution_count": 127,
   "id": "fecf5fd3",
   "metadata": {},
   "outputs": [
    {
     "name": "stdout",
     "output_type": "stream",
     "text": [
      "('pratik,Pratik ,ram,shyam ,sita,ayush ,mayank,raj ,ganesh ,kartik ,salman ,srk,ritik ,sheela,reena,mahima,ankita ,jyoti ,aayushi ,ranka ,aditi ,jainu,ritika,anushka,sheelu,radha,surbhi ,neha ,gabbu ,tannu ,kannu',)\n"
     ]
    }
   ],
   "source": [
    "result=cursor.execute('select group_concat(name) from pratik')\n",
    "for row in result:\n",
    "    print(row)"
   ]
  },
  {
   "cell_type": "markdown",
   "id": "aee5b5b4",
   "metadata": {},
   "source": [
    "# Partition query-"
   ]
  },
  {
   "cell_type": "code",
   "execution_count": 129,
   "id": "6f9d9353",
   "metadata": {},
   "outputs": [
    {
     "name": "stdout",
     "output_type": "stream",
     "text": [
      "('BE', 720000, 26.666666666666668)\n",
      "('BE', 720000, 26.666666666666668)\n",
      "('BE', 720000, 26.666666666666668)\n",
      "('IT', 1010000, 30.4)\n",
      "('IT', 1010000, 30.4)\n",
      "('IT', 1010000, 30.4)\n",
      "('IT', 1010000, 30.4)\n",
      "('IT', 1010000, 30.4)\n",
      "('MBA', 490000, 34.0)\n",
      "('MBA', 490000, 34.0)\n",
      "('MBA', 490000, 34.0)\n",
      "('ME', 980000, 34.5)\n",
      "('ME', 980000, 34.5)\n",
      "('ME', 980000, 34.5)\n",
      "('ME', 980000, 34.5)\n",
      "('PG', 620000, 33.666666666666664)\n",
      "('PG', 620000, 33.666666666666664)\n",
      "('PG', 620000, 33.666666666666664)\n",
      "('PHD', 370000, 27.5)\n",
      "('PHD', 370000, 27.5)\n",
      "('business analytics ', 390000, 27.333333333333332)\n",
      "('business analytics ', 390000, 27.333333333333332)\n",
      "('business analytics ', 390000, 27.333333333333332)\n",
      "('data science', 50000, 28.0)\n",
      "('data science ', 620000, 24.75)\n",
      "('data science ', 620000, 24.75)\n",
      "('data science ', 620000, 24.75)\n",
      "('data science ', 620000, 24.75)\n",
      "('engineering', 650000, 30.333333333333332)\n",
      "('engineering', 650000, 30.333333333333332)\n",
      "('engineering', 650000, 30.333333333333332)\n"
     ]
    }
   ],
   "source": [
    "result=cursor.execute('select course,sum(fees) over (partition by course) as total_amount,avg(age) over (partition by course) as avg_amount from pratik')\n",
    "for row in result:\n",
    "    print(row)"
   ]
  },
  {
   "cell_type": "code",
   "execution_count": 128,
   "id": "cda8cd35",
   "metadata": {},
   "outputs": [
    {
     "name": "stdout",
     "output_type": "stream",
     "text": [
      "(100, 'pratik', '28', 'data science', 50000, '1 year')\n",
      "(101, 'Pratik ', '22', 'data science ', 50000, 16)\n",
      "(102, 'ram', '21', 'business analytics ', 60000, 17)\n",
      "(103, 'shyam ', '31', 'MBA', 70000, 20)\n",
      "(104, 'sita', '31', 'PHD', 80000, 18)\n",
      "(105, 'ayush ', '34', 'PG', 90000, 14)\n",
      "(106, 'mayank', '40', 'engineering', 100000, 19)\n",
      "(107, 'raj ', '28', 'IT', 110000, 14)\n",
      "(108, 'ganesh ', '31', 'data science ', 120000, 14)\n",
      "(109, 'kartik ', '28', 'business analytics ', 130000, 11)\n",
      "(110, 'salman ', '33', 'MBA', 140000, 13)\n",
      "(111, 'srk', '32', 'IT', 150000, 16)\n",
      "(112, 'ritik ', '27', 'BE', 160000, 15)\n",
      "(113, 'sheela', '38', 'ME', 170000, 13)\n",
      "(114, 'reena', '22', 'IT', 180000, 18)\n",
      "(115, 'mahima', '20', 'data science ', 190000, 15)\n",
      "(116, 'ankita ', '33', 'business analytics ', 200000, 18)\n",
      "(117, 'jyoti ', '35', 'ME', 210000, 18)\n",
      "(118, 'aayushi ', '21', 'BE', 220000, 19)\n",
      "(119, 'ranka ', '39', 'PG', 230000, 17)\n",
      "(120, 'aditi ', '23', 'engineering', 240000, 15)\n",
      "(121, 'jainu', '30', 'IT', 250000, 11)\n",
      "(122, 'ritika', '26', 'data science ', 260000, 10)\n",
      "(123, 'anushka', '35', 'ME', 270000, 10)\n",
      "(124, 'sheelu', '38', 'MBA', 280000, 12)\n",
      "(125, 'radha', '24', 'PHD', 290000, 10)\n",
      "(126, 'surbhi ', '28', 'PG', 300000, 19)\n",
      "(127, 'neha ', '28', 'engineering', 310000, 15)\n",
      "(128, 'gabbu ', '40', 'IT', 320000, 10)\n",
      "(129, 'tannu ', '30', 'ME', 330000, 15)\n",
      "(130, 'kannu', '32', 'BE', 340000, 19)\n"
     ]
    }
   ],
   "source": [
    "result=cursor.execute('select * from pratik')\n",
    "for row in result:\n",
    "    print(row)"
   ]
  },
  {
   "cell_type": "markdown",
   "id": "e98ebd74",
   "metadata": {},
   "source": [
    "# What's the difference between INNER JOIN and OUTER JOIN?\n",
    "\n",
    "Answer: INNER JOIN returns rows when there's a match in both tables. OUTER JOIN returns all rows from one table and the matching rows from the other table, filling with NULL if no match is found."
   ]
  },
  {
   "cell_type": "markdown",
   "id": "4286a1db",
   "metadata": {},
   "source": [
    "# How can you retrieve a random row from a table-"
   ]
  },
  {
   "cell_type": "code",
   "execution_count": 142,
   "id": "1b195c97",
   "metadata": {},
   "outputs": [
    {
     "name": "stdout",
     "output_type": "stream",
     "text": [
      "(102, 'ram', '21', 'business analytics ', 60000, 17)\n"
     ]
    }
   ],
   "source": [
    "result=cursor.execute('select * from pratik order by random() limit 1')\n",
    "for row in result:\n",
    "    print(row)"
   ]
  },
  {
   "cell_type": "markdown",
   "id": "3662b8dc",
   "metadata": {},
   "source": [
    "# How can you update data in one table based on data in another table"
   ]
  },
  {
   "cell_type": "code",
   "execution_count": null,
   "id": "183aaf3a",
   "metadata": {},
   "outputs": [],
   "source": [
    "cursor.execute('CREATE TABLE demo_table11(ID int,NAME VARCHAR(20),AGE INT,CITY VARCHAR(20) )')"
   ]
  },
  {
   "cell_type": "code",
   "execution_count": 166,
   "id": "6c2bc3bb",
   "metadata": {},
   "outputs": [
    {
     "data": {
      "text/plain": [
       "<sqlite3.Cursor at 0x23f1c7a7c00>"
      ]
     },
     "execution_count": 166,
     "metadata": {},
     "output_type": "execute_result"
    }
   ],
   "source": [
    "cursor.execute('CREATE TABLE demo_table21(ID int,NAME VARCHAR(20),AGE int)')"
   ]
  },
  {
   "cell_type": "code",
   "execution_count": 167,
   "id": "17379908",
   "metadata": {},
   "outputs": [
    {
     "data": {
      "text/plain": [
       "<sqlite3.Cursor at 0x23f1c7a7c00>"
      ]
     },
     "execution_count": 167,
     "metadata": {},
     "output_type": "execute_result"
    }
   ],
   "source": [
    "cursor.execute(\"INSERT INTO demo_table11 VALUES(1,'Romy',23,'Delhi'),(2,'Rahul',23,'Delhi'),(3,'Nikhil',24,'Punjab'),(4,'Ranvir',23,'Punjab'),(5,'Samiksha',23,'Banglore'),(6,'Ashtha',24,'Banglore'),(7,'Tannu',30,'Patna'),(8,'Girish',30,'Patna'),(9,'Ram', 20 , 'Patna'),(10,'Raj', 12, 'Delhi')\")"
   ]
  },
  {
   "cell_type": "code",
   "execution_count": 168,
   "id": "7c990255",
   "metadata": {},
   "outputs": [
    {
     "data": {
      "text/plain": [
       "<sqlite3.Cursor at 0x23f1c7a7c00>"
      ]
     },
     "execution_count": 168,
     "metadata": {},
     "output_type": "execute_result"
    }
   ],
   "source": [
    "cursor.execute(\"INSERT INTO demo_table21 VALUES(3,'Fanny',25 ),(7,'Prem', 30),(1,'Preeti',21),(4,'Samita',32)\")"
   ]
  },
  {
   "cell_type": "code",
   "execution_count": 169,
   "id": "90c60cbd",
   "metadata": {},
   "outputs": [
    {
     "name": "stdout",
     "output_type": "stream",
     "text": [
      "(1, 'Romy', 23, 'Delhi')\n",
      "(2, 'Rahul', 23, 'Delhi')\n",
      "(3, 'Nikhil', 24, 'Punjab')\n",
      "(4, 'Ranvir', 23, 'Punjab')\n",
      "(5, 'Samiksha', 23, 'Banglore')\n",
      "(6, 'Ashtha', 24, 'Banglore')\n",
      "(7, 'Tannu', 30, 'Patna')\n",
      "(8, 'Girish', 30, 'Patna')\n",
      "(9, 'Ram', 20, 'Patna')\n",
      "(10, 'Raj', 12, 'Delhi')\n"
     ]
    }
   ],
   "source": [
    "result=cursor.execute('select * from demo_table11')\n",
    "for row in result:\n",
    "    print(row)"
   ]
  },
  {
   "cell_type": "code",
   "execution_count": 185,
   "id": "05d78895",
   "metadata": {},
   "outputs": [
    {
     "name": "stdout",
     "output_type": "stream",
     "text": [
      "(3, 'Fanny', 25)\n",
      "(7, 'Prem', 30)\n",
      "(1, 'Preeti', 21)\n",
      "(4, 'Samita', 32)\n"
     ]
    }
   ],
   "source": [
    "result=cursor.execute('select * from demo_table21')\n",
    "for row in result:\n",
    "    print(row)"
   ]
  },
  {
   "cell_type": "code",
   "execution_count": 171,
   "id": "6a59da94",
   "metadata": {},
   "outputs": [
    {
     "data": {
      "text/plain": [
       "<sqlite3.Cursor at 0x23f1c7a7c00>"
      ]
     },
     "execution_count": 171,
     "metadata": {},
     "output_type": "execute_result"
    }
   ],
   "source": [
    "cursor.execute(\"update demo_table11 set NAME=demo_table21.NAME, AGE=demo_table21.AGE from demo_table21 where demo_table11.ID=demo_table21.ID\")"
   ]
  },
  {
   "cell_type": "code",
   "execution_count": 174,
   "id": "f31efcbd",
   "metadata": {},
   "outputs": [
    {
     "name": "stdout",
     "output_type": "stream",
     "text": [
      "(1, 'Preeti', 21, 'Delhi')\n",
      "(2, 'Rahul', 23, 'Delhi')\n",
      "(3, 'Fanny', 25, 'Punjab')\n",
      "(4, 'Samita', 32, 'Punjab')\n",
      "(5, 'Samiksha', 23, 'Banglore')\n",
      "(6, 'Ashtha', 24, 'Banglore')\n",
      "(7, 'Prem', 30, 'Patna')\n",
      "(8, 'Girish', 30, 'Patna')\n",
      "(9, 'Ram', 20, 'Patna')\n",
      "(10, 'Raj', 12, 'Delhi')\n"
     ]
    }
   ],
   "source": [
    "result=cursor.execute('select * from demo_table11')\n",
    "for row in result:\n",
    "    print(row)"
   ]
  },
  {
   "cell_type": "markdown",
   "id": "f52ea31a",
   "metadata": {},
   "source": [
    "# What are the different types of subqueries? Explain with examples.\n",
    "\n",
    "Answer: There are three types:      \n",
    "Scalar subquery: Returns a single value.     \n",
    "SELECT column_name      \n",
    "FROM table_name       \n",
    "WHERE another_column = (SELECT MAX(column_name) FROM table_name);     \n",
    "Row subquery: Returns a single row.\n",
    "\n",
    "\n",
    "SELECT column1, column2     \n",
    "FROM table_name      \n",
    "WHERE (column1, column2) = (SELECT column1, column2 FROM another_table WHERE condition);    \n",
    "Table subquery: Returns a table.     \n",
    "  \n",
    "SELECT column_name     \n",
    "FROM (SELECT column_name FROM table_name WHERE condition) AS subquery_name;     "
   ]
  },
  {
   "cell_type": "code",
   "execution_count": 188,
   "id": "0615b698",
   "metadata": {},
   "outputs": [
    {
     "name": "stdout",
     "output_type": "stream",
     "text": [
      "('Prem', 30)\n"
     ]
    }
   ],
   "source": [
    "result=cursor.execute(\"select NAME,AGE from demo_table21 where (ID,AGE)=(select ID,AGE from demo_table21 where ID==7 AND AGE==30)\")\n",
    "for row in result:\n",
    "    print(row)"
   ]
  },
  {
   "cell_type": "code",
   "execution_count": 195,
   "id": "cbe1e54c",
   "metadata": {},
   "outputs": [
    {
     "name": "stdout",
     "output_type": "stream",
     "text": [
      "('Fanny',)\n",
      "('Samita',)\n",
      "('Prem',)\n",
      "('Girish',)\n"
     ]
    }
   ],
   "source": [
    "result=cursor.execute('select NAME from (select NAME from demo_table11 where AGE>=25) as subquery')\n",
    "for row in result:\n",
    "    print(row)"
   ]
  },
  {
   "cell_type": "markdown",
   "id": "94d7dc93",
   "metadata": {},
   "source": [
    "# What is a self-join and why would you use it?\n",
    "\n",
    "Answer: A self-join is a join where a table is joined with itself. It's useful for finding relationships within the same table."
   ]
  },
  {
   "cell_type": "code",
   "execution_count": 202,
   "id": "04a1437f",
   "metadata": {},
   "outputs": [
    {
     "data": {
      "text/plain": [
       "<sqlite3.Cursor at 0x23f1c7a7c00>"
      ]
     },
     "execution_count": 202,
     "metadata": {},
     "output_type": "execute_result"
    }
   ],
   "source": [
    "cursor.execute('CREATE TABLE emp_master(emp_id INTEGER PRIMARY KEY AUTOINCREMENT,first_name TEXT,last_name TEXT,salary NUMERIC,dept_id INTEGER,manager_id INTEGER)')"
   ]
  },
  {
   "cell_type": "code",
   "execution_count": 204,
   "id": "135ecefa",
   "metadata": {},
   "outputs": [
    {
     "data": {
      "text/plain": [
       "<sqlite3.Cursor at 0x23f1c7a7c00>"
      ]
     },
     "execution_count": 204,
     "metadata": {},
     "output_type": "execute_result"
    }
   ],
   "source": [
    "cursor.execute(\"INSERT INTO emp_master values (2,'Shweta','Jariwala', 19300,2,7),(3,'Vinay','Jariwala', 35100,3,2),(4,'Jagruti','Viras', 9500,2,7),(5,'Shweta','Rana',12000,3,2),(6,'sonal','Menpara', 13000,1,3),(7,'Yamini','Patel', 10000,2,7),(8,'Khyati','Shah', 49900,3,2),(9,'Shwets','Jariwala',19400,2,7)\")"
   ]
  },
  {
   "cell_type": "code",
   "execution_count": 205,
   "id": "6d08f2bc",
   "metadata": {},
   "outputs": [
    {
     "name": "stdout",
     "output_type": "stream",
     "text": [
      "(2, 'Shweta', 'Jariwala', 19300, 2, 7)\n",
      "(3, 'Vinay', 'Jariwala', 35100, 3, 2)\n",
      "(4, 'Jagruti', 'Viras', 9500, 2, 7)\n",
      "(5, 'Shweta', 'Rana', 12000, 3, 2)\n",
      "(6, 'sonal', 'Menpara', 13000, 1, 3)\n",
      "(7, 'Yamini', 'Patel', 10000, 2, 7)\n",
      "(8, 'Khyati', 'Shah', 49900, 3, 2)\n",
      "(9, 'Shwets', 'Jariwala', 19400, 2, 7)\n"
     ]
    }
   ],
   "source": [
    "result=cursor.execute('select * from emp_master')\n",
    "for row in result:\n",
    "    print(row)"
   ]
  },
  {
   "cell_type": "code",
   "execution_count": 226,
   "id": "154a2643",
   "metadata": {},
   "outputs": [
    {
     "name": "stdout",
     "output_type": "stream",
     "text": [
      "(2, 'Shweta', 7, 'Yamini')\n",
      "(3, 'Vinay', 2, 'Shweta')\n",
      "(4, 'Jagruti', 7, 'Yamini')\n",
      "(5, 'Shweta', 2, 'Shweta')\n",
      "(6, 'sonal', 3, 'Vinay')\n",
      "(7, 'Yamini', 7, 'Yamini')\n",
      "(8, 'Khyati', 2, 'Shweta')\n",
      "(9, 'Shwets', 7, 'Yamini')\n"
     ]
    }
   ],
   "source": [
    "cursor.execute('select x.emp_id,x.first_name,y.emp_id,y.first_name from emp_master x,emp_master y where x.manager_id=y.emp_id')\n",
    "for row in result:\n",
    "    print(row)"
   ]
  },
  {
   "cell_type": "markdown",
   "id": "902794ce",
   "metadata": {},
   "source": [
    "# How to get the list of tables from the whole database-"
   ]
  },
  {
   "cell_type": "code",
   "execution_count": 241,
   "id": "53eb982d",
   "metadata": {},
   "outputs": [
    {
     "name": "stdout",
     "output_type": "stream",
     "text": [
      "('S',)\n",
      "('Ss',)\n",
      "('St',)\n",
      "('Stu',)\n",
      "('Stud',)\n",
      "('Stude',)\n",
      "('Studen',)\n",
      "('Student',)\n",
      "('Students',)\n",
      "('demo_table1',)\n",
      "('demo_table11',)\n",
      "('demo_table2',)\n",
      "('demo_table21',)\n",
      "('emp_master',)\n",
      "('pratik',)\n",
      "('teen',)\n",
      "('teenu',)\n"
     ]
    }
   ],
   "source": [
    "result=cursor.execute(\"SELECT name FROM sqlite_schema WHERE type IN ('table','view') AND name NOT LIKE 'sqlite_%' ORDER BY 1\")\n",
    "for row in result:\n",
    "    print(row)"
   ]
  },
  {
   "cell_type": "code",
   "execution_count": 242,
   "id": "c60efce8",
   "metadata": {},
   "outputs": [
    {
     "name": "stdout",
     "output_type": "stream",
     "text": [
      "('pratik',)\n",
      "('Students',)\n",
      "('Student',)\n",
      "('Studen',)\n",
      "('Stude',)\n",
      "('Stud',)\n",
      "('sqlite_sequence',)\n",
      "('Stu',)\n",
      "('St',)\n",
      "('S',)\n",
      "('Ss',)\n",
      "('teenu',)\n",
      "('teen',)\n",
      "('demo_table1',)\n",
      "('demo_table2',)\n",
      "('demo_table11',)\n",
      "('demo_table21',)\n",
      "('emp_master',)\n"
     ]
    }
   ],
   "source": [
    "result=cursor.execute(\"SELECT name FROM sqlite_schema WHERE type IN ('table','view') \")\n",
    "for row in result:\n",
    "    print(row)"
   ]
  },
  {
   "cell_type": "markdown",
   "id": "9ebb1b44",
   "metadata": {},
   "source": [
    "# Schema-\n",
    "\n",
    "it is a logical representation of data.it is a container having tables. "
   ]
  },
  {
   "cell_type": "markdown",
   "id": "35de0222",
   "metadata": {},
   "source": [
    "information_schema is a meta-database that provides detailed information about all other databases, tables, columns, indexes, constraints, etc."
   ]
  },
  {
   "cell_type": "markdown",
   "id": "489bbed0",
   "metadata": {},
   "source": [
    "# How can you delete all records from a table without deleting the table?\n",
    "\n",
    "TRUNCATE TABLE table_name;"
   ]
  },
  {
   "cell_type": "markdown",
   "id": "dd60cd89",
   "metadata": {},
   "source": [
    "# We can use this command to delete everything from the table-"
   ]
  },
  {
   "cell_type": "code",
   "execution_count": 244,
   "id": "377089d6",
   "metadata": {},
   "outputs": [
    {
     "data": {
      "text/plain": [
       "<sqlite3.Cursor at 0x23f1c7a7c00>"
      ]
     },
     "execution_count": 244,
     "metadata": {},
     "output_type": "execute_result"
    }
   ],
   "source": [
    "cursor.execute('delete from s')"
   ]
  },
  {
   "cell_type": "markdown",
   "id": "92cc4206",
   "metadata": {},
   "source": [
    "# Rename column name in table-"
   ]
  },
  {
   "cell_type": "code",
   "execution_count": 266,
   "id": "ae174495",
   "metadata": {},
   "outputs": [
    {
     "name": "stdout",
     "output_type": "stream",
     "text": [
      "(1, 'Preeti', 21, 'Delhi')\n",
      "(2, 'Rahul', 23, 'Delhi')\n",
      "(3, 'Fanny', 25, 'Punjab')\n",
      "(4, 'Samita', 32, 'Punjab')\n",
      "(5, 'Samiksha', 23, 'Banglore')\n",
      "(6, 'Ashtha', 24, 'Banglore')\n",
      "(7, 'Prem', 30, 'Patna')\n",
      "(8, 'Girish', 30, 'Patna')\n",
      "(9, 'Ram', 20, 'Patna')\n",
      "(10, 'Raj', 12, 'Delhi')\n"
     ]
    }
   ],
   "source": [
    "result=cursor.execute('select * from demo_table11')\n",
    "for row in result:\n",
    "    print(row)"
   ]
  },
  {
   "cell_type": "code",
   "execution_count": 247,
   "id": "418cb65c",
   "metadata": {},
   "outputs": [
    {
     "data": {
      "text/plain": [
       "<sqlite3.Cursor at 0x23f1c7a7c00>"
      ]
     },
     "execution_count": 247,
     "metadata": {},
     "output_type": "execute_result"
    }
   ],
   "source": [
    "cursor.execute('alter table demo_table11 rename column \"NAME\" to cheeku')"
   ]
  },
  {
   "cell_type": "markdown",
   "id": "143bc5af",
   "metadata": {},
   "source": [
    "# How to get table informations-"
   ]
  },
  {
   "cell_type": "code",
   "execution_count": 21,
   "id": "74ad27a7",
   "metadata": {},
   "outputs": [
    {
     "name": "stdout",
     "output_type": "stream",
     "text": [
      "(0, 'roll_no', 'INT', 0, None, 1)\n",
      "(1, 'name', 'TEXT', 0, None, 0)\n",
      "(2, 'age', 'TEXT', 0, None, 0)\n",
      "(3, 'course', 'TEXT', 0, None, 0)\n",
      "(4, 'fees', 'INT', 0, None, 0)\n",
      "(5, 'duration', 'INT', 0, None, 0)\n"
     ]
    }
   ],
   "source": [
    "result=cursor.execute('PRAGMA table_info(pratik)')\n",
    "for row in result:\n",
    "    print(row)"
   ]
  },
  {
   "cell_type": "markdown",
   "id": "f4bdcc48",
   "metadata": {},
   "source": [
    "# What is a correlated subquery?\n",
    "\n",
    "Answer: A correlated subquery is a subquery that references columns from the outer query. It's executed once for each row processed by the outer query.\n",
    "SELECT column_name \n",
    "FROM table_name t1\n",
    "WHERE some_value = (SELECT MAX(column_name) FROM table_name t2 WHERE t1.id = t2.id);"
   ]
  },
  {
   "cell_type": "markdown",
   "id": "d15e5b81",
   "metadata": {},
   "source": [
    "# How to know how many rows affected by the query-"
   ]
  },
  {
   "cell_type": "code",
   "execution_count": 46,
   "id": "8d1b3f04",
   "metadata": {},
   "outputs": [
    {
     "name": "stdout",
     "output_type": "stream",
     "text": [
      "(100, 'pratik', '28', 'data science', 50000, '1 year')\n",
      "(101, 'Pratik ', '22', 'data science ', 50000, 16)\n"
     ]
    }
   ],
   "source": [
    "result=cursor.execute('select * from pratik where fees==50000')\n",
    "for row in result:\n",
    "    print(row)"
   ]
  },
  {
   "cell_type": "code",
   "execution_count": 45,
   "id": "8839ac12",
   "metadata": {},
   "outputs": [
    {
     "name": "stdout",
     "output_type": "stream",
     "text": [
      "(2,)\n"
     ]
    }
   ],
   "source": [
    "result=cursor.execute('select count(*) from pratik where fees==50000')\n",
    "for row in result:\n",
    "    print(row)"
   ]
  },
  {
   "cell_type": "code",
   "execution_count": 69,
   "id": "573fd2a1",
   "metadata": {},
   "outputs": [
    {
     "name": "stdout",
     "output_type": "stream",
     "text": [
      "(100, 'pratik', '28', 'data science', 50000, '1 year')\n",
      "(101, 'Pratik ', '22', 'data science ', 50000, 16)\n",
      "(102, 'ram', '21', 'business analytics ', 60000, 17)\n",
      "(103, 'shyam ', '31', 'MBA', 70000, 20)\n",
      "(104, 'sita', '31', 'PHD', 80000, 18)\n",
      "(105, 'ayush ', '34', 'PG', 90000, 14)\n",
      "(106, 'mayank', '40', 'engineering', 100000, 19)\n",
      "(107, 'raj ', '28', 'IT', 110000, 14)\n",
      "(108, 'ganesh ', '31', 'data science ', 120000, 14)\n",
      "(109, 'kartik ', '28', 'business analytics ', 130000, 11)\n",
      "(110, 'salman ', '33', 'MBA', 140000, 13)\n",
      "(111, 'srk', '32', 'IT', 150000, 16)\n",
      "(112, 'ritik ', '27', 'BE', 160000, 15)\n",
      "(113, 'sheela', '38', 'ME', 170000, 13)\n",
      "(114, 'reena', '22', 'IT', 180000, 18)\n",
      "(115, 'mahima', '20', 'data science ', 190000, 15)\n",
      "(116, 'ankita ', '33', 'business analytics ', 200000, 18)\n",
      "(117, 'jyoti ', '35', 'ME', 210000, 18)\n",
      "(118, 'aayushi ', '21', 'BE', 220000, 19)\n",
      "(119, 'ranka ', '39', 'PG', 230000, 17)\n",
      "(120, 'aditi ', '23', 'engineering', 240000, 15)\n",
      "(121, 'jainu', '30', 'IT', 250000, 11)\n",
      "(122, 'ritika', '26', 'data science ', 260000, 10)\n",
      "(123, 'anushka', '35', 'ME', 270000, 10)\n",
      "(124, 'sheelu', '38', 'MBA', 280000, 12)\n",
      "(125, 'radha', '24', 'PHD', 290000, 10)\n",
      "(126, 'surbhi ', '28', 'PG', 300000, 19)\n",
      "(127, 'neha ', '28', 'engineering', 310000, 15)\n",
      "(128, 'gabbu ', '40', 'IT', 320000, 10)\n",
      "(129, 'tannu ', '30', 'ME', 330000, 15)\n",
      "(130, 'kannu', '32', 'BE', 340000, 19)\n"
     ]
    }
   ],
   "source": [
    "result=cursor.execute('select * from pratik')\n",
    "for row in result:\n",
    "    print(row)"
   ]
  },
  {
   "cell_type": "markdown",
   "id": "5d78d02b",
   "metadata": {},
   "source": [
    "# Getting query in the form of data frame-"
   ]
  },
  {
   "cell_type": "code",
   "execution_count": 70,
   "id": "a316d0f2",
   "metadata": {},
   "outputs": [],
   "source": [
    "column_names = [i[0] for i in cursor.description]"
   ]
  },
  {
   "cell_type": "code",
   "execution_count": 71,
   "id": "4a6c64bc",
   "metadata": {},
   "outputs": [
    {
     "data": {
      "text/plain": [
       "['roll_no', 'name', 'age', 'course', 'fees', 'duration']"
      ]
     },
     "execution_count": 71,
     "metadata": {},
     "output_type": "execute_result"
    }
   ],
   "source": [
    "column_names"
   ]
  },
  {
   "cell_type": "code",
   "execution_count": 73,
   "id": "211297bd",
   "metadata": {},
   "outputs": [],
   "source": [
    "import pandas as pd"
   ]
  },
  {
   "cell_type": "code",
   "execution_count": 76,
   "id": "ad1654b9",
   "metadata": {},
   "outputs": [
    {
     "data": {
      "text/plain": [
       "<sqlite3.Cursor at 0x1f2bd444a40>"
      ]
     },
     "execution_count": 76,
     "metadata": {},
     "output_type": "execute_result"
    }
   ],
   "source": [
    "cursor.execute('select * from pratik')"
   ]
  },
  {
   "cell_type": "code",
   "execution_count": 77,
   "id": "e6d74f6b",
   "metadata": {},
   "outputs": [
    {
     "data": {
      "text/html": [
       "<div>\n",
       "<style scoped>\n",
       "    .dataframe tbody tr th:only-of-type {\n",
       "        vertical-align: middle;\n",
       "    }\n",
       "\n",
       "    .dataframe tbody tr th {\n",
       "        vertical-align: top;\n",
       "    }\n",
       "\n",
       "    .dataframe thead th {\n",
       "        text-align: right;\n",
       "    }\n",
       "</style>\n",
       "<table border=\"1\" class=\"dataframe\">\n",
       "  <thead>\n",
       "    <tr style=\"text-align: right;\">\n",
       "      <th></th>\n",
       "      <th>roll_no</th>\n",
       "      <th>name</th>\n",
       "      <th>age</th>\n",
       "      <th>course</th>\n",
       "      <th>fees</th>\n",
       "      <th>duration</th>\n",
       "    </tr>\n",
       "  </thead>\n",
       "  <tbody>\n",
       "    <tr>\n",
       "      <th>0</th>\n",
       "      <td>100</td>\n",
       "      <td>pratik</td>\n",
       "      <td>28</td>\n",
       "      <td>data science</td>\n",
       "      <td>50000</td>\n",
       "      <td>1 year</td>\n",
       "    </tr>\n",
       "    <tr>\n",
       "      <th>1</th>\n",
       "      <td>101</td>\n",
       "      <td>Pratik</td>\n",
       "      <td>22</td>\n",
       "      <td>data science</td>\n",
       "      <td>50000</td>\n",
       "      <td>16</td>\n",
       "    </tr>\n",
       "    <tr>\n",
       "      <th>2</th>\n",
       "      <td>102</td>\n",
       "      <td>ram</td>\n",
       "      <td>21</td>\n",
       "      <td>business analytics</td>\n",
       "      <td>60000</td>\n",
       "      <td>17</td>\n",
       "    </tr>\n",
       "    <tr>\n",
       "      <th>3</th>\n",
       "      <td>103</td>\n",
       "      <td>shyam</td>\n",
       "      <td>31</td>\n",
       "      <td>MBA</td>\n",
       "      <td>70000</td>\n",
       "      <td>20</td>\n",
       "    </tr>\n",
       "    <tr>\n",
       "      <th>4</th>\n",
       "      <td>104</td>\n",
       "      <td>sita</td>\n",
       "      <td>31</td>\n",
       "      <td>PHD</td>\n",
       "      <td>80000</td>\n",
       "      <td>18</td>\n",
       "    </tr>\n",
       "    <tr>\n",
       "      <th>5</th>\n",
       "      <td>105</td>\n",
       "      <td>ayush</td>\n",
       "      <td>34</td>\n",
       "      <td>PG</td>\n",
       "      <td>90000</td>\n",
       "      <td>14</td>\n",
       "    </tr>\n",
       "    <tr>\n",
       "      <th>6</th>\n",
       "      <td>106</td>\n",
       "      <td>mayank</td>\n",
       "      <td>40</td>\n",
       "      <td>engineering</td>\n",
       "      <td>100000</td>\n",
       "      <td>19</td>\n",
       "    </tr>\n",
       "    <tr>\n",
       "      <th>7</th>\n",
       "      <td>107</td>\n",
       "      <td>raj</td>\n",
       "      <td>28</td>\n",
       "      <td>IT</td>\n",
       "      <td>110000</td>\n",
       "      <td>14</td>\n",
       "    </tr>\n",
       "    <tr>\n",
       "      <th>8</th>\n",
       "      <td>108</td>\n",
       "      <td>ganesh</td>\n",
       "      <td>31</td>\n",
       "      <td>data science</td>\n",
       "      <td>120000</td>\n",
       "      <td>14</td>\n",
       "    </tr>\n",
       "    <tr>\n",
       "      <th>9</th>\n",
       "      <td>109</td>\n",
       "      <td>kartik</td>\n",
       "      <td>28</td>\n",
       "      <td>business analytics</td>\n",
       "      <td>130000</td>\n",
       "      <td>11</td>\n",
       "    </tr>\n",
       "    <tr>\n",
       "      <th>10</th>\n",
       "      <td>110</td>\n",
       "      <td>salman</td>\n",
       "      <td>33</td>\n",
       "      <td>MBA</td>\n",
       "      <td>140000</td>\n",
       "      <td>13</td>\n",
       "    </tr>\n",
       "    <tr>\n",
       "      <th>11</th>\n",
       "      <td>111</td>\n",
       "      <td>srk</td>\n",
       "      <td>32</td>\n",
       "      <td>IT</td>\n",
       "      <td>150000</td>\n",
       "      <td>16</td>\n",
       "    </tr>\n",
       "    <tr>\n",
       "      <th>12</th>\n",
       "      <td>112</td>\n",
       "      <td>ritik</td>\n",
       "      <td>27</td>\n",
       "      <td>BE</td>\n",
       "      <td>160000</td>\n",
       "      <td>15</td>\n",
       "    </tr>\n",
       "    <tr>\n",
       "      <th>13</th>\n",
       "      <td>113</td>\n",
       "      <td>sheela</td>\n",
       "      <td>38</td>\n",
       "      <td>ME</td>\n",
       "      <td>170000</td>\n",
       "      <td>13</td>\n",
       "    </tr>\n",
       "    <tr>\n",
       "      <th>14</th>\n",
       "      <td>114</td>\n",
       "      <td>reena</td>\n",
       "      <td>22</td>\n",
       "      <td>IT</td>\n",
       "      <td>180000</td>\n",
       "      <td>18</td>\n",
       "    </tr>\n",
       "    <tr>\n",
       "      <th>15</th>\n",
       "      <td>115</td>\n",
       "      <td>mahima</td>\n",
       "      <td>20</td>\n",
       "      <td>data science</td>\n",
       "      <td>190000</td>\n",
       "      <td>15</td>\n",
       "    </tr>\n",
       "    <tr>\n",
       "      <th>16</th>\n",
       "      <td>116</td>\n",
       "      <td>ankita</td>\n",
       "      <td>33</td>\n",
       "      <td>business analytics</td>\n",
       "      <td>200000</td>\n",
       "      <td>18</td>\n",
       "    </tr>\n",
       "    <tr>\n",
       "      <th>17</th>\n",
       "      <td>117</td>\n",
       "      <td>jyoti</td>\n",
       "      <td>35</td>\n",
       "      <td>ME</td>\n",
       "      <td>210000</td>\n",
       "      <td>18</td>\n",
       "    </tr>\n",
       "    <tr>\n",
       "      <th>18</th>\n",
       "      <td>118</td>\n",
       "      <td>aayushi</td>\n",
       "      <td>21</td>\n",
       "      <td>BE</td>\n",
       "      <td>220000</td>\n",
       "      <td>19</td>\n",
       "    </tr>\n",
       "    <tr>\n",
       "      <th>19</th>\n",
       "      <td>119</td>\n",
       "      <td>ranka</td>\n",
       "      <td>39</td>\n",
       "      <td>PG</td>\n",
       "      <td>230000</td>\n",
       "      <td>17</td>\n",
       "    </tr>\n",
       "    <tr>\n",
       "      <th>20</th>\n",
       "      <td>120</td>\n",
       "      <td>aditi</td>\n",
       "      <td>23</td>\n",
       "      <td>engineering</td>\n",
       "      <td>240000</td>\n",
       "      <td>15</td>\n",
       "    </tr>\n",
       "    <tr>\n",
       "      <th>21</th>\n",
       "      <td>121</td>\n",
       "      <td>jainu</td>\n",
       "      <td>30</td>\n",
       "      <td>IT</td>\n",
       "      <td>250000</td>\n",
       "      <td>11</td>\n",
       "    </tr>\n",
       "    <tr>\n",
       "      <th>22</th>\n",
       "      <td>122</td>\n",
       "      <td>ritika</td>\n",
       "      <td>26</td>\n",
       "      <td>data science</td>\n",
       "      <td>260000</td>\n",
       "      <td>10</td>\n",
       "    </tr>\n",
       "    <tr>\n",
       "      <th>23</th>\n",
       "      <td>123</td>\n",
       "      <td>anushka</td>\n",
       "      <td>35</td>\n",
       "      <td>ME</td>\n",
       "      <td>270000</td>\n",
       "      <td>10</td>\n",
       "    </tr>\n",
       "    <tr>\n",
       "      <th>24</th>\n",
       "      <td>124</td>\n",
       "      <td>sheelu</td>\n",
       "      <td>38</td>\n",
       "      <td>MBA</td>\n",
       "      <td>280000</td>\n",
       "      <td>12</td>\n",
       "    </tr>\n",
       "    <tr>\n",
       "      <th>25</th>\n",
       "      <td>125</td>\n",
       "      <td>radha</td>\n",
       "      <td>24</td>\n",
       "      <td>PHD</td>\n",
       "      <td>290000</td>\n",
       "      <td>10</td>\n",
       "    </tr>\n",
       "    <tr>\n",
       "      <th>26</th>\n",
       "      <td>126</td>\n",
       "      <td>surbhi</td>\n",
       "      <td>28</td>\n",
       "      <td>PG</td>\n",
       "      <td>300000</td>\n",
       "      <td>19</td>\n",
       "    </tr>\n",
       "    <tr>\n",
       "      <th>27</th>\n",
       "      <td>127</td>\n",
       "      <td>neha</td>\n",
       "      <td>28</td>\n",
       "      <td>engineering</td>\n",
       "      <td>310000</td>\n",
       "      <td>15</td>\n",
       "    </tr>\n",
       "    <tr>\n",
       "      <th>28</th>\n",
       "      <td>128</td>\n",
       "      <td>gabbu</td>\n",
       "      <td>40</td>\n",
       "      <td>IT</td>\n",
       "      <td>320000</td>\n",
       "      <td>10</td>\n",
       "    </tr>\n",
       "    <tr>\n",
       "      <th>29</th>\n",
       "      <td>129</td>\n",
       "      <td>tannu</td>\n",
       "      <td>30</td>\n",
       "      <td>ME</td>\n",
       "      <td>330000</td>\n",
       "      <td>15</td>\n",
       "    </tr>\n",
       "    <tr>\n",
       "      <th>30</th>\n",
       "      <td>130</td>\n",
       "      <td>kannu</td>\n",
       "      <td>32</td>\n",
       "      <td>BE</td>\n",
       "      <td>340000</td>\n",
       "      <td>19</td>\n",
       "    </tr>\n",
       "  </tbody>\n",
       "</table>\n",
       "</div>"
      ],
      "text/plain": [
       "    roll_no      name age               course    fees duration\n",
       "0       100    pratik  28         data science   50000   1 year\n",
       "1       101   Pratik   22        data science    50000       16\n",
       "2       102       ram  21  business analytics    60000       17\n",
       "3       103    shyam   31                  MBA   70000       20\n",
       "4       104      sita  31                  PHD   80000       18\n",
       "5       105    ayush   34                   PG   90000       14\n",
       "6       106    mayank  40          engineering  100000       19\n",
       "7       107      raj   28                   IT  110000       14\n",
       "8       108   ganesh   31        data science   120000       14\n",
       "9       109   kartik   28  business analytics   130000       11\n",
       "10      110   salman   33                  MBA  140000       13\n",
       "11      111       srk  32                   IT  150000       16\n",
       "12      112    ritik   27                   BE  160000       15\n",
       "13      113    sheela  38                   ME  170000       13\n",
       "14      114     reena  22                   IT  180000       18\n",
       "15      115    mahima  20        data science   190000       15\n",
       "16      116   ankita   33  business analytics   200000       18\n",
       "17      117    jyoti   35                   ME  210000       18\n",
       "18      118  aayushi   21                   BE  220000       19\n",
       "19      119    ranka   39                   PG  230000       17\n",
       "20      120    aditi   23          engineering  240000       15\n",
       "21      121     jainu  30                   IT  250000       11\n",
       "22      122    ritika  26        data science   260000       10\n",
       "23      123   anushka  35                   ME  270000       10\n",
       "24      124    sheelu  38                  MBA  280000       12\n",
       "25      125     radha  24                  PHD  290000       10\n",
       "26      126   surbhi   28                   PG  300000       19\n",
       "27      127     neha   28          engineering  310000       15\n",
       "28      128    gabbu   40                   IT  320000       10\n",
       "29      129    tannu   30                   ME  330000       15\n",
       "30      130     kannu  32                   BE  340000       19"
      ]
     },
     "execution_count": 77,
     "metadata": {},
     "output_type": "execute_result"
    }
   ],
   "source": [
    "pd.DataFrame.from_records(cursor, columns=[i[0] for i in cursor.description])"
   ]
  },
  {
   "cell_type": "code",
   "execution_count": 84,
   "id": "6cf16718",
   "metadata": {},
   "outputs": [
    {
     "data": {
      "text/html": [
       "<div>\n",
       "<style scoped>\n",
       "    .dataframe tbody tr th:only-of-type {\n",
       "        vertical-align: middle;\n",
       "    }\n",
       "\n",
       "    .dataframe tbody tr th {\n",
       "        vertical-align: top;\n",
       "    }\n",
       "\n",
       "    .dataframe thead th {\n",
       "        text-align: right;\n",
       "    }\n",
       "</style>\n",
       "<table border=\"1\" class=\"dataframe\">\n",
       "  <thead>\n",
       "    <tr style=\"text-align: right;\">\n",
       "      <th></th>\n",
       "      <th>course</th>\n",
       "      <th>fees</th>\n",
       "      <th>count</th>\n",
       "    </tr>\n",
       "  </thead>\n",
       "  <tbody>\n",
       "    <tr>\n",
       "      <th>0</th>\n",
       "      <td>BE</td>\n",
       "      <td>160000</td>\n",
       "      <td>3</td>\n",
       "    </tr>\n",
       "    <tr>\n",
       "      <th>1</th>\n",
       "      <td>IT</td>\n",
       "      <td>110000</td>\n",
       "      <td>5</td>\n",
       "    </tr>\n",
       "    <tr>\n",
       "      <th>2</th>\n",
       "      <td>MBA</td>\n",
       "      <td>70000</td>\n",
       "      <td>3</td>\n",
       "    </tr>\n",
       "    <tr>\n",
       "      <th>3</th>\n",
       "      <td>ME</td>\n",
       "      <td>170000</td>\n",
       "      <td>4</td>\n",
       "    </tr>\n",
       "    <tr>\n",
       "      <th>4</th>\n",
       "      <td>PG</td>\n",
       "      <td>90000</td>\n",
       "      <td>3</td>\n",
       "    </tr>\n",
       "    <tr>\n",
       "      <th>5</th>\n",
       "      <td>PHD</td>\n",
       "      <td>80000</td>\n",
       "      <td>2</td>\n",
       "    </tr>\n",
       "    <tr>\n",
       "      <th>6</th>\n",
       "      <td>business analytics</td>\n",
       "      <td>60000</td>\n",
       "      <td>3</td>\n",
       "    </tr>\n",
       "    <tr>\n",
       "      <th>7</th>\n",
       "      <td>data science</td>\n",
       "      <td>50000</td>\n",
       "      <td>1</td>\n",
       "    </tr>\n",
       "    <tr>\n",
       "      <th>8</th>\n",
       "      <td>data science</td>\n",
       "      <td>50000</td>\n",
       "      <td>4</td>\n",
       "    </tr>\n",
       "    <tr>\n",
       "      <th>9</th>\n",
       "      <td>engineering</td>\n",
       "      <td>100000</td>\n",
       "      <td>3</td>\n",
       "    </tr>\n",
       "  </tbody>\n",
       "</table>\n",
       "</div>"
      ],
      "text/plain": [
       "                course    fees  count\n",
       "0                   BE  160000      3\n",
       "1                   IT  110000      5\n",
       "2                  MBA   70000      3\n",
       "3                   ME  170000      4\n",
       "4                   PG   90000      3\n",
       "5                  PHD   80000      2\n",
       "6  business analytics    60000      3\n",
       "7         data science   50000      1\n",
       "8        data science    50000      4\n",
       "9          engineering  100000      3"
      ]
     },
     "execution_count": 84,
     "metadata": {},
     "output_type": "execute_result"
    }
   ],
   "source": [
    "cursor.execute('select course,fees,count(*) as count from pratik group by course')\n",
    "pd.DataFrame.from_records(cursor, columns=[i[0] for i in cursor.description])"
   ]
  },
  {
   "cell_type": "code",
   "execution_count": 85,
   "id": "d6f422d9",
   "metadata": {},
   "outputs": [
    {
     "data": {
      "text/html": [
       "<div>\n",
       "<style scoped>\n",
       "    .dataframe tbody tr th:only-of-type {\n",
       "        vertical-align: middle;\n",
       "    }\n",
       "\n",
       "    .dataframe tbody tr th {\n",
       "        vertical-align: top;\n",
       "    }\n",
       "\n",
       "    .dataframe thead th {\n",
       "        text-align: right;\n",
       "    }\n",
       "</style>\n",
       "<table border=\"1\" class=\"dataframe\">\n",
       "  <thead>\n",
       "    <tr style=\"text-align: right;\">\n",
       "      <th></th>\n",
       "      <th>course</th>\n",
       "      <th>fees</th>\n",
       "      <th>count</th>\n",
       "    </tr>\n",
       "  </thead>\n",
       "  <tbody>\n",
       "    <tr>\n",
       "      <th>0</th>\n",
       "      <td>BE</td>\n",
       "      <td>160000</td>\n",
       "      <td>3</td>\n",
       "    </tr>\n",
       "    <tr>\n",
       "      <th>1</th>\n",
       "      <td>IT</td>\n",
       "      <td>110000</td>\n",
       "      <td>5</td>\n",
       "    </tr>\n",
       "    <tr>\n",
       "      <th>2</th>\n",
       "      <td>MBA</td>\n",
       "      <td>70000</td>\n",
       "      <td>3</td>\n",
       "    </tr>\n",
       "    <tr>\n",
       "      <th>3</th>\n",
       "      <td>ME</td>\n",
       "      <td>170000</td>\n",
       "      <td>4</td>\n",
       "    </tr>\n",
       "    <tr>\n",
       "      <th>4</th>\n",
       "      <td>PG</td>\n",
       "      <td>90000</td>\n",
       "      <td>3</td>\n",
       "    </tr>\n",
       "    <tr>\n",
       "      <th>5</th>\n",
       "      <td>PHD</td>\n",
       "      <td>80000</td>\n",
       "      <td>2</td>\n",
       "    </tr>\n",
       "    <tr>\n",
       "      <th>6</th>\n",
       "      <td>business analytics</td>\n",
       "      <td>60000</td>\n",
       "      <td>3</td>\n",
       "    </tr>\n",
       "    <tr>\n",
       "      <th>7</th>\n",
       "      <td>data science</td>\n",
       "      <td>50000</td>\n",
       "      <td>4</td>\n",
       "    </tr>\n",
       "    <tr>\n",
       "      <th>8</th>\n",
       "      <td>engineering</td>\n",
       "      <td>100000</td>\n",
       "      <td>3</td>\n",
       "    </tr>\n",
       "  </tbody>\n",
       "</table>\n",
       "</div>"
      ],
      "text/plain": [
       "                course    fees  count\n",
       "0                   BE  160000      3\n",
       "1                   IT  110000      5\n",
       "2                  MBA   70000      3\n",
       "3                   ME  170000      4\n",
       "4                   PG   90000      3\n",
       "5                  PHD   80000      2\n",
       "6  business analytics    60000      3\n",
       "7        data science    50000      4\n",
       "8          engineering  100000      3"
      ]
     },
     "execution_count": 85,
     "metadata": {},
     "output_type": "execute_result"
    }
   ],
   "source": [
    "cursor.execute('select course,fees,count(*) as count from pratik group by course having count>1')\n",
    "pd.DataFrame.from_records(cursor, columns=[i[0] for i in cursor.description])"
   ]
  },
  {
   "cell_type": "code",
   "execution_count": 86,
   "id": "6fc67bc2",
   "metadata": {},
   "outputs": [
    {
     "data": {
      "text/plain": [
       "(('course', None, None, None, None, None, None),\n",
       " ('fees', None, None, None, None, None, None),\n",
       " ('count', None, None, None, None, None, None))"
      ]
     },
     "execution_count": 86,
     "metadata": {},
     "output_type": "execute_result"
    }
   ],
   "source": [
    " cursor.description"
   ]
  },
  {
   "cell_type": "markdown",
   "id": "ea63f9ad",
   "metadata": {},
   "source": [
    "# How to number the duplicates-"
   ]
  },
  {
   "cell_type": "code",
   "execution_count": 93,
   "id": "2de6f25e",
   "metadata": {},
   "outputs": [
    {
     "data": {
      "text/html": [
       "<div>\n",
       "<style scoped>\n",
       "    .dataframe tbody tr th:only-of-type {\n",
       "        vertical-align: middle;\n",
       "    }\n",
       "\n",
       "    .dataframe tbody tr th {\n",
       "        vertical-align: top;\n",
       "    }\n",
       "\n",
       "    .dataframe thead th {\n",
       "        text-align: right;\n",
       "    }\n",
       "</style>\n",
       "<table border=\"1\" class=\"dataframe\">\n",
       "  <thead>\n",
       "    <tr style=\"text-align: right;\">\n",
       "      <th></th>\n",
       "      <th>course</th>\n",
       "      <th>rn</th>\n",
       "    </tr>\n",
       "  </thead>\n",
       "  <tbody>\n",
       "    <tr>\n",
       "      <th>0</th>\n",
       "      <td>BE</td>\n",
       "      <td>1</td>\n",
       "    </tr>\n",
       "    <tr>\n",
       "      <th>1</th>\n",
       "      <td>BE</td>\n",
       "      <td>2</td>\n",
       "    </tr>\n",
       "    <tr>\n",
       "      <th>2</th>\n",
       "      <td>BE</td>\n",
       "      <td>3</td>\n",
       "    </tr>\n",
       "    <tr>\n",
       "      <th>3</th>\n",
       "      <td>IT</td>\n",
       "      <td>1</td>\n",
       "    </tr>\n",
       "    <tr>\n",
       "      <th>4</th>\n",
       "      <td>IT</td>\n",
       "      <td>2</td>\n",
       "    </tr>\n",
       "    <tr>\n",
       "      <th>5</th>\n",
       "      <td>IT</td>\n",
       "      <td>3</td>\n",
       "    </tr>\n",
       "    <tr>\n",
       "      <th>6</th>\n",
       "      <td>IT</td>\n",
       "      <td>4</td>\n",
       "    </tr>\n",
       "    <tr>\n",
       "      <th>7</th>\n",
       "      <td>IT</td>\n",
       "      <td>5</td>\n",
       "    </tr>\n",
       "    <tr>\n",
       "      <th>8</th>\n",
       "      <td>MBA</td>\n",
       "      <td>1</td>\n",
       "    </tr>\n",
       "    <tr>\n",
       "      <th>9</th>\n",
       "      <td>MBA</td>\n",
       "      <td>2</td>\n",
       "    </tr>\n",
       "    <tr>\n",
       "      <th>10</th>\n",
       "      <td>MBA</td>\n",
       "      <td>3</td>\n",
       "    </tr>\n",
       "    <tr>\n",
       "      <th>11</th>\n",
       "      <td>ME</td>\n",
       "      <td>1</td>\n",
       "    </tr>\n",
       "    <tr>\n",
       "      <th>12</th>\n",
       "      <td>ME</td>\n",
       "      <td>2</td>\n",
       "    </tr>\n",
       "    <tr>\n",
       "      <th>13</th>\n",
       "      <td>ME</td>\n",
       "      <td>3</td>\n",
       "    </tr>\n",
       "    <tr>\n",
       "      <th>14</th>\n",
       "      <td>ME</td>\n",
       "      <td>4</td>\n",
       "    </tr>\n",
       "    <tr>\n",
       "      <th>15</th>\n",
       "      <td>PG</td>\n",
       "      <td>1</td>\n",
       "    </tr>\n",
       "    <tr>\n",
       "      <th>16</th>\n",
       "      <td>PG</td>\n",
       "      <td>2</td>\n",
       "    </tr>\n",
       "    <tr>\n",
       "      <th>17</th>\n",
       "      <td>PG</td>\n",
       "      <td>3</td>\n",
       "    </tr>\n",
       "    <tr>\n",
       "      <th>18</th>\n",
       "      <td>PHD</td>\n",
       "      <td>1</td>\n",
       "    </tr>\n",
       "    <tr>\n",
       "      <th>19</th>\n",
       "      <td>PHD</td>\n",
       "      <td>2</td>\n",
       "    </tr>\n",
       "    <tr>\n",
       "      <th>20</th>\n",
       "      <td>business analytics</td>\n",
       "      <td>1</td>\n",
       "    </tr>\n",
       "    <tr>\n",
       "      <th>21</th>\n",
       "      <td>business analytics</td>\n",
       "      <td>2</td>\n",
       "    </tr>\n",
       "    <tr>\n",
       "      <th>22</th>\n",
       "      <td>business analytics</td>\n",
       "      <td>3</td>\n",
       "    </tr>\n",
       "    <tr>\n",
       "      <th>23</th>\n",
       "      <td>data science</td>\n",
       "      <td>1</td>\n",
       "    </tr>\n",
       "    <tr>\n",
       "      <th>24</th>\n",
       "      <td>data science</td>\n",
       "      <td>1</td>\n",
       "    </tr>\n",
       "    <tr>\n",
       "      <th>25</th>\n",
       "      <td>data science</td>\n",
       "      <td>2</td>\n",
       "    </tr>\n",
       "    <tr>\n",
       "      <th>26</th>\n",
       "      <td>data science</td>\n",
       "      <td>3</td>\n",
       "    </tr>\n",
       "    <tr>\n",
       "      <th>27</th>\n",
       "      <td>data science</td>\n",
       "      <td>4</td>\n",
       "    </tr>\n",
       "    <tr>\n",
       "      <th>28</th>\n",
       "      <td>engineering</td>\n",
       "      <td>1</td>\n",
       "    </tr>\n",
       "    <tr>\n",
       "      <th>29</th>\n",
       "      <td>engineering</td>\n",
       "      <td>2</td>\n",
       "    </tr>\n",
       "    <tr>\n",
       "      <th>30</th>\n",
       "      <td>engineering</td>\n",
       "      <td>3</td>\n",
       "    </tr>\n",
       "  </tbody>\n",
       "</table>\n",
       "</div>"
      ],
      "text/plain": [
       "                 course  rn\n",
       "0                    BE   1\n",
       "1                    BE   2\n",
       "2                    BE   3\n",
       "3                    IT   1\n",
       "4                    IT   2\n",
       "5                    IT   3\n",
       "6                    IT   4\n",
       "7                    IT   5\n",
       "8                   MBA   1\n",
       "9                   MBA   2\n",
       "10                  MBA   3\n",
       "11                   ME   1\n",
       "12                   ME   2\n",
       "13                   ME   3\n",
       "14                   ME   4\n",
       "15                   PG   1\n",
       "16                   PG   2\n",
       "17                   PG   3\n",
       "18                  PHD   1\n",
       "19                  PHD   2\n",
       "20  business analytics    1\n",
       "21  business analytics    2\n",
       "22  business analytics    3\n",
       "23         data science   1\n",
       "24        data science    1\n",
       "25        data science    2\n",
       "26        data science    3\n",
       "27        data science    4\n",
       "28          engineering   1\n",
       "29          engineering   2\n",
       "30          engineering   3"
      ]
     },
     "execution_count": 93,
     "metadata": {},
     "output_type": "execute_result"
    }
   ],
   "source": [
    "cursor.execute('select course,row_number() over (partition by course) as rn from pratik ')\n",
    "pd.DataFrame.from_records(cursor, columns=[i[0] for i in cursor.description])"
   ]
  },
  {
   "cell_type": "code",
   "execution_count": 97,
   "id": "5226e9d7",
   "metadata": {},
   "outputs": [
    {
     "name": "stdout",
     "output_type": "stream",
     "text": [
      "(1,)\n"
     ]
    }
   ],
   "source": [
    "result=cursor.execute('select changes()')\n",
    "for row in result:\n",
    "    print(row)"
   ]
  },
  {
   "cell_type": "markdown",
   "id": "2931b0cd",
   "metadata": {},
   "source": [
    "# Absolute function-"
   ]
  },
  {
   "cell_type": "code",
   "execution_count": 98,
   "id": "b6433d03",
   "metadata": {},
   "outputs": [
    {
     "name": "stdout",
     "output_type": "stream",
     "text": [
      "(50000,)\n",
      "(50000,)\n",
      "(60000,)\n",
      "(70000,)\n",
      "(80000,)\n",
      "(90000,)\n",
      "(100000,)\n",
      "(110000,)\n",
      "(120000,)\n",
      "(130000,)\n",
      "(140000,)\n",
      "(150000,)\n",
      "(160000,)\n",
      "(170000,)\n",
      "(180000,)\n",
      "(190000,)\n",
      "(200000,)\n",
      "(210000,)\n",
      "(220000,)\n",
      "(230000,)\n",
      "(240000,)\n",
      "(250000,)\n",
      "(260000,)\n",
      "(270000,)\n",
      "(280000,)\n",
      "(290000,)\n",
      "(300000,)\n",
      "(310000,)\n",
      "(320000,)\n",
      "(330000,)\n",
      "(340000,)\n"
     ]
    }
   ],
   "source": [
    "result=cursor.execute('select abs(fees) from pratik')\n",
    "for row in result:\n",
    "    print(row)"
   ]
  },
  {
   "cell_type": "markdown",
   "id": "d16a68af",
   "metadata": {},
   "source": [
    "# Create table if not exist-"
   ]
  },
  {
   "cell_type": "code",
   "execution_count": 11,
   "id": "34a64d87",
   "metadata": {},
   "outputs": [
    {
     "data": {
      "text/plain": [
       "<sqlite3.Cursor at 0x12fcb05dc00>"
      ]
     },
     "execution_count": 11,
     "metadata": {},
     "output_type": "execute_result"
    }
   ],
   "source": [
    "cursor.execute('create table if not exists pr(c int primary key,v int,d int generated always as (c*v) )')"
   ]
  },
  {
   "cell_type": "code",
   "execution_count": 13,
   "id": "85d11cab",
   "metadata": {},
   "outputs": [
    {
     "data": {
      "text/plain": [
       "<sqlite3.Cursor at 0x12fcb05dc00>"
      ]
     },
     "execution_count": 13,
     "metadata": {},
     "output_type": "execute_result"
    }
   ],
   "source": [
    "cursor.execute('insert into pr values(1,2),(2,3)')"
   ]
  },
  {
   "cell_type": "code",
   "execution_count": 14,
   "id": "56402845",
   "metadata": {},
   "outputs": [
    {
     "name": "stdout",
     "output_type": "stream",
     "text": [
      "(1, 2, 2)\n",
      "(2, 3, 6)\n"
     ]
    }
   ],
   "source": [
    "result=cursor.execute('select * from pr')\n",
    "for row in result:\n",
    "    print(row)"
   ]
  },
  {
   "cell_type": "code",
   "execution_count": null,
   "id": "6c0ac2d9",
   "metadata": {},
   "outputs": [],
   "source": []
  },
  {
   "cell_type": "markdown",
   "id": "027c8689",
   "metadata": {},
   "source": [
    "# Time function-"
   ]
  },
  {
   "cell_type": "code",
   "execution_count": 130,
   "id": "dea62ec5",
   "metadata": {},
   "outputs": [
    {
     "name": "stdout",
     "output_type": "stream",
     "text": [
      "('22:51:10',)\n"
     ]
    }
   ],
   "source": [
    "result=cursor.execute(\"SELECT TIME('22:50:10', '+1 minute')\")\n",
    "for row in result:\n",
    "    print(row)"
   ]
  },
  {
   "cell_type": "code",
   "execution_count": 133,
   "id": "3923208d",
   "metadata": {},
   "outputs": [
    {
     "name": "stdout",
     "output_type": "stream",
     "text": [
      "('2050-08-22 00:17:45',)\n"
     ]
    }
   ],
   "source": [
    "result=cursor.execute(\"SELECT DATETIME('2050-08-21 23:30:45', '+47 minutes')\")\n",
    "for row in result:\n",
    "    print(row)"
   ]
  },
  {
   "cell_type": "code",
   "execution_count": 54,
   "id": "5182fa80",
   "metadata": {},
   "outputs": [
    {
     "name": "stdout",
     "output_type": "stream",
     "text": [
      "('CREATE TABLE pratik(roll_no int PRIMARY KEY,name text,age text,course text,fees int,duration int)',)\n",
      "(None,)\n"
     ]
    }
   ],
   "source": [
    "result=cursor.execute('SELECT sql FROM sqlite_schema ORDER BY tbl_name, type DESC, name')\n",
    "for row in result:\n",
    "    print(row)"
   ]
  },
  {
   "cell_type": "markdown",
   "id": "22d3b3b9",
   "metadata": {},
   "source": [
    "# How to convert sql result to data frame-"
   ]
  },
  {
   "cell_type": "code",
   "execution_count": 35,
   "id": "53a90f35",
   "metadata": {},
   "outputs": [
    {
     "data": {
      "text/plain": [
       "<sqlite3.Cursor at 0x22af8bbb880>"
      ]
     },
     "execution_count": 35,
     "metadata": {},
     "output_type": "execute_result"
    }
   ],
   "source": [
    "cursor.execute('select * from pratik')"
   ]
  },
  {
   "cell_type": "code",
   "execution_count": 36,
   "id": "304ef1d6",
   "metadata": {},
   "outputs": [
    {
     "data": {
      "text/plain": [
       "(('roll_no', None, None, None, None, None, None),\n",
       " ('name', None, None, None, None, None, None),\n",
       " ('age', None, None, None, None, None, None),\n",
       " ('course', None, None, None, None, None, None),\n",
       " ('fees', None, None, None, None, None, None),\n",
       " ('duration', None, None, None, None, None, None))"
      ]
     },
     "execution_count": 36,
     "metadata": {},
     "output_type": "execute_result"
    }
   ],
   "source": [
    "cursor.description"
   ]
  },
  {
   "cell_type": "code",
   "execution_count": 37,
   "id": "3fe7c573",
   "metadata": {},
   "outputs": [],
   "source": [
    "import pandas as pd"
   ]
  },
  {
   "cell_type": "code",
   "execution_count": 38,
   "id": "eadefdb9",
   "metadata": {},
   "outputs": [
    {
     "data": {
      "text/html": [
       "<div>\n",
       "<style scoped>\n",
       "    .dataframe tbody tr th:only-of-type {\n",
       "        vertical-align: middle;\n",
       "    }\n",
       "\n",
       "    .dataframe tbody tr th {\n",
       "        vertical-align: top;\n",
       "    }\n",
       "\n",
       "    .dataframe thead th {\n",
       "        text-align: right;\n",
       "    }\n",
       "</style>\n",
       "<table border=\"1\" class=\"dataframe\">\n",
       "  <thead>\n",
       "    <tr style=\"text-align: right;\">\n",
       "      <th></th>\n",
       "      <th>roll_no</th>\n",
       "      <th>name</th>\n",
       "      <th>age</th>\n",
       "      <th>course</th>\n",
       "      <th>fees</th>\n",
       "      <th>duration</th>\n",
       "    </tr>\n",
       "  </thead>\n",
       "  <tbody>\n",
       "    <tr>\n",
       "      <th>0</th>\n",
       "      <td>100</td>\n",
       "      <td>pratik</td>\n",
       "      <td>28</td>\n",
       "      <td>data science</td>\n",
       "      <td>50000</td>\n",
       "      <td>1 year</td>\n",
       "    </tr>\n",
       "    <tr>\n",
       "      <th>1</th>\n",
       "      <td>101</td>\n",
       "      <td>Pratik</td>\n",
       "      <td>22</td>\n",
       "      <td>data science</td>\n",
       "      <td>50000</td>\n",
       "      <td>16</td>\n",
       "    </tr>\n",
       "    <tr>\n",
       "      <th>2</th>\n",
       "      <td>102</td>\n",
       "      <td>ram</td>\n",
       "      <td>21</td>\n",
       "      <td>business analytics</td>\n",
       "      <td>60000</td>\n",
       "      <td>17</td>\n",
       "    </tr>\n",
       "    <tr>\n",
       "      <th>3</th>\n",
       "      <td>103</td>\n",
       "      <td>shyam</td>\n",
       "      <td>31</td>\n",
       "      <td>MBA</td>\n",
       "      <td>70000</td>\n",
       "      <td>20</td>\n",
       "    </tr>\n",
       "    <tr>\n",
       "      <th>4</th>\n",
       "      <td>104</td>\n",
       "      <td>sita</td>\n",
       "      <td>31</td>\n",
       "      <td>PHD</td>\n",
       "      <td>80000</td>\n",
       "      <td>18</td>\n",
       "    </tr>\n",
       "    <tr>\n",
       "      <th>5</th>\n",
       "      <td>105</td>\n",
       "      <td>ayush</td>\n",
       "      <td>34</td>\n",
       "      <td>PG</td>\n",
       "      <td>90000</td>\n",
       "      <td>14</td>\n",
       "    </tr>\n",
       "    <tr>\n",
       "      <th>6</th>\n",
       "      <td>106</td>\n",
       "      <td>mayank</td>\n",
       "      <td>40</td>\n",
       "      <td>engineering</td>\n",
       "      <td>100000</td>\n",
       "      <td>19</td>\n",
       "    </tr>\n",
       "    <tr>\n",
       "      <th>7</th>\n",
       "      <td>107</td>\n",
       "      <td>raj</td>\n",
       "      <td>28</td>\n",
       "      <td>IT</td>\n",
       "      <td>110000</td>\n",
       "      <td>14</td>\n",
       "    </tr>\n",
       "    <tr>\n",
       "      <th>8</th>\n",
       "      <td>108</td>\n",
       "      <td>ganesh</td>\n",
       "      <td>31</td>\n",
       "      <td>data science</td>\n",
       "      <td>120000</td>\n",
       "      <td>14</td>\n",
       "    </tr>\n",
       "    <tr>\n",
       "      <th>9</th>\n",
       "      <td>109</td>\n",
       "      <td>kartik</td>\n",
       "      <td>28</td>\n",
       "      <td>business analytics</td>\n",
       "      <td>130000</td>\n",
       "      <td>11</td>\n",
       "    </tr>\n",
       "    <tr>\n",
       "      <th>10</th>\n",
       "      <td>110</td>\n",
       "      <td>salman</td>\n",
       "      <td>33</td>\n",
       "      <td>MBA</td>\n",
       "      <td>140000</td>\n",
       "      <td>13</td>\n",
       "    </tr>\n",
       "    <tr>\n",
       "      <th>11</th>\n",
       "      <td>111</td>\n",
       "      <td>srk</td>\n",
       "      <td>32</td>\n",
       "      <td>IT</td>\n",
       "      <td>150000</td>\n",
       "      <td>16</td>\n",
       "    </tr>\n",
       "    <tr>\n",
       "      <th>12</th>\n",
       "      <td>112</td>\n",
       "      <td>ritik</td>\n",
       "      <td>27</td>\n",
       "      <td>BE</td>\n",
       "      <td>160000</td>\n",
       "      <td>15</td>\n",
       "    </tr>\n",
       "    <tr>\n",
       "      <th>13</th>\n",
       "      <td>113</td>\n",
       "      <td>sheela</td>\n",
       "      <td>38</td>\n",
       "      <td>ME</td>\n",
       "      <td>170000</td>\n",
       "      <td>13</td>\n",
       "    </tr>\n",
       "    <tr>\n",
       "      <th>14</th>\n",
       "      <td>114</td>\n",
       "      <td>reena</td>\n",
       "      <td>22</td>\n",
       "      <td>IT</td>\n",
       "      <td>180000</td>\n",
       "      <td>18</td>\n",
       "    </tr>\n",
       "    <tr>\n",
       "      <th>15</th>\n",
       "      <td>115</td>\n",
       "      <td>mahima</td>\n",
       "      <td>20</td>\n",
       "      <td>data science</td>\n",
       "      <td>190000</td>\n",
       "      <td>15</td>\n",
       "    </tr>\n",
       "    <tr>\n",
       "      <th>16</th>\n",
       "      <td>116</td>\n",
       "      <td>ankita</td>\n",
       "      <td>33</td>\n",
       "      <td>business analytics</td>\n",
       "      <td>200000</td>\n",
       "      <td>18</td>\n",
       "    </tr>\n",
       "    <tr>\n",
       "      <th>17</th>\n",
       "      <td>117</td>\n",
       "      <td>jyoti</td>\n",
       "      <td>35</td>\n",
       "      <td>ME</td>\n",
       "      <td>210000</td>\n",
       "      <td>18</td>\n",
       "    </tr>\n",
       "    <tr>\n",
       "      <th>18</th>\n",
       "      <td>118</td>\n",
       "      <td>aayushi</td>\n",
       "      <td>21</td>\n",
       "      <td>BE</td>\n",
       "      <td>220000</td>\n",
       "      <td>19</td>\n",
       "    </tr>\n",
       "    <tr>\n",
       "      <th>19</th>\n",
       "      <td>119</td>\n",
       "      <td>ranka</td>\n",
       "      <td>39</td>\n",
       "      <td>PG</td>\n",
       "      <td>230000</td>\n",
       "      <td>17</td>\n",
       "    </tr>\n",
       "    <tr>\n",
       "      <th>20</th>\n",
       "      <td>120</td>\n",
       "      <td>aditi</td>\n",
       "      <td>23</td>\n",
       "      <td>engineering</td>\n",
       "      <td>240000</td>\n",
       "      <td>15</td>\n",
       "    </tr>\n",
       "    <tr>\n",
       "      <th>21</th>\n",
       "      <td>121</td>\n",
       "      <td>jainu</td>\n",
       "      <td>30</td>\n",
       "      <td>IT</td>\n",
       "      <td>250000</td>\n",
       "      <td>11</td>\n",
       "    </tr>\n",
       "    <tr>\n",
       "      <th>22</th>\n",
       "      <td>122</td>\n",
       "      <td>ritika</td>\n",
       "      <td>26</td>\n",
       "      <td>data science</td>\n",
       "      <td>260000</td>\n",
       "      <td>10</td>\n",
       "    </tr>\n",
       "    <tr>\n",
       "      <th>23</th>\n",
       "      <td>123</td>\n",
       "      <td>anushka</td>\n",
       "      <td>35</td>\n",
       "      <td>ME</td>\n",
       "      <td>270000</td>\n",
       "      <td>10</td>\n",
       "    </tr>\n",
       "    <tr>\n",
       "      <th>24</th>\n",
       "      <td>124</td>\n",
       "      <td>sheelu</td>\n",
       "      <td>38</td>\n",
       "      <td>MBA</td>\n",
       "      <td>280000</td>\n",
       "      <td>12</td>\n",
       "    </tr>\n",
       "    <tr>\n",
       "      <th>25</th>\n",
       "      <td>125</td>\n",
       "      <td>radha</td>\n",
       "      <td>24</td>\n",
       "      <td>PHD</td>\n",
       "      <td>290000</td>\n",
       "      <td>10</td>\n",
       "    </tr>\n",
       "    <tr>\n",
       "      <th>26</th>\n",
       "      <td>126</td>\n",
       "      <td>surbhi</td>\n",
       "      <td>28</td>\n",
       "      <td>PG</td>\n",
       "      <td>300000</td>\n",
       "      <td>19</td>\n",
       "    </tr>\n",
       "    <tr>\n",
       "      <th>27</th>\n",
       "      <td>127</td>\n",
       "      <td>neha</td>\n",
       "      <td>28</td>\n",
       "      <td>engineering</td>\n",
       "      <td>310000</td>\n",
       "      <td>15</td>\n",
       "    </tr>\n",
       "    <tr>\n",
       "      <th>28</th>\n",
       "      <td>128</td>\n",
       "      <td>gabbu</td>\n",
       "      <td>40</td>\n",
       "      <td>IT</td>\n",
       "      <td>320000</td>\n",
       "      <td>10</td>\n",
       "    </tr>\n",
       "    <tr>\n",
       "      <th>29</th>\n",
       "      <td>129</td>\n",
       "      <td>tannu</td>\n",
       "      <td>30</td>\n",
       "      <td>ME</td>\n",
       "      <td>330000</td>\n",
       "      <td>15</td>\n",
       "    </tr>\n",
       "    <tr>\n",
       "      <th>30</th>\n",
       "      <td>130</td>\n",
       "      <td>kannu</td>\n",
       "      <td>32</td>\n",
       "      <td>BE</td>\n",
       "      <td>340000</td>\n",
       "      <td>19</td>\n",
       "    </tr>\n",
       "  </tbody>\n",
       "</table>\n",
       "</div>"
      ],
      "text/plain": [
       "    roll_no      name age               course    fees duration\n",
       "0       100    pratik  28         data science   50000   1 year\n",
       "1       101   Pratik   22        data science    50000       16\n",
       "2       102       ram  21  business analytics    60000       17\n",
       "3       103    shyam   31                  MBA   70000       20\n",
       "4       104      sita  31                  PHD   80000       18\n",
       "5       105    ayush   34                   PG   90000       14\n",
       "6       106    mayank  40          engineering  100000       19\n",
       "7       107      raj   28                   IT  110000       14\n",
       "8       108   ganesh   31        data science   120000       14\n",
       "9       109   kartik   28  business analytics   130000       11\n",
       "10      110   salman   33                  MBA  140000       13\n",
       "11      111       srk  32                   IT  150000       16\n",
       "12      112    ritik   27                   BE  160000       15\n",
       "13      113    sheela  38                   ME  170000       13\n",
       "14      114     reena  22                   IT  180000       18\n",
       "15      115    mahima  20        data science   190000       15\n",
       "16      116   ankita   33  business analytics   200000       18\n",
       "17      117    jyoti   35                   ME  210000       18\n",
       "18      118  aayushi   21                   BE  220000       19\n",
       "19      119    ranka   39                   PG  230000       17\n",
       "20      120    aditi   23          engineering  240000       15\n",
       "21      121     jainu  30                   IT  250000       11\n",
       "22      122    ritika  26        data science   260000       10\n",
       "23      123   anushka  35                   ME  270000       10\n",
       "24      124    sheelu  38                  MBA  280000       12\n",
       "25      125     radha  24                  PHD  290000       10\n",
       "26      126   surbhi   28                   PG  300000       19\n",
       "27      127     neha   28          engineering  310000       15\n",
       "28      128    gabbu   40                   IT  320000       10\n",
       "29      129    tannu   30                   ME  330000       15\n",
       "30      130     kannu  32                   BE  340000       19"
      ]
     },
     "execution_count": 38,
     "metadata": {},
     "output_type": "execute_result"
    }
   ],
   "source": [
    "pd.DataFrame.from_records(cursor, columns=[i[0] for i in cursor.description])"
   ]
  },
  {
   "cell_type": "markdown",
   "id": "37b17bed",
   "metadata": {},
   "source": [
    "# Important questions-"
   ]
  },
  {
   "cell_type": "markdown",
   "id": "6233cbe9",
   "metadata": {},
   "source": [
    "1️⃣ Explain Order of Execution of SQL query     \n",
    "2️⃣ Provide a use case for each of the functions Rank, Dense_Rank & Row_Number ( 💡 majority struggle )      \n",
    "3️⃣ Write a query to find the cumulative sum/Running Total      \n",
    "4️⃣ Find the Most selling product by sales/ highest Salary of employees     \n",
    "5️⃣ Write a query to find the 2nd/nth highest Salary of employees     \n",
    "6️⃣ Difference between union vs union all    \n",
    "7️⃣ Identify if there any duplicates in a table     \n",
    "8️⃣ Scenario based Joins question, understanding of Inner, Left and Outer Joins via simple yet tricky question    \n",
    "9️⃣ LAG, write a query to find all those records where the transaction value is greater then previous transaction value     \n",
    "1️⃣ 0️⃣ Rank vs Dense Rank, query to find the 2nd highest Salary of employee     \n",
    "( Ideal soln should handle ties)     \n",
    "1️⃣ 1️⃣ Write a query to find the Running Difference (Ideal sol'n using windows function)     \n",
    "1️⃣ 2️⃣ Write a query to display year on year/month on month growth    \n",
    "1️⃣ 3️⃣ Write a query to find rolling average of daily sign-ups     \n",
    "1️⃣ 4️⃣ Write a query to find the running difference using self join (helps in understanding the logical approach, ideally this question is solved via windows function)    \n",
    "1️⃣ 5️⃣ Write a query to find the cumulative sum using self join     \n",
    "(helps in understanding the logical approach, ideally this question is solved via windows function)     "
   ]
  },
  {
   "cell_type": "markdown",
   "id": "ddcbc2d4",
   "metadata": {},
   "source": [
    "# Order of Execution\n",
    "The order of execution of an SQL query’s clauses is as follows:\n",
    "\n",
    "First, the table on which the DML operation is performed has to be processed. So, the FROM clause is evaluated first in an SQL Query. If the query contains JOIN clauses, tables are combined by merging rows involved, before FROM clause. So, JOIN predates FROM in statements with JOIN. Now table data is acquired before any filter or group is done. So subsequent clauses can be evaluated based on this data which is much smaller than the original tables before JOIN operations. This also processes the subqueries.\n",
    "SQL may create a temporary table internally to evaluate this. To make code memory efficient, it is good to have simpler table JOINs it would be highly memory intensive.\n",
    "WHERE: After the table data on which other operations take place is processed by JOIN and FROM clause, WHERE clause is evaluated. WHERE clause filters the rows based on conditions from the table evaluated by the FROM clause. This WHERE clause discards rows that don’t satisfy the conditions, thus reducing the rows of data that need to be processed further in other clauses.\n",
    "GROUP BY: If the query has a GROUP BY clause, it is executed next. Here, the data is grouped based on the common value in the column specified in the GROUP BY clause. This reduces the number of rows further equal to no of distinct values in the GROUP BY column. This helps to calculate aggregate functions.\n",
    "HAVING: If the query had a GROUP BY clause, the HAVING clause is evaluated immediately after GROUP BY. HAVING clause is not compulsory for GROUP BY. Similar to WHERE operations, this clause also filters the table group processed before by the GROUP BY clause. This HAVING also discards rows that don’t satisfy the conditions, thus reducing the rows of data that need to be processed further in other clauses\n",
    "SELECT: The SELECT is executed next after GROUP BY and HAVING. It computes expressions (arithmetic, aggregate, etc.) and aliases given in the SELECT clause. The computation is now performed on the smallest dataset after much filtering and grouping operations done by previous clauses.\n",
    "DISTINCT: The DISTINCT clause is executed after evaluating expressions, and alias references in the previous step. It filters any duplicate rows and returns only unique rows.\n",
    "ORDER BY: After executing all the above clauses, the data to be displayed or processed is computed. Now ORDER BY is executed to sort it based on particular column(s) either in ascending or descending order. It is left associative, that is it is sorted based on the first specified column and then by the second, and so on.\n",
    "LIMIT/OFFSET: At last, after the order of data to be processed is evaluated, LIMIT and OFFSET clauses are evaluated to display only the rows that fall within the LIMIT. So, it is generally not recommended to LIMIT only certain rows from many rows evaluated before, since It is not efficient and waste of computation."
   ]
  },
  {
   "cell_type": "markdown",
   "id": "4a0e575b",
   "metadata": {},
   "source": [
    "janta fir wahi gand hilayegi select distinct oblized loda.(join-from-where-groupby-having-select-distinct-orderby-limit/offset)"
   ]
  },
  {
   "cell_type": "markdown",
   "id": "ae7d6c5a",
   "metadata": {},
   "source": [
    "# Row no vs Rank vs Dense Rank-"
   ]
  },
  {
   "cell_type": "code",
   "execution_count": 9,
   "id": "af53523d",
   "metadata": {},
   "outputs": [
    {
     "data": {
      "text/plain": [
       "<sqlite3.Cursor at 0x2697f5efb20>"
      ]
     },
     "execution_count": 9,
     "metadata": {},
     "output_type": "execute_result"
    }
   ],
   "source": [
    "cursor.execute('CREATE TABLE StudentScore(Student_ID INT PRIMARY KEY,Student_Name NVARCHAR (50),Student_Score INT)')"
   ]
  },
  {
   "cell_type": "code",
   "execution_count": 12,
   "id": "0a53fe00",
   "metadata": {},
   "outputs": [
    {
     "data": {
      "text/plain": [
       "<sqlite3.Cursor at 0x2697f5efb20>"
      ]
     },
     "execution_count": 12,
     "metadata": {},
     "output_type": "execute_result"
    }
   ],
   "source": [
    "cursor.execute(\"INSERT INTO StudentScore VALUES (1,'Ali', 978),(2,'Zaid', 770),(3,'Mohd', 1140),(4,'Jack', 770),(5,'John', 1240),(6,'Mike', 1140),(7,'Goerge', 885)\")"
   ]
  },
  {
   "cell_type": "code",
   "execution_count": 15,
   "id": "8fe84683",
   "metadata": {},
   "outputs": [
    {
     "name": "stdout",
     "output_type": "stream",
     "text": [
      "(2, 'Zaid', 770)\n",
      "(4, 'Jack', 770)\n",
      "(7, 'Goerge', 885)\n",
      "(1, 'Ali', 978)\n",
      "(3, 'Mohd', 1140)\n",
      "(6, 'Mike', 1140)\n",
      "(5, 'John', 1240)\n"
     ]
    }
   ],
   "source": [
    "result=cursor.execute(\"SELECT * FROM StudentScore ORDER BY Student_Score\")\n",
    "for row in result:\n",
    "    print(row)"
   ]
  },
  {
   "cell_type": "markdown",
   "id": "f9152a66",
   "metadata": {},
   "source": [
    "# ROW_NUMBER()"
   ]
  },
  {
   "cell_type": "code",
   "execution_count": 20,
   "id": "0cb84296",
   "metadata": {},
   "outputs": [
    {
     "name": "stdout",
     "output_type": "stream",
     "text": [
      "(2, 'Zaid', 770, 1)\n",
      "(4, 'Jack', 770, 2)\n",
      "(7, 'Goerge', 885, 3)\n",
      "(1, 'Ali', 978, 4)\n",
      "(3, 'Mohd', 1140, 5)\n",
      "(6, 'Mike', 1140, 6)\n",
      "(5, 'John', 1240, 7)\n"
     ]
    }
   ],
   "source": [
    "result=cursor.execute(\"SELECT *, ROW_NUMBER() OVER(ORDER BY Student_Score) AS RowNumberRank FROM StudentScore\")\n",
    "for row in result:\n",
    "    print(row)"
   ]
  },
  {
   "cell_type": "markdown",
   "id": "1234ca9b",
   "metadata": {},
   "source": [
    "# Partition by- \n",
    "\n",
    "A PARTITION BY clause is used to partition rows of table into groups. It is useful when we have to perform a calculation on individual rows of a group using other rows of that group.\n",
    "\n",
    "It is always used inside OVER() clause."
   ]
  },
  {
   "cell_type": "code",
   "execution_count": 18,
   "id": "9f3f2a9d",
   "metadata": {},
   "outputs": [
    {
     "name": "stdout",
     "output_type": "stream",
     "text": [
      "(2, 'Zaid', 770, 1)\n",
      "(4, 'Jack', 770, 2)\n",
      "(7, 'Goerge', 885, 1)\n",
      "(1, 'Ali', 978, 1)\n",
      "(3, 'Mohd', 1140, 1)\n",
      "(6, 'Mike', 1140, 2)\n",
      "(5, 'John', 1240, 1)\n"
     ]
    }
   ],
   "source": [
    "result=cursor.execute(\"SELECT *, ROW_NUMBER() OVER(PARTITION BY Student_Score  ORDER BY Student_Score) AS RowNumberRank FROM StudentScore\")\n",
    "for row in result:\n",
    "    print(row)"
   ]
  },
  {
   "cell_type": "markdown",
   "id": "92bfef4e",
   "metadata": {},
   "source": [
    "# Rank-\n",
    "\n",
    "The RANK() ranking window function returns a unique rank number for each distinct row within the partition according to a specified column value, starting at 1 for the first row in each partition, with the same rank for duplicate values and leaving gaps between the ranks; this gap appears in the sequence after the duplicate values. In other words, the RANK() ranking window function behaves like the ROW_NUMBER() function except for the rows with equal values, where it will rank with the same rank ID and generate a gap after it. If we modify the previous ranking query to use the RANK() ranking function:"
   ]
  },
  {
   "cell_type": "code",
   "execution_count": 21,
   "id": "4f9f483c",
   "metadata": {},
   "outputs": [
    {
     "name": "stdout",
     "output_type": "stream",
     "text": [
      "(2, 'Zaid', 770, 1)\n",
      "(4, 'Jack', 770, 1)\n",
      "(7, 'Goerge', 885, 3)\n",
      "(1, 'Ali', 978, 4)\n",
      "(3, 'Mohd', 1140, 5)\n",
      "(6, 'Mike', 1140, 5)\n",
      "(5, 'John', 1240, 7)\n"
     ]
    }
   ],
   "source": [
    "result=cursor.execute(\"SELECT *,  RANK ()  OVER( ORDER BY Student_Score) AS RankRank FROM StudentScore\")\n",
    "for row in result:\n",
    "    print(row)"
   ]
  },
  {
   "cell_type": "markdown",
   "id": "e0179f51",
   "metadata": {},
   "source": [
    "# DENSE_RANK()\n",
    "\n",
    "The DENSE_RANK() ranking window function is similar to the RANK() function by generating a unique rank number for each distinct row within the partition according to a specified column value, starting at 1 for the first row in each partition, ranking the rows with equal values with the same rank number, except that it does not skip any rank, leaving no gaps between the ranks."
   ]
  },
  {
   "cell_type": "code",
   "execution_count": 22,
   "id": "11ba371a",
   "metadata": {},
   "outputs": [
    {
     "name": "stdout",
     "output_type": "stream",
     "text": [
      "(2, 'Zaid', 770, 1)\n",
      "(4, 'Jack', 770, 1)\n",
      "(7, 'Goerge', 885, 2)\n",
      "(1, 'Ali', 978, 3)\n",
      "(3, 'Mohd', 1140, 4)\n",
      "(6, 'Mike', 1140, 4)\n",
      "(5, 'John', 1240, 5)\n"
     ]
    }
   ],
   "source": [
    "result=cursor.execute(\"SELECT *,  DENSE_RANK() OVER( ORDER BY Student_Score) AS RankRank FROM StudentScore\")\n",
    "for row in result:\n",
    "    print(row)"
   ]
  },
  {
   "cell_type": "markdown",
   "id": "026799ae",
   "metadata": {},
   "source": [
    "# Running total-"
   ]
  },
  {
   "cell_type": "code",
   "execution_count": 27,
   "id": "e3a495d6",
   "metadata": {},
   "outputs": [
    {
     "data": {
      "text/plain": [
       "<sqlite3.Cursor at 0x2697f5efb20>"
      ]
     },
     "execution_count": 27,
     "metadata": {},
     "output_type": "execute_result"
    }
   ],
   "source": [
    "cursor.execute(\"CREATE TABLE department(ID int primary key,SALARY int,NAME text ,DEPT_ID int)\")"
   ]
  },
  {
   "cell_type": "code",
   "execution_count": 30,
   "id": "1530fbd8",
   "metadata": {},
   "outputs": [
    {
     "data": {
      "text/plain": [
       "<sqlite3.Cursor at 0x2697f5efb20>"
      ]
     },
     "execution_count": 30,
     "metadata": {},
     "output_type": "execute_result"
    }
   ],
   "source": [
    "cursor.execute(\"INSERT INTO department values (1, 34000, 'ANURAG', 'UI DEVELOPERS'),(2, 33000, 'harsh', 'BACKEND DEVELOPERS'),(3, 36000, 'SUMIT', 'BACKEND DEVELOPERS'),(4, 36000, 'RUHI', 'UI DEVELOPERS'),(5, 37000, 'KAE', 'UI DEVELOPERS')\")"
   ]
  },
  {
   "cell_type": "code",
   "execution_count": 31,
   "id": "6c0e0fa0",
   "metadata": {},
   "outputs": [
    {
     "name": "stdout",
     "output_type": "stream",
     "text": [
      "(1, 34000, 'ANURAG', 'UI DEVELOPERS')\n",
      "(2, 33000, 'harsh', 'BACKEND DEVELOPERS')\n",
      "(3, 36000, 'SUMIT', 'BACKEND DEVELOPERS')\n",
      "(4, 36000, 'RUHI', 'UI DEVELOPERS')\n",
      "(5, 37000, 'KAE', 'UI DEVELOPERS')\n"
     ]
    }
   ],
   "source": [
    "result=cursor.execute('SELECT * FROM department')\n",
    "for row in result:\n",
    "    print(row)"
   ]
  },
  {
   "cell_type": "code",
   "execution_count": 37,
   "id": "c6ae1c65",
   "metadata": {},
   "outputs": [
    {
     "name": "stdout",
     "output_type": "stream",
     "text": [
      "(1, 34000, 'ANURAG', 'UI DEVELOPERS', 34000)\n",
      "(2, 33000, 'harsh', 'BACKEND DEVELOPERS', 67000)\n",
      "(3, 36000, 'SUMIT', 'BACKEND DEVELOPERS', 103000)\n",
      "(4, 36000, 'RUHI', 'UI DEVELOPERS', 139000)\n",
      "(5, 37000, 'KAE', 'UI DEVELOPERS', 176000)\n"
     ]
    }
   ],
   "source": [
    "result=cursor.execute(\"SELECT * ,SUM(SALARY) OVER (ORDER BY ID) FROM department\")\n",
    "for row in result:\n",
    "    print(row)"
   ]
  },
  {
   "cell_type": "markdown",
   "id": "d695a9a2",
   "metadata": {},
   "source": [
    "# Second highest salary "
   ]
  },
  {
   "cell_type": "code",
   "execution_count": 38,
   "id": "6d52eb12",
   "metadata": {},
   "outputs": [
    {
     "name": "stdout",
     "output_type": "stream",
     "text": [
      "(1, 34000, 'ANURAG', 'UI DEVELOPERS')\n",
      "(2, 33000, 'harsh', 'BACKEND DEVELOPERS')\n",
      "(3, 36000, 'SUMIT', 'BACKEND DEVELOPERS')\n",
      "(4, 36000, 'RUHI', 'UI DEVELOPERS')\n",
      "(5, 37000, 'KAE', 'UI DEVELOPERS')\n"
     ]
    }
   ],
   "source": [
    "result=cursor.execute('SELECT * FROM department')\n",
    "for row in result:\n",
    "    print(row)"
   ]
  },
  {
   "cell_type": "code",
   "execution_count": 39,
   "id": "7ef1adf8",
   "metadata": {},
   "outputs": [
    {
     "name": "stdout",
     "output_type": "stream",
     "text": [
      "(36000,)\n"
     ]
    }
   ],
   "source": [
    "result=cursor.execute('SELECT max(salary) FROM department where salary<(select max(salary) from department)')\n",
    "for row in result:\n",
    "    print(row)"
   ]
  },
  {
   "cell_type": "markdown",
   "id": "8e51ca1a",
   "metadata": {},
   "source": [
    "# Highest salary-"
   ]
  },
  {
   "cell_type": "code",
   "execution_count": 42,
   "id": "29d8b880",
   "metadata": {},
   "outputs": [
    {
     "name": "stdout",
     "output_type": "stream",
     "text": [
      "(37000,)\n"
     ]
    }
   ],
   "source": [
    "result=cursor.execute('SELECT max(salary) FROM department')\n",
    "for row in result:\n",
    "    print(row)"
   ]
  },
  {
   "cell_type": "markdown",
   "id": "dc79a4ff",
   "metadata": {},
   "source": [
    "# Third highest from a table with limit-"
   ]
  },
  {
   "cell_type": "code",
   "execution_count": 54,
   "id": "f0c3eec2",
   "metadata": {},
   "outputs": [
    {
     "name": "stdout",
     "output_type": "stream",
     "text": [
      "(34000,)\n"
     ]
    }
   ],
   "source": [
    "result=cursor.execute('SELECT salary FROM department order by salary desc limit 1 offset 3')\n",
    "for row in result:\n",
    "    print(row)"
   ]
  },
  {
   "cell_type": "markdown",
   "id": "d49f4676",
   "metadata": {},
   "source": [
    "# Third highest from a table without limit-"
   ]
  },
  {
   "cell_type": "code",
   "execution_count": 62,
   "id": "446b7422",
   "metadata": {},
   "outputs": [
    {
     "name": "stdout",
     "output_type": "stream",
     "text": [
      "(2, 33000, 'harsh', 'BACKEND DEVELOPERS', 1)\n",
      "(1, 34000, 'ANURAG', 'UI DEVELOPERS', 2)\n",
      "(3, 36000, 'SUMIT', 'BACKEND DEVELOPERS', 3)\n",
      "(4, 36000, 'RUHI', 'UI DEVELOPERS', 3)\n",
      "(5, 37000, 'KAE', 'UI DEVELOPERS', 4)\n"
     ]
    }
   ],
   "source": [
    "result=cursor.execute('SELECT *,dense_rank() over(order by salary) as rank FROM department')\n",
    "for row in result:\n",
    "    print(row)"
   ]
  },
  {
   "cell_type": "markdown",
   "id": "100cfa92",
   "metadata": {},
   "source": [
    "# Identify duplicates in table-"
   ]
  },
  {
   "cell_type": "code",
   "execution_count": 71,
   "id": "69eb70c6",
   "metadata": {},
   "outputs": [
    {
     "name": "stdout",
     "output_type": "stream",
     "text": [
      "(3, 36000, 'SUMIT', 'BACKEND DEVELOPERS', 2)\n"
     ]
    }
   ],
   "source": [
    "result=cursor.execute('SELECT *,count(salary) from department group by salary having count(salary)>1 ')\n",
    "for row in result:\n",
    "    print(row)"
   ]
  },
  {
   "cell_type": "markdown",
   "id": "e06f1b49",
   "metadata": {},
   "source": [
    "# Different types of keys which we used in Relation Models.\n",
    "================================\n",
    "\n",
    "1. Super Key : Super Key is a subset of all the key.\n",
    "It can have single attribute or combined other attributes together.\n",
    "Any permutations and combinations in table can be Super Key.\n",
    "\n",
    "\n",
    "2. Primary Key.\n",
    "It is a unique identifier which helps to identify each and every record uniquely.\n",
    "\n",
    "Each table have only one primary key and it cannot have null value.\n",
    "\n",
    "3.Candidate key.\n",
    "It is a minimum set of attribute which uniquely identifies each record.\n",
    "\n",
    "\n",
    "4. Alternate key.\n",
    "All the Candidate key except Primary is an Alternate key.\n",
    "\n",
    "5. Foreign key.\n",
    "It creates the parent child relationship between two tables.\n",
    "\n",
    "6. Composite key.\n",
    "Primary key which is formed using atleast two attributes.\n",
    "\n",
    "7. Compound Key.\n",
    "Primary key which is formed using two foreign key which is referenced in some other relation.\n",
    "\n",
    "8. Surrogate Key.\n",
    "Uniquely identify the data, Generally we Give Surrogate key as integers."
   ]
  },
  {
   "cell_type": "markdown",
   "id": "2d85cf98",
   "metadata": {},
   "source": [
    "# One of the most important questions that can be asked in sql interviews :\n",
    "Difference between delete,drop and truncate:\n",
    "1) delete:\n",
    "delete is a DML command used to delete certain rows from a table and is used with a where clause.\n",
    "For example:\n",
    "delete from tablename where id=101;\n",
    "Important thing to remember here is if delete is not accompanied with where clause and you simply write :\n",
    "delete from tablename;\n",
    "then it can lead to deletion of all the table entries.\n",
    "2) drop:\n",
    "drop is used to either delete a table or entire database completely from your system:\n",
    "For example:\n",
    "drop table tablename;\n",
    "If we perform this operation then the table or database cannot be rollback.\n",
    "3) truncate:\n",
    "Truncate is used to delete the entire table rows and it is faster as compared to delete,truncate can lead to deleting all the rows from table but it keeps the table structure.\n",
    "For example:\n",
    "truncate table tablename;"
   ]
  },
  {
   "cell_type": "markdown",
   "id": "19bcc9ca",
   "metadata": {},
   "source": [
    "# Data Integrity Example:\n",
    "If there is one customer in one profile, then there will be only one unique customer profile. For example - customer id, customer name, customer phone number, customer address. In that case, You can't add two or more customers with the same id because it can show duplicate values and violate data integration rules."
   ]
  },
  {
   "cell_type": "markdown",
   "id": "4f970766",
   "metadata": {},
   "source": [
    "# What are Constraints?\n",
    "Ans- Constraints in SQL are used to specify the limit on the data type        \n",
    "of the table. It can be specified while creaPng or altering the table        \n",
    "statement. The sample of constraints are:       \n",
    "• NOT NULL       \n",
    "• CHECK        \n",
    "• DEFAULT      \n",
    "• UNIQUE       \n",
    "• PRIMARY KEY       \n",
    "• FOREIGN KEY        \n"
   ]
  },
  {
   "cell_type": "markdown",
   "id": "3a0ac7ad",
   "metadata": {},
   "source": [
    "# What do you mean by table and field in SQL?\n",
    "A table refers to a collecPon of data in an organised manner in form        \n",
    "of rows and columns. A field refers to the number of columns in a      \n",
    "table. For example:      \n",
    "Table: StudentInformaPon     \n",
    "Field: Stu Id, Stu Name, Stu Mark      "
   ]
  },
  {
   "cell_type": "markdown",
   "id": "e7a1e125",
   "metadata": {},
   "source": [
    "# Need for Database Testing\n",
    "We need to perform database testing to ensure that the data in our database is accurate and up to date. \n",
    "\n",
    "\n",
    "Database testing can help identify any potential issues with the database itself, such as performance issues or security vulnerabilities. \n",
    "By performing regular database testing, we can help ensure that our database is running smoothly and efficiently. \n",
    "We need to perform database testing to ensure that the database is functioning correctly. \n",
    "This includes testing the data integrity and consistency, testing the performance of the database, and testing the security of the database. \n",
    "Database testing is important because it helps to find errors and potential problems with the database before the application goes live. \n",
    "This can save a lot of time and money in the long run. Database testing is also important because it can help to improve the quality of the application. \n",
    "By finding and fixing errors in the database, the application will be more stable and reliable.\n",
    "Types of Database Testing\n",
    "Below are the different types of database testing:\n",
    "\n",
    "1. Functional Database Testing\n",
    "Functional database testing is a process of verifying the functionality of the database by testing the data that is stored in it. This type of testing can be used to test the functionality of a database system as a whole or to test the functionality of individual components within the system. Functional testing can be performed using either white-box or black-box techniques.\n",
    "\n",
    "# White box testing: \n",
    "It is a process of testing the database by looking at the internal structure of the database. This type of testing is also known as clear box testing or structural testing. White box testing can be used to verify the correctness of the data, integrity of the data, and consistency of the data. White-box testing is a type of testing that uses knowledge of the internal structure of the system under test to design test cases. \n",
    "# Black box testing:\n",
    "It is a process of testing the database without looking at the internal structure of the database. This type of testing is also known as behavioral testing. Black box testing can be used to verify the functionality of the database. Black-box testing is a type of testing that does not use any knowledge of the internal structure of the system under test. This type of testing is often used to assess the functionality of a system as a whole. "
   ]
  },
  {
   "cell_type": "markdown",
   "id": "3e5c1e39",
   "metadata": {},
   "source": [
    "# A stored procedure-\n",
    "\n",
    "is a piece of prepared SQL code that you can save \n",
    "and reuse again and over.\n",
    "So, if you have a SQL query that you create frequently, save it as a \n",
    "stored procedure and then call it to run it.\n",
    "You may also supply parameters to a stored procedure so that it can \n",
    "act based on the value(s) of the parameter(s) given"
   ]
  },
  {
   "cell_type": "markdown",
   "id": "526b0a80",
   "metadata": {},
   "source": [
    "CREATE PROCEDURE select_all_data\n",
    "AS\n",
    "SELECT * FROM gfgTutorial\n",
    "GO;"
   ]
  },
  {
   "cell_type": "markdown",
   "id": "bd10daa0",
   "metadata": {},
   "source": [
    "# What is BLOB and TEXT in MySQL?\n",
    "Ans- BLOB stands for Binary Huge Objects and can be used to store \n",
    "binary data, whereas TEXT may be used to store a large number of \n",
    "strings. BLOB may be used to store binary data, which includes \n",
    "images, movies, audio, and applicaPons.\n",
    "BLOB values funcPon similarly to byte strings, and they lack a \n",
    "character set. As a result, bytes’ numeric values are completely \n",
    "dependent on comparison and sorPng.\n",
    " TEXT values behave similarly to a character string or a non-binary \n",
    "string. The comparison/sorPng of TEXT is completely dependent on \n",
    "the character set collecPon."
   ]
  },
  {
   "cell_type": "markdown",
   "id": "228e2aa1",
   "metadata": {},
   "source": [
    "# What is Schema?\n",
    "The Skeleton of the database is created by the attributes and this skeleton is named Schema.\n",
    "Schema mentions the logical constraints like table, primary key, etc.\n",
    "The schema does not represent the data type of the attributes.\n",
    "Details of a Customer\n",
    "Details of a Customer\n",
    "\n",
    "Schema of Customer\n",
    "                                            Schema of Customer \n",
    "\n",
    "Database Schema\n",
    "A database schema is a logical representation of data that shows how the data in a database should be stored logically. It shows how the data is organized and the relationship between the tables.\n",
    "Database schema contains table, field, views and relation between different keys like primary key, foreign key.\n",
    "Data are stored in the form of files which is unstructured in nature which makes accessing the data difficult. Thus to resolve the issue the data are organized in structured way with the help of database schema.\n",
    "Database schema provides the organization of data and the relationship between the stored data.\n",
    "Database schema defines a set of guidelines that control the database along with that it provides information about the way of accessing and modifying the data."
   ]
  },
  {
   "cell_type": "code",
   "execution_count": null,
   "id": "05b323bb",
   "metadata": {},
   "outputs": [],
   "source": []
  },
  {
   "cell_type": "code",
   "execution_count": null,
   "id": "efc3503d",
   "metadata": {},
   "outputs": [],
   "source": []
  }
 ],
 "metadata": {
  "kernelspec": {
   "display_name": "Python 3 (ipykernel)",
   "language": "python",
   "name": "python3"
  },
  "language_info": {
   "codemirror_mode": {
    "name": "ipython",
    "version": 3
   },
   "file_extension": ".py",
   "mimetype": "text/x-python",
   "name": "python",
   "nbconvert_exporter": "python",
   "pygments_lexer": "ipython3",
   "version": "3.9.13"
  }
 },
 "nbformat": 4,
 "nbformat_minor": 5
}
